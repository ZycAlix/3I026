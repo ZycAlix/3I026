{
 "cells": [
  {
   "cell_type": "markdown",
   "metadata": {},
   "source": [
    "ZHONG_YUCHEN_3506497"
   ]
  },
  {
   "cell_type": "markdown",
   "metadata": {},
   "source": [
    "Double-cliquer ici et remplacer par les noms et prénoms de votre binôme"
   ]
  },
  {
   "cell_type": "markdown",
   "metadata": {},
   "source": [
    "# 3I026 - Intelligence artificielle & Data science\n",
    "\n",
    "## TP 2 - k-plus proches voisins (*k-NN*)"
   ]
  },
  {
   "cell_type": "markdown",
   "metadata": {},
   "source": [
    "Dans ce TP, nous allons principalement mettre en place une \"architecture\" de code nous permettant petit à petit de tester différents modèles d'apprentissage supervisé et programmer les k-NN. Nous allons nous restreindre au cas binaire où les données sont étiquetées $+1$ ou $-1$."
   ]
  },
  {
   "cell_type": "code",
   "execution_count": 1,
   "metadata": {},
   "outputs": [],
   "source": [
    "import numpy as np\n",
    "import pandas as pd"
   ]
  },
  {
   "cell_type": "markdown",
   "metadata": {},
   "source": [
    "**Remarque** La concaténation de vecteurs s'obtient à l'aide de la fonction `vstack` de numpy."
   ]
  },
  {
   "cell_type": "markdown",
   "metadata": {},
   "source": [
    "### Étape 1: dataset\n",
    "\n",
    "La première étape consiste à définir une classe permettant de stocker les données d'apprentissage, de validation et de test. Nous considérerons que les données tiennent en mémoire. Nous allons définir une classe permettant de stocker des couples $\\{(x_1,y_1),...,(x_n,y_n)\\}$. Les $x_i$ et $y_i$ seront des tableaux numpy."
   ]
  },
  {
   "cell_type": "code",
   "execution_count": 2,
   "metadata": {
    "collapsed": true
   },
   "outputs": [],
   "source": [
    "class LabeledSet:  \n",
    "    \n",
    "    def __init__(self, input_dimension):\n",
    "        self.input_dimension = input_dimension\n",
    "        self.nb_examples = 0\n",
    "    \n",
    "    def addExample(self,vector,label):\n",
    "        if (self.nb_examples == 0):\n",
    "            self.x = np.array([vector])\n",
    "            self.y = np.array([label])\n",
    "        else:\n",
    "            self.x = np.vstack((self.x, vector))\n",
    "            self.y = np.vstack((self.y, label))\n",
    "        \n",
    "        self.nb_examples = self.nb_examples + 1\n",
    "    \n",
    "    #Renvoie la dimension de l'espace d'entrée\n",
    "    def getInputDimension(self):\n",
    "        return self.input_dimension\n",
    "    \n",
    "    #Renvoie le nombre d'exemples dans le set\n",
    "    def size(self):\n",
    "        return self.nb_examples\n",
    "    \n",
    "    #Renvoie la valeur de x_i\n",
    "    def getX(self, i):\n",
    "        return self.x[i]\n",
    "        \n",
    "    \n",
    "    #Renvouie la valeur de y_i\n",
    "    def getY(self, i):\n",
    "        return(self.y[i])"
   ]
  },
  {
   "cell_type": "markdown",
   "metadata": {},
   "source": [
    "#### Génération de données ''Jouet''\n",
    "\n",
    "Nous allons pour l'instant nous intéresser à des datasets \"jouet\" générés selon des distributions choisies à la main. Commençons par un dataset en 2 dimensions (entrée) et 1 dimension (sortie): $x_i \\in \\mathbb{R}^2$, $y_i \\in \\{-1;+1\\}$ tel que les données sont générées selon deux gaussiennes. Pour cela, nous utiliserons la fonction `numpy.random.multivariate_normal` - http://docs.scipy.org/doc/numpy/reference/generated/numpy.random.multivariate_normal.html\n",
    "\n",
    "- `positive_center` est le centre de la gaussienne des points positifs (vecteur de taille 2)\n",
    "- `positive_sigma` est la variance de la gaussienne (sous forme de matrice 2*2)\n",
    "- Idem pour `negative`\n",
    "\n",
    "Générer une premiere gaussienne associée au label $+1$.\n",
    "\n",
    "Y ajouter une seconde gaussienne associée au label $-1$."
   ]
  },
  {
   "cell_type": "code",
   "execution_count": 3,
   "metadata": {},
   "outputs": [],
   "source": [
    "def generer_exemple(mean=0):\n",
    "    \"\"\"Genere un exemple\"\"\"\n",
    "    mean = [mean, mean]\n",
    "    cov = [[1, 0], [0, 6]]\n",
    "    return np.random.multivariate_normal(mean, cov)\n",
    "\n",
    "def generer_exemples(nombre_exemples, mean=0):\n",
    "    \"\"\" Genere une liste de taille 'nombre_exemple' d'exemples \"\"\"\n",
    "    exemples = list()\n",
    "    for _ in range(nombre_exemples):\n",
    "        exemples.append(generer_exemple(mean))   \n",
    "    return exemples\n",
    "\n",
    "def ajouter_exemples_aleatoires(the_set, nombre_exemples, mean, labels):\n",
    "    \"\"\" Ajoute dans 'the_set' un total de 'nombre_exemples' exemples\n",
    "    associés aleatoirement à un label contenu dans 'labels'. \"\"\"\n",
    "    from random import choice\n",
    "    exemples = generer_exemples(nombre_exemples, mean)\n",
    "    for exemple in exemples:\n",
    "        the_set.addExample(exemple, choice(labels))\n",
    "        \n",
    "the_set = LabeledSet(2)\n",
    "ajouter_exemples_aleatoires(the_set, 50, -2, [-1])\n",
    "ajouter_exemples_aleatoires(the_set, 50, 2, [1])"
   ]
  },
  {
   "cell_type": "markdown",
   "metadata": {},
   "source": [
    "Le data set peut être affiché en utilisant matplotlib (pour vérifier) et plus précisément la fonction `matplotlib.pyplot.scatter` permettant de dessiner un nuage de points - http://matplotlib.org/api/pyplot_api.html#matplotlib.pyplot.scatter -"
   ]
  },
  {
   "cell_type": "code",
   "execution_count": 4,
   "metadata": {},
   "outputs": [],
   "source": [
    "import matplotlib.pyplot as plt\n",
    "# Permet d'afficher les figures directement dans le notebook:\n",
    "%matplotlib inline\n",
    "\n",
    "def plot2DSet(dataset):\n",
    "    plt.scatter(dataset.x[0:int(dataset.size()/2),0],dataset.x[0:int(dataset.size()/2),1],marker='o')\n",
    "    plt.scatter(dataset.x[int(dataset.size()/2):dataset.size(),0],dataset.x[int(dataset.size()/2):dataset.size(),1],marker='x')"
   ]
  },
  {
   "cell_type": "code",
   "execution_count": 5,
   "metadata": {
    "scrolled": true
   },
   "outputs": [
    {
     "data": {
      "image/png": "[encoded data removed]",
      "text/plain": [
       "<matplotlib.figure.Figure at 0x11244e710>"
      ]
     },
     "metadata": {},
     "output_type": "display_data"
    }
   ],
   "source": [
    "# the_set = # TODO\n",
    "plot2DSet(the_set)"
   ]
  },
  {
   "cell_type": "code",
   "execution_count": 6,
   "metadata": {},
   "outputs": [
    {
     "data": {
      "text/plain": [
       "[array([ 1.79145101, -3.56603922])]"
      ]
     },
     "execution_count": 6,
     "metadata": {},
     "output_type": "execute_result"
    }
   ],
   "source": [
    "[generer_exemple() for _ in range(1)]"
   ]
  },
  {
   "cell_type": "markdown",
   "metadata": {},
   "source": [
    "### Étape 2: les classifieurs\n",
    "\n",
    "Un classifieur (binaire) permet, pour chaque point d'entrée, de calculer un score. Si le score est négatif, la donnée est associée à la classe $-1$, sinon à la classe $+1$. Commençons par définir une classe permettant par la suite de définir plusieurs classifieurs.\n",
    "\n",
    "Pour l'instant les méthodes `train` et `predict` ne seront pas définies car elles dépendent du modèle.\n",
    "\n",
    "La fonction `computeAccuracy` renvoie le pourcentage de points bien classés. Elle peut être définie dès maintenant.\n",
    "\n"
   ]
  },
  {
   "cell_type": "code",
   "execution_count": 7,
   "metadata": {
    "collapsed": true
   },
   "outputs": [],
   "source": [
    "class Classifier:\n",
    "    def __init__(self, input_dimension):\n",
    "        raise NotImplementedError(\"Please Implement this method\")\n",
    "    \n",
    "    \n",
    "    #Permet de calculer la prediction sur x => renvoie un score\n",
    "    def predict(self, x):\n",
    "        raise NotImplementedError(\"Please Implement this method\")\n",
    "\n",
    "    \n",
    "    #Permet d'entrainer le modele sur un ensemble de données\n",
    "    def train(self, labeledSet):\n",
    "        raise NotImplementedError(\"Please Implement this method\")\n",
    "    \n",
    "    #Permet de calculer la qualité du système \n",
    "    def accuracy(self, dataset):\n",
    "        total = dataset.size()\n",
    "        nb_class = 0.0\n",
    "        for i in range(total):\n",
    "            if(self.predict(dataset.getX(i)) == dataset.getY(i)):\n",
    "                nb_class += 1.0\n",
    "        return nb_class / total"
   ]
  },
  {
   "cell_type": "markdown",
   "metadata": {},
   "source": [
    "Nous allons maintenant définir un classifieur linéaire aléatoire :\n",
    "- la fonction `predict` renvoie la valeur de $\\langle x | w\\rangle$ où $w$ est un vecteur (de taille `input_dimension`) tiré aléatoirement à la construction du classifieur.\n"
   ]
  },
  {
   "cell_type": "code",
   "execution_count": 8,
   "metadata": {
    "scrolled": true
   },
   "outputs": [],
   "source": [
    "class ClassifierRandom(Classifier):\n",
    "    def __init__(self, input_dimension):\n",
    "        self.input_dimension = input_dimension\n",
    "        self.vecteur_w = [generer_exemple() for _ in range(self.input_dimension)]\n",
    "    \n",
    "    def predict(self,x):\n",
    "        res = sum(np.dot(self.vecteur_w,x))\n",
    "        if res > 0:\n",
    "            return 1\n",
    "        else: \n",
    "            return -1\n",
    "    "
   ]
  },
  {
   "cell_type": "markdown",
   "metadata": {},
   "source": [
    "Nous allons calculer la performance (*accuracy*) du classifieur random sur un ensemble de 100 points"
   ]
  },
  {
   "cell_type": "code",
   "execution_count": 9,
   "metadata": {},
   "outputs": [
    {
     "name": "stdout",
     "output_type": "stream",
     "text": [
      "0.52\n"
     ]
    }
   ],
   "source": [
    "the_set = LabeledSet(2)\n",
    "#on a un modele et on l'analyse par un autre exemple\n",
    "ajouter_exemples_aleatoires(the_set, 100, 0, [-1, 1])\n",
    "\n",
    "c = ClassifierRandom(2)\n",
    "print(c.accuracy(the_set))"
   ]
  },
  {
   "cell_type": "markdown",
   "metadata": {},
   "source": [
    "Voici une fonction qui permet de dessiner la frontière de decision d'un classifieur. La valeur `step` permet de choisir la précision du dessin."
   ]
  },
  {
   "cell_type": "code",
   "execution_count": 10,
   "metadata": {
    "collapsed": true
   },
   "outputs": [],
   "source": [
    "def plot_frontiere(set, classifier, step=20):\n",
    "    mmax = set.x.max(0)\n",
    "    mmin = set.x.min(0)\n",
    "    x1grid, x2grid = np.meshgrid(np.linspace(mmin[0], mmax[0], step), np.linspace(mmin[1], mmax[1], step))\n",
    "    grid = np.hstack((x1grid.reshape(x1grid.size, 1), x2grid.reshape(x2grid.size, 1)))\n",
    "    \n",
    "    # calcul de la prediction pour chaque point de la grille\n",
    "    res = np.array([classifier.predict(grid[i,:]) for i in range(len(grid)) ])\n",
    "    res = res.reshape(x1grid.shape)\n",
    "    # tracé des frontieres\n",
    "    plt.contourf(x1grid, x2grid, res, colors=[\"red\", \"cyan\"], levels=[-1000,0,1000], linewidth=2)"
   ]
  },
  {
   "cell_type": "code",
   "execution_count": 11,
   "metadata": {},
   "outputs": [
    {
     "name": "stderr",
     "output_type": "stream",
     "text": [
      "/Library/Frameworks/Python.framework/Versions/3.6/lib/python3.6/site-packages/matplotlib/contour.py:967: UserWarning: The following kwargs were not used by contour: 'linewidth'\n",
      "  s)\n"
     ]
    },
    {
     "data": {
      "image/png": "[encoded data removed]",
      "text/plain": [
       "<matplotlib.figure.Figure at 0x11353c860>"
      ]
     },
     "metadata": {},
     "output_type": "display_data"
    }
   ],
   "source": [
    "classifieur_random=ClassifierRandom(2)\n",
    "\n",
    "#on initialise notre dataset et ajoute de nouveaux exemples\n",
    "the_set = LabeledSet(2)\n",
    "ajouter_exemples_aleatoires(the_set, 50, -2, [-1])\n",
    "ajouter_exemples_aleatoires(the_set, 50, 2, [1])\n",
    "\n",
    "plot_frontiere(the_set,classifieur_random)\n",
    "plot2DSet(the_set)"
   ]
  },
  {
   "cell_type": "markdown",
   "metadata": {},
   "source": [
    "### Étape 3 : k-NN\n",
    "\n",
    "L'objectif est de définir le classifieur k-NN. Pour cela nous allons construire un tableau de distances que nous trierons grâce à la méthode `numpy.argsort`."
   ]
  },
  {
   "cell_type": "code",
   "execution_count": 12,
   "metadata": {
    "collapsed": true
   },
   "outputs": [],
   "source": [
    "#Une fonction calculant la distance entre les deux vecteurs\n",
    "def dist_vecteur(vect1, vect2):\n",
    "    return np.sqrt(np.square(vect1[0]-vect2[0])+np.square(vect1[1]-vect2[1]))\n",
    "\n",
    "class KNN(Classifier):\n",
    "    def __init__(self, input_dimension, k):\n",
    "        self.input_dimension = input_dimension\n",
    "        self.k = k\n",
    "        \n",
    "    def predict(self,x):\n",
    "        res = []\n",
    "        label = 0\n",
    "        for val in self.trainning_set.x :\n",
    "            res.append(dist_vecteur(val,x))\n",
    "        res = np.array(res)\n",
    "        res = np.argsort(res) # on trie le tableau de distances de l'ordre croissant et on cherche leur labels correspondantes\n",
    "        for i in range(self.k):\n",
    "            indice_label = res[i]\n",
    "            label += self.trainning_set.getY(indice_label)\n",
    "        if label > 0 :\n",
    "            return 1\n",
    "        else : \n",
    "            return -1\n",
    "    def train(self,dataset):\n",
    "        self.trainning_set = dataset #on sauvegarde notre \"set of examples\"\n",
    "   "
   ]
  },
  {
   "cell_type": "code",
   "execution_count": 13,
   "metadata": {},
   "outputs": [
    {
     "name": "stderr",
     "output_type": "stream",
     "text": [
      "/Library/Frameworks/Python.framework/Versions/3.6/lib/python3.6/site-packages/matplotlib/contour.py:967: UserWarning: The following kwargs were not used by contour: 'linewidth'\n",
      "  s)\n"
     ]
    },
    {
     "name": "stdout",
     "output_type": "stream",
     "text": [
      "0.975\n"
     ]
    },
    {
     "data": {
      "image/png": "[encoded data removed]",
      "text/plain": [
       "<matplotlib.figure.Figure at 0x11363f0b8>"
      ]
     },
     "metadata": {},
     "output_type": "display_data"
    }
   ],
   "source": [
    "#dataset de l'apprentissage\n",
    "set_apprentissage = LabeledSet(2)\n",
    "ajouter_exemples_aleatoires(set_apprentissage, 100, -1, [-1])\n",
    "ajouter_exemples_aleatoires(set_apprentissage, 100, 1, [1])\n",
    "\n",
    "#dataset de test\n",
    "set_test = LabeledSet(2)\n",
    "ajouter_exemples_aleatoires(set_test, 100, -2, [-1])\n",
    "ajouter_exemples_aleatoires(set_test, 100, 2, [1])\n",
    "\n",
    "knn1 = KNN(2,5)\n",
    "knn1.train(set_apprentissage)\n",
    "plot_frontiere(set_test,knn1,20)\n",
    "print(knn1.accuracy(set_test))\n",
    "plot2DSet(set_test) \n"
   ]
  },
  {
   "cell_type": "markdown",
   "metadata": {},
   "source": [
    "### Étape 4: protocole expérimental\n",
    "\n",
    "Attention, lorsque vous testez un classifieur, il est nécessaire de considérer à la fois un ensemble d'apprentissage et un ensemble de test. La performance doit être évaluée sur l'ensemble de test (et non pas sur l'ensemble d'apprentissage)."
   ]
  },
  {
   "cell_type": "code",
   "execution_count": 14,
   "metadata": {},
   "outputs": [
    {
     "name": "stderr",
     "output_type": "stream",
     "text": [
      "/Library/Frameworks/Python.framework/Versions/3.6/lib/python3.6/site-packages/matplotlib/contour.py:967: UserWarning: The following kwargs were not used by contour: 'linewidth'\n",
      "  s)\n"
     ]
    },
    {
     "name": "stdout",
     "output_type": "stream",
     "text": [
      "0.99\n"
     ]
    },
    {
     "data": {
      "image/png": "[encoded data removed]",
      "text/plain": [
       "<matplotlib.figure.Figure at 0x1136791d0>"
      ]
     },
     "metadata": {},
     "output_type": "display_data"
    }
   ],
   "source": [
    "knn2 = KNN(2,20)\n",
    "knn2.train(set_apprentissage)\n",
    "plot_frontiere(set_test,knn2,20)\n",
    "print(knn2.accuracy(set_test))\n",
    "plot2DSet(set_test) "
   ]
  },
  {
   "cell_type": "code",
   "execution_count": 15,
   "metadata": {},
   "outputs": [
    {
     "name": "stderr",
     "output_type": "stream",
     "text": [
      "/Library/Frameworks/Python.framework/Versions/3.6/lib/python3.6/site-packages/matplotlib/contour.py:967: UserWarning: The following kwargs were not used by contour: 'linewidth'\n",
      "  s)\n"
     ]
    },
    {
     "name": "stdout",
     "output_type": "stream",
     "text": [
      "0.99\n"
     ]
    },
    {
     "data": {
      "image/png": "[encoded data removed]",
      "text/plain": [
       "<matplotlib.figure.Figure at 0x1135bae48>"
      ]
     },
     "metadata": {},
     "output_type": "display_data"
    }
   ],
   "source": [
    "knn3 = KNN(2,50)\n",
    "knn3.train(set_apprentissage)\n",
    "plot_frontiere(set_test,knn3,20)\n",
    "print(knn3.accuracy(set_test))\n",
    "plot2DSet(set_test) \n",
    "\n"
   ]
  },
  {
   "cell_type": "code",
   "execution_count": 18,
   "metadata": {},
   "outputs": [
    {
     "name": "stderr",
     "output_type": "stream",
     "text": [
      "/Library/Frameworks/Python.framework/Versions/3.6/lib/python3.6/site-packages/matplotlib/contour.py:967: UserWarning: The following kwargs were not used by contour: 'linewidth'\n",
      "  s)\n"
     ]
    },
    {
     "name": "stdout",
     "output_type": "stream",
     "text": [
      "0.985\n"
     ]
    },
    {
     "data": {
      "image/png": "[encoded data removed]",
      "text/plain": [
       "<matplotlib.figure.Figure at 0x113679a20>"
      ]
     },
     "metadata": {},
     "output_type": "display_data"
    }
   ],
   "source": [
    "knn4 = KNN(2,100)\n",
    "knn4.train(set_apprentissage)\n",
    "plot_frontiere(set_test,knn4,20)\n",
    "print(knn4.accuracy(set_test))\n",
    "plot2DSet(set_test) \n",
    "\n"
   ]
  },
  {
   "cell_type": "markdown",
   "metadata": {},
   "source": [
    "#### Travail libre\n",
    "\n",
    "Comparer la performance (en train et test) de plusieurs classifieurs KNN avec différentes valeurs de k. Que pouvez vous constater ?\n",
    "Idéalement, vous tracerez la performance (accuracy) en fonction de la valeur de k.\n",
    "Essayez avec différentes configurations de gaussiennes."
   ]
  },
  {
   "cell_type": "code",
   "execution_count": 17,
   "metadata": {},
   "outputs": [
    {
     "data": {
      "text/plain": [
       "<matplotlib.axes._subplots.AxesSubplot at 0x1137b7400>"
      ]
     },
     "execution_count": 17,
     "metadata": {},
     "output_type": "execute_result"
    },
    {
     "data": {
      "image/png": "[encoded data removed]",
      "text/plain": [
       "<matplotlib.figure.Figure at 0x11440a208>"
      ]
     },
     "metadata": {},
     "output_type": "display_data"
    }
   ],
   "source": [
    "Ks =[]\n",
    "res = []\n",
    "for k in range(200):\n",
    "    knn = KNN(2,k)\n",
    "    knn.train(set_apprentissage)\n",
    "    res.append(knn.accuracy(set_test))\n",
    "dict_res = {\n",
    "    'Performance' : res\n",
    "}\n",
    "df = pd.DataFrame(dict_res)\n",
    "df.plot(kind='line')\n",
    "#Conclusion: au fur et mesure de l'augumentation de K, la performance correspondante diminue"
   ]
  },
  {
   "cell_type": "markdown",
   "metadata": {},
   "source": [
    "### Étape 5 : données réelles UCI\n",
    "\n",
    "Plusieurs datasets sont téléchargeables depuis: http://mldata.org\n",
    "\n",
    "Voici la fonction permettant de les charger (en spécifiant leur nom). La fonction se charge de charger les données depuis le web."
   ]
  },
  {
   "cell_type": "code",
   "execution_count": 32,
   "metadata": {},
   "outputs": [
    {
     "name": "stdout",
     "output_type": "stream",
     "text": [
      "(683, 10)\n",
      "[[-0.860107 -0.111111 -1.       ... -0.555556 -1.       -1.      ]\n",
      " [-0.859671 -0.111111 -0.333333 ... -0.555556 -0.777778 -1.      ]\n",
      " [-0.857807 -0.555556 -1.       ... -0.555556 -1.       -1.      ]\n",
      " ...\n",
      " [-0.876716 -0.111111  1.       ...  0.555556  1.       -0.777778]\n",
      " [-0.875424 -0.333333  0.555556 ...  1.        0.111111 -1.      ]\n",
      " [-0.875424 -0.333333  0.555556 ...  1.       -0.333333 -1.      ]]\n",
      "[ 1  1  1  1  1 -1  1  1  1  1  1  1 -1  1 -1 -1  1  1 -1  1 -1 -1  1  1\n",
      " -1  1  1  1  1  1  1 -1  1  1  1 -1  1 -1 -1 -1 -1 -1 -1  1 -1  1  1 -1\n",
      " -1 -1 -1 -1 -1 -1 -1 -1 -1 -1 -1  1 -1 -1  1 -1  1 -1 -1  1  1 -1  1 -1\n",
      " -1  1  1  1  1  1  1  1  1  1 -1 -1 -1 -1  1  1  1  1  1  1  1  1  1  1\n",
      " -1 -1 -1 -1  1 -1 -1 -1 -1 -1  1 -1  1 -1 -1 -1  1  1  1 -1  1  1  1  1\n",
      " -1 -1 -1  1 -1  1 -1  1  1  1 -1  1  1  1  1  1  1  1  1 -1  1  1 -1  1\n",
      "  1 -1  1 -1 -1  1  1 -1  1  1 -1 -1  1  1  1  1 -1 -1  1  1  1  1  1 -1\n",
      " -1 -1  1 -1  1 -1  1  1  1 -1 -1  1 -1 -1 -1  1 -1 -1  1  1  1  1  1  1\n",
      "  1  1 -1 -1  1  1  1 -1 -1  1  1  1 -1 -1  1 -1 -1 -1  1  1 -1  1  1 -1\n",
      " -1 -1 -1  1 -1 -1  1 -1 -1 -1  1 -1  1 -1 -1 -1 -1  1  1  1  1  1  1 -1\n",
      " -1  1  1 -1  1 -1 -1 -1  1  1  1  1 -1 -1 -1 -1 -1  1 -1 -1 -1  1 -1  1\n",
      " -1 -1  1  1  1  1 -1  1  1 -1 -1 -1 -1 -1  1 -1 -1  1  1 -1 -1  1  1 -1\n",
      " -1  1 -1  1 -1 -1  1  1 -1  1  1  1 -1  1  1 -1 -1  1  1 -1  1 -1  1  1\n",
      " -1  1 -1 -1 -1  1  1 -1 -1  1 -1  1  1 -1 -1  1  1  1 -1  1  1  1 -1 -1\n",
      "  1  1  1 -1  1  1 -1 -1 -1 -1 -1 -1  1  1  1  1 -1 -1  1  1  1  1  1  1\n",
      "  1  1  1  1  1  1  1 -1  1  1  1  1 -1  1  1  1  1 -1  1  1  1  1  1  1\n",
      "  1  1 -1  1  1  1  1  1  1  1  1  1  1 -1  1 -1  1 -1  1  1  1  1 -1  1\n",
      "  1  1 -1  1 -1  1  1  1  1  1  1  1 -1 -1  1  1  1 -1  1  1  1  1  1  1\n",
      "  1  1 -1  1  1  1 -1  1 -1 -1 -1  1  1  1  1  1  1  1 -1 -1 -1  1  1  1\n",
      "  1  1  1  1  1  1  1  1 -1  1  1 -1 -1  1  1  1 -1 -1 -1  1 -1  1 -1  1\n",
      "  1  1  1  1  1  1  1  1  1  1  1 -1  1  1  1  1  1  1  1 -1 -1  1  1  1\n",
      " -1  1  1 -1 -1  1  1  1  1  1  1 -1  1  1  1  1  1  1  1  1  1  1  1  1\n",
      "  1  1  1 -1  1  1 -1  1  1  1  1  1  1  1  1  1  1  1  1  1  1  1 -1  1\n",
      "  1 -1 -1 -1 -1  1  1 -1  1  1  1  1  1  1 -1 -1  1  1  1 -1  1 -1  1 -1\n",
      " -1 -1  1 -1  1  1  1  1  1  1  1  1 -1 -1 -1  1  1 -1  1 -1 -1 -1  1  1\n",
      "  1  1  1  1  1  1  1  1  1  1 -1  1  1  1  1  1  1 -1  1  1 -1  1  1  1\n",
      "  1  1  1  1  1  1  1  1 -1  1  1  1  1  1  1  1  1  1 -1  1  1  1  1  1\n",
      "  1  1  1  1 -1 -1 -1  1  1  1  1  1  1  1  1  1 -1 -1  1  1  1  1  1  1\n",
      "  1  1  1 -1  1  1  1  1 -1 -1 -1]\n"
     ]
    }
   ],
   "source": [
    "from sklearn.datasets import fetch_mldata\n",
    "\n",
    "def loadFile(name):\n",
    "    data = fetch_mldata(name, data_home='.')\n",
    "    print(data.data.shape)\n",
    "    unique=np.unique(data.target)\n",
    "    for i in range(len(data.target)):\n",
    "        if (data.target[i]==unique[0]):\n",
    "            data.target[i]=1\n",
    "        else:\n",
    "            data.target[i]=-1\n",
    "    return data.data, data.target\n",
    "datas,targets = loadFile('breast-cancer_scale')\n",
    "print(datas)\n",
    "print(targets) #les labels\n",
    "#Les donnees sont dans data.data et data.target"
   ]
  },
  {
   "cell_type": "markdown",
   "metadata": {},
   "source": [
    "Écrire la fonction de split permettant de découper les données en un ensemble d'apprentissage et un ensemble de test."
   ]
  },
  {
   "cell_type": "code",
   "execution_count": 39,
   "metadata": {},
   "outputs": [],
   "source": [
    "def split(data):\n",
    "    data_apprentissage = data[:int(len(data)/2)]\n",
    "    data_test = data[int(len(data)/2):]\n",
    "    return data_apprentissage, data_test\n",
    "data_apprentissage, data_test = split(datas)\n",
    "labels_apprentissage, labels_test = split(targets)\n",
    "#on verifie si on reussit a separer les datas et les targets \n",
    "#print(len(data_apprentissage))\n",
    "#print(len(data_test))\n",
    "#print(len(datas))"
   ]
  },
  {
   "cell_type": "markdown",
   "metadata": {},
   "source": [
    "Tester différents k-NN , pour différents k, et tracer la courbe de performance (accuracy) pour les données d'apprentissage et les données de test."
   ]
  },
  {
   "cell_type": "code",
   "execution_count": 42,
   "metadata": {},
   "outputs": [
    {
     "name": "stderr",
     "output_type": "stream",
     "text": [
      "/Library/Frameworks/Python.framework/Versions/3.6/lib/python3.6/site-packages/matplotlib/contour.py:967: UserWarning: The following kwargs were not used by contour: 'linewidth'\n",
      "  s)\n"
     ]
    },
    {
     "name": "stdout",
     "output_type": "stream",
     "text": [
      "0.665\n"
     ]
    },
    {
     "data": {
      "image/png": "[encoded data removed]",
      "text/plain": [
       "<matplotlib.figure.Figure at 0x114420828>"
      ]
     },
     "metadata": {},
     "output_type": "display_data"
    }
   ],
   "source": [
    "def turn_to_LabeledSet(tab1,tab2):\n",
    "    set_appretissage = LabeledSet(len(tab1))\n",
    "    for i in range(len(tab1)):\n",
    "        set_appretissage.addExample(tab1[i], tab2[i])\n",
    "    return set_apprentissage\n",
    "                   \n",
    "set_apprentissage_real = turn_to_LabeledSet(data_apprentissage,labels_apprentissage)\n",
    "set_test_real = turn_to_LabeledSet(data_test,labels_test)\n",
    "                   \n",
    "knn_real = KNN(set_apprentissage_real.getInputDimension,5)\n",
    "knn_real.train(set_apprentissage_real)\n",
    "plot_frontiere(set_test_real,knn_real,20)\n",
    "print(knn.accuracy(set_test_real))\n",
    "plot2DSet(set_test_real) \n",
    "\n"
   ]
  },
  {
   "cell_type": "code",
   "execution_count": 43,
   "metadata": {},
   "outputs": [
    {
     "data": {
      "text/plain": [
       "<matplotlib.axes._subplots.AxesSubplot at 0x116714c18>"
      ]
     },
     "execution_count": 43,
     "metadata": {},
     "output_type": "execute_result"
    },
    {
     "data": {
      "image/png": "[encoded data removed]",
      "text/plain": [
       "<matplotlib.figure.Figure at 0x1135e1780>"
      ]
     },
     "metadata": {},
     "output_type": "display_data"
    }
   ],
   "source": [
    "Ks =[]\n",
    "res = []\n",
    "for k in range(200):\n",
    "    knn_real = KNN(set_apprentissage_real.getInputDimension,k)\n",
    "    knn_real.train(set_apprentissage_real)\n",
    "    res.append(knn_real.accuracy(set_test_real))\n",
    "dict_res = {\n",
    "    'Performance' : res\n",
    "}\n",
    "df = pd.DataFrame(dict_res)\n",
    "df.plot(kind='line')"
   ]
  },
  {
   "cell_type": "code",
   "execution_count": null,
   "metadata": {
    "collapsed": true
   },
   "outputs": [],
   "source": []
  }
 ],
 "metadata": {
  "kernelspec": {
   "display_name": "Python 3",
   "language": "python",
   "name": "python3"
  },
  "language_info": {
   "codemirror_mode": {
    "name": "ipython",
    "version": 3
   },
   "file_extension": ".py",
   "mimetype": "text/x-python",
   "name": "python",
   "nbconvert_exporter": "python",
   "pygments_lexer": "ipython3",
   "version": "3.6.4"
  }
 },
 "nbformat": 4,
 "nbformat_minor": 1
}
