{
 "cells": [
  {
   "cell_type": "markdown",
   "metadata": {},
   "source": [
    "IA & Data science -- 2017-2018\n",
    "--------\n",
    "*&copy; Equipe pédagogique: Ludovic Denoyer, Thibault Laugel, Marie-Jeanne Lesot, Christophe Marsala, Olivier Schwander*"
   ]
  },
  {
   "cell_type": "markdown",
   "metadata": {},
   "source": [
    "# TD-TME05: les arbres de décision\n",
    "\n",
    "L'objectif de ce TP est d'implémenter un algorithme d'apprentissage supervisé, l'algorithme de construction d'arbres de décision (cours 6).\n",
    "\n",
    "Comme pour les k-nn, nous allons nous restreindre à un cas binaire où les données sont étiquetées $+1$ ou $-1$. De plus, nous allons ne considérer que le cas où les attributs sont tous numériques."
   ]
  },
  {
   "cell_type": "markdown",
   "metadata": {},
   "source": [
    "<font size=\"+1\">**[Q]**</font> **Indiquer dans la boîte ci-dessous vos noms et prénoms :**"
   ]
  },
  {
   "cell_type": "markdown",
   "metadata": {},
   "source": [
    "ZHONG_YUCHEN"
   ]
  },
  {
   "cell_type": "markdown",
   "metadata": {},
   "source": [
    "<font color=\"RED\" size=\"+1\">IMPORTANT: soumission de votre fichier final</font>\n",
    "\n",
    "**Nom à donner au fichier à poster** : *Nom1_Nom2.ipynb* \n",
    "- *Nom1* et *Nom2* : noms des membres du binôme\n",
    "- ne pas compresser ou faire une archive: envoyer le fichier ipython tel quel, éventuellement, si vous avez d'autres fichiers à envoyer, vous les joignez au message."
   ]
  },
  {
   "cell_type": "markdown",
   "metadata": {},
   "source": [
    "## Préparation\n",
    "\n",
    "Copier l'archive dans votre répertoire de travail: <code>/users/Enseignants/marsala/iads/tp5.tgz</code>\n",
    "\n",
    "Décompresser l'archive, elle crée le répertoire \"tp5\" qui contient un fichier ipython à ouvrir (ce fichier-ci) et un sous-répertoire \"data\" contenant les bases d'apprentissage utilisées dans ce TP.\n",
    "\n",
    "Le but de ce TP est de compléter ce document ipython en ajoutant les fonctions demandées. Avant de commencer, exécuter le bloc suivant afin de pouvoir initialiser des variables utiles \n"
   ]
  },
  {
   "cell_type": "code",
   "execution_count": 3,
   "metadata": {
    "collapsed": true
   },
   "outputs": [],
   "source": [
    "# imports utiles\n",
    "import numpy as np\n",
    "import pandas as pd"
   ]
  },
  {
   "cell_type": "markdown",
   "metadata": {
    "collapsed": true
   },
   "source": [
    "## Etape 1: Retour sur les TD-TME précédents\n",
    "\n",
    "Cette partie a été réalisée lors du TD-TME précédent, reprenez ce que vous avez fait en copier-collant votre travail de la semaine dernière.\n",
    "\n",
    "Reprendre la classe <code>LabeledSet</code> du TD_TME précédent pour stocker les données d'apprentissage, de validation et de test. Cette classe permet de stocker des couples $\\{(x_1,y_1),...,(x_n,y_n)\\}$. Les $x_i$ et $y_i$ seront des tableaux numpy. "
   ]
  },
  {
   "cell_type": "code",
   "execution_count": 4,
   "metadata": {
    "collapsed": true
   },
   "outputs": [],
   "source": [
    "class LabeledSet:  \n",
    "    \n",
    "    def __init__(self, input_dimension):\n",
    "        self.input_dimension = input_dimension\n",
    "        self.nb_examples = 0\n",
    "    \n",
    "    def addExample(self,vector,label):\n",
    "        if (self.nb_examples == 0):\n",
    "            self.x = np.array([vector])\n",
    "            self.y = np.array([label])\n",
    "        else:\n",
    "            self.x = np.vstack((self.x, vector))\n",
    "            self.y = np.vstack((self.y, label))\n",
    "        \n",
    "        self.nb_examples = self.nb_examples + 1\n",
    "    \n",
    "    #Renvoie la dimension de l'espace d'entrée\n",
    "    def getInputDimension(self):\n",
    "        return self.input_dimension\n",
    "    \n",
    "    #Renvoie le nombre d'exemples dans le set\n",
    "    def size(self):\n",
    "        return self.nb_examples\n",
    "    \n",
    "    #Renvoie la valeur de x_i\n",
    "    def getX(self, i):\n",
    "        return self.x[i]\n",
    "        \n",
    "    \n",
    "    #Renvouie la valeur de y_i\n",
    "    def getY(self, i):\n",
    "        return(self.y[i])"
   ]
  },
  {
   "cell_type": "markdown",
   "metadata": {},
   "source": [
    "### Génération de données ''Jouet''\n",
    "\n",
    "Comme lors des TD_TME précédents, les fonctions seront testées sur des données \"jouet\" générées selon des distributions choisies à la main. Commençons par un dataset en 2 dimensions (entrée) et 1 dimension (sortie): $x_i \\in \\mathbb{R}^2$, $y_i \\in [-1;+1]$ telles que les données sont généres selon deux Gaussiennes. Pour cela, nous utiliserons la fonction numpy.random.multivariate_normal  - http://docs.scipy.org/doc/numpy/reference/generated/numpy.random.multivariate_normal.html \n",
    "\n",
    "* ''positive_center'' est le centre de la gaussienne des points positifs (vecteur de taille 2)\n",
    "* ''positive_sigma'' est la variance de la gaussienne (sous forme de matrice 2*2)\n",
    "* Idem pour ''negative''\n",
    "\n",
    "* Générer une premiere gaussienne associée au label $+1$\n",
    "* Y rajouter une seconde gaussienne associée au label $-1$\n",
    "\n",
    "<font size=\"+1\">**[Q]**</font>  Dans un premier temps, pour mettre au point les fonctions, génerer une base jouet assez petite (par exemple, 10 exemples de chaque classe)."
   ]
  },
  {
   "cell_type": "code",
   "execution_count": 5,
   "metadata": {
    "collapsed": true
   },
   "outputs": [],
   "source": [
    "def generer_exemple(mean=0):\n",
    "    \"\"\"Genere un exemple\"\"\"\n",
    "    mean = [mean, mean]\n",
    "    cov = [[1, 0], [0, 1]]\n",
    "    return np.random.multivariate_normal(mean, cov)\n",
    "\n",
    "def generer_exemples(nombre_exemples, mean=0):\n",
    "    \"\"\" Genere une liste de taille 'nombre_exemple' d'exemples \"\"\"\n",
    "    exemples = list()\n",
    "    for _ in range(nombre_exemples):\n",
    "        exemples.append(generer_exemple(mean))   \n",
    "    return exemples\n",
    "\n",
    "def ajouter_exemples_aleatoires(the_set, nombre_exemples, mean, labels):\n",
    "    \"\"\" Ajoute dans 'the_set' un total de 'nombre_exemples' exemples\n",
    "    associés aleatoirement à un label contenu dans 'labels'. \"\"\"\n",
    "    from random import choice\n",
    "    exemples = generer_exemples(nombre_exemples, mean)\n",
    "    for exemple in exemples:\n",
    "        the_set.addExample(exemple, choice(labels))\n",
    "        "
   ]
  },
  {
   "cell_type": "code",
   "execution_count": 6,
   "metadata": {
    "collapsed": true
   },
   "outputs": [],
   "source": [
    "the_set = LabeledSet(2)\n",
    "ajouter_exemples_aleatoires(the_set, 10, 2, [-1])\n",
    "ajouter_exemples_aleatoires(the_set, 10, -2, [1])"
   ]
  },
  {
   "cell_type": "code",
   "execution_count": 7,
   "metadata": {},
   "outputs": [
    {
     "data": {
      "text/plain": [
       "array([[-2.1823754 , -0.97290512],\n",
       "       [-0.54662228, -2.31668265],\n",
       "       [-2.13215722, -1.84868001],\n",
       "       [-2.49110999, -1.8117016 ],\n",
       "       [ 0.78122386, -0.50538718],\n",
       "       [-0.42025373, -1.02280133],\n",
       "       [-2.06550819, -1.47221379],\n",
       "       [-1.68859416, -2.41350667],\n",
       "       [-0.4618984 ,  0.10948016],\n",
       "       [-1.36809108, -1.83779821]])"
      ]
     },
     "execution_count": 7,
     "metadata": {},
     "output_type": "execute_result"
    }
   ],
   "source": [
    "# the_set = ... # définition d'un LabeledSet avec la fonction précédente\n",
    "\n",
    "S= the_set.x[np.where(the_set.y == 1),:]\n",
    "S[0]"
   ]
  },
  {
   "cell_type": "markdown",
   "metadata": {},
   "source": [
    "Le dataset peut être affiché en utilisant matplotlib (pour vérifier). Nous utiliserons la commande matplotlib.pyplot.scatter permettant de dessiner un nuage de points - http://matplotlib.org/api/pyplot_api.html#matplotlib.pyplot.scatter -"
   ]
  },
  {
   "cell_type": "code",
   "execution_count": 8,
   "metadata": {
    "collapsed": true
   },
   "outputs": [],
   "source": [
    "import matplotlib.pyplot as plt\n",
    "%matplotlib inline \n",
    "\n",
    "def plot2DSet(set):\n",
    "    \"\"\" LabeledSet -> NoneType\n",
    "        Hypothèse: set est de dimension 2\n",
    "        affiche une représentation graphique du LabeledSet\n",
    "        remarque: l'ordre des labels dans set peut être quelconque\n",
    "    \"\"\"\n",
    "    S_pos = set.x[np.where(set.y == 1),:][0]      # tous les exemples de label +1\n",
    "    S_neg = set.x[np.where(set.y == -1),:][0]     # tous les exemples de label -1\n",
    "    plt.scatter(S_pos[:,0],S_pos[:,1],marker='o')\n",
    "    plt.scatter(S_neg[:,0],S_neg[:,1],marker='x')"
   ]
  },
  {
   "cell_type": "code",
   "execution_count": 9,
   "metadata": {},
   "outputs": [
    {
     "data": {
      "image/png": "[encoded data removed]",
      "text/plain": [
       "<matplotlib.figure.Figure at 0x1124c7ba8>"
      ]
     },
     "metadata": {},
     "output_type": "display_data"
    }
   ],
   "source": [
    "# Essai de la fonction : (the_set : variable du dataset généré précédemment)\n",
    "plot2DSet(the_set)"
   ]
  },
  {
   "cell_type": "markdown",
   "metadata": {},
   "source": [
    "### Les classifieurs\n",
    "\n",
    "La classe <code>Classifier</code> sert toujours de classe de base: l'algorithme d'apprentissage par arbres de décision est un nouveau type de Classifier que l'on va créer.\n"
   ]
  },
  {
   "cell_type": "code",
   "execution_count": 10,
   "metadata": {
    "collapsed": true
   },
   "outputs": [],
   "source": [
    "class Classifier:\n",
    "    def __init__(self,input_dimension):\n",
    "        \"\"\" Constructeur \"\"\"\n",
    "        raise NotImplementedError(\"Please Implement this method\")\n",
    "    \n",
    "    \n",
    "    # Permet de calculer la prediction sur x => renvoie un score\n",
    "    def predict(self,x):\n",
    "        raise NotImplementedError(\"Please Implement this method\")\n",
    "\n",
    "    \n",
    "    # Permet d'entrainer le modele sur un ensemble de données\n",
    "    def train(self,labeledSet):\n",
    "        pass\n",
    "    \n",
    "    #Permet de calculer la qualité du système \n",
    "    def accuracy(self, dataset):\n",
    "        nb_ok = 0\n",
    "        for i in range(dataset.size()):\n",
    "            output = self.predict(dataset.getX(i))\n",
    "            if (output * dataset.getY(i) > 0):\n",
    "                nb_ok = nb_ok + 1\n",
    "        acc = nb_ok / (dataset.size() * 1.0)\n",
    "        return acc    "
   ]
  },
  {
   "cell_type": "code",
   "execution_count": 11,
   "metadata": {
    "collapsed": true
   },
   "outputs": [],
   "source": [
    "class ClassifierRandom(Classifier):\n",
    "    def __init__(self, input_dimension):\n",
    "        self.input_dimension = input_dimension\n",
    "        self.vecteur_w = [generer_exemple() for _ in range(self.input_dimension)]\n",
    "    \n",
    "    def predict(self,x):\n",
    "        res = sum(np.dot(self.vecteur_w,x))\n",
    "        if res > 0:\n",
    "            return 1\n",
    "        else: \n",
    "            return -1"
   ]
  },
  {
   "cell_type": "markdown",
   "metadata": {},
   "source": [
    "On reprend la fonction suivante, utilisée lors des TD-TME précédent, pour dessiner la frontière de décision d'un classifieur."
   ]
  },
  {
   "cell_type": "code",
   "execution_count": 12,
   "metadata": {
    "collapsed": true,
    "scrolled": true
   },
   "outputs": [],
   "source": [
    "def plot_frontiere(set,classifier,step=20):\n",
    "    \"\"\" LabeledSet * Classifier * int -> NoneType\n",
    "        Remarque: le 3e argument est optionnel et donne la \"résolution\" du tracé\n",
    "        affiche la frontière de décision associée au classifieur\n",
    "    \"\"\"\n",
    "    mmax = set.x.max(0)\n",
    "    mmin = set.x.min(0)\n",
    "    x1grid, x2grid = np.meshgrid(np.linspace(mmin[0], mmax[0], step), np.linspace(mmin[1], mmax[1], step))\n",
    "    grid = np.hstack((x1grid.reshape(x1grid.size, 1), x2grid.reshape(x2grid.size, 1)))\n",
    "    \n",
    "    # calcul de la prediction pour chaque point de la grille\n",
    "    res = np.array([classifier.predict(grid[i,:]) for i in range(len(grid)) ])\n",
    "    res = res.reshape(x1grid.shape)\n",
    "    # tracé des frontieres\n",
    "    plt.contourf(x1grid, x2grid, res, colors=[\"red\", \"cyan\"], levels=[-1000,0,1000], linewidth=2)    "
   ]
  },
  {
   "cell_type": "markdown",
   "metadata": {},
   "source": [
    "## On a deux modèle réalisés par les TPs précédents, et on ne refait pas la même chose ici. Au-dessous, elle est une guide d'une example d'utilisation."
   ]
  },
  {
   "cell_type": "code",
   "execution_count": 13,
   "metadata": {},
   "outputs": [
    {
     "name": "stderr",
     "output_type": "stream",
     "text": [
      "/Library/Frameworks/Python.framework/Versions/3.6/lib/python3.6/site-packages/matplotlib/contour.py:967: UserWarning: The following kwargs were not used by contour: 'linewidth'\n",
      "  s)\n"
     ]
    },
    {
     "data": {
      "image/png": "[encoded data removed]",
      "text/plain": [
       "<matplotlib.figure.Figure at 0x1134f9320>"
      ]
     },
     "metadata": {},
     "output_type": "display_data"
    }
   ],
   "source": [
    "# Exemple d'utilisation:\n",
    "classifieur_random=ClassifierRandom(2)   # test avec la classe écrite dans les séances précédentes\n",
    "\n",
    "classifieur_random.train(the_set)        # the_set a été initialisé précédemment\n",
    "\n",
    "plot_frontiere(the_set,classifieur_random)   # on trace la frontière\n",
    "plot2DSet(the_set)                           # on affiche le LabeledSet dessus\n"
   ]
  },
  {
   "cell_type": "markdown",
   "metadata": {},
   "source": [
    "<font size=\"+1\">**[Q]**</font> Ecrire la fonction <code>classe_majoritaire()</code> qui, étant donné un LabeledSet rend la classe majoritaire dans l'ensemble (celle qui est possédée par le plus grand nombre d'exemples donc...). En cas d'égalité, cette fonction rend la classe +1."
   ]
  },
  {
   "cell_type": "code",
   "execution_count": 14,
   "metadata": {
    "collapsed": true
   },
   "outputs": [],
   "source": [
    "#Alors, cette fonction doit rendre la classe dont les éléments encore plus !!\n",
    "def classe_majoritaire(the_set):\n",
    "    #Toutes les Xs dans l'ensemble the_set dont les Ys = +1 ou -1\n",
    "    list_plus_1 = the_set.x[np.where(the_set.y == 1),:]\n",
    "    list_moins_1 = the_set.x[np.where(the_set.y == -1),:]\n",
    "    if ( len(list_plus_1[0]) >= len(list_moins_1[0]) ):\n",
    "        return +1;\n",
    "    else:\n",
    "        return -1;"
   ]
  },
  {
   "cell_type": "code",
   "execution_count": 15,
   "metadata": {},
   "outputs": [
    {
     "data": {
      "text/plain": [
       "1"
      ]
     },
     "execution_count": 15,
     "metadata": {},
     "output_type": "execute_result"
    }
   ],
   "source": [
    "classe_majoritaire(the_set)"
   ]
  },
  {
   "cell_type": "markdown",
   "metadata": {},
   "source": [
    "## Etape 2: Arbres de décision\n",
    "\n",
    "Dans cet étape, on réalise l'implémentation de l'algorithme de construction d'un arbre de décision."
   ]
  },
  {
   "cell_type": "markdown",
   "metadata": {},
   "source": [
    "### Entropie et gain d'information\n",
    "\n",
    "Dans un premier temps, il est nécessaire écrire des fonctions pour calculer l'entropie et le gain d'information vus dans le cours 6.\n",
    "\n",
    "Etant donné une distribution de probabilités $P=(p_1, p_2,..., p_k)$, l'entropie de Shannon de cette distribution est donnée par:\n",
    "\n",
    "$ H_S(P) = -\\sum_{i=1}^{k} p_i \\log_k(p_i)$\n",
    "\n",
    "Par convention, on considère que $0\\log_k(0) = 0$. \n",
    "\n",
    "Le logarithme utilisé est le logarithme en base $k$ afin d'obtenir une valeur normalisée de l'entropie. La base du logarithme est donc $k$, le nombre de classes présentes dans la base au maximum.\n",
    "\n",
    "Dans ce qui suit, en Python, une *distribution de probabilités* est représentée par une liste $P=[p_1,...,p_k]$ de valeurs réelles telle que\n",
    "* pour tout $i=1,..., k$ : $0 \\leq p_i \\leq 1$\n",
    "* $\\sum_{i=1}^{k}p_i = 1$\n"
   ]
  },
  {
   "cell_type": "markdown",
   "metadata": {},
   "source": [
    "<font size=\"+1\">**[Q]**</font> Ecrire la fonction <code>shannon()</code> qui, étant donné une distribution de probabilités $P$, rend la valeur de l'entropie de Shannon correspondante.\n",
    "\n",
    "Remarque: pour nous, en Python, $P$ est représentée par une liste de $k$ valeurs de $[0, 1]$ telle que la somme de toutes les valeurs vaut $1$."
   ]
  },
  {
   "cell_type": "code",
   "execution_count": 16,
   "metadata": {
    "collapsed": true
   },
   "outputs": [],
   "source": [
    "import math\n",
    "#Si cette fonction rend un 0 soit une erreur de la distribution, sinon rend l'entropie de Shannon != 0 \n",
    "def shannon(distribution):\n",
    "    if(min(distribution) < 0 or max(distribution) > 1):\n",
    "        print(\"ce n'est pas une probabilité, et rendre 0\")\n",
    "        return 0;\n",
    "    if(sum(distribution) != 1):\n",
    "        print(\"les sommes de probas ne sont pas 1 et rendre 0\")\n",
    "        return 0;\n",
    "    \n",
    "    #Calcule l'entropie \n",
    "    k = len(distribution)\n",
    "    entropie = 0\n",
    "    for p in distribution:\n",
    "        if p != 0 :\n",
    "            entropie += -p*math.log(p,k);\n",
    "    return entropie;"
   ]
  },
  {
   "cell_type": "code",
   "execution_count": 17,
   "metadata": {},
   "outputs": [
    {
     "data": {
      "text/plain": [
       "0.0"
      ]
     },
     "execution_count": 17,
     "metadata": {},
     "output_type": "execute_result"
    }
   ],
   "source": [
    "shannon([1, 0])"
   ]
  },
  {
   "cell_type": "code",
   "execution_count": 18,
   "metadata": {},
   "outputs": [
    {
     "data": {
      "text/plain": [
       "1.0"
      ]
     },
     "execution_count": 18,
     "metadata": {},
     "output_type": "execute_result"
    }
   ],
   "source": [
    "shannon([0.5, 0.5])"
   ]
  },
  {
   "cell_type": "code",
   "execution_count": 19,
   "metadata": {},
   "outputs": [
    {
     "data": {
      "text/plain": [
       "1.0"
      ]
     },
     "execution_count": 19,
     "metadata": {},
     "output_type": "execute_result"
    }
   ],
   "source": [
    "shannon([0.25, 0.25, 0.25, 0.25])"
   ]
  },
  {
   "cell_type": "code",
   "execution_count": 20,
   "metadata": {},
   "outputs": [
    {
     "data": {
      "text/plain": [
       "0.5783898247235197"
      ]
     },
     "execution_count": 20,
     "metadata": {},
     "output_type": "execute_result"
    }
   ],
   "source": [
    "shannon([0.7, 0.1, 0.2, 0.0])"
   ]
  },
  {
   "cell_type": "code",
   "execution_count": 21,
   "metadata": {},
   "outputs": [
    {
     "data": {
      "text/plain": [
       "0.9182958340544896"
      ]
     },
     "execution_count": 21,
     "metadata": {},
     "output_type": "execute_result"
    }
   ],
   "source": [
    "shannon([1.0/3, 2.0/3])"
   ]
  },
  {
   "cell_type": "markdown",
   "metadata": {},
   "source": [
    "<font size=\"+1\">**[Q]**</font> A l'aide de la fonction <code>shannon()</code>, écrire la fonction <code>entropie()</code> qui prend un LabeledSet en argument et renvoie l'entropie de sa distribution des classes dans cet ensemble."
   ]
  },
  {
   "cell_type": "code",
   "execution_count": 22,
   "metadata": {
    "collapsed": true
   },
   "outputs": [],
   "source": [
    "def entropie(the_set):\n",
    "    p_plus_1 = float(len(the_set.x[np.where(the_set.y == 1),:][0]))/the_set.size()\n",
    "    p_moins_1 = float(len(the_set.x[np.where(the_set.y == -1),:][0]))/the_set.size()\n",
    "    distribution = [p_plus_1,p_moins_1]\n",
    "    return shannon(distribution)\n",
    "    "
   ]
  },
  {
   "cell_type": "code",
   "execution_count": 23,
   "metadata": {},
   "outputs": [
    {
     "data": {
      "text/plain": [
       "1.0"
      ]
     },
     "execution_count": 23,
     "metadata": {},
     "output_type": "execute_result"
    }
   ],
   "source": [
    "entropie(the_set)"
   ]
  },
  {
   "cell_type": "markdown",
   "metadata": {},
   "source": [
    "### Discrétisation des attributs numériques"
   ]
  },
  {
   "cell_type": "markdown",
   "metadata": {
    "collapsed": true
   },
   "source": [
    "Discrétiser un attribut numérique consiste en trouver un seuil de coupure dans son ensemble de valeurs. Pour trouver ce seuil, on sélectionne le point de coupure qui optimise la distribution des classes des exemples de chaque côté du seuil.\n",
    "\n",
    "Par exemple, soit l'attribut Age contenant les valeurs 17, 18, 20, 27, 35, 37, 40. On discrétise cet attribut en 2 valeurs en déterminant un seuil de coupure comme, par exemple, le seuil 30: cela permet de séparer d'un côté les valeurs inférieures ou égales à 30, et de l'autre les valeurs strictement supérieures à 30.\n",
    "\n",
    "Soit $E$ un ensemble d'exemples, et soit $X$ un attribut que l'on veut discrétiser. Pour cela, on constitue l'ensemble des valeurs prises par les exemples de $E$ pour l'attribut $X$. Soit $X_E$ cet ensemble de valeurs.\n",
    "La discrétisation de $X_E$ s'effectue par les étapes suivantes:\n",
    "- Etape 1: ordonner de façon croissante les valeurs de $X_E$;\n",
    "- Etape 2: regarder tous les seuils possibles de coupure entre 2 valeurs consécutives de $X_E$ (on prend comme seuil de coupure la valeur entre ces 2 valeurs). Chaque seuil trouvé créé 2 intervalles qui générent 2 sous-ensembles de $E$: \n",
    "    1) l'ensemble $E_1$ des exemples dont la valeur pour l'attribut considéré et inférieure ou égale au seuil, et 2) l'ensemble $E_2$ des exemples dont la valeur pour l'attribut considéré et supérieure au seuil;\n",
    "    - pour chacun des seuils trouvés: \n",
    "        - calculer l'entropie de la distribution des classes pour les exemples de l'ensemble $E_1$, et l'entropie de la distribution des classes  pour les exemples de $E_2$;\n",
    "        - calculer l'entropie moyenne de la coupure engendrée par le seuil considéré:\n",
    "$$H_{moy}(coupure) = \\frac{|E_1|}{|E|} H_S(E_1) + \\frac{|E_2|}{|E|} H_S(E_2);$$\n",
    "\n",
    "\n",
    "La meilleure coupure pour discrétiser $X_E$ est celle qui minimise la valeur $H_{moy}(coupure)$.\n",
    "\n",
    "\n",
    "Par exemple, soit $E=\\{17, 18, 20, 27, 35, 37, 40\\}$, chaque valeur étant associées aux classes +1, +1, -1, -1, +1, +1, -1 respectivement. Un seuil de coupure possible est $31$ ($31 = \\frac{27+35}{2}$). Ce seuil coupe $E$ en $E_1=\\{17, 18, 20, 27\\}$ et $E_2=\\{35, 37, 40\\}$.\n",
    "\n",
    "- pour $E_1$, la probabilité de chaque classe est: $p(+1)= 0.5$ et $p(-1)=0.5$ donc, $H_S(E_1)=1$;\n",
    "- pour $E_2$, la probabilité de chaque classe est: $p(+1)= \\frac{1}{3}$ et $p(-1)=\\frac{2}{3}$ donc, $H_S(E_2)=0.9182958340544896$;\n",
    "- on a donc: $$H_{moy}(coupure par 31) = \\frac{4}{7} H_S(E_1) + \\frac{3}{7} H_S(E_2);$$\n",
    "soit $H_{moy}(coupure par 31) = 0.9182958340544896$"
   ]
  },
  {
   "cell_type": "markdown",
   "metadata": {},
   "source": [
    "On considère que the_set est un LabeledSet construit précédement. Il contient deux variables de type array: x et y.\n",
    "\n",
    "Regarder et tester les instructions suivantes, il faut bien comprendre comment elles fonctionnent car on va utiliser les mêmes principes dans les fonctions à écrire."
   ]
  },
  {
   "cell_type": "code",
   "execution_count": 24,
   "metadata": {},
   "outputs": [
    {
     "data": {
      "text/plain": [
       "array([[13, 17],\n",
       "       [10, 11],\n",
       "       [12, 12],\n",
       "       [16, 19],\n",
       "       [17, 13],\n",
       "       [19, 16],\n",
       "       [11, 15],\n",
       "       [18, 10],\n",
       "       [15, 14],\n",
       "       [ 7,  1],\n",
       "       [14, 18],\n",
       "       [ 1,  6],\n",
       "       [ 4,  5],\n",
       "       [ 3,  8],\n",
       "       [ 0,  4],\n",
       "       [ 5,  3],\n",
       "       [ 9,  0],\n",
       "       [ 2,  7],\n",
       "       [ 8,  2],\n",
       "       [ 6,  9]])"
      ]
     },
     "execution_count": 24,
     "metadata": {},
     "output_type": "execute_result"
    }
   ],
   "source": [
    "ind= np.argsort(the_set.x,axis=0)   # Tri des valeurs de the_set.x selon les colonnes. \n",
    "                                    # La fonction rend un numpy.ndarray contenant autant de \n",
    "                                    # colonnes que the_set.x et dans chaque colonne, on a \n",
    "                                    # la position de l'exemple dans l'ordonnancement croissant.\n",
    "ind # pour afficher"
   ]
  },
  {
   "cell_type": "code",
   "execution_count": 25,
   "metadata": {},
   "outputs": [
    {
     "data": {
      "text/plain": [
       "array([13, 10, 12, 16, 17, 19, 11, 18, 15,  7, 14,  1,  4,  3,  0,  5,  9,\n",
       "        2,  8,  6])"
      ]
     },
     "execution_count": 25,
     "metadata": {},
     "output_type": "execute_result"
    }
   ],
   "source": [
    "ind[0:len(the_set.x),0] # les index triés selon la colonne[0]"
   ]
  },
  {
   "cell_type": "code",
   "execution_count": 26,
   "metadata": {},
   "outputs": [
    {
     "data": {
      "text/plain": [
       "array([[-2.49110999, -1.8117016 ],\n",
       "       [-2.1823754 , -0.97290512],\n",
       "       [-2.13215722, -1.84868001],\n",
       "       [-2.06550819, -1.47221379],\n",
       "       [-1.68859416, -2.41350667],\n",
       "       [-1.36809108, -1.83779821],\n",
       "       [-0.54662228, -2.31668265],\n",
       "       [-0.4618984 ,  0.10948016],\n",
       "       [-0.42025373, -1.02280133],\n",
       "       [ 0.58756362,  3.01086781],\n",
       "       [ 0.78122386, -0.50538718],\n",
       "       [ 1.07508973, -0.0930308 ],\n",
       "       [ 1.18473975,  1.86991405],\n",
       "       [ 1.2511904 ,  2.42278764],\n",
       "       [ 1.35973605,  2.47148036],\n",
       "       [ 1.80791457,  1.57268877],\n",
       "       [ 1.87819029,  3.82074074],\n",
       "       [ 1.9843019 ,  3.14505136],\n",
       "       [ 3.05201698,  1.81752949],\n",
       "       [ 3.40521383,  1.47525653]])"
      ]
     },
     "execution_count": 26,
     "metadata": {},
     "output_type": "execute_result"
    }
   ],
   "source": [
    "the_set.x[ind[0:len(the_set.x),0]]  # Rend le numpy.array des exemples de the_set.x ordonnés\n",
    "                                    # selon les indices donnés dans ind (colonne 0)\n"
   ]
  },
  {
   "cell_type": "code",
   "execution_count": 27,
   "metadata": {},
   "outputs": [
    {
     "data": {
      "text/plain": [
       "array([[ 1],\n",
       "       [ 1],\n",
       "       [ 1],\n",
       "       [ 1],\n",
       "       [ 1],\n",
       "       [ 1],\n",
       "       [ 1],\n",
       "       [ 1],\n",
       "       [ 1],\n",
       "       [-1],\n",
       "       [ 1],\n",
       "       [-1],\n",
       "       [-1],\n",
       "       [-1],\n",
       "       [-1],\n",
       "       [-1],\n",
       "       [-1],\n",
       "       [-1],\n",
       "       [-1],\n",
       "       [-1]])"
      ]
     },
     "execution_count": 27,
     "metadata": {},
     "output_type": "execute_result"
    }
   ],
   "source": [
    "the_set.y[ind[0:len(the_set.y),0]]  # Rend le numpy.array des exemples de the_set.y ordonnés\n",
    "                                    # selon les indices donnés dans ind (colonne 0)"
   ]
  },
  {
   "cell_type": "code",
   "execution_count": 28,
   "metadata": {},
   "outputs": [
    {
     "name": "stdout",
     "output_type": "stream",
     "text": [
      "valeur= -2.413506671116961 classe=  1\n",
      "valeur= -2.3166826530470424 classe=  1\n",
      "valeur= -1.8486800134667634 classe=  1\n",
      "valeur= -1.8377982063519733 classe=  1\n",
      "valeur= -1.8117016003249886 classe=  1\n",
      "valeur= -1.4722137911841893 classe=  1\n",
      "valeur= -1.0228013345671612 classe=  1\n",
      "valeur= -0.9729051228102243 classe=  1\n",
      "valeur= -0.5053871782822981 classe=  1\n",
      "valeur= -0.09303080046868617 classe=  -1\n",
      "valeur= 0.10948016206139188 classe=  1\n",
      "valeur= 1.4752565301382936 classe=  -1\n",
      "valeur= 1.5726887713704811 classe=  -1\n",
      "valeur= 1.8175294868652707 classe=  -1\n",
      "valeur= 1.8699140460445243 classe=  -1\n",
      "valeur= 2.422787644000684 classe=  -1\n",
      "valeur= 2.4714803598770247 classe=  -1\n",
      "valeur= 3.0108678055150673 classe=  -1\n",
      "valeur= 3.1450513613897746 classe=  -1\n",
      "valeur= 3.8207407379991345 classe=  -1\n"
     ]
    }
   ],
   "source": [
    "colonne = 1    # numéro de la colonne de the_set.x à considérer\n",
    "for v_i in ind[0:len(the_set.x)]:\n",
    "    i = v_i[colonne]\n",
    "    exem = the_set.getX(i)\n",
    "    clas = the_set.getY(i)\n",
    "    print(\"valeur=\",exem[colonne], \"classe= \", clas[0])"
   ]
  },
  {
   "cell_type": "markdown",
   "metadata": {},
   "source": [
    "Etant donné un LabeledSet, ainsi qu'un numéro de colonne à considérer (qui correspond à un des attributs de description), la fonction <code>discrétise()</code> rend un tuple constitué de la valeur de coupure qui minimise l'entropie de Shannon moyenne, et de la valeur de l'entropie trouvée."
   ]
  },
  {
   "cell_type": "code",
   "execution_count": 29,
   "metadata": {
    "collapsed": true
   },
   "outputs": [],
   "source": [
    "def discretise(LSet, col):\n",
    "    \"\"\" LabelledSet * int -> tuple[float, float]\n",
    "        col est le numéro de colonne sur X à discrétiser\n",
    "        rend la valeur de coupure qui minimise l'entropie ainsi que son entropie.\n",
    "    \"\"\"\n",
    "    # initialisation:\n",
    "    min_entropie = 1.1  # on met à une valeur max car on veut minimiser\n",
    "    min_seuil = 0.0     \n",
    "    # trie des valeurs:\n",
    "    ind= np.argsort(LSet.x,axis=0)\n",
    "    \n",
    "    # calcul des distributions des classes pour E1 et E2:\n",
    "    inf_plus  = 0               # nombre de +1 dans E1\n",
    "    inf_moins = 0               # nombre de -1 dans E1\n",
    "    sup_plus  = 0               # nombre de +1 dans E2\n",
    "    sup_moins = 0               # nombre de -1 dans E2       \n",
    "    # remarque: au départ on considère que E1 est vide et donc E2 correspond à E. \n",
    "    # Ainsi inf_plus et inf_moins valent 0. Il reste à calculer sup_plus et sup_moins \n",
    "    # dans E.\n",
    "    for j in range(0,LSet.size()):\n",
    "        if (LSet.getY(j) == -1):\n",
    "            sup_moins += 1\n",
    "        else:\n",
    "            sup_plus += 1\n",
    "    nb_total = (sup_plus + sup_moins) # nombre d'exemples total dans E\n",
    "    \n",
    "    # parcours pour trouver le meilleur seuil:\n",
    "    for i in range(len(LSet.x)-1):\n",
    "        v_ind_i = ind[i]   # vecteur d'indices\n",
    "        courant = LSet.getX(v_ind_i[col])[col]\n",
    "        lookahead = LSet.getX(ind[i+1][col])[col]\n",
    "        val_seuil = (courant + lookahead) / 2.0;\n",
    "        # M-A-J de la distrib. des classes:\n",
    "        # pour réduire les traitements: on retire un exemple de E2 et on le place\n",
    "        # dans E1, c'est ainsi que l'on déplace donc le seuil de coupure.\n",
    "        if LSet.getY(ind[i][col])[0] == -1:\n",
    "            inf_moins += 1\n",
    "            sup_moins -= 1\n",
    "        else:\n",
    "            inf_plus += 1\n",
    "            sup_plus -= 1\n",
    "        # calcul de la distribution des classes de chaque côté du seuil:\n",
    "        nb_inf = (inf_moins + inf_plus)*1.0     # rem: on en fait un float pour éviter\n",
    "        nb_sup = (sup_moins + sup_plus)*1.0     # que ce soit une division entière.\n",
    "        # calcul de l'entropie de la coupure\n",
    "        val_entropie_inf = shannon([inf_moins / nb_inf, inf_plus  / nb_inf])\n",
    "        val_entropie_sup = shannon([sup_moins / nb_sup, sup_plus  / nb_sup])\n",
    "        val_entropie = (nb_inf / nb_total) * val_entropie_inf + (nb_sup / nb_total) * val_entropie_sup\n",
    "        # si cette coupure minimise l'entropie, on mémorise ce seuil et son entropie:\n",
    "        if (min_entropie > val_entropie):\n",
    "            min_entropie = val_entropie\n",
    "            min_seuil = val_seuil\n",
    "    return (min_seuil, min_entropie)"
   ]
  },
  {
   "cell_type": "code",
   "execution_count": 30,
   "metadata": {},
   "outputs": [
    {
     "data": {
      "text/plain": [
       "(0.08365494477988511, 0.2417233428068324)"
      ]
     },
     "execution_count": 30,
     "metadata": {},
     "output_type": "execute_result"
    }
   ],
   "source": [
    "discretise(the_set,0) # le résultat dépend, bien sûr, de la base jouet"
   ]
  },
  {
   "cell_type": "code",
   "execution_count": 31,
   "metadata": {},
   "outputs": [
    {
     "data": {
      "text/plain": [
       "(-0.2992089893754921, 0.2417233428068324)"
      ]
     },
     "execution_count": 31,
     "metadata": {},
     "output_type": "execute_result"
    }
   ],
   "source": [
    "discretise(the_set,1) # le résultat dépend, bien sûr, de la base jouet"
   ]
  },
  {
   "cell_type": "markdown",
   "metadata": {},
   "source": [
    "Une dernière fonction utile permet de diviser une base d'exemples en 2 sous-bases en utilisant un seuil sur la valeur d'un attribut donné.\n",
    "\n",
    "<font size=\"+1\">**[Q]**</font> Ecrire la fonction divise() dont la spécification est:\n",
    "\n",
    "    def divise(LSet,att,seuil):\n",
    "        \"\"\" LSet: LabeledSet\n",
    "            att : numéro d'attribut\n",
    "            seuil : valeur de seuil\n",
    "            rend le tuple contenant les 2 sous-LabeledSet obtenus par la\n",
    "            division de LSet selon le seuil sur l'attribut att\n",
    "        \"\"\"\n",
    "\n"
   ]
  },
  {
   "cell_type": "code",
   "execution_count": 32,
   "metadata": {
    "collapsed": true
   },
   "outputs": [],
   "source": [
    "def divise(LSet,att,seuil):\n",
    "    taille=LSet.size()\n",
    "    i=0\n",
    "    linf=LabeledSet(2)\n",
    "    lsup=LabeledSet(2)\n",
    "    while (i<taille):\n",
    "        a=LSet.getX(i)\n",
    "        if (a[att]<=seuil):\n",
    "            linf.addExample(LSet.getX(i),LSet.getY(i))\n",
    "        else:\n",
    "            lsup.addExample(LSet.getX(i),LSet.getY(i))\n",
    "        i=i+1\n",
    "    #print(linf.x)\n",
    "    #print(linf.y)\n",
    "    #print(\"=============================================\")\n",
    "    #print(lsup.x)\n",
    "    #print(lsup.y)\n",
    "    return (linf,lsup)"
   ]
  },
  {
   "cell_type": "code",
   "execution_count": 33,
   "metadata": {
    "scrolled": false
   },
   "outputs": [
    {
     "name": "stdout",
     "output_type": "stream",
     "text": [
      "entropie inférieur: 0.0  / entropie supérieur: 0.7793498372920852\n"
     ]
    }
   ],
   "source": [
    "Linf, Lsup = divise(the_set,0,-0.5)\n",
    "print(\"entropie inférieur:\",entropie(Linf),\" / entropie supérieur:\", entropie(Lsup))\n",
    "# remarque: les résultats dépendent de votre base jouet..."
   ]
  },
  {
   "cell_type": "markdown",
   "metadata": {},
   "source": [
    "# C'est normale que les deux entropie sont nulle, car on a bien choisi une seuile divisant notre ensemble de classe. Ils sont assez \"pur\"."
   ]
  },
  {
   "cell_type": "markdown",
   "metadata": {},
   "source": [
    "### Représentation d'un arbre en Python"
   ]
  },
  {
   "cell_type": "markdown",
   "metadata": {},
   "source": [
    "Un arbre de décision est doit être représenté en Python, pour cela, on utilise la classe <code>ArbreBinaire</code> suivante:"
   ]
  },
  {
   "cell_type": "code",
   "execution_count": 34,
   "metadata": {
    "collapsed": true
   },
   "outputs": [],
   "source": [
    "import graphviz as gv\n",
    "\n",
    "class ArbreBinaire:\n",
    "    def __init__(self):\n",
    "        self.attribut = None   # numéro de l'attribut\n",
    "        self.seuil = None\n",
    "        self.inferieur = None # ArbreBinaire Gauche (valeurs <= au seuil)\n",
    "        self.superieur = None # ArbreBinaire Gauche (valeurs > au seuil)\n",
    "        self.classe = None # Classe si c'est une feuille: -1 ou +1\n",
    "        \n",
    "    def est_feuille(self):\n",
    "        \"\"\" rend True si l'arbre est une feuille \"\"\"\n",
    "        return self.seuil == None\n",
    "    \n",
    "    def ajoute_fils(self,ABinf,ABsup,att,seuil):\n",
    "        \"\"\" ABinf, ABsup: 2 arbres binaires\n",
    "            att: numéro d'attribut\n",
    "            seuil: valeur de seuil\n",
    "        \"\"\"\n",
    "        self.attribut = att\n",
    "        self.seuil = seuil\n",
    "        self.inferieur = ABinf\n",
    "        self.superieur = ABsup\n",
    "    \n",
    "    def ajoute_feuille(self,classe):\n",
    "        \"\"\" classe: -1 ou + 1\n",
    "        \"\"\"\n",
    "        self.classe = classe\n",
    "        \n",
    "    def classifie(self,exemple):\n",
    "        \"\"\" exemple : numpy.array\n",
    "            rend la classe de l'exemple: +1 ou -1\n",
    "        \"\"\"\n",
    "        if self.est_feuille():\n",
    "            return self.classe\n",
    "        if exemple[self.attribut] <= self.seuil:\n",
    "            return self.inferieur.classifie(exemple)\n",
    "        return self.superieur.classifie(exemple)\n",
    "    \n",
    "    def to_graph(self, g, prefixe='A'):\n",
    "        \"\"\" construit une représentation de l'arbre pour pouvoir\n",
    "            l'afficher\n",
    "        \"\"\"\n",
    "        if self.est_feuille():\n",
    "            g.node(prefixe,str(self.classe),shape='box')\n",
    "        else:\n",
    "            g.node(prefixe, \"attr: \"+str(self.attribut))\n",
    "            self.inferieur.to_graph(g,prefixe+\"g\")\n",
    "            self.superieur.to_graph(g,prefixe+\"d\")\n",
    "            g.edge(prefixe,prefixe+\"g\", '<='+ str(self.seuil))\n",
    "            g.edge(prefixe,prefixe+\"d\", '>'+ str(self.seuil))\n",
    "        \n",
    "        return g"
   ]
  },
  {
   "cell_type": "code",
   "execution_count": null,
   "metadata": {
    "collapsed": true
   },
   "outputs": [],
   "source": []
  },
  {
   "cell_type": "code",
   "execution_count": 35,
   "metadata": {},
   "outputs": [
    {
     "name": "stdout",
     "output_type": "stream",
     "text": [
      "True\n"
     ]
    },
    {
     "data": {
      "image/svg+xml": [
       "<?xml version=\"1.0\" encoding=\"UTF-8\" standalone=\"no\"?>\n",
       "<!DOCTYPE svg PUBLIC \"-//W3C//DTD SVG 1.1//EN\"\n",
       " \"http://www.w3.org/Graphics/SVG/1.1/DTD/svg11.dtd\">\n",
       "<!-- Generated by graphviz version 2.40.1 (20161225.0304)\n",
       " -->\n",
       "<!-- Title: %3 Pages: 1 -->\n",
       "<svg width=\"182pt\" height=\"216pt\"\n",
       " viewBox=\"0.00 0.00 182.00 216.00\" xmlns=\"http://www.w3.org/2000/svg\" xmlns:xlink=\"http://www.w3.org/1999/xlink\">\n",
       "<g id=\"graph0\" class=\"graph\" transform=\"scale(1 1) rotate(0) translate(4 212)\">\n",
       "<title>%3</title>\n",
       "<polygon fill=\"#ffffff\" stroke=\"transparent\" points=\"-4,4 -4,-212 178,-212 178,4 -4,4\"/>\n",
       "<!-- A -->\n",
       "<g id=\"node1\" class=\"node\">\n",
       "<title>A</title>\n",
       "<ellipse fill=\"none\" stroke=\"#000000\" cx=\"58\" cy=\"-190\" rx=\"42.0631\" ry=\"18\"/>\n",
       "<text text-anchor=\"middle\" x=\"58\" y=\"-185.8\" font-family=\"Times,serif\" font-size=\"14.00\" fill=\"#000000\">attr: nom</text>\n",
       "</g>\n",
       "<!-- Ag -->\n",
       "<g id=\"node2\" class=\"node\">\n",
       "<title>Ag</title>\n",
       "<polygon fill=\"none\" stroke=\"#000000\" points=\"54,-122 0,-122 0,-86 54,-86 54,-122\"/>\n",
       "<text text-anchor=\"middle\" x=\"27\" y=\"-99.8\" font-family=\"Times,serif\" font-size=\"14.00\" fill=\"#000000\">1</text>\n",
       "</g>\n",
       "<!-- A&#45;&gt;Ag -->\n",
       "<g id=\"edge3\" class=\"edge\">\n",
       "<title>A&#45;&gt;Ag</title>\n",
       "<path fill=\"none\" stroke=\"#000000\" d=\"M46.7774,-172.5732C43.4685,-166.8355 40.0981,-160.3066 37.709,-154 35.1311,-147.1952 33.1062,-139.622 31.5444,-132.47\"/>\n",
       "<polygon fill=\"#000000\" stroke=\"#000000\" points=\"34.935,-131.5718 29.577,-122.4317 28.0657,-132.9181 34.935,-131.5718\"/>\n",
       "<text text-anchor=\"middle\" x=\"58.1455\" y=\"-142.8\" font-family=\"Times,serif\" font-size=\"14.00\" fill=\"#000000\">&lt;=42.0</text>\n",
       "</g>\n",
       "<!-- Ad -->\n",
       "<g id=\"node3\" class=\"node\">\n",
       "<title>Ad</title>\n",
       "<ellipse fill=\"none\" stroke=\"#000000\" cx=\"111\" cy=\"-104\" rx=\"38.6624\" ry=\"18\"/>\n",
       "<text text-anchor=\"middle\" x=\"111\" y=\"-99.8\" font-family=\"Times,serif\" font-size=\"14.00\" fill=\"#000000\">attr: age</text>\n",
       "</g>\n",
       "<!-- A&#45;&gt;Ad -->\n",
       "<g id=\"edge4\" class=\"edge\">\n",
       "<title>A&#45;&gt;Ad</title>\n",
       "<path fill=\"none\" stroke=\"#000000\" d=\"M68.9816,-172.1807C76.4215,-160.1085 86.381,-143.9478 94.7363,-130.3901\"/>\n",
       "<polygon fill=\"#000000\" stroke=\"#000000\" points=\"97.9469,-131.8517 100.2138,-121.5022 91.9876,-128.1791 97.9469,-131.8517\"/>\n",
       "<text text-anchor=\"middle\" x=\"103.1978\" y=\"-142.8\" font-family=\"Times,serif\" font-size=\"14.00\" fill=\"#000000\">&gt;42.0</text>\n",
       "</g>\n",
       "<!-- Adg -->\n",
       "<g id=\"node4\" class=\"node\">\n",
       "<title>Adg</title>\n",
       "<polygon fill=\"none\" stroke=\"#000000\" points=\"102,-36 48,-36 48,0 102,0 102,-36\"/>\n",
       "<text text-anchor=\"middle\" x=\"75\" y=\"-13.8\" font-family=\"Times,serif\" font-size=\"14.00\" fill=\"#000000\">1</text>\n",
       "</g>\n",
       "<!-- Ad&#45;&gt;Adg -->\n",
       "<g id=\"edge1\" class=\"edge\">\n",
       "<title>Ad&#45;&gt;Adg</title>\n",
       "<path fill=\"none\" stroke=\"#000000\" d=\"M96.2341,-87.0077C91.9347,-81.2933 87.6174,-74.6682 84.709,-68 81.7295,-61.1688 79.6595,-53.4161 78.2231,-46.0892\"/>\n",
       "<polygon fill=\"#000000\" stroke=\"#000000\" points=\"81.6655,-45.4527 76.5855,-36.1551 74.7587,-46.5912 81.6655,-45.4527\"/>\n",
       "<text text-anchor=\"middle\" x=\"104.1455\" y=\"-56.8\" font-family=\"Times,serif\" font-size=\"14.00\" fill=\"#000000\">&lt;=30.0</text>\n",
       "</g>\n",
       "<!-- Add -->\n",
       "<g id=\"node5\" class=\"node\">\n",
       "<title>Add</title>\n",
       "<polygon fill=\"none\" stroke=\"#000000\" points=\"174,-36 120,-36 120,0 174,0 174,-36\"/>\n",
       "<text text-anchor=\"middle\" x=\"147\" y=\"-13.8\" font-family=\"Times,serif\" font-size=\"14.00\" fill=\"#000000\">2</text>\n",
       "</g>\n",
       "<!-- Ad&#45;&gt;Add -->\n",
       "<g id=\"edge2\" class=\"edge\">\n",
       "<title>Ad&#45;&gt;Add</title>\n",
       "<path fill=\"none\" stroke=\"#000000\" d=\"M118.4592,-86.1807C123.3978,-74.383 129.971,-58.6805 135.5643,-45.3187\"/>\n",
       "<polygon fill=\"#000000\" stroke=\"#000000\" points=\"138.7936,-46.6682 139.4265,-36.0923 132.3365,-43.9652 138.7936,-46.6682\"/>\n",
       "<text text-anchor=\"middle\" x=\"147.1978\" y=\"-56.8\" font-family=\"Times,serif\" font-size=\"14.00\" fill=\"#000000\">&gt;30.0</text>\n",
       "</g>\n",
       "</g>\n",
       "</svg>\n"
      ],
      "text/plain": [
       "<graphviz.dot.Digraph at 0x113457048>"
      ]
     },
     "execution_count": 35,
     "metadata": {},
     "output_type": "execute_result"
    }
   ],
   "source": [
    "# Exemple d'utilisation: \n",
    "un_arbre= ArbreBinaire()\n",
    "un_arbre.ajoute_feuille(1)\n",
    "print(un_arbre.est_feuille())\n",
    "\n",
    "un_arbre1 = ArbreBinaire()\n",
    "un_arbre1.ajoute_feuille(2)\n",
    "\n",
    "un_arbre3 = ArbreBinaire()\n",
    "un_arbre3.ajoute_fils(un_arbre,un_arbre1,\"age\",30.0)\n",
    "\n",
    "un_arbre2 = ArbreBinaire()\n",
    "un_arbre2.ajoute_fils(un_arbre,un_arbre3,\"nom\",42.0)\n",
    "\n",
    "gtree = gv.Digraph(format='png')\n",
    "un_arbre2.to_graph(gtree)"
   ]
  },
  {
   "cell_type": "markdown",
   "metadata": {},
   "source": [
    "### Construction de l'arbre de décision"
   ]
  },
  {
   "cell_type": "markdown",
   "metadata": {},
   "source": [
    "Pour construire un arbre de décision, il faut réaliser les étapes suivantes:\n",
    "- si l'entropie de Shannon de la distribution des classes de l'ensemble courant est inférieure à epsilon (réel positif fixé et qui est un paramètre de l'algorithme), alors construire une feuille avec cet ensemble, la classe associée à cette feuille est la classe majoritaire;\n",
    "- sinon, pour chaque attribut, calculer le seuil de discrétisation et l'entropie de Shannon correspondante\n",
    "    - choisir l'attribut qui donne une valeur d'entropie minimale\n",
    "    - l'attribut choisi sert à constituer un noeud de l'arbre de décision, les arcs issus de ce noeud sont labeller par un test (inférieur ou égal ou supérieur) par rapport au seuil trouvé\n",
    "    \n",
    "    \n",
    "<font size=\"+1\">**[Q]**</font> Ecrire la fonction qui construit un arbre de décision (binaire) à partir d'une base d'exemples. En plus de la base d'exemples, on utilise un argument \"epsilon\" qui est un réel >0 et qui sert pour le critère d'arrêt.\n",
    "Cette fonction a la spécification suivante:\n",
    "\n",
    "    def construit_AD(LSet,epsilon):\n",
    "        \"\"\" LSet : LabeledSet\n",
    "            epsilon : seuil d'entropie pour le critère d'arrêt \n",
    "        \"\"\"\n"
   ]
  },
  {
   "cell_type": "code",
   "execution_count": 36,
   "metadata": {
    "collapsed": true
   },
   "outputs": [],
   "source": [
    "def construit_AD(LSet, epsilon):\n",
    "    un_arbre = ArbreBinaire();\n",
    "    if(entropie(LSet) <= epsilon):\n",
    "        un_arbre.ajoute_feuille(classe_majoritaire(LSet));\n",
    "    else:\n",
    "        seuiles =[]\n",
    "        entropies = []\n",
    "        index = 0\n",
    "        seuile = 0\n",
    "        ent = 0\n",
    "        for c in range(LSet.getInputDimension()-1):\n",
    "            seuile, ent = discretise(LSet,c);\n",
    "            seuiles.append(seuile);\n",
    "            entropies.append(entropie);\n",
    "        index = entropies.index(min(entropies));\n",
    "        Linf, Lsup = divise(the_set,index,seuiles[index])\n",
    "        un_arbre1 = ArbreBinaire();\n",
    "        un_arbre1.ajoute_feuille(classe_majoritaire(Linf));\n",
    "        un_arbre2 = ArbreBinaire();\n",
    "        un_arbre2.ajoute_feuille(classe_majoritaire(Lsup));\n",
    "        un_arbre.ajoute_fils(un_arbre1,un_arbre2,index,seuiles[index])\n",
    "        \n",
    "    return un_arbre;"
   ]
  },
  {
   "cell_type": "code",
   "execution_count": 37,
   "metadata": {
    "scrolled": true
   },
   "outputs": [
    {
     "data": {
      "image/svg+xml": [
       "<?xml version=\"1.0\" encoding=\"UTF-8\" standalone=\"no\"?>\n",
       "<!DOCTYPE svg PUBLIC \"-//W3C//DTD SVG 1.1//EN\"\n",
       " \"http://www.w3.org/Graphics/SVG/1.1/DTD/svg11.dtd\">\n",
       "<!-- Generated by graphviz version 2.40.1 (20161225.0304)\n",
       " -->\n",
       "<!-- Title: %3 Pages: 1 -->\n",
       "<svg width=\"327pt\" height=\"130pt\"\n",
       " viewBox=\"0.00 0.00 326.88 130.00\" xmlns=\"http://www.w3.org/2000/svg\" xmlns:xlink=\"http://www.w3.org/1999/xlink\">\n",
       "<g id=\"graph0\" class=\"graph\" transform=\"scale(1 1) rotate(0) translate(4 126)\">\n",
       "<title>%3</title>\n",
       "<polygon fill=\"#ffffff\" stroke=\"transparent\" points=\"-4,4 -4,-126 322.8828,-126 322.8828,4 -4,4\"/>\n",
       "<!-- A -->\n",
       "<g id=\"node1\" class=\"node\">\n",
       "<title>A</title>\n",
       "<ellipse fill=\"none\" stroke=\"#000000\" cx=\"111\" cy=\"-104\" rx=\"30.961\" ry=\"18\"/>\n",
       "<text text-anchor=\"middle\" x=\"111\" y=\"-99.8\" font-family=\"Times,serif\" font-size=\"14.00\" fill=\"#000000\">attr: 0</text>\n",
       "</g>\n",
       "<!-- Ag -->\n",
       "<g id=\"node2\" class=\"node\">\n",
       "<title>Ag</title>\n",
       "<polygon fill=\"none\" stroke=\"#000000\" points=\"54,-36 0,-36 0,0 54,0 54,-36\"/>\n",
       "<text text-anchor=\"middle\" x=\"27\" y=\"-13.8\" font-family=\"Times,serif\" font-size=\"14.00\" fill=\"#000000\">1</text>\n",
       "</g>\n",
       "<!-- A&#45;&gt;Ag -->\n",
       "<g id=\"edge1\" class=\"edge\">\n",
       "<title>A&#45;&gt;Ag</title>\n",
       "<path fill=\"none\" stroke=\"#000000\" d=\"M80.9209,-99.2375C62.4101,-94.6018 40.0363,-85.5503 28.2217,-68 23.9546,-61.6613 22.4767,-53.7722 22.3748,-46.1477\"/>\n",
       "<polygon fill=\"#000000\" stroke=\"#000000\" points=\"25.8734,-46.2702 22.9558,-36.085 18.8851,-45.8666 25.8734,-46.2702\"/>\n",
       "<text text-anchor=\"middle\" x=\"101.3892\" y=\"-56.8\" font-family=\"Times,serif\" font-size=\"14.00\" fill=\"#000000\">&lt;=0.08365494477988511</text>\n",
       "</g>\n",
       "<!-- Ad -->\n",
       "<g id=\"node3\" class=\"node\">\n",
       "<title>Ad</title>\n",
       "<polygon fill=\"none\" stroke=\"#000000\" points=\"222,-36 168,-36 168,0 222,0 222,-36\"/>\n",
       "<text text-anchor=\"middle\" x=\"195\" y=\"-13.8\" font-family=\"Times,serif\" font-size=\"14.00\" fill=\"#000000\">&#45;1</text>\n",
       "</g>\n",
       "<!-- A&#45;&gt;Ad -->\n",
       "<g id=\"edge2\" class=\"edge\">\n",
       "<title>A&#45;&gt;Ad</title>\n",
       "<path fill=\"none\" stroke=\"#000000\" d=\"M136.4727,-93.7415C148.7984,-87.7399 163.0437,-79.1339 173,-68 178.6895,-61.6375 183.0977,-53.5689 186.4223,-45.78\"/>\n",
       "<polygon fill=\"#000000\" stroke=\"#000000\" points=\"189.7775,-46.8042 190.0688,-36.2134 183.2366,-44.311 189.7775,-46.8042\"/>\n",
       "<text text-anchor=\"middle\" x=\"250.4414\" y=\"-56.8\" font-family=\"Times,serif\" font-size=\"14.00\" fill=\"#000000\">&gt;0.08365494477988511</text>\n",
       "</g>\n",
       "</g>\n",
       "</svg>\n"
      ],
      "text/plain": [
       "<graphviz.dot.Digraph at 0x113652780>"
      ]
     },
     "execution_count": 37,
     "metadata": {},
     "output_type": "execute_result"
    }
   ],
   "source": [
    "#test de l'affichage \n",
    "abin = construit_AD(the_set,0.0)\n",
    "gtree = gv.Digraph(format='png')\n",
    "abin.to_graph(gtree)"
   ]
  },
  {
   "cell_type": "markdown",
   "metadata": {},
   "source": [
    "### Classification avec arbre de décision\n"
   ]
  },
  {
   "cell_type": "markdown",
   "metadata": {},
   "source": [
    "Pour classer un nouvel exemple avec un arbre de décision, il faut parcourir l'arbre, de la racine vers une feuille en respectant les tests rencontrés dans chaque arc. Une fois atteint une feuille, la classe de l'exemple est celle présente dans la feuille.\n",
    "\n",
    "La classe ArbreBinaire contient déjà une fonction <code>classifie</code> qui permet de classer un nouvel exemple et de renvoyer la classe +1 ou -1 selon le cas."
   ]
  },
  {
   "cell_type": "markdown",
   "metadata": {},
   "source": [
    "### Implémentation"
   ]
  },
  {
   "cell_type": "markdown",
   "metadata": {},
   "source": [
    "De la même façon que pour le knn, on définit le classifieur <code>ArbreDecision</code> (classe héritant de la classe Classifier vue lors du TD-TME 5) comme suit.\n",
    "\n",
    "Si toutes les fonctions précédentes ont été écrites correctement, il est maintenant possible de construire un arbre de décision à partir de la base jouet.\n"
   ]
  },
  {
   "cell_type": "markdown",
   "metadata": {},
   "source": [
    "## Applications à des données réelles"
   ]
  },
  {
   "cell_type": "code",
   "execution_count": 38,
   "metadata": {
    "collapsed": true
   },
   "outputs": [],
   "source": [
    "class ArbreDecision(Classifier):\n",
    "    # Constructeur\n",
    "    def __init__(self,epsilon):\n",
    "        # valeur seuil d'entropie pour arrêter la construction\n",
    "        self.epsilon= epsilon\n",
    "        self.racine = None\n",
    "    \n",
    "    # Permet de calculer la prediction sur x => renvoie un score\n",
    "    def predict(self,x):\n",
    "        # classification de l'exemple x avec l'arbre de décision\n",
    "        # on rend 0 (classe -1) ou 1 (classe 1)\n",
    "        classe = self.racine.classifie(x)\n",
    "        if (classe == 1):\n",
    "            return(1)\n",
    "        else:\n",
    "            return(-1)\n",
    "    \n",
    "    # Permet d'entrainer le modele sur un ensemble de données\n",
    "    def train(self,set):\n",
    "        # construction de l'arbre de décision \n",
    "        self.set=set\n",
    "        self.racine = construit_AD(set,self.epsilon)\n",
    "\n",
    "    # Permet d'afficher l'arbre\n",
    "    def plot(self):\n",
    "        gtree = gv.Digraph(format='png')\n",
    "        return self.racine.to_graph(gtree)\n",
    "    \n",
    "    #Permet de calculer la qualité du système \n",
    "    def accuracy(self, dataset):\n",
    "        nb_ok = 0\n",
    "        for i in range(dataset.size()):\n",
    "            output = self.predict(dataset.getX(i))\n",
    "            if (output * dataset.getY(i) > 0):\n",
    "                nb_ok = nb_ok + 1\n",
    "        acc = nb_ok / (dataset.size() * 1.0)\n",
    "        return acc"
   ]
  },
  {
   "cell_type": "code",
   "execution_count": 39,
   "metadata": {
    "scrolled": true
   },
   "outputs": [
    {
     "name": "stderr",
     "output_type": "stream",
     "text": [
      "/Library/Frameworks/Python.framework/Versions/3.6/lib/python3.6/site-packages/matplotlib/contour.py:967: UserWarning: The following kwargs were not used by contour: 'linewidth'\n",
      "  s)\n"
     ]
    },
    {
     "data": {
      "image/png": "[encoded data removed]",
      "text/plain": [
       "<matplotlib.figure.Figure at 0x11365a5f8>"
      ]
     },
     "metadata": {},
     "output_type": "display_data"
    }
   ],
   "source": [
    "# un exemple d'utilisation:\n",
    "ad=ArbreDecision(0.0)          # initialiation d'un arbre binaire qui utilisera epsilon= 0.0\n",
    "ad.train(the_set)              # construction de l'arbre à partir de la base jouet\n",
    "plot_frontiere(the_set,ad,20)  # tracé graphique de la frontière de décision\n",
    "plot2DSet(the_set) "
   ]
  },
  {
   "cell_type": "code",
   "execution_count": 40,
   "metadata": {},
   "outputs": [
    {
     "name": "stdout",
     "output_type": "stream",
     "text": [
      "0.95\n"
     ]
    },
    {
     "data": {
      "image/svg+xml": [
       "<?xml version=\"1.0\" encoding=\"UTF-8\" standalone=\"no\"?>\n",
       "<!DOCTYPE svg PUBLIC \"-//W3C//DTD SVG 1.1//EN\"\n",
       " \"http://www.w3.org/Graphics/SVG/1.1/DTD/svg11.dtd\">\n",
       "<!-- Generated by graphviz version 2.40.1 (20161225.0304)\n",
       " -->\n",
       "<!-- Title: %3 Pages: 1 -->\n",
       "<svg width=\"327pt\" height=\"130pt\"\n",
       " viewBox=\"0.00 0.00 326.88 130.00\" xmlns=\"http://www.w3.org/2000/svg\" xmlns:xlink=\"http://www.w3.org/1999/xlink\">\n",
       "<g id=\"graph0\" class=\"graph\" transform=\"scale(1 1) rotate(0) translate(4 126)\">\n",
       "<title>%3</title>\n",
       "<polygon fill=\"#ffffff\" stroke=\"transparent\" points=\"-4,4 -4,-126 322.8828,-126 322.8828,4 -4,4\"/>\n",
       "<!-- A -->\n",
       "<g id=\"node1\" class=\"node\">\n",
       "<title>A</title>\n",
       "<ellipse fill=\"none\" stroke=\"#000000\" cx=\"111\" cy=\"-104\" rx=\"30.961\" ry=\"18\"/>\n",
       "<text text-anchor=\"middle\" x=\"111\" y=\"-99.8\" font-family=\"Times,serif\" font-size=\"14.00\" fill=\"#000000\">attr: 0</text>\n",
       "</g>\n",
       "<!-- Ag -->\n",
       "<g id=\"node2\" class=\"node\">\n",
       "<title>Ag</title>\n",
       "<polygon fill=\"none\" stroke=\"#000000\" points=\"54,-36 0,-36 0,0 54,0 54,-36\"/>\n",
       "<text text-anchor=\"middle\" x=\"27\" y=\"-13.8\" font-family=\"Times,serif\" font-size=\"14.00\" fill=\"#000000\">1</text>\n",
       "</g>\n",
       "<!-- A&#45;&gt;Ag -->\n",
       "<g id=\"edge1\" class=\"edge\">\n",
       "<title>A&#45;&gt;Ag</title>\n",
       "<path fill=\"none\" stroke=\"#000000\" d=\"M80.9209,-99.2375C62.4101,-94.6018 40.0363,-85.5503 28.2217,-68 23.9546,-61.6613 22.4767,-53.7722 22.3748,-46.1477\"/>\n",
       "<polygon fill=\"#000000\" stroke=\"#000000\" points=\"25.8734,-46.2702 22.9558,-36.085 18.8851,-45.8666 25.8734,-46.2702\"/>\n",
       "<text text-anchor=\"middle\" x=\"101.3892\" y=\"-56.8\" font-family=\"Times,serif\" font-size=\"14.00\" fill=\"#000000\">&lt;=0.08365494477988511</text>\n",
       "</g>\n",
       "<!-- Ad -->\n",
       "<g id=\"node3\" class=\"node\">\n",
       "<title>Ad</title>\n",
       "<polygon fill=\"none\" stroke=\"#000000\" points=\"222,-36 168,-36 168,0 222,0 222,-36\"/>\n",
       "<text text-anchor=\"middle\" x=\"195\" y=\"-13.8\" font-family=\"Times,serif\" font-size=\"14.00\" fill=\"#000000\">&#45;1</text>\n",
       "</g>\n",
       "<!-- A&#45;&gt;Ad -->\n",
       "<g id=\"edge2\" class=\"edge\">\n",
       "<title>A&#45;&gt;Ad</title>\n",
       "<path fill=\"none\" stroke=\"#000000\" d=\"M136.4727,-93.7415C148.7984,-87.7399 163.0437,-79.1339 173,-68 178.6895,-61.6375 183.0977,-53.5689 186.4223,-45.78\"/>\n",
       "<polygon fill=\"#000000\" stroke=\"#000000\" points=\"189.7775,-46.8042 190.0688,-36.2134 183.2366,-44.311 189.7775,-46.8042\"/>\n",
       "<text text-anchor=\"middle\" x=\"250.4414\" y=\"-56.8\" font-family=\"Times,serif\" font-size=\"14.00\" fill=\"#000000\">&gt;0.08365494477988511</text>\n",
       "</g>\n",
       "</g>\n",
       "</svg>\n"
      ],
      "text/plain": [
       "<graphviz.dot.Digraph at 0x113741be0>"
      ]
     },
     "execution_count": 40,
     "metadata": {},
     "output_type": "execute_result"
    }
   ],
   "source": [
    "print(ad.accuracy(the_set))\n",
    "ad.plot()"
   ]
  },
  {
   "cell_type": "markdown",
   "metadata": {},
   "source": [
    "<font size=\"+1\">**[Q]**</font> Appliquer l'algorithme des arbres de décision à des données réelles (par exemple, celles utilisées avec les k-nn) et comparer les résultats obtenus par les 2 algorithmes.\n",
    "\n",
    "Un autre exemple d'utilisation sur une base plus grande:"
   ]
  },
  {
   "cell_type": "code",
   "execution_count": 41,
   "metadata": {
    "scrolled": true
   },
   "outputs": [
    {
     "name": "stdout",
     "output_type": "stream",
     "text": [
      "Taille de la base générée : 200 exemples\n"
     ]
    },
    {
     "name": "stderr",
     "output_type": "stream",
     "text": [
      "/Library/Frameworks/Python.framework/Versions/3.6/lib/python3.6/site-packages/matplotlib/contour.py:967: UserWarning: The following kwargs were not used by contour: 'linewidth'\n",
      "  s)\n"
     ]
    },
    {
     "data": {
      "image/png": "[encoded data removed]",
      "text/plain": [
       "<matplotlib.figure.Figure at 0x11365a4a8>"
      ]
     },
     "metadata": {},
     "output_type": "display_data"
    }
   ],
   "source": [
    "autre_set=the_set = LabeledSet(2)\n",
    "ajouter_exemples_aleatoires(the_set, 100, 1, [-1])\n",
    "ajouter_exemples_aleatoires(the_set, 100, -1, [1])\n",
    "\n",
    "print(\"Taille de la base générée :\", autre_set.size(), \"exemples\")\n",
    "adautre=ArbreDecision(0.0)          \n",
    "adautre.train(autre_set)            \n",
    "plot_frontiere(autre_set,adautre,20)\n",
    "plot2DSet(autre_set) "
   ]
  },
  {
   "cell_type": "code",
   "execution_count": 42,
   "metadata": {},
   "outputs": [
    {
     "name": "stdout",
     "output_type": "stream",
     "text": [
      "0.835\n"
     ]
    },
    {
     "data": {
      "image/svg+xml": [
       "<?xml version=\"1.0\" encoding=\"UTF-8\" standalone=\"no\"?>\n",
       "<!DOCTYPE svg PUBLIC \"-//W3C//DTD SVG 1.1//EN\"\n",
       " \"http://www.w3.org/Graphics/SVG/1.1/DTD/svg11.dtd\">\n",
       "<!-- Generated by graphviz version 2.40.1 (20161225.0304)\n",
       " -->\n",
       "<!-- Title: %3 Pages: 1 -->\n",
       "<svg width=\"313pt\" height=\"130pt\"\n",
       " viewBox=\"0.00 0.00 313.40 130.00\" xmlns=\"http://www.w3.org/2000/svg\" xmlns:xlink=\"http://www.w3.org/1999/xlink\">\n",
       "<g id=\"graph0\" class=\"graph\" transform=\"scale(1 1) rotate(0) translate(4 126)\">\n",
       "<title>%3</title>\n",
       "<polygon fill=\"#ffffff\" stroke=\"transparent\" points=\"-4,4 -4,-126 309.3955,-126 309.3955,4 -4,4\"/>\n",
       "<!-- A -->\n",
       "<g id=\"node1\" class=\"node\">\n",
       "<title>A</title>\n",
       "<ellipse fill=\"none\" stroke=\"#000000\" cx=\"107\" cy=\"-104\" rx=\"30.961\" ry=\"18\"/>\n",
       "<text text-anchor=\"middle\" x=\"107\" y=\"-99.8\" font-family=\"Times,serif\" font-size=\"14.00\" fill=\"#000000\">attr: 0</text>\n",
       "</g>\n",
       "<!-- Ag -->\n",
       "<g id=\"node2\" class=\"node\">\n",
       "<title>Ag</title>\n",
       "<polygon fill=\"none\" stroke=\"#000000\" points=\"54,-36 0,-36 0,0 54,0 54,-36\"/>\n",
       "<text text-anchor=\"middle\" x=\"27\" y=\"-13.8\" font-family=\"Times,serif\" font-size=\"14.00\" fill=\"#000000\">1</text>\n",
       "</g>\n",
       "<!-- A&#45;&gt;Ag -->\n",
       "<g id=\"edge1\" class=\"edge\">\n",
       "<title>A&#45;&gt;Ag</title>\n",
       "<path fill=\"none\" stroke=\"#000000\" d=\"M77.3006,-98.7068C59.6896,-93.8852 38.7179,-84.8256 27.709,-68 23.5262,-61.6072 22.1353,-53.7012 22.1111,-46.0778\"/>\n",
       "<polygon fill=\"#000000\" stroke=\"#000000\" points=\"25.6081,-46.2395 22.7914,-36.026 18.624,-45.7668 25.6081,-46.2395\"/>\n",
       "<text text-anchor=\"middle\" x=\"97.1455\" y=\"-56.8\" font-family=\"Times,serif\" font-size=\"14.00\" fill=\"#000000\">&lt;=0.4121098038424504</text>\n",
       "</g>\n",
       "<!-- Ad -->\n",
       "<g id=\"node3\" class=\"node\">\n",
       "<title>Ad</title>\n",
       "<polygon fill=\"none\" stroke=\"#000000\" points=\"215,-36 161,-36 161,0 215,0 215,-36\"/>\n",
       "<text text-anchor=\"middle\" x=\"188\" y=\"-13.8\" font-family=\"Times,serif\" font-size=\"14.00\" fill=\"#000000\">&#45;1</text>\n",
       "</g>\n",
       "<!-- A&#45;&gt;Ad -->\n",
       "<g id=\"edge2\" class=\"edge\">\n",
       "<title>A&#45;&gt;Ad</title>\n",
       "<path fill=\"none\" stroke=\"#000000\" d=\"M131.8228,-93.1852C143.4136,-87.1381 156.6773,-78.6569 166,-68 171.6198,-61.5759 176.0073,-53.4889 179.3344,-45.7023\"/>\n",
       "<polygon fill=\"#000000\" stroke=\"#000000\" points=\"182.6856,-46.738 182.9945,-36.1476 176.1488,-44.2339 182.6856,-46.738\"/>\n",
       "<text text-anchor=\"middle\" x=\"240.1978\" y=\"-56.8\" font-family=\"Times,serif\" font-size=\"14.00\" fill=\"#000000\">&gt;0.4121098038424504</text>\n",
       "</g>\n",
       "</g>\n",
       "</svg>\n"
      ],
      "text/plain": [
       "<graphviz.dot.Digraph at 0x113434ba8>"
      ]
     },
     "execution_count": 42,
     "metadata": {},
     "output_type": "execute_result"
    }
   ],
   "source": [
    "print(adautre.accuracy(autre_set))\n",
    "adautre.plot()"
   ]
  },
  {
   "cell_type": "markdown",
   "metadata": {},
   "source": [
    "### Améliorations (facultatif)"
   ]
  },
  {
   "cell_type": "markdown",
   "metadata": {},
   "source": [
    "Adapter votre algorithme afin de pouvoir construire des arbres de décision avec des attributs catégoriels."
   ]
  },
  {
   "cell_type": "code",
   "execution_count": 43,
   "metadata": {
    "collapsed": true
   },
   "outputs": [],
   "source": [
    "def construit_AD2(LSet, epsilon):\n",
    "    un_arbre = ArbreBinaire();\n",
    "    if(entropie(LSet) <= epsilon):\n",
    "        feuille = ArbreBinaire();\n",
    "        feuille.ajoute_feuille(classe_majoritaire(LSet));\n",
    "        feuille.est_feuille();\n",
    "        return feuille;\n",
    "    else:\n",
    "        seuiles =[]\n",
    "        entropies = []\n",
    "        for c in range(LSet.getInputDimension()):\n",
    "            seuile, ent = discretise(LSet,c);\n",
    "            seuiles.append(seuile);\n",
    "            entropies.append(ent);\n",
    "            \n",
    "        index = entropies.index(min(entropies));    \n",
    "        Linf, Lsup = divise(LSet,index,seuiles[index])\n",
    "        un_arbre.ajoute_fils(construit_AD2(Linf,epsilon),construit_AD2(Lsup,epsilon),index,seuiles[index])\n",
    "\n",
    "\n",
    "    return un_arbre;"
   ]
  },
  {
   "cell_type": "code",
   "execution_count": 44,
   "metadata": {
    "collapsed": true
   },
   "outputs": [],
   "source": [
    "class ArbreDecision2(Classifier):\n",
    "    # Constructeur\n",
    "    def __init__(self,epsilon):\n",
    "        # valeur seuil d'entropie pour arrêter la construction\n",
    "        self.epsilon= epsilon\n",
    "        self.racine = None\n",
    "    \n",
    "    # Permet de calculer la prediction sur x => renvoie un score\n",
    "    def predict(self,x):\n",
    "        # classification de l'exemple x avec l'arbre de décision\n",
    "        # on rend 0 (classe -1) ou 1 (classe 1)\n",
    "        classe = self.racine.classifie(x)\n",
    "        if (classe == 1):\n",
    "            return(1)\n",
    "        else:\n",
    "            return(-1)\n",
    "    \n",
    "    # Permet d'entrainer le modele sur un ensemble de données\n",
    "    def train(self,set):\n",
    "        # construction de l'arbre de décision \n",
    "        self.set=set\n",
    "        self.racine = construit_AD2(set,self.epsilon)\n",
    "\n",
    "    # Permet d'afficher l'arbre\n",
    "    def plot(self):\n",
    "        gtree = gv.Digraph(format='png')\n",
    "        return self.racine.to_graph(gtree)\n",
    "    \n",
    "    #Permet de calculer la qualité du système \n",
    "    def accuracy(self, dataset):\n",
    "        nb_ok = 0\n",
    "        for i in range(dataset.size()):\n",
    "            output = self.predict(dataset.getX(i))\n",
    "            if (output * dataset.getY(i) > 0):\n",
    "                nb_ok = nb_ok + 1\n",
    "        acc = nb_ok / (dataset.size() * 1.0)\n",
    "        return acc"
   ]
  },
  {
   "cell_type": "code",
   "execution_count": 45,
   "metadata": {
    "collapsed": true
   },
   "outputs": [],
   "source": [
    "the_set = LabeledSet(2)\n",
    "ajouter_exemples_aleatoires(the_set, 100, 1.5, [-1])\n",
    "ajouter_exemples_aleatoires(the_set, 100, -1.5, [1])"
   ]
  },
  {
   "cell_type": "code",
   "execution_count": 46,
   "metadata": {
    "scrolled": true
   },
   "outputs": [
    {
     "name": "stdout",
     "output_type": "stream",
     "text": [
      "Taille de la base générée : 200 exemples\n"
     ]
    },
    {
     "name": "stderr",
     "output_type": "stream",
     "text": [
      "/Library/Frameworks/Python.framework/Versions/3.6/lib/python3.6/site-packages/matplotlib/contour.py:967: UserWarning: The following kwargs were not used by contour: 'linewidth'\n",
      "  s)\n"
     ]
    },
    {
     "data": {
      "image/png": "[encoded data removed]",
      "text/plain": [
       "<matplotlib.figure.Figure at 0x1136c3dd8>"
      ]
     },
     "metadata": {},
     "output_type": "display_data"
    }
   ],
   "source": [
    "ad=ArbreDecision2(0.0)          # initialiation d'un arbre binaire qui utilisera epsilon= 0.0\n",
    "print(\"Taille de la base générée :\", the_set.size(), \"exemples\")\n",
    "ad.train(the_set)              # construction de l'arbre à partir de la base jouet\n",
    "plot_frontiere(the_set,ad,20)  # tracé graphique de la frontière de décision\n",
    "plot2DSet(the_set) "
   ]
  },
  {
   "cell_type": "code",
   "execution_count": 47,
   "metadata": {
    "scrolled": false
   },
   "outputs": [
    {
     "name": "stdout",
     "output_type": "stream",
     "text": [
      "1.0\n"
     ]
    },
    {
     "data": {
      "image/svg+xml": [
       "<?xml version=\"1.0\" encoding=\"UTF-8\" standalone=\"no\"?>\n",
       "<!DOCTYPE svg PUBLIC \"-//W3C//DTD SVG 1.1//EN\"\n",
       " \"http://www.w3.org/Graphics/SVG/1.1/DTD/svg11.dtd\">\n",
       "<!-- Generated by graphviz version 2.40.1 (20161225.0304)\n",
       " -->\n",
       "<!-- Title: %3 Pages: 1 -->\n",
       "<svg width=\"789pt\" height=\"560pt\"\n",
       " viewBox=\"0.00 0.00 789.06 560.00\" xmlns=\"http://www.w3.org/2000/svg\" xmlns:xlink=\"http://www.w3.org/1999/xlink\">\n",
       "<g id=\"graph0\" class=\"graph\" transform=\"scale(1 1) rotate(0) translate(4 556)\">\n",
       "<title>%3</title>\n",
       "<polygon fill=\"#ffffff\" stroke=\"transparent\" points=\"-4,4 -4,-556 785.0576,-556 785.0576,4 -4,4\"/>\n",
       "<!-- A -->\n",
       "<g id=\"node1\" class=\"node\">\n",
       "<title>A</title>\n",
       "<ellipse fill=\"none\" stroke=\"#000000\" cx=\"372\" cy=\"-534\" rx=\"30.961\" ry=\"18\"/>\n",
       "<text text-anchor=\"middle\" x=\"372\" y=\"-529.8\" font-family=\"Times,serif\" font-size=\"14.00\" fill=\"#000000\">attr: 0</text>\n",
       "</g>\n",
       "<!-- Ag -->\n",
       "<g id=\"node2\" class=\"node\">\n",
       "<title>Ag</title>\n",
       "<ellipse fill=\"none\" stroke=\"#000000\" cx=\"292\" cy=\"-448\" rx=\"30.961\" ry=\"18\"/>\n",
       "<text text-anchor=\"middle\" x=\"292\" y=\"-443.8\" font-family=\"Times,serif\" font-size=\"14.00\" fill=\"#000000\">attr: 1</text>\n",
       "</g>\n",
       "<!-- A&#45;&gt;Ag -->\n",
       "<g id=\"edge17\" class=\"edge\">\n",
       "<title>A&#45;&gt;Ag</title>\n",
       "<path fill=\"none\" stroke=\"#000000\" d=\"M342.3006,-528.7068C324.6896,-523.8852 303.7179,-514.8256 292.709,-498 288.5262,-491.6072 287.1353,-483.7012 287.1111,-476.0778\"/>\n",
       "<polygon fill=\"#000000\" stroke=\"#000000\" points=\"290.6081,-476.2395 287.7914,-466.026 283.624,-475.7668 290.6081,-476.2395\"/>\n",
       "<text text-anchor=\"middle\" x=\"362.1455\" y=\"-486.8\" font-family=\"Times,serif\" font-size=\"14.00\" fill=\"#000000\">&lt;=0.4722594820912735</text>\n",
       "</g>\n",
       "<!-- Ad -->\n",
       "<g id=\"node19\" class=\"node\">\n",
       "<title>Ad</title>\n",
       "<polygon fill=\"none\" stroke=\"#000000\" points=\"480,-466 426,-466 426,-430 480,-430 480,-466\"/>\n",
       "<text text-anchor=\"middle\" x=\"453\" y=\"-443.8\" font-family=\"Times,serif\" font-size=\"14.00\" fill=\"#000000\">&#45;1</text>\n",
       "</g>\n",
       "<!-- A&#45;&gt;Ad -->\n",
       "<g id=\"edge18\" class=\"edge\">\n",
       "<title>A&#45;&gt;Ad</title>\n",
       "<path fill=\"none\" stroke=\"#000000\" d=\"M396.8228,-523.1852C408.4136,-517.1381 421.6773,-508.6569 431,-498 436.6198,-491.5759 441.0073,-483.4889 444.3344,-475.7023\"/>\n",
       "<polygon fill=\"#000000\" stroke=\"#000000\" points=\"447.6856,-476.738 447.9945,-466.1476 441.1488,-474.2339 447.6856,-476.738\"/>\n",
       "<text text-anchor=\"middle\" x=\"506.1978\" y=\"-486.8\" font-family=\"Times,serif\" font-size=\"14.00\" fill=\"#000000\">&gt;0.4722594820912735</text>\n",
       "</g>\n",
       "<!-- Agg -->\n",
       "<g id=\"node3\" class=\"node\">\n",
       "<title>Agg</title>\n",
       "<ellipse fill=\"none\" stroke=\"#000000\" cx=\"207\" cy=\"-362\" rx=\"30.961\" ry=\"18\"/>\n",
       "<text text-anchor=\"middle\" x=\"207\" y=\"-357.8\" font-family=\"Times,serif\" font-size=\"14.00\" fill=\"#000000\">attr: 0</text>\n",
       "</g>\n",
       "<!-- Ag&#45;&gt;Agg -->\n",
       "<g id=\"edge15\" class=\"edge\">\n",
       "<title>Ag&#45;&gt;Agg</title>\n",
       "<path fill=\"none\" stroke=\"#000000\" d=\"M262.329,-442.783C244.3389,-437.9766 222.6248,-428.9055 210.709,-412 206.296,-405.7391 204.4787,-397.8743 203.9939,-390.2482\"/>\n",
       "<polygon fill=\"#000000\" stroke=\"#000000\" points=\"207.4941,-390.1859 204.0403,-380.1699 200.4942,-390.1537 207.4941,-390.1859\"/>\n",
       "<text text-anchor=\"middle\" x=\"283.6455\" y=\"-400.8\" font-family=\"Times,serif\" font-size=\"14.00\" fill=\"#000000\">&lt;=0.44033485498060004</text>\n",
       "</g>\n",
       "<!-- Agd -->\n",
       "<g id=\"node12\" class=\"node\">\n",
       "<title>Agd</title>\n",
       "<ellipse fill=\"none\" stroke=\"#000000\" cx=\"379\" cy=\"-362\" rx=\"30.961\" ry=\"18\"/>\n",
       "<text text-anchor=\"middle\" x=\"379\" y=\"-357.8\" font-family=\"Times,serif\" font-size=\"14.00\" fill=\"#000000\">attr: 0</text>\n",
       "</g>\n",
       "<!-- Ag&#45;&gt;Agd -->\n",
       "<g id=\"edge16\" class=\"edge\">\n",
       "<title>Ag&#45;&gt;Agd</title>\n",
       "<path fill=\"none\" stroke=\"#000000\" d=\"M317.8997,-437.9868C330.6749,-432.0042 345.5446,-423.3414 356,-412 361.9856,-405.5072 366.6471,-397.1856 370.1604,-389.202\"/>\n",
       "<polygon fill=\"#000000\" stroke=\"#000000\" points=\"373.4648,-390.3633 373.8882,-379.7769 366.9555,-387.7887 373.4648,-390.3633\"/>\n",
       "<text text-anchor=\"middle\" x=\"434.6978\" y=\"-400.8\" font-family=\"Times,serif\" font-size=\"14.00\" fill=\"#000000\">&gt;0.44033485498060004</text>\n",
       "</g>\n",
       "<!-- Aggg -->\n",
       "<g id=\"node4\" class=\"node\">\n",
       "<title>Aggg</title>\n",
       "<polygon fill=\"none\" stroke=\"#000000\" points=\"54,-294 0,-294 0,-258 54,-258 54,-294\"/>\n",
       "<text text-anchor=\"middle\" x=\"27\" y=\"-271.8\" font-family=\"Times,serif\" font-size=\"14.00\" fill=\"#000000\">1</text>\n",
       "</g>\n",
       "<!-- Agg&#45;&gt;Aggg -->\n",
       "<g id=\"edge7\" class=\"edge\">\n",
       "<title>Agg&#45;&gt;Aggg</title>\n",
       "<path fill=\"none\" stroke=\"#000000\" d=\"M177.2584,-356.9157C133.5175,-349.205 55.9249,-334.5496 46.0469,-326 39.4557,-320.2951 35.1373,-312.0539 32.3112,-303.9024\"/>\n",
       "<polygon fill=\"#000000\" stroke=\"#000000\" points=\"35.6493,-302.8447 29.5516,-294.1805 28.9154,-304.7562 35.6493,-302.8447\"/>\n",
       "<text text-anchor=\"middle\" x=\"125.4766\" y=\"-314.8\" font-family=\"Times,serif\" font-size=\"14.00\" fill=\"#000000\">&lt;=&#45;0.023587209248752905</text>\n",
       "</g>\n",
       "<!-- Aggd -->\n",
       "<g id=\"node5\" class=\"node\">\n",
       "<title>Aggd</title>\n",
       "<ellipse fill=\"none\" stroke=\"#000000\" cx=\"207\" cy=\"-276\" rx=\"30.961\" ry=\"18\"/>\n",
       "<text text-anchor=\"middle\" x=\"207\" y=\"-271.8\" font-family=\"Times,serif\" font-size=\"14.00\" fill=\"#000000\">attr: 0</text>\n",
       "</g>\n",
       "<!-- Agg&#45;&gt;Aggd -->\n",
       "<g id=\"edge8\" class=\"edge\">\n",
       "<title>Agg&#45;&gt;Aggd</title>\n",
       "<path fill=\"none\" stroke=\"#000000\" d=\"M207,-343.7616C207,-332.3597 207,-317.4342 207,-304.494\"/>\n",
       "<polygon fill=\"#000000\" stroke=\"#000000\" points=\"210.5001,-304.2121 207,-294.2121 203.5001,-304.2121 210.5001,-304.2121\"/>\n",
       "<text text-anchor=\"middle\" x=\"281.5288\" y=\"-314.8\" font-family=\"Times,serif\" font-size=\"14.00\" fill=\"#000000\">&gt;&#45;0.023587209248752905</text>\n",
       "</g>\n",
       "<!-- Aggdg -->\n",
       "<g id=\"node6\" class=\"node\">\n",
       "<title>Aggdg</title>\n",
       "<polygon fill=\"none\" stroke=\"#000000\" points=\"69,-208 15,-208 15,-172 69,-172 69,-208\"/>\n",
       "<text text-anchor=\"middle\" x=\"42\" y=\"-185.8\" font-family=\"Times,serif\" font-size=\"14.00\" fill=\"#000000\">&#45;1</text>\n",
       "</g>\n",
       "<!-- Aggd&#45;&gt;Aggdg -->\n",
       "<g id=\"edge5\" class=\"edge\">\n",
       "<title>Aggd&#45;&gt;Aggdg</title>\n",
       "<path fill=\"none\" stroke=\"#000000\" d=\"M176.574,-272.0128C138.637,-266.4703 76.6974,-255.3587 59.709,-240 53.2984,-234.2044 49.2081,-225.9389 46.5983,-217.7932\"/>\n",
       "<polygon fill=\"#000000\" stroke=\"#000000\" points=\"49.982,-216.8979 44.0928,-208.0906 43.2043,-218.6481 49.982,-216.8979\"/>\n",
       "<text text-anchor=\"middle\" x=\"132.6455\" y=\"-228.8\" font-family=\"Times,serif\" font-size=\"14.00\" fill=\"#000000\">&lt;=0.00457619576963697</text>\n",
       "</g>\n",
       "<!-- Aggdd -->\n",
       "<g id=\"node7\" class=\"node\">\n",
       "<title>Aggdd</title>\n",
       "<ellipse fill=\"none\" stroke=\"#000000\" cx=\"210\" cy=\"-190\" rx=\"30.961\" ry=\"18\"/>\n",
       "<text text-anchor=\"middle\" x=\"210\" y=\"-185.8\" font-family=\"Times,serif\" font-size=\"14.00\" fill=\"#000000\">attr: 0</text>\n",
       "</g>\n",
       "<!-- Aggd&#45;&gt;Aggdd -->\n",
       "<g id=\"edge6\" class=\"edge\">\n",
       "<title>Aggd&#45;&gt;Aggdd</title>\n",
       "<path fill=\"none\" stroke=\"#000000\" d=\"M207.6362,-257.7616C208.034,-246.3597 208.5546,-231.4342 209.006,-218.494\"/>\n",
       "<polygon fill=\"#000000\" stroke=\"#000000\" points=\"212.5138,-218.3281 209.3647,-208.2121 205.5181,-218.084 212.5138,-218.3281\"/>\n",
       "<text text-anchor=\"middle\" x=\"277.6978\" y=\"-228.8\" font-family=\"Times,serif\" font-size=\"14.00\" fill=\"#000000\">&gt;0.00457619576963697</text>\n",
       "</g>\n",
       "<!-- Aggddg -->\n",
       "<g id=\"node8\" class=\"node\">\n",
       "<title>Aggddg</title>\n",
       "<polygon fill=\"none\" stroke=\"#000000\" points=\"157,-122 103,-122 103,-86 157,-86 157,-122\"/>\n",
       "<text text-anchor=\"middle\" x=\"130\" y=\"-99.8\" font-family=\"Times,serif\" font-size=\"14.00\" fill=\"#000000\">1</text>\n",
       "</g>\n",
       "<!-- Aggdd&#45;&gt;Aggddg -->\n",
       "<g id=\"edge3\" class=\"edge\">\n",
       "<title>Aggdd&#45;&gt;Aggddg</title>\n",
       "<path fill=\"none\" stroke=\"#000000\" d=\"M180.3006,-184.7068C162.6896,-179.8852 141.7179,-170.8256 130.709,-154 126.5262,-147.6072 125.1353,-139.7012 125.1111,-132.0778\"/>\n",
       "<polygon fill=\"#000000\" stroke=\"#000000\" points=\"128.6081,-132.2395 125.7914,-122.026 121.624,-131.7668 128.6081,-132.2395\"/>\n",
       "<text text-anchor=\"middle\" x=\"200.1455\" y=\"-142.8\" font-family=\"Times,serif\" font-size=\"14.00\" fill=\"#000000\">&lt;=0.3723366084841623</text>\n",
       "</g>\n",
       "<!-- Aggddd -->\n",
       "<g id=\"node9\" class=\"node\">\n",
       "<title>Aggddd</title>\n",
       "<ellipse fill=\"none\" stroke=\"#000000\" cx=\"291\" cy=\"-104\" rx=\"30.961\" ry=\"18\"/>\n",
       "<text text-anchor=\"middle\" x=\"291\" y=\"-99.8\" font-family=\"Times,serif\" font-size=\"14.00\" fill=\"#000000\">attr: 0</text>\n",
       "</g>\n",
       "<!-- Aggdd&#45;&gt;Aggddd -->\n",
       "<g id=\"edge4\" class=\"edge\">\n",
       "<title>Aggdd&#45;&gt;Aggddd</title>\n",
       "<path fill=\"none\" stroke=\"#000000\" d=\"M234.8228,-179.1852C246.4136,-173.1381 259.6773,-164.6569 269,-154 274.6198,-147.5759 279.0073,-139.4889 282.3344,-131.7023\"/>\n",
       "<polygon fill=\"#000000\" stroke=\"#000000\" points=\"285.6856,-132.738 285.9945,-122.1476 279.1488,-130.2339 285.6856,-132.738\"/>\n",
       "<text text-anchor=\"middle\" x=\"344.1978\" y=\"-142.8\" font-family=\"Times,serif\" font-size=\"14.00\" fill=\"#000000\">&gt;0.3723366084841623</text>\n",
       "</g>\n",
       "<!-- Aggdddg -->\n",
       "<g id=\"node10\" class=\"node\">\n",
       "<title>Aggdddg</title>\n",
       "<polygon fill=\"none\" stroke=\"#000000\" points=\"237,-36 183,-36 183,0 237,0 237,-36\"/>\n",
       "<text text-anchor=\"middle\" x=\"210\" y=\"-13.8\" font-family=\"Times,serif\" font-size=\"14.00\" fill=\"#000000\">&#45;1</text>\n",
       "</g>\n",
       "<!-- Aggddd&#45;&gt;Aggdddg -->\n",
       "<g id=\"edge1\" class=\"edge\">\n",
       "<title>Aggddd&#45;&gt;Aggdddg</title>\n",
       "<path fill=\"none\" stroke=\"#000000\" d=\"M260.6609,-99.5898C241.6774,-95.0909 218.6336,-86.0595 206.709,-68 202.4907,-61.6116 201.5614,-53.707 202.1583,-46.0835\"/>\n",
       "<polygon fill=\"#000000\" stroke=\"#000000\" points=\"205.643,-46.4557 203.7528,-36.0308 198.7294,-45.3591 205.643,-46.4557\"/>\n",
       "<text text-anchor=\"middle\" x=\"276.1455\" y=\"-56.8\" font-family=\"Times,serif\" font-size=\"14.00\" fill=\"#000000\">&lt;=0.4152374181514127</text>\n",
       "</g>\n",
       "<!-- Aggdddd -->\n",
       "<g id=\"node11\" class=\"node\">\n",
       "<title>Aggdddd</title>\n",
       "<polygon fill=\"none\" stroke=\"#000000\" points=\"398,-36 344,-36 344,0 398,0 398,-36\"/>\n",
       "<text text-anchor=\"middle\" x=\"371\" y=\"-13.8\" font-family=\"Times,serif\" font-size=\"14.00\" fill=\"#000000\">1</text>\n",
       "</g>\n",
       "<!-- Aggddd&#45;&gt;Aggdddd -->\n",
       "<g id=\"edge2\" class=\"edge\">\n",
       "<title>Aggddd&#45;&gt;Aggdddd</title>\n",
       "<path fill=\"none\" stroke=\"#000000\" d=\"M315.6896,-92.9465C327.014,-86.8906 339.9101,-78.4711 349,-68 354.5953,-61.5545 358.9755,-53.4612 362.3034,-45.6753\"/>\n",
       "<polygon fill=\"#000000\" stroke=\"#000000\" points=\"365.6533,-46.715 365.9683,-36.1248 359.1179,-44.2071 365.6533,-46.715\"/>\n",
       "<text text-anchor=\"middle\" x=\"424.1978\" y=\"-56.8\" font-family=\"Times,serif\" font-size=\"14.00\" fill=\"#000000\">&gt;0.4152374181514127</text>\n",
       "</g>\n",
       "<!-- Agdg -->\n",
       "<g id=\"node13\" class=\"node\">\n",
       "<title>Agdg</title>\n",
       "<ellipse fill=\"none\" stroke=\"#000000\" cx=\"379\" cy=\"-276\" rx=\"30.961\" ry=\"18\"/>\n",
       "<text text-anchor=\"middle\" x=\"379\" y=\"-271.8\" font-family=\"Times,serif\" font-size=\"14.00\" fill=\"#000000\">attr: 0</text>\n",
       "</g>\n",
       "<!-- Agd&#45;&gt;Agdg -->\n",
       "<g id=\"edge13\" class=\"edge\">\n",
       "<title>Agd&#45;&gt;Agdg</title>\n",
       "<path fill=\"none\" stroke=\"#000000\" d=\"M379,-343.7616C379,-332.3597 379,-317.4342 379,-304.494\"/>\n",
       "<polygon fill=\"#000000\" stroke=\"#000000\" points=\"382.5001,-304.2121 379,-294.2121 375.5001,-304.2121 382.5001,-304.2121\"/>\n",
       "<text text-anchor=\"middle\" x=\"450.4766\" y=\"-314.8\" font-family=\"Times,serif\" font-size=\"14.00\" fill=\"#000000\">&lt;=&#45;0.7171590847705475</text>\n",
       "</g>\n",
       "<!-- Agdd -->\n",
       "<g id=\"node18\" class=\"node\">\n",
       "<title>Agdd</title>\n",
       "<polygon fill=\"none\" stroke=\"#000000\" points=\"572,-294 518,-294 518,-258 572,-258 572,-294\"/>\n",
       "<text text-anchor=\"middle\" x=\"545\" y=\"-271.8\" font-family=\"Times,serif\" font-size=\"14.00\" fill=\"#000000\">&#45;1</text>\n",
       "</g>\n",
       "<!-- Agd&#45;&gt;Agdd -->\n",
       "<g id=\"edge14\" class=\"edge\">\n",
       "<title>Agd&#45;&gt;Agdd</title>\n",
       "<path fill=\"none\" stroke=\"#000000\" d=\"M409.222,-357.633C446.1889,-351.759 505.9604,-340.3708 523,-326 529.8033,-320.2622 534.5751,-312.0122 537.8905,-303.8628\"/>\n",
       "<polygon fill=\"#000000\" stroke=\"#000000\" points=\"541.2896,-304.7427 541.251,-294.1479 534.6742,-302.4543 541.2896,-304.7427\"/>\n",
       "<text text-anchor=\"middle\" x=\"601.5288\" y=\"-314.8\" font-family=\"Times,serif\" font-size=\"14.00\" fill=\"#000000\">&gt;&#45;0.7171590847705475</text>\n",
       "</g>\n",
       "<!-- Agdgg -->\n",
       "<g id=\"node14\" class=\"node\">\n",
       "<title>Agdgg</title>\n",
       "<polygon fill=\"none\" stroke=\"#000000\" points=\"403,-208 349,-208 349,-172 403,-172 403,-208\"/>\n",
       "<text text-anchor=\"middle\" x=\"376\" y=\"-185.8\" font-family=\"Times,serif\" font-size=\"14.00\" fill=\"#000000\">1</text>\n",
       "</g>\n",
       "<!-- Agdg&#45;&gt;Agdgg -->\n",
       "<g id=\"edge11\" class=\"edge\">\n",
       "<title>Agdg&#45;&gt;Agdgg</title>\n",
       "<path fill=\"none\" stroke=\"#000000\" d=\"M377.8886,-257.6913C377.5762,-252.0222 377.2632,-245.7544 377.0469,-240 376.7827,-232.9708 376.5809,-225.3831 376.4284,-218.2943\"/>\n",
       "<polygon fill=\"#000000\" stroke=\"#000000\" points=\"379.9233,-217.9874 376.2332,-208.056 372.9245,-218.1209 379.9233,-217.9874\"/>\n",
       "<text text-anchor=\"middle\" x=\"449.4766\" y=\"-228.8\" font-family=\"Times,serif\" font-size=\"14.00\" fill=\"#000000\">&lt;=&#45;1.2171473392008714</text>\n",
       "</g>\n",
       "<!-- Agdgd -->\n",
       "<g id=\"node15\" class=\"node\">\n",
       "<title>Agdgd</title>\n",
       "<ellipse fill=\"none\" stroke=\"#000000\" cx=\"542\" cy=\"-190\" rx=\"30.961\" ry=\"18\"/>\n",
       "<text text-anchor=\"middle\" x=\"542\" y=\"-185.8\" font-family=\"Times,serif\" font-size=\"14.00\" fill=\"#000000\">attr: 0</text>\n",
       "</g>\n",
       "<!-- Agdg&#45;&gt;Agdgd -->\n",
       "<g id=\"edge12\" class=\"edge\">\n",
       "<title>Agdg&#45;&gt;Agdgd</title>\n",
       "<path fill=\"none\" stroke=\"#000000\" d=\"M409.2269,-271.4535C445.4736,-265.4708 503.4259,-254.0492 520,-240 526.789,-234.2453 531.5569,-225.9907 534.8733,-217.8424\"/>\n",
       "<polygon fill=\"#000000\" stroke=\"#000000\" points=\"538.2712,-218.7259 538.2368,-208.1311 531.6567,-216.4348 538.2712,-218.7259\"/>\n",
       "<text text-anchor=\"middle\" x=\"598.5288\" y=\"-228.8\" font-family=\"Times,serif\" font-size=\"14.00\" fill=\"#000000\">&gt;&#45;1.2171473392008714</text>\n",
       "</g>\n",
       "<!-- Agdgdg -->\n",
       "<g id=\"node16\" class=\"node\">\n",
       "<title>Agdgdg</title>\n",
       "<polygon fill=\"none\" stroke=\"#000000\" points=\"520,-122 466,-122 466,-86 520,-86 520,-122\"/>\n",
       "<text text-anchor=\"middle\" x=\"493\" y=\"-99.8\" font-family=\"Times,serif\" font-size=\"14.00\" fill=\"#000000\">&#45;1</text>\n",
       "</g>\n",
       "<!-- Agdgd&#45;&gt;Agdgdg -->\n",
       "<g id=\"edge9\" class=\"edge\">\n",
       "<title>Agdgd&#45;&gt;Agdgdg</title>\n",
       "<path fill=\"none\" stroke=\"#000000\" d=\"M518.3501,-178.331C509.0357,-172.4156 499.32,-164.2819 494.0469,-154 490.6536,-147.3837 489.4136,-139.5985 489.2658,-132.1669\"/>\n",
       "<polygon fill=\"#000000\" stroke=\"#000000\" points=\"492.7677,-132.1881 489.6735,-122.0552 485.7733,-131.906 492.7677,-132.1881\"/>\n",
       "<text text-anchor=\"middle\" x=\"566.4766\" y=\"-142.8\" font-family=\"Times,serif\" font-size=\"14.00\" fill=\"#000000\">&lt;=&#45;1.0071904396641882</text>\n",
       "</g>\n",
       "<!-- Agdgdd -->\n",
       "<g id=\"node17\" class=\"node\">\n",
       "<title>Agdgdd</title>\n",
       "<polygon fill=\"none\" stroke=\"#000000\" points=\"686,-122 632,-122 632,-86 686,-86 686,-122\"/>\n",
       "<text text-anchor=\"middle\" x=\"659\" y=\"-99.8\" font-family=\"Times,serif\" font-size=\"14.00\" fill=\"#000000\">1</text>\n",
       "</g>\n",
       "<!-- Agdgd&#45;&gt;Agdgdd -->\n",
       "<g id=\"edge10\" class=\"edge\">\n",
       "<title>Agdgd&#45;&gt;Agdgdd</title>\n",
       "<path fill=\"none\" stroke=\"#000000\" d=\"M571.8075,-184.994C592.3566,-180.171 619.0893,-170.998 637,-154 643.3577,-147.9663 647.9922,-139.7724 651.3192,-131.7643\"/>\n",
       "<polygon fill=\"#000000\" stroke=\"#000000\" points=\"654.6517,-132.8406 654.7568,-122.2463 648.068,-130.4627 654.6517,-132.8406\"/>\n",
       "<text text-anchor=\"middle\" x=\"713.5288\" y=\"-142.8\" font-family=\"Times,serif\" font-size=\"14.00\" fill=\"#000000\">&gt;&#45;1.0071904396641882</text>\n",
       "</g>\n",
       "</g>\n",
       "</svg>\n"
      ],
      "text/plain": [
       "<graphviz.dot.Digraph at 0x1136f51d0>"
      ]
     },
     "execution_count": 47,
     "metadata": {},
     "output_type": "execute_result"
    }
   ],
   "source": [
    "print(ad.accuracy(the_set))\n",
    "ad.plot()"
   ]
  },
  {
   "cell_type": "code",
   "execution_count": 48,
   "metadata": {},
   "outputs": [
    {
     "name": "stdout",
     "output_type": "stream",
     "text": [
      "Taille de la base générée : 400 exemples\n"
     ]
    },
    {
     "name": "stderr",
     "output_type": "stream",
     "text": [
      "/Library/Frameworks/Python.framework/Versions/3.6/lib/python3.6/site-packages/matplotlib/contour.py:967: UserWarning: The following kwargs were not used by contour: 'linewidth'\n",
      "  s)\n"
     ]
    },
    {
     "data": {
      "image/png": "[encoded data removed]",
      "text/plain": [
       "<matplotlib.figure.Figure at 0x1136c3eb8>"
      ]
     },
     "metadata": {},
     "output_type": "display_data"
    }
   ],
   "source": [
    "the_set = LabeledSet(2)\n",
    "ajouter_exemples_aleatoires(the_set, 200, 1, [-1])\n",
    "ajouter_exemples_aleatoires(the_set, 200, -1, [1])\n",
    "# ============================================================== #\n",
    "ad=ArbreDecision2(0.0)          # initialiation d'un arbre binaire qui utilisera epsilon= 0.0\n",
    "print(\"Taille de la base générée :\", the_set.size(), \"exemples\")\n",
    "ad.train(the_set)              # construction de l'arbre à partir de la base jouet\n",
    "plot_frontiere(the_set,ad,20)  # tracé graphique de la frontière de décision\n",
    "plot2DSet(the_set) "
   ]
  },
  {
   "cell_type": "code",
   "execution_count": 49,
   "metadata": {
    "scrolled": false
   },
   "outputs": [
    {
     "name": "stdout",
     "output_type": "stream",
     "text": [
      "1.0\n"
     ]
    },
    {
     "data": {
      "image/svg+xml": [
       "<?xml version=\"1.0\" encoding=\"UTF-8\" standalone=\"no\"?>\n",
       "<!DOCTYPE svg PUBLIC \"-//W3C//DTD SVG 1.1//EN\"\n",
       " \"http://www.w3.org/Graphics/SVG/1.1/DTD/svg11.dtd\">\n",
       "<!-- Generated by graphviz version 2.40.1 (20161225.0304)\n",
       " -->\n",
       "<!-- Title: %3 Pages: 1 -->\n",
       "<svg width=\"2011pt\" height=\"1162pt\"\n",
       " viewBox=\"0.00 0.00 2011.40 1162.00\" xmlns=\"http://www.w3.org/2000/svg\" xmlns:xlink=\"http://www.w3.org/1999/xlink\">\n",
       "<g id=\"graph0\" class=\"graph\" transform=\"scale(1 1) rotate(0) translate(4 1158)\">\n",
       "<title>%3</title>\n",
       "<polygon fill=\"#ffffff\" stroke=\"transparent\" points=\"-4,4 -4,-1158 2007.3955,-1158 2007.3955,4 -4,4\"/>\n",
       "<!-- A -->\n",
       "<g id=\"node1\" class=\"node\">\n",
       "<title>A</title>\n",
       "<ellipse fill=\"none\" stroke=\"#000000\" cx=\"1014\" cy=\"-1136\" rx=\"30.961\" ry=\"18\"/>\n",
       "<text text-anchor=\"middle\" x=\"1014\" y=\"-1131.8\" font-family=\"Times,serif\" font-size=\"14.00\" fill=\"#000000\">attr: 0</text>\n",
       "</g>\n",
       "<!-- Ag -->\n",
       "<g id=\"node2\" class=\"node\">\n",
       "<title>Ag</title>\n",
       "<ellipse fill=\"none\" stroke=\"#000000\" cx=\"805\" cy=\"-1050\" rx=\"30.961\" ry=\"18\"/>\n",
       "<text text-anchor=\"middle\" x=\"805\" y=\"-1045.8\" font-family=\"Times,serif\" font-size=\"14.00\" fill=\"#000000\">attr: 1</text>\n",
       "</g>\n",
       "<!-- A&#45;&gt;Ag -->\n",
       "<g id=\"edge69\" class=\"edge\">\n",
       "<title>A&#45;&gt;Ag</title>\n",
       "<path fill=\"none\" stroke=\"#000000\" d=\"M988.3725,-1125.4547C951.0574,-1110.1002 881.6642,-1081.546 839.7709,-1064.3077\"/>\n",
       "<polygon fill=\"#000000\" stroke=\"#000000\" points=\"841.0895,-1061.0655 830.5099,-1060.4969 838.4257,-1067.5389 841.0895,-1061.0655\"/>\n",
       "<text text-anchor=\"middle\" x=\"997.9766\" y=\"-1088.8\" font-family=\"Times,serif\" font-size=\"14.00\" fill=\"#000000\">&lt;=&#45;0.24863744967260137</text>\n",
       "</g>\n",
       "<!-- Ad -->\n",
       "<g id=\"node25\" class=\"node\">\n",
       "<title>Ad</title>\n",
       "<ellipse fill=\"none\" stroke=\"#000000\" cx=\"1256\" cy=\"-1050\" rx=\"30.961\" ry=\"18\"/>\n",
       "<text text-anchor=\"middle\" x=\"1256\" y=\"-1045.8\" font-family=\"Times,serif\" font-size=\"14.00\" fill=\"#000000\">attr: 1</text>\n",
       "</g>\n",
       "<!-- A&#45;&gt;Ad -->\n",
       "<g id=\"edge70\" class=\"edge\">\n",
       "<title>A&#45;&gt;Ad</title>\n",
       "<path fill=\"none\" stroke=\"#000000\" d=\"M1040.8229,-1126.4679C1084.4572,-1110.9615 1170.8526,-1080.259 1219.8563,-1062.8444\"/>\n",
       "<polygon fill=\"#000000\" stroke=\"#000000\" points=\"1221.1751,-1066.0903 1229.4258,-1059.4437 1218.8311,-1059.4944 1221.1751,-1066.0903\"/>\n",
       "<text text-anchor=\"middle\" x=\"1221.0288\" y=\"-1088.8\" font-family=\"Times,serif\" font-size=\"14.00\" fill=\"#000000\">&gt;&#45;0.24863744967260137</text>\n",
       "</g>\n",
       "<!-- Agg -->\n",
       "<g id=\"node3\" class=\"node\">\n",
       "<title>Agg</title>\n",
       "<ellipse fill=\"none\" stroke=\"#000000\" cx=\"529\" cy=\"-964\" rx=\"30.961\" ry=\"18\"/>\n",
       "<text text-anchor=\"middle\" x=\"529\" y=\"-959.8\" font-family=\"Times,serif\" font-size=\"14.00\" fill=\"#000000\">attr: 1</text>\n",
       "</g>\n",
       "<!-- Ag&#45;&gt;Agg -->\n",
       "<g id=\"edge21\" class=\"edge\">\n",
       "<title>Ag&#45;&gt;Agg</title>\n",
       "<path fill=\"none\" stroke=\"#000000\" d=\"M776.302,-1043.0842C748.783,-1036.2831 706.1556,-1025.3041 669.709,-1014 633.4939,-1002.7677 592.732,-988.0498 564.4391,-977.4953\"/>\n",
       "<polygon fill=\"#000000\" stroke=\"#000000\" points=\"565.5717,-974.1821 554.9794,-973.9482 563.114,-980.7364 565.5717,-974.1821\"/>\n",
       "<text text-anchor=\"middle\" x=\"735.6455\" y=\"-1002.8\" font-family=\"Times,serif\" font-size=\"14.00\" fill=\"#000000\">&lt;=1.032235222986482</text>\n",
       "</g>\n",
       "<!-- Agd -->\n",
       "<g id=\"node20\" class=\"node\">\n",
       "<title>Agd</title>\n",
       "<ellipse fill=\"none\" stroke=\"#000000\" cx=\"805\" cy=\"-964\" rx=\"30.961\" ry=\"18\"/>\n",
       "<text text-anchor=\"middle\" x=\"805\" y=\"-959.8\" font-family=\"Times,serif\" font-size=\"14.00\" fill=\"#000000\">attr: 0</text>\n",
       "</g>\n",
       "<!-- Ag&#45;&gt;Agd -->\n",
       "<g id=\"edge22\" class=\"edge\">\n",
       "<title>Ag&#45;&gt;Agd</title>\n",
       "<path fill=\"none\" stroke=\"#000000\" d=\"M805,-1031.7616C805,-1020.3597 805,-1005.4342 805,-992.494\"/>\n",
       "<polygon fill=\"#000000\" stroke=\"#000000\" points=\"808.5001,-992.2121 805,-982.2121 801.5001,-992.2121 808.5001,-992.2121\"/>\n",
       "<text text-anchor=\"middle\" x=\"866.6978\" y=\"-1002.8\" font-family=\"Times,serif\" font-size=\"14.00\" fill=\"#000000\">&gt;1.032235222986482</text>\n",
       "</g>\n",
       "<!-- Aggg -->\n",
       "<g id=\"node4\" class=\"node\">\n",
       "<title>Aggg</title>\n",
       "<polygon fill=\"none\" stroke=\"#000000\" points=\"391,-896 337,-896 337,-860 391,-860 391,-896\"/>\n",
       "<text text-anchor=\"middle\" x=\"364\" y=\"-873.8\" font-family=\"Times,serif\" font-size=\"14.00\" fill=\"#000000\">1</text>\n",
       "</g>\n",
       "<!-- Agg&#45;&gt;Aggg -->\n",
       "<g id=\"edge15\" class=\"edge\">\n",
       "<title>Agg&#45;&gt;Aggg</title>\n",
       "<path fill=\"none\" stroke=\"#000000\" d=\"M498.1181,-961.9285C454.3083,-958.2736 377.5319,-948.9831 360.5596,-928 355.6134,-921.885 354.589,-913.8547 355.3336,-906.024\"/>\n",
       "<polygon fill=\"#000000\" stroke=\"#000000\" points=\"358.8067,-906.4872 357.1503,-896.0227 351.9194,-905.2361 358.8067,-906.4872\"/>\n",
       "<text text-anchor=\"middle\" x=\"432.2202\" y=\"-916.8\" font-family=\"Times,serif\" font-size=\"14.00\" fill=\"#000000\">&lt;=&#45;0.3165788882952611</text>\n",
       "</g>\n",
       "<!-- Aggd -->\n",
       "<g id=\"node5\" class=\"node\">\n",
       "<title>Aggd</title>\n",
       "<ellipse fill=\"none\" stroke=\"#000000\" cx=\"484\" cy=\"-878\" rx=\"30.961\" ry=\"18\"/>\n",
       "<text text-anchor=\"middle\" x=\"484\" y=\"-873.8\" font-family=\"Times,serif\" font-size=\"14.00\" fill=\"#000000\">attr: 0</text>\n",
       "</g>\n",
       "<!-- Agg&#45;&gt;Aggd -->\n",
       "<g id=\"edge16\" class=\"edge\">\n",
       "<title>Agg&#45;&gt;Aggd</title>\n",
       "<path fill=\"none\" stroke=\"#000000\" d=\"M521.9114,-946.0978C517.8852,-936.4226 512.5502,-924.3676 507,-914 505.124,-910.4957 503.0255,-906.8808 500.8798,-903.3553\"/>\n",
       "<polygon fill=\"#000000\" stroke=\"#000000\" points=\"503.8392,-901.4866 495.5488,-894.8896 497.9158,-905.2166 503.8392,-901.4866\"/>\n",
       "<text text-anchor=\"middle\" x=\"581.2725\" y=\"-916.8\" font-family=\"Times,serif\" font-size=\"14.00\" fill=\"#000000\">&gt;&#45;0.3165788882952611</text>\n",
       "</g>\n",
       "<!-- Aggdg -->\n",
       "<g id=\"node6\" class=\"node\">\n",
       "<title>Aggdg</title>\n",
       "<polygon fill=\"none\" stroke=\"#000000\" points=\"345,-810 291,-810 291,-774 345,-774 345,-810\"/>\n",
       "<text text-anchor=\"middle\" x=\"318\" y=\"-787.8\" font-family=\"Times,serif\" font-size=\"14.00\" fill=\"#000000\">1</text>\n",
       "</g>\n",
       "<!-- Aggd&#45;&gt;Aggdg -->\n",
       "<g id=\"edge13\" class=\"edge\">\n",
       "<title>Aggd&#45;&gt;Aggdg</title>\n",
       "<path fill=\"none\" stroke=\"#000000\" d=\"M454.6981,-871.5539C413.1175,-862.3015 341.5009,-845.9345 337.0469,-842 330.5136,-836.2289 326.2107,-827.9699 323.381,-819.8226\"/>\n",
       "<polygon fill=\"#000000\" stroke=\"#000000\" points=\"326.7202,-818.7695 320.609,-810.1148 319.9893,-820.6915 326.7202,-818.7695\"/>\n",
       "<text text-anchor=\"middle\" x=\"409.4766\" y=\"-830.8\" font-family=\"Times,serif\" font-size=\"14.00\" fill=\"#000000\">&lt;=&#45;1.1972656967185253</text>\n",
       "</g>\n",
       "<!-- Aggdd -->\n",
       "<g id=\"node7\" class=\"node\">\n",
       "<title>Aggdd</title>\n",
       "<ellipse fill=\"none\" stroke=\"#000000\" cx=\"484\" cy=\"-792\" rx=\"30.961\" ry=\"18\"/>\n",
       "<text text-anchor=\"middle\" x=\"484\" y=\"-787.8\" font-family=\"Times,serif\" font-size=\"14.00\" fill=\"#000000\">attr: 1</text>\n",
       "</g>\n",
       "<!-- Aggd&#45;&gt;Aggdd -->\n",
       "<g id=\"edge14\" class=\"edge\">\n",
       "<title>Aggd&#45;&gt;Aggdd</title>\n",
       "<path fill=\"none\" stroke=\"#000000\" d=\"M484,-859.7616C484,-848.3597 484,-833.4342 484,-820.494\"/>\n",
       "<polygon fill=\"#000000\" stroke=\"#000000\" points=\"487.5001,-820.2121 484,-810.2121 480.5001,-820.2121 487.5001,-820.2121\"/>\n",
       "<text text-anchor=\"middle\" x=\"551.5288\" y=\"-830.8\" font-family=\"Times,serif\" font-size=\"14.00\" fill=\"#000000\">&gt;&#45;1.1972656967185253</text>\n",
       "</g>\n",
       "<!-- Aggddg -->\n",
       "<g id=\"node8\" class=\"node\">\n",
       "<title>Aggddg</title>\n",
       "<ellipse fill=\"none\" stroke=\"#000000\" cx=\"362\" cy=\"-706\" rx=\"30.961\" ry=\"18\"/>\n",
       "<text text-anchor=\"middle\" x=\"362\" y=\"-701.8\" font-family=\"Times,serif\" font-size=\"14.00\" fill=\"#000000\">attr: 0</text>\n",
       "</g>\n",
       "<!-- Aggdd&#45;&gt;Aggddg -->\n",
       "<g id=\"edge11\" class=\"edge\">\n",
       "<title>Aggdd&#45;&gt;Aggddg</title>\n",
       "<path fill=\"none\" stroke=\"#000000\" d=\"M453.818,-787.5461C420.5302,-781.9442 370.1459,-771.1859 358.709,-756 353.9784,-749.7187 352.9987,-741.6396 353.7109,-733.8153\"/>\n",
       "<polygon fill=\"#000000\" stroke=\"#000000\" points=\"357.1789,-734.3015 355.4486,-723.8489 350.2829,-733.0991 357.1789,-734.3015\"/>\n",
       "<text text-anchor=\"middle\" x=\"431.6455\" y=\"-744.8\" font-family=\"Times,serif\" font-size=\"14.00\" fill=\"#000000\">&lt;=0.12798687739617404</text>\n",
       "</g>\n",
       "<!-- Aggddd -->\n",
       "<g id=\"node19\" class=\"node\">\n",
       "<title>Aggddd</title>\n",
       "<polygon fill=\"none\" stroke=\"#000000\" points=\"557,-724 503,-724 503,-688 557,-688 557,-724\"/>\n",
       "<text text-anchor=\"middle\" x=\"530\" y=\"-701.8\" font-family=\"Times,serif\" font-size=\"14.00\" fill=\"#000000\">1</text>\n",
       "</g>\n",
       "<!-- Aggdd&#45;&gt;Aggddd -->\n",
       "<g id=\"edge12\" class=\"edge\">\n",
       "<title>Aggdd&#45;&gt;Aggddd</title>\n",
       "<path fill=\"none\" stroke=\"#000000\" d=\"M496.0992,-775.1651C500.1165,-769.2444 504.4627,-762.4557 508,-756 511.8223,-749.0241 515.5016,-741.2521 518.7212,-733.9544\"/>\n",
       "<polygon fill=\"#000000\" stroke=\"#000000\" points=\"522.086,-734.9873 522.797,-724.4163 515.649,-732.2366 522.086,-734.9873\"/>\n",
       "<text text-anchor=\"middle\" x=\"583.6978\" y=\"-744.8\" font-family=\"Times,serif\" font-size=\"14.00\" fill=\"#000000\">&gt;0.12798687739617404</text>\n",
       "</g>\n",
       "<!-- Aggddgg -->\n",
       "<g id=\"node9\" class=\"node\">\n",
       "<title>Aggddgg</title>\n",
       "<ellipse fill=\"none\" stroke=\"#000000\" cx=\"360\" cy=\"-620\" rx=\"30.961\" ry=\"18\"/>\n",
       "<text text-anchor=\"middle\" x=\"360\" y=\"-615.8\" font-family=\"Times,serif\" font-size=\"14.00\" fill=\"#000000\">attr: 1</text>\n",
       "</g>\n",
       "<!-- Aggddg&#45;&gt;Aggddgg -->\n",
       "<g id=\"edge9\" class=\"edge\">\n",
       "<title>Aggddg&#45;&gt;Aggddgg</title>\n",
       "<path fill=\"none\" stroke=\"#000000\" d=\"M361.4955,-687.6864C361.3446,-682.0171 361.1832,-675.7504 361.0469,-670 360.8802,-662.9678 360.7141,-655.379 360.565,-648.2901\"/>\n",
       "<polygon fill=\"#000000\" stroke=\"#000000\" points=\"364.0594,-647.9779 360.3539,-638.0523 357.0609,-648.1224 364.0594,-647.9779\"/>\n",
       "<text text-anchor=\"middle\" x=\"436.9766\" y=\"-658.8\" font-family=\"Times,serif\" font-size=\"14.00\" fill=\"#000000\">&lt;=&#45;0.44675982364169514</text>\n",
       "</g>\n",
       "<!-- Aggddgd -->\n",
       "<g id=\"node16\" class=\"node\">\n",
       "<title>Aggddgd</title>\n",
       "<ellipse fill=\"none\" stroke=\"#000000\" cx=\"533\" cy=\"-620\" rx=\"30.961\" ry=\"18\"/>\n",
       "<text text-anchor=\"middle\" x=\"533\" y=\"-615.8\" font-family=\"Times,serif\" font-size=\"14.00\" fill=\"#000000\">attr: 0</text>\n",
       "</g>\n",
       "<!-- Aggddg&#45;&gt;Aggddgd -->\n",
       "<g id=\"edge10\" class=\"edge\">\n",
       "<title>Aggddg&#45;&gt;Aggddgd</title>\n",
       "<path fill=\"none\" stroke=\"#000000\" d=\"M392.2743,-701.9073C430.4304,-696.2134 493.1913,-684.8992 511,-670 517.826,-664.2892 522.6038,-656.0464 525.9178,-647.8953\"/>\n",
       "<polygon fill=\"#000000\" stroke=\"#000000\" points=\"529.3187,-648.7693 529.2735,-638.1746 522.7019,-646.4851 529.3187,-648.7693\"/>\n",
       "<text text-anchor=\"middle\" x=\"593.0288\" y=\"-658.8\" font-family=\"Times,serif\" font-size=\"14.00\" fill=\"#000000\">&gt;&#45;0.44675982364169514</text>\n",
       "</g>\n",
       "<!-- Aggddggg -->\n",
       "<g id=\"node10\" class=\"node\">\n",
       "<title>Aggddggg</title>\n",
       "<ellipse fill=\"none\" stroke=\"#000000\" cx=\"188\" cy=\"-534\" rx=\"30.961\" ry=\"18\"/>\n",
       "<text text-anchor=\"middle\" x=\"188\" y=\"-529.8\" font-family=\"Times,serif\" font-size=\"14.00\" fill=\"#000000\">attr: 0</text>\n",
       "</g>\n",
       "<!-- Aggddgg&#45;&gt;Aggddggg -->\n",
       "<g id=\"edge5\" class=\"edge\">\n",
       "<title>Aggddgg&#45;&gt;Aggddggg</title>\n",
       "<path fill=\"none\" stroke=\"#000000\" d=\"M329.5,-616.3785C289.9107,-611.1022 223.7492,-600.1385 205.709,-584 199.2681,-578.2381 195.1697,-569.9816 192.5618,-561.8338\"/>\n",
       "<polygon fill=\"#000000\" stroke=\"#000000\" points=\"195.9449,-560.936 190.0628,-552.124 189.1658,-562.6808 195.9449,-560.936\"/>\n",
       "<text text-anchor=\"middle\" x=\"282.1455\" y=\"-572.8\" font-family=\"Times,serif\" font-size=\"14.00\" fill=\"#000000\">&lt;=0.019165510697854826</text>\n",
       "</g>\n",
       "<!-- Aggddggd -->\n",
       "<g id=\"node13\" class=\"node\">\n",
       "<title>Aggddggd</title>\n",
       "<ellipse fill=\"none\" stroke=\"#000000\" cx=\"363\" cy=\"-534\" rx=\"30.961\" ry=\"18\"/>\n",
       "<text text-anchor=\"middle\" x=\"363\" y=\"-529.8\" font-family=\"Times,serif\" font-size=\"14.00\" fill=\"#000000\">attr: 0</text>\n",
       "</g>\n",
       "<!-- Aggddgg&#45;&gt;Aggddggd -->\n",
       "<g id=\"edge6\" class=\"edge\">\n",
       "<title>Aggddgg&#45;&gt;Aggddggd</title>\n",
       "<path fill=\"none\" stroke=\"#000000\" d=\"M360.6362,-601.7616C361.034,-590.3597 361.5546,-575.4342 362.006,-562.494\"/>\n",
       "<polygon fill=\"#000000\" stroke=\"#000000\" points=\"365.5138,-562.3281 362.3647,-552.2121 358.5181,-562.084 365.5138,-562.3281\"/>\n",
       "<text text-anchor=\"middle\" x=\"434.1978\" y=\"-572.8\" font-family=\"Times,serif\" font-size=\"14.00\" fill=\"#000000\">&gt;0.019165510697854826</text>\n",
       "</g>\n",
       "<!-- Aggddgggg -->\n",
       "<g id=\"node11\" class=\"node\">\n",
       "<title>Aggddgggg</title>\n",
       "<polygon fill=\"none\" stroke=\"#000000\" points=\"54,-466 0,-466 0,-430 54,-430 54,-466\"/>\n",
       "<text text-anchor=\"middle\" x=\"27\" y=\"-443.8\" font-family=\"Times,serif\" font-size=\"14.00\" fill=\"#000000\">1</text>\n",
       "</g>\n",
       "<!-- Aggddggg&#45;&gt;Aggddgggg -->\n",
       "<g id=\"edge1\" class=\"edge\">\n",
       "<title>Aggddggg&#45;&gt;Aggddgggg</title>\n",
       "<path fill=\"none\" stroke=\"#000000\" d=\"M157.5882,-529.8583C120.4225,-524.2224 60.4479,-513.0854 44.0469,-498 37.7819,-492.2376 33.819,-484.0815 31.3124,-476.0246\"/>\n",
       "<polygon fill=\"#000000\" stroke=\"#000000\" points=\"34.6473,-474.9298 28.8526,-466.0601 27.8513,-476.6075 34.6473,-474.9298\"/>\n",
       "<text text-anchor=\"middle\" x=\"116.4766\" y=\"-486.8\" font-family=\"Times,serif\" font-size=\"14.00\" fill=\"#000000\">&lt;=&#45;0.5981075952999164</text>\n",
       "</g>\n",
       "<!-- Aggddgggd -->\n",
       "<g id=\"node12\" class=\"node\">\n",
       "<title>Aggddgggd</title>\n",
       "<polygon fill=\"none\" stroke=\"#000000\" points=\"220,-466 166,-466 166,-430 220,-430 220,-466\"/>\n",
       "<text text-anchor=\"middle\" x=\"193\" y=\"-443.8\" font-family=\"Times,serif\" font-size=\"14.00\" fill=\"#000000\">&#45;1</text>\n",
       "</g>\n",
       "<!-- Aggddggg&#45;&gt;Aggddgggd -->\n",
       "<g id=\"edge2\" class=\"edge\">\n",
       "<title>Aggddggg&#45;&gt;Aggddgggd</title>\n",
       "<path fill=\"none\" stroke=\"#000000\" d=\"M189.0604,-515.7616C189.7233,-504.3597 190.591,-489.4342 191.3434,-476.494\"/>\n",
       "<polygon fill=\"#000000\" stroke=\"#000000\" points=\"194.8548,-476.3984 191.9412,-466.2121 187.8666,-475.9921 194.8548,-476.3984\"/>\n",
       "<text text-anchor=\"middle\" x=\"258.5288\" y=\"-486.8\" font-family=\"Times,serif\" font-size=\"14.00\" fill=\"#000000\">&gt;&#45;0.5981075952999164</text>\n",
       "</g>\n",
       "<!-- Aggddggdg -->\n",
       "<g id=\"node14\" class=\"node\">\n",
       "<title>Aggddggdg</title>\n",
       "<polygon fill=\"none\" stroke=\"#000000\" points=\"386,-466 332,-466 332,-430 386,-430 386,-466\"/>\n",
       "<text text-anchor=\"middle\" x=\"359\" y=\"-443.8\" font-family=\"Times,serif\" font-size=\"14.00\" fill=\"#000000\">&#45;1</text>\n",
       "</g>\n",
       "<!-- Aggddggd&#45;&gt;Aggddggdg -->\n",
       "<g id=\"edge3\" class=\"edge\">\n",
       "<title>Aggddggd&#45;&gt;Aggddggdg</title>\n",
       "<path fill=\"none\" stroke=\"#000000\" d=\"M361.2818,-515.7003C360.808,-510.0316 360.3432,-503.7617 360.0469,-498 359.6855,-490.9751 359.4481,-483.389 359.2922,-476.3003\"/>\n",
       "<polygon fill=\"#000000\" stroke=\"#000000\" points=\"362.7876,-475.9985 359.113,-466.0613 355.7887,-476.1211 362.7876,-475.9985\"/>\n",
       "<text text-anchor=\"middle\" x=\"432.4766\" y=\"-486.8\" font-family=\"Times,serif\" font-size=\"14.00\" fill=\"#000000\">&lt;=&#45;0.7328579269937339</text>\n",
       "</g>\n",
       "<!-- Aggddggdd -->\n",
       "<g id=\"node15\" class=\"node\">\n",
       "<title>Aggddggdd</title>\n",
       "<polygon fill=\"none\" stroke=\"#000000\" points=\"552,-466 498,-466 498,-430 552,-430 552,-466\"/>\n",
       "<text text-anchor=\"middle\" x=\"525\" y=\"-443.8\" font-family=\"Times,serif\" font-size=\"14.00\" fill=\"#000000\">1</text>\n",
       "</g>\n",
       "<!-- Aggddggd&#45;&gt;Aggddggdd -->\n",
       "<g id=\"edge4\" class=\"edge\">\n",
       "<title>Aggddggd&#45;&gt;Aggddggdd</title>\n",
       "<path fill=\"none\" stroke=\"#000000\" d=\"M393.014,-529.4279C429.0052,-523.4186 486.5482,-511.9698 503,-498 509.784,-492.2395 514.5507,-483.9833 517.8673,-475.8354\"/>\n",
       "<polygon fill=\"#000000\" stroke=\"#000000\" points=\"521.2649,-476.7201 521.2319,-466.1253 514.6507,-474.4282 521.2649,-476.7201\"/>\n",
       "<text text-anchor=\"middle\" x=\"581.5288\" y=\"-486.8\" font-family=\"Times,serif\" font-size=\"14.00\" fill=\"#000000\">&gt;&#45;0.7328579269937339</text>\n",
       "</g>\n",
       "<!-- Aggddgdg -->\n",
       "<g id=\"node17\" class=\"node\">\n",
       "<title>Aggddgdg</title>\n",
       "<polygon fill=\"none\" stroke=\"#000000\" points=\"558,-552 504,-552 504,-516 558,-516 558,-552\"/>\n",
       "<text text-anchor=\"middle\" x=\"531\" y=\"-529.8\" font-family=\"Times,serif\" font-size=\"14.00\" fill=\"#000000\">&#45;1</text>\n",
       "</g>\n",
       "<!-- Aggddgd&#45;&gt;Aggddgdg -->\n",
       "<g id=\"edge7\" class=\"edge\">\n",
       "<title>Aggddgd&#45;&gt;Aggddgdg</title>\n",
       "<path fill=\"none\" stroke=\"#000000\" d=\"M532.4955,-601.6864C532.3446,-596.0171 532.1832,-589.7504 532.0469,-584 531.8802,-576.9678 531.7141,-569.379 531.565,-562.2901\"/>\n",
       "<polygon fill=\"#000000\" stroke=\"#000000\" points=\"535.0594,-561.9779 531.3539,-552.0523 528.0609,-562.1224 535.0594,-561.9779\"/>\n",
       "<text text-anchor=\"middle\" x=\"607.9766\" y=\"-572.8\" font-family=\"Times,serif\" font-size=\"14.00\" fill=\"#000000\">&lt;=&#45;0.37394862021370234</text>\n",
       "</g>\n",
       "<!-- Aggddgdd -->\n",
       "<g id=\"node18\" class=\"node\">\n",
       "<title>Aggddgdd</title>\n",
       "<polygon fill=\"none\" stroke=\"#000000\" points=\"731,-552 677,-552 677,-516 731,-516 731,-552\"/>\n",
       "<text text-anchor=\"middle\" x=\"704\" y=\"-529.8\" font-family=\"Times,serif\" font-size=\"14.00\" fill=\"#000000\">1</text>\n",
       "</g>\n",
       "<!-- Aggddgd&#45;&gt;Aggddgdd -->\n",
       "<g id=\"edge8\" class=\"edge\">\n",
       "<title>Aggddgd&#45;&gt;Aggddgdd</title>\n",
       "<path fill=\"none\" stroke=\"#000000\" d=\"M563.2743,-615.9073C601.4304,-610.2134 664.1913,-598.8992 682,-584 688.826,-578.2892 693.6038,-570.0464 696.9178,-561.8953\"/>\n",
       "<polygon fill=\"#000000\" stroke=\"#000000\" points=\"700.3187,-562.7693 700.2735,-552.1746 693.7019,-560.4851 700.3187,-562.7693\"/>\n",
       "<text text-anchor=\"middle\" x=\"764.0288\" y=\"-572.8\" font-family=\"Times,serif\" font-size=\"14.00\" fill=\"#000000\">&gt;&#45;0.37394862021370234</text>\n",
       "</g>\n",
       "<!-- Agdg -->\n",
       "<g id=\"node21\" class=\"node\">\n",
       "<title>Agdg</title>\n",
       "<ellipse fill=\"none\" stroke=\"#000000\" cx=\"722\" cy=\"-878\" rx=\"30.961\" ry=\"18\"/>\n",
       "<text text-anchor=\"middle\" x=\"722\" y=\"-873.8\" font-family=\"Times,serif\" font-size=\"14.00\" fill=\"#000000\">attr: 1</text>\n",
       "</g>\n",
       "<!-- Agd&#45;&gt;Agdg -->\n",
       "<g id=\"edge19\" class=\"edge\">\n",
       "<title>Agd&#45;&gt;Agdg</title>\n",
       "<path fill=\"none\" stroke=\"#000000\" d=\"M774.7834,-959.0627C756.5256,-954.3678 734.6137,-945.3159 723.0469,-928 718.8029,-921.6465 717.3529,-913.7529 717.2776,-906.1287\"/>\n",
       "<polygon fill=\"#000000\" stroke=\"#000000\" points=\"720.7757,-906.2642 717.8936,-896.069 713.7888,-905.8363 720.7757,-906.2642\"/>\n",
       "<text text-anchor=\"middle\" x=\"795.4766\" y=\"-916.8\" font-family=\"Times,serif\" font-size=\"14.00\" fill=\"#000000\">&lt;=&#45;1.0096491460820947</text>\n",
       "</g>\n",
       "<!-- Agdd -->\n",
       "<g id=\"node24\" class=\"node\">\n",
       "<title>Agdd</title>\n",
       "<polygon fill=\"none\" stroke=\"#000000\" points=\"915,-896 861,-896 861,-860 915,-860 915,-896\"/>\n",
       "<text text-anchor=\"middle\" x=\"888\" y=\"-873.8\" font-family=\"Times,serif\" font-size=\"14.00\" fill=\"#000000\">&#45;1</text>\n",
       "</g>\n",
       "<!-- Agd&#45;&gt;Agdd -->\n",
       "<g id=\"edge20\" class=\"edge\">\n",
       "<title>Agd&#45;&gt;Agdd</title>\n",
       "<path fill=\"none\" stroke=\"#000000\" d=\"M830.364,-953.5064C842.4203,-947.491 856.2843,-938.9427 866,-928 871.6669,-921.6174 876.0684,-913.5428 879.3938,-905.7547\"/>\n",
       "<polygon fill=\"#000000\" stroke=\"#000000\" points=\"882.7477,-906.7826 883.0447,-896.1919 876.2081,-904.2858 882.7477,-906.7826\"/>\n",
       "<text text-anchor=\"middle\" x=\"943.5288\" y=\"-916.8\" font-family=\"Times,serif\" font-size=\"14.00\" fill=\"#000000\">&gt;&#45;1.0096491460820947</text>\n",
       "</g>\n",
       "<!-- Agdgg -->\n",
       "<g id=\"node22\" class=\"node\">\n",
       "<title>Agdgg</title>\n",
       "<polygon fill=\"none\" stroke=\"#000000\" points=\"669,-810 615,-810 615,-774 669,-774 669,-810\"/>\n",
       "<text text-anchor=\"middle\" x=\"642\" y=\"-787.8\" font-family=\"Times,serif\" font-size=\"14.00\" fill=\"#000000\">1</text>\n",
       "</g>\n",
       "<!-- Agdg&#45;&gt;Agdgg -->\n",
       "<g id=\"edge17\" class=\"edge\">\n",
       "<title>Agdg&#45;&gt;Agdgg</title>\n",
       "<path fill=\"none\" stroke=\"#000000\" d=\"M691.5953,-873.3863C672.9126,-868.8117 650.3888,-859.7723 638.709,-842 634.5046,-835.6025 633.5796,-827.695 634.1762,-820.0717\"/>\n",
       "<polygon fill=\"#000000\" stroke=\"#000000\" points=\"637.6606,-820.4453 635.7679,-810.0209 630.7468,-819.3503 637.6606,-820.4453\"/>\n",
       "<text text-anchor=\"middle\" x=\"704.6455\" y=\"-830.8\" font-family=\"Times,serif\" font-size=\"14.00\" fill=\"#000000\">&lt;=2.000859124396616</text>\n",
       "</g>\n",
       "<!-- Agdgd -->\n",
       "<g id=\"node23\" class=\"node\">\n",
       "<title>Agdgd</title>\n",
       "<polygon fill=\"none\" stroke=\"#000000\" points=\"823,-810 769,-810 769,-774 823,-774 823,-810\"/>\n",
       "<text text-anchor=\"middle\" x=\"796\" y=\"-787.8\" font-family=\"Times,serif\" font-size=\"14.00\" fill=\"#000000\">&#45;1</text>\n",
       "</g>\n",
       "<!-- Agdg&#45;&gt;Agdgd -->\n",
       "<g id=\"edge18\" class=\"edge\">\n",
       "<title>Agdg&#45;&gt;Agdgd</title>\n",
       "<path fill=\"none\" stroke=\"#000000\" d=\"M745.1574,-865.8089C755.0462,-859.706 766.1033,-851.5702 774,-842 779.3474,-835.5194 783.6284,-827.5361 786.9408,-819.8662\"/>\n",
       "<polygon fill=\"#000000\" stroke=\"#000000\" points=\"790.2386,-821.0433 790.6257,-810.4555 783.7205,-818.491 790.2386,-821.0433\"/>\n",
       "<text text-anchor=\"middle\" x=\"844.6978\" y=\"-830.8\" font-family=\"Times,serif\" font-size=\"14.00\" fill=\"#000000\">&gt;2.000859124396616</text>\n",
       "</g>\n",
       "<!-- Adg -->\n",
       "<g id=\"node26\" class=\"node\">\n",
       "<title>Adg</title>\n",
       "<ellipse fill=\"none\" stroke=\"#000000\" cx=\"1256\" cy=\"-964\" rx=\"30.961\" ry=\"18\"/>\n",
       "<text text-anchor=\"middle\" x=\"1256\" y=\"-959.8\" font-family=\"Times,serif\" font-size=\"14.00\" fill=\"#000000\">attr: 0</text>\n",
       "</g>\n",
       "<!-- Ad&#45;&gt;Adg -->\n",
       "<g id=\"edge67\" class=\"edge\">\n",
       "<title>Ad&#45;&gt;Adg</title>\n",
       "<path fill=\"none\" stroke=\"#000000\" d=\"M1256,-1031.7616C1256,-1020.3597 1256,-1005.4342 1256,-992.494\"/>\n",
       "<polygon fill=\"#000000\" stroke=\"#000000\" points=\"1259.5001,-992.2121 1256,-982.2121 1252.5001,-992.2121 1259.5001,-992.2121\"/>\n",
       "<text text-anchor=\"middle\" x=\"1328.3892\" y=\"-1002.8\" font-family=\"Times,serif\" font-size=\"14.00\" fill=\"#000000\">&lt;=0.23711685696492557</text>\n",
       "</g>\n",
       "<!-- Add -->\n",
       "<g id=\"node67\" class=\"node\">\n",
       "<title>Add</title>\n",
       "<ellipse fill=\"none\" stroke=\"#000000\" cx=\"1680\" cy=\"-964\" rx=\"30.961\" ry=\"18\"/>\n",
       "<text text-anchor=\"middle\" x=\"1680\" y=\"-959.8\" font-family=\"Times,serif\" font-size=\"14.00\" fill=\"#000000\">attr: 1</text>\n",
       "</g>\n",
       "<!-- Ad&#45;&gt;Add -->\n",
       "<g id=\"edge68\" class=\"edge\">\n",
       "<title>Ad&#45;&gt;Add</title>\n",
       "<path fill=\"none\" stroke=\"#000000\" d=\"M1285.4782,-1044.0209C1360.1145,-1028.8824 1556.588,-989.0317 1640.7846,-971.9541\"/>\n",
       "<polygon fill=\"#000000\" stroke=\"#000000\" points=\"1641.6123,-975.3575 1650.7169,-969.9395 1640.2207,-968.4972 1641.6123,-975.3575\"/>\n",
       "<text text-anchor=\"middle\" x=\"1562.4414\" y=\"-1002.8\" font-family=\"Times,serif\" font-size=\"14.00\" fill=\"#000000\">&gt;0.23711685696492557</text>\n",
       "</g>\n",
       "<!-- Adgg -->\n",
       "<g id=\"node27\" class=\"node\">\n",
       "<title>Adgg</title>\n",
       "<ellipse fill=\"none\" stroke=\"#000000\" cx=\"1159\" cy=\"-878\" rx=\"30.961\" ry=\"18\"/>\n",
       "<text text-anchor=\"middle\" x=\"1159\" y=\"-873.8\" font-family=\"Times,serif\" font-size=\"14.00\" fill=\"#000000\">attr: 1</text>\n",
       "</g>\n",
       "<!-- Adg&#45;&gt;Adgg -->\n",
       "<g id=\"edge61\" class=\"edge\">\n",
       "<title>Adg&#45;&gt;Adgg</title>\n",
       "<path fill=\"none\" stroke=\"#000000\" d=\"M1228.5557,-955.5535C1213.4878,-949.7782 1195.3515,-940.8182 1182.709,-928 1176.4741,-921.6784 1171.6509,-913.4045 1168.0327,-905.4117\"/>\n",
       "<polygon fill=\"#000000\" stroke=\"#000000\" points=\"1171.1999,-903.9079 1164.2031,-895.952 1164.7114,-906.5346 1171.1999,-903.9079\"/>\n",
       "<text text-anchor=\"middle\" x=\"1252.1455\" y=\"-916.8\" font-family=\"Times,serif\" font-size=\"14.00\" fill=\"#000000\">&lt;=0.7767724580036581</text>\n",
       "</g>\n",
       "<!-- Adgd -->\n",
       "<g id=\"node54\" class=\"node\">\n",
       "<title>Adgd</title>\n",
       "<ellipse fill=\"none\" stroke=\"#000000\" cx=\"1366\" cy=\"-878\" rx=\"30.961\" ry=\"18\"/>\n",
       "<text text-anchor=\"middle\" x=\"1366\" y=\"-873.8\" font-family=\"Times,serif\" font-size=\"14.00\" fill=\"#000000\">attr: 0</text>\n",
       "</g>\n",
       "<!-- Adg&#45;&gt;Adgd -->\n",
       "<g id=\"edge62\" class=\"edge\">\n",
       "<title>Adg&#45;&gt;Adgd</title>\n",
       "<path fill=\"none\" stroke=\"#000000\" d=\"M1280.6592,-952.7874C1293.3431,-946.4315 1308.6828,-937.7963 1321,-928 1330.3772,-920.542 1339.4658,-911.0314 1346.9909,-902.3112\"/>\n",
       "<polygon fill=\"#000000\" stroke=\"#000000\" points=\"1349.7018,-904.5254 1353.4257,-894.6066 1344.3291,-900.0382 1349.7018,-904.5254\"/>\n",
       "<text text-anchor=\"middle\" x=\"1401.1978\" y=\"-916.8\" font-family=\"Times,serif\" font-size=\"14.00\" fill=\"#000000\">&gt;0.7767724580036581</text>\n",
       "</g>\n",
       "<!-- Adggg -->\n",
       "<g id=\"node28\" class=\"node\">\n",
       "<title>Adggg</title>\n",
       "<ellipse fill=\"none\" stroke=\"#000000\" cx=\"872\" cy=\"-792\" rx=\"30.961\" ry=\"18\"/>\n",
       "<text text-anchor=\"middle\" x=\"872\" y=\"-787.8\" font-family=\"Times,serif\" font-size=\"14.00\" fill=\"#000000\">attr: 0</text>\n",
       "</g>\n",
       "<!-- Adgg&#45;&gt;Adggg -->\n",
       "<g id=\"edge47\" class=\"edge\">\n",
       "<title>Adgg&#45;&gt;Adggg</title>\n",
       "<path fill=\"none\" stroke=\"#000000\" d=\"M1129.113,-872.9627C1096.0704,-867.0364 1041.4612,-856.1803 995.709,-842 964.6503,-832.3738 930.4589,-818.2717 905.9077,-807.4961\"/>\n",
       "<polygon fill=\"#000000\" stroke=\"#000000\" points=\"907.2305,-804.2541 896.6702,-803.3991 904.3924,-810.6529 907.2305,-804.2541\"/>\n",
       "<text text-anchor=\"middle\" x=\"1075.6455\" y=\"-830.8\" font-family=\"Times,serif\" font-size=\"14.00\" fill=\"#000000\">&lt;=0.0033100715179953943</text>\n",
       "</g>\n",
       "<!-- Adggd -->\n",
       "<g id=\"node51\" class=\"node\">\n",
       "<title>Adggd</title>\n",
       "<ellipse fill=\"none\" stroke=\"#000000\" cx=\"1159\" cy=\"-792\" rx=\"30.961\" ry=\"18\"/>\n",
       "<text text-anchor=\"middle\" x=\"1159\" y=\"-787.8\" font-family=\"Times,serif\" font-size=\"14.00\" fill=\"#000000\">attr: 1</text>\n",
       "</g>\n",
       "<!-- Adgg&#45;&gt;Adggd -->\n",
       "<g id=\"edge48\" class=\"edge\">\n",
       "<title>Adgg&#45;&gt;Adggd</title>\n",
       "<path fill=\"none\" stroke=\"#000000\" d=\"M1159,-859.7616C1159,-848.3597 1159,-833.4342 1159,-820.494\"/>\n",
       "<polygon fill=\"#000000\" stroke=\"#000000\" points=\"1162.5001,-820.2121 1159,-810.2121 1155.5001,-820.2121 1162.5001,-820.2121\"/>\n",
       "<text text-anchor=\"middle\" x=\"1234.6978\" y=\"-830.8\" font-family=\"Times,serif\" font-size=\"14.00\" fill=\"#000000\">&gt;0.0033100715179953943</text>\n",
       "</g>\n",
       "<!-- Adgggg -->\n",
       "<g id=\"node29\" class=\"node\">\n",
       "<title>Adgggg</title>\n",
       "<polygon fill=\"none\" stroke=\"#000000\" points=\"718,-724 664,-724 664,-688 718,-688 718,-724\"/>\n",
       "<text text-anchor=\"middle\" x=\"691\" y=\"-701.8\" font-family=\"Times,serif\" font-size=\"14.00\" fill=\"#000000\">&#45;1</text>\n",
       "</g>\n",
       "<!-- Adggg&#45;&gt;Adgggg -->\n",
       "<g id=\"edge43\" class=\"edge\">\n",
       "<title>Adggg&#45;&gt;Adgggg</title>\n",
       "<path fill=\"none\" stroke=\"#000000\" d=\"M848.2953,-780.0425C843.0323,-777.7545 837.4084,-775.5827 832,-774 779.4168,-758.6117 752.763,-790.3093 710.0469,-756 703.2505,-750.5412 698.8774,-742.3656 696.0643,-734.1986\"/>\n",
       "<polygon fill=\"#000000\" stroke=\"#000000\" points=\"699.3978,-733.1221 693.3485,-724.4241 692.6533,-734.9961 699.3978,-733.1221\"/>\n",
       "<text text-anchor=\"middle\" x=\"785.9766\" y=\"-744.8\" font-family=\"Times,serif\" font-size=\"14.00\" fill=\"#000000\">&lt;=&#45;0.17614759642271333</text>\n",
       "</g>\n",
       "<!-- Adgggd -->\n",
       "<g id=\"node30\" class=\"node\">\n",
       "<title>Adgggd</title>\n",
       "<ellipse fill=\"none\" stroke=\"#000000\" cx=\"864\" cy=\"-706\" rx=\"30.961\" ry=\"18\"/>\n",
       "<text text-anchor=\"middle\" x=\"864\" y=\"-701.8\" font-family=\"Times,serif\" font-size=\"14.00\" fill=\"#000000\">attr: 1</text>\n",
       "</g>\n",
       "<!-- Adggg&#45;&gt;Adgggd -->\n",
       "<g id=\"edge44\" class=\"edge\">\n",
       "<title>Adggg&#45;&gt;Adgggd</title>\n",
       "<path fill=\"none\" stroke=\"#000000\" d=\"M867.8608,-774.1486C866.6972,-768.3881 865.5771,-761.9531 864.9424,-756 864.1967,-749.0058 863.8286,-741.4309 863.6737,-734.3433\"/>\n",
       "<polygon fill=\"#000000\" stroke=\"#000000\" points=\"867.1715,-734.0672 863.5813,-724.0993 860.1718,-734.1305 867.1715,-734.0672\"/>\n",
       "<text text-anchor=\"middle\" x=\"936.0288\" y=\"-744.8\" font-family=\"Times,serif\" font-size=\"14.00\" fill=\"#000000\">&gt;&#45;0.17614759642271333</text>\n",
       "</g>\n",
       "<!-- Adgggdg -->\n",
       "<g id=\"node31\" class=\"node\">\n",
       "<title>Adgggdg</title>\n",
       "<polygon fill=\"none\" stroke=\"#000000\" points=\"816,-638 762,-638 762,-602 816,-602 816,-638\"/>\n",
       "<text text-anchor=\"middle\" x=\"789\" y=\"-615.8\" font-family=\"Times,serif\" font-size=\"14.00\" fill=\"#000000\">1</text>\n",
       "</g>\n",
       "<!-- Adgggd&#45;&gt;Adgggdg -->\n",
       "<g id=\"edge41\" class=\"edge\">\n",
       "<title>Adgggd&#45;&gt;Adgggdg</title>\n",
       "<path fill=\"none\" stroke=\"#000000\" d=\"M834.7885,-699.6659C818.6779,-694.5347 799.9771,-685.5147 790.0469,-670 786.0384,-663.7373 784.5947,-656.0691 784.4484,-648.6367\"/>\n",
       "<polygon fill=\"#000000\" stroke=\"#000000\" points=\"787.9535,-648.6246 784.9732,-638.4576 780.9628,-648.2641 787.9535,-648.6246\"/>\n",
       "<text text-anchor=\"middle\" x=\"858.9766\" y=\"-658.8\" font-family=\"Times,serif\" font-size=\"14.00\" fill=\"#000000\">&lt;=&#45;1.637710793775493</text>\n",
       "</g>\n",
       "<!-- Adgggdd -->\n",
       "<g id=\"node32\" class=\"node\">\n",
       "<title>Adgggdd</title>\n",
       "<ellipse fill=\"none\" stroke=\"#000000\" cx=\"948\" cy=\"-620\" rx=\"30.961\" ry=\"18\"/>\n",
       "<text text-anchor=\"middle\" x=\"948\" y=\"-615.8\" font-family=\"Times,serif\" font-size=\"14.00\" fill=\"#000000\">attr: 1</text>\n",
       "</g>\n",
       "<!-- Adgggd&#45;&gt;Adgggdd -->\n",
       "<g id=\"edge42\" class=\"edge\">\n",
       "<title>Adgggd&#45;&gt;Adgggdd</title>\n",
       "<path fill=\"none\" stroke=\"#000000\" d=\"M889.4727,-695.7415C901.7984,-689.7399 916.0437,-681.1339 926,-670 931.6895,-663.6375 936.0977,-655.5689 939.4223,-647.78\"/>\n",
       "<polygon fill=\"#000000\" stroke=\"#000000\" points=\"942.7775,-648.8042 943.0688,-638.2134 936.2366,-646.311 942.7775,-648.8042\"/>\n",
       "<text text-anchor=\"middle\" x=\"1000.0288\" y=\"-658.8\" font-family=\"Times,serif\" font-size=\"14.00\" fill=\"#000000\">&gt;&#45;1.637710793775493</text>\n",
       "</g>\n",
       "<!-- Adgggddg -->\n",
       "<g id=\"node33\" class=\"node\">\n",
       "<title>Adgggddg</title>\n",
       "<ellipse fill=\"none\" stroke=\"#000000\" cx=\"873\" cy=\"-534\" rx=\"30.961\" ry=\"18\"/>\n",
       "<text text-anchor=\"middle\" x=\"873\" y=\"-529.8\" font-family=\"Times,serif\" font-size=\"14.00\" fill=\"#000000\">attr: 1</text>\n",
       "</g>\n",
       "<!-- Adgggdd&#45;&gt;Adgggddg -->\n",
       "<g id=\"edge39\" class=\"edge\">\n",
       "<title>Adgggdd&#45;&gt;Adgggddg</title>\n",
       "<path fill=\"none\" stroke=\"#000000\" d=\"M918.7885,-613.6659C902.6779,-608.5347 883.9771,-599.5147 874.0469,-584 869.928,-577.5647 868.5171,-569.6455 868.4392,-562.023\"/>\n",
       "<polygon fill=\"#000000\" stroke=\"#000000\" points=\"871.9366,-562.168 869.0301,-551.9797 864.9487,-561.7569 871.9366,-562.168\"/>\n",
       "<text text-anchor=\"middle\" x=\"942.9766\" y=\"-572.8\" font-family=\"Times,serif\" font-size=\"14.00\" fill=\"#000000\">&lt;=&#45;1.012695360630177</text>\n",
       "</g>\n",
       "<!-- Adgggddd -->\n",
       "<g id=\"node38\" class=\"node\">\n",
       "<title>Adgggddd</title>\n",
       "<ellipse fill=\"none\" stroke=\"#000000\" cx=\"1032\" cy=\"-534\" rx=\"30.961\" ry=\"18\"/>\n",
       "<text text-anchor=\"middle\" x=\"1032\" y=\"-529.8\" font-family=\"Times,serif\" font-size=\"14.00\" fill=\"#000000\">attr: 1</text>\n",
       "</g>\n",
       "<!-- Adgggdd&#45;&gt;Adgggddd -->\n",
       "<g id=\"edge40\" class=\"edge\">\n",
       "<title>Adgggdd&#45;&gt;Adgggddd</title>\n",
       "<path fill=\"none\" stroke=\"#000000\" d=\"M973.4727,-609.7415C985.7984,-603.7399 1000.0437,-595.1339 1010,-584 1015.6895,-577.6375 1020.0977,-569.5689 1023.4223,-561.78\"/>\n",
       "<polygon fill=\"#000000\" stroke=\"#000000\" points=\"1026.7775,-562.8042 1027.0688,-552.2134 1020.2366,-560.311 1026.7775,-562.8042\"/>\n",
       "<text text-anchor=\"middle\" x=\"1084.0288\" y=\"-572.8\" font-family=\"Times,serif\" font-size=\"14.00\" fill=\"#000000\">&gt;&#45;1.012695360630177</text>\n",
       "</g>\n",
       "<!-- Adgggddgg -->\n",
       "<g id=\"node34\" class=\"node\">\n",
       "<title>Adgggddgg</title>\n",
       "<ellipse fill=\"none\" stroke=\"#000000\" cx=\"718\" cy=\"-448\" rx=\"30.961\" ry=\"18\"/>\n",
       "<text text-anchor=\"middle\" x=\"718\" y=\"-443.8\" font-family=\"Times,serif\" font-size=\"14.00\" fill=\"#000000\">attr: 1</text>\n",
       "</g>\n",
       "<!-- Adgggddg&#45;&gt;Adgggddgg -->\n",
       "<g id=\"edge25\" class=\"edge\">\n",
       "<title>Adgggddg&#45;&gt;Adgggddgg</title>\n",
       "<path fill=\"none\" stroke=\"#000000\" d=\"M842.9137,-529.545C807.2239,-523.6947 750.5952,-512.4483 735.0469,-498 728.8114,-492.2057 724.8566,-484.0408 722.3484,-475.9857\"/>\n",
       "<polygon fill=\"#000000\" stroke=\"#000000\" points=\"725.6837,-474.8934 719.8821,-466.0282 718.889,-476.5764 725.6837,-474.8934\"/>\n",
       "<text text-anchor=\"middle\" x=\"803.9766\" y=\"-486.8\" font-family=\"Times,serif\" font-size=\"14.00\" fill=\"#000000\">&lt;=&#45;1.228539144824847</text>\n",
       "</g>\n",
       "<!-- Adgggddgd -->\n",
       "<g id=\"node37\" class=\"node\">\n",
       "<title>Adgggddgd</title>\n",
       "<polygon fill=\"none\" stroke=\"#000000\" points=\"904,-466 850,-466 850,-430 904,-430 904,-466\"/>\n",
       "<text text-anchor=\"middle\" x=\"877\" y=\"-443.8\" font-family=\"Times,serif\" font-size=\"14.00\" fill=\"#000000\">&#45;1</text>\n",
       "</g>\n",
       "<!-- Adgggddg&#45;&gt;Adgggddgd -->\n",
       "<g id=\"edge26\" class=\"edge\">\n",
       "<title>Adgggddg&#45;&gt;Adgggddgd</title>\n",
       "<path fill=\"none\" stroke=\"#000000\" d=\"M873.8483,-515.7616C874.3786,-504.3597 875.0728,-489.4342 875.6747,-476.494\"/>\n",
       "<polygon fill=\"#000000\" stroke=\"#000000\" points=\"879.1844,-476.3639 876.1529,-466.2121 872.192,-476.0387 879.1844,-476.3639\"/>\n",
       "<text text-anchor=\"middle\" x=\"940.0288\" y=\"-486.8\" font-family=\"Times,serif\" font-size=\"14.00\" fill=\"#000000\">&gt;&#45;1.228539144824847</text>\n",
       "</g>\n",
       "<!-- Adgggddggg -->\n",
       "<g id=\"node35\" class=\"node\">\n",
       "<title>Adgggddggg</title>\n",
       "<polygon fill=\"none\" stroke=\"#000000\" points=\"666,-380 612,-380 612,-344 666,-344 666,-380\"/>\n",
       "<text text-anchor=\"middle\" x=\"639\" y=\"-357.8\" font-family=\"Times,serif\" font-size=\"14.00\" fill=\"#000000\">&#45;1</text>\n",
       "</g>\n",
       "<!-- Adgggddgg&#45;&gt;Adgggddggg -->\n",
       "<g id=\"edge23\" class=\"edge\">\n",
       "<title>Adgggddgg&#45;&gt;Adgggddggg</title>\n",
       "<path fill=\"none\" stroke=\"#000000\" d=\"M688.1986,-442.5197C670.8485,-437.6418 650.3302,-428.5889 639.5596,-412 635.3995,-405.5927 634.0334,-397.6822 634.0319,-390.0591\"/>\n",
       "<polygon fill=\"#000000\" stroke=\"#000000\" points=\"637.5283,-390.2319 634.7415,-380.0102 630.5457,-389.7388 637.5283,-390.2319\"/>\n",
       "<text text-anchor=\"middle\" x=\"707.7202\" y=\"-400.8\" font-family=\"Times,serif\" font-size=\"14.00\" fill=\"#000000\">&lt;=&#45;1.494472160061145</text>\n",
       "</g>\n",
       "<!-- Adgggddggd -->\n",
       "<g id=\"node36\" class=\"node\">\n",
       "<title>Adgggddggd</title>\n",
       "<polygon fill=\"none\" stroke=\"#000000\" points=\"824,-380 770,-380 770,-344 824,-344 824,-380\"/>\n",
       "<text text-anchor=\"middle\" x=\"797\" y=\"-357.8\" font-family=\"Times,serif\" font-size=\"14.00\" fill=\"#000000\">1</text>\n",
       "</g>\n",
       "<!-- Adgggddgg&#45;&gt;Adgggddggd -->\n",
       "<g id=\"edge24\" class=\"edge\">\n",
       "<title>Adgggddgg&#45;&gt;Adgggddggd</title>\n",
       "<path fill=\"none\" stroke=\"#000000\" d=\"M742.5466,-436.7062C753.6058,-430.6435 766.1399,-422.2874 775,-412 780.57,-405.5327 784.9428,-397.4329 788.2716,-389.6478\"/>\n",
       "<polygon fill=\"#000000\" stroke=\"#000000\" points=\"791.62,-390.6915 791.9414,-380.1015 785.0862,-388.1797 791.62,-390.6915\"/>\n",
       "<text text-anchor=\"middle\" x=\"848.7725\" y=\"-400.8\" font-family=\"Times,serif\" font-size=\"14.00\" fill=\"#000000\">&gt;&#45;1.494472160061145</text>\n",
       "</g>\n",
       "<!-- Adgggdddg -->\n",
       "<g id=\"node39\" class=\"node\">\n",
       "<title>Adgggdddg</title>\n",
       "<polygon fill=\"none\" stroke=\"#000000\" points=\"1057,-466 1003,-466 1003,-430 1057,-430 1057,-466\"/>\n",
       "<text text-anchor=\"middle\" x=\"1030\" y=\"-443.8\" font-family=\"Times,serif\" font-size=\"14.00\" fill=\"#000000\">1</text>\n",
       "</g>\n",
       "<!-- Adgggddd&#45;&gt;Adgggdddg -->\n",
       "<g id=\"edge37\" class=\"edge\">\n",
       "<title>Adgggddd&#45;&gt;Adgggdddg</title>\n",
       "<path fill=\"none\" stroke=\"#000000\" d=\"M1031.4955,-515.6864C1031.3446,-510.0171 1031.1832,-503.7504 1031.0469,-498 1030.8802,-490.9678 1030.7141,-483.379 1030.565,-476.2901\"/>\n",
       "<polygon fill=\"#000000\" stroke=\"#000000\" points=\"1034.0594,-475.9779 1030.3539,-466.0523 1027.0609,-476.1224 1034.0594,-475.9779\"/>\n",
       "<text text-anchor=\"middle\" x=\"1103.4766\" y=\"-486.8\" font-family=\"Times,serif\" font-size=\"14.00\" fill=\"#000000\">&lt;=&#45;0.7047551616628026</text>\n",
       "</g>\n",
       "<!-- Adgggdddd -->\n",
       "<g id=\"node40\" class=\"node\">\n",
       "<title>Adgggdddd</title>\n",
       "<ellipse fill=\"none\" stroke=\"#000000\" cx=\"1196\" cy=\"-448\" rx=\"30.961\" ry=\"18\"/>\n",
       "<text text-anchor=\"middle\" x=\"1196\" y=\"-443.8\" font-family=\"Times,serif\" font-size=\"14.00\" fill=\"#000000\">attr: 1</text>\n",
       "</g>\n",
       "<!-- Adgggddd&#45;&gt;Adgggdddd -->\n",
       "<g id=\"edge38\" class=\"edge\">\n",
       "<title>Adgggddd&#45;&gt;Adgggdddd</title>\n",
       "<path fill=\"none\" stroke=\"#000000\" d=\"M1062.1219,-529.531C1098.6022,-523.5891 1157.2551,-512.1697 1174,-498 1180.7938,-492.251 1185.5631,-483.998 1188.8791,-475.8493\"/>\n",
       "<polygon fill=\"#000000\" stroke=\"#000000\" points=\"1192.2774,-476.7315 1192.2416,-466.1368 1185.6626,-474.4414 1192.2774,-476.7315\"/>\n",
       "<text text-anchor=\"middle\" x=\"1252.5288\" y=\"-486.8\" font-family=\"Times,serif\" font-size=\"14.00\" fill=\"#000000\">&gt;&#45;0.7047551616628026</text>\n",
       "</g>\n",
       "<!-- Adgggddddg -->\n",
       "<g id=\"node41\" class=\"node\">\n",
       "<title>Adgggddddg</title>\n",
       "<polygon fill=\"none\" stroke=\"#000000\" points=\"1140,-380 1086,-380 1086,-344 1140,-344 1140,-380\"/>\n",
       "<text text-anchor=\"middle\" x=\"1113\" y=\"-357.8\" font-family=\"Times,serif\" font-size=\"14.00\" fill=\"#000000\">&#45;1</text>\n",
       "</g>\n",
       "<!-- Adgggdddd&#45;&gt;Adgggddddg -->\n",
       "<g id=\"edge35\" class=\"edge\">\n",
       "<title>Adgggdddd&#45;&gt;Adgggddddg</title>\n",
       "<path fill=\"none\" stroke=\"#000000\" d=\"M1165.7834,-443.0627C1147.5256,-438.3678 1125.6137,-429.3159 1114.0469,-412 1109.8029,-405.6465 1108.3529,-397.7529 1108.2776,-390.1287\"/>\n",
       "<polygon fill=\"#000000\" stroke=\"#000000\" points=\"1111.7757,-390.2642 1108.8936,-380.069 1104.7888,-389.8363 1111.7757,-390.2642\"/>\n",
       "<text text-anchor=\"middle\" x=\"1186.4766\" y=\"-400.8\" font-family=\"Times,serif\" font-size=\"14.00\" fill=\"#000000\">&lt;=&#45;0.6847770212556147</text>\n",
       "</g>\n",
       "<!-- Adgggddddd -->\n",
       "<g id=\"node42\" class=\"node\">\n",
       "<title>Adgggddddd</title>\n",
       "<ellipse fill=\"none\" stroke=\"#000000\" cx=\"1279\" cy=\"-362\" rx=\"30.961\" ry=\"18\"/>\n",
       "<text text-anchor=\"middle\" x=\"1279\" y=\"-357.8\" font-family=\"Times,serif\" font-size=\"14.00\" fill=\"#000000\">attr: 1</text>\n",
       "</g>\n",
       "<!-- Adgggdddd&#45;&gt;Adgggddddd -->\n",
       "<g id=\"edge36\" class=\"edge\">\n",
       "<title>Adgggdddd&#45;&gt;Adgggddddd</title>\n",
       "<path fill=\"none\" stroke=\"#000000\" d=\"M1221.364,-437.5064C1233.4203,-431.491 1247.2843,-422.9427 1257,-412 1262.6669,-405.6174 1267.0684,-397.5428 1270.3938,-389.7547\"/>\n",
       "<polygon fill=\"#000000\" stroke=\"#000000\" points=\"1273.7477,-390.7826 1274.0447,-380.1919 1267.2081,-388.2858 1273.7477,-390.7826\"/>\n",
       "<text text-anchor=\"middle\" x=\"1334.5288\" y=\"-400.8\" font-family=\"Times,serif\" font-size=\"14.00\" fill=\"#000000\">&gt;&#45;0.6847770212556147</text>\n",
       "</g>\n",
       "<!-- Adgggdddddg -->\n",
       "<g id=\"node43\" class=\"node\">\n",
       "<title>Adgggdddddg</title>\n",
       "<polygon fill=\"none\" stroke=\"#000000\" points=\"1227,-294 1173,-294 1173,-258 1227,-258 1227,-294\"/>\n",
       "<text text-anchor=\"middle\" x=\"1200\" y=\"-271.8\" font-family=\"Times,serif\" font-size=\"14.00\" fill=\"#000000\">1</text>\n",
       "</g>\n",
       "<!-- Adgggddddd&#45;&gt;Adgggdddddg -->\n",
       "<g id=\"edge33\" class=\"edge\">\n",
       "<title>Adgggddddd&#45;&gt;Adgggdddddg</title>\n",
       "<path fill=\"none\" stroke=\"#000000\" d=\"M1249.447,-356.4273C1232.2305,-351.5147 1211.8487,-342.4577 1201.0723,-326 1196.8867,-319.6078 1195.452,-311.702 1195.3715,-304.0786\"/>\n",
       "<polygon fill=\"#000000\" stroke=\"#000000\" points=\"1198.8694,-304.2171 1195.97,-294.0267 1191.8818,-303.8009 1198.8694,-304.2171\"/>\n",
       "<text text-anchor=\"middle\" x=\"1269.4639\" y=\"-314.8\" font-family=\"Times,serif\" font-size=\"14.00\" fill=\"#000000\">&lt;=&#45;0.241112018860638</text>\n",
       "</g>\n",
       "<!-- Adgggdddddd -->\n",
       "<g id=\"node44\" class=\"node\">\n",
       "<title>Adgggdddddd</title>\n",
       "<ellipse fill=\"none\" stroke=\"#000000\" cx=\"1358\" cy=\"-276\" rx=\"30.961\" ry=\"18\"/>\n",
       "<text text-anchor=\"middle\" x=\"1358\" y=\"-271.8\" font-family=\"Times,serif\" font-size=\"14.00\" fill=\"#000000\">attr: 0</text>\n",
       "</g>\n",
       "<!-- Adgggddddd&#45;&gt;Adgggdddddd -->\n",
       "<g id=\"edge34\" class=\"edge\">\n",
       "<title>Adgggddddd&#45;&gt;Adgggdddddd</title>\n",
       "<path fill=\"none\" stroke=\"#000000\" d=\"M1303.5466,-350.7062C1314.6058,-344.6435 1327.1399,-336.2874 1336,-326 1341.57,-319.5327 1345.9428,-311.4329 1349.2716,-303.6478\"/>\n",
       "<polygon fill=\"#000000\" stroke=\"#000000\" points=\"1352.62,-304.6915 1352.9414,-294.1015 1346.0862,-302.1797 1352.62,-304.6915\"/>\n",
       "<text text-anchor=\"middle\" x=\"1409.5161\" y=\"-314.8\" font-family=\"Times,serif\" font-size=\"14.00\" fill=\"#000000\">&gt;&#45;0.241112018860638</text>\n",
       "</g>\n",
       "<!-- Adgggddddddg -->\n",
       "<g id=\"node45\" class=\"node\">\n",
       "<title>Adgggddddddg</title>\n",
       "<ellipse fill=\"none\" stroke=\"#000000\" cx=\"1274\" cy=\"-190\" rx=\"30.961\" ry=\"18\"/>\n",
       "<text text-anchor=\"middle\" x=\"1274\" y=\"-185.8\" font-family=\"Times,serif\" font-size=\"14.00\" fill=\"#000000\">attr: 0</text>\n",
       "</g>\n",
       "<!-- Adgggdddddd&#45;&gt;Adgggddddddg -->\n",
       "<g id=\"edge31\" class=\"edge\">\n",
       "<title>Adgggdddddd&#45;&gt;Adgggddddddg</title>\n",
       "<path fill=\"none\" stroke=\"#000000\" d=\"M1327.6795,-271.3305C1309.0314,-266.733 1286.5145,-257.6891 1274.709,-240 1270.4681,-233.6455 1269.059,-225.7516 1269.036,-218.1274\"/>\n",
       "<polygon fill=\"#000000\" stroke=\"#000000\" points=\"1272.5334,-218.2845 1269.7281,-208.0679 1265.5499,-217.804 1272.5334,-218.2845\"/>\n",
       "<text text-anchor=\"middle\" x=\"1347.6455\" y=\"-228.8\" font-family=\"Times,serif\" font-size=\"14.00\" fill=\"#000000\">&lt;=0.38790343455863674</text>\n",
       "</g>\n",
       "<!-- Adgggddddddd -->\n",
       "<g id=\"node50\" class=\"node\">\n",
       "<title>Adgggddddddd</title>\n",
       "<polygon fill=\"none\" stroke=\"#000000\" points=\"1469,-208 1415,-208 1415,-172 1469,-172 1469,-208\"/>\n",
       "<text text-anchor=\"middle\" x=\"1442\" y=\"-185.8\" font-family=\"Times,serif\" font-size=\"14.00\" fill=\"#000000\">1</text>\n",
       "</g>\n",
       "<!-- Adgggdddddd&#45;&gt;Adgggddddddd -->\n",
       "<g id=\"edge32\" class=\"edge\">\n",
       "<title>Adgggdddddd&#45;&gt;Adgggddddddd</title>\n",
       "<path fill=\"none\" stroke=\"#000000\" d=\"M1383.4727,-265.7415C1395.7984,-259.7399 1410.0437,-251.1339 1420,-240 1425.6895,-233.6375 1430.0977,-225.5689 1433.4223,-217.78\"/>\n",
       "<polygon fill=\"#000000\" stroke=\"#000000\" points=\"1436.7775,-218.8042 1437.0688,-208.2134 1430.2366,-216.311 1436.7775,-218.8042\"/>\n",
       "<text text-anchor=\"middle\" x=\"1498.6978\" y=\"-228.8\" font-family=\"Times,serif\" font-size=\"14.00\" fill=\"#000000\">&gt;0.38790343455863674</text>\n",
       "</g>\n",
       "<!-- Adgggddddddgg -->\n",
       "<g id=\"node46\" class=\"node\">\n",
       "<title>Adgggddddddgg</title>\n",
       "<polygon fill=\"none\" stroke=\"#000000\" points=\"1211,-122 1157,-122 1157,-86 1211,-86 1211,-122\"/>\n",
       "<text text-anchor=\"middle\" x=\"1184\" y=\"-99.8\" font-family=\"Times,serif\" font-size=\"14.00\" fill=\"#000000\">&#45;1</text>\n",
       "</g>\n",
       "<!-- Adgggddddddg&#45;&gt;Adgggddddddgg -->\n",
       "<g id=\"edge29\" class=\"edge\">\n",
       "<title>Adgggddddddg&#45;&gt;Adgggddddddgg</title>\n",
       "<path fill=\"none\" stroke=\"#000000\" d=\"M1243.4792,-186.2618C1223.2862,-182.0405 1198.191,-173.0656 1185.0469,-154 1180.7101,-147.7095 1179.2312,-139.8355 1179.1577,-132.21\"/>\n",
       "<polygon fill=\"#000000\" stroke=\"#000000\" points=\"1182.6565,-132.338 1179.7924,-122.1376 1175.6704,-131.8977 1182.6565,-132.338\"/>\n",
       "<text text-anchor=\"middle\" x=\"1264.4766\" y=\"-142.8\" font-family=\"Times,serif\" font-size=\"14.00\" fill=\"#000000\">&lt;=&#45;0.002655693725784669</text>\n",
       "</g>\n",
       "<!-- Adgggddddddgd -->\n",
       "<g id=\"node47\" class=\"node\">\n",
       "<title>Adgggddddddgd</title>\n",
       "<ellipse fill=\"none\" stroke=\"#000000\" cx=\"1364\" cy=\"-104\" rx=\"30.961\" ry=\"18\"/>\n",
       "<text text-anchor=\"middle\" x=\"1364\" y=\"-99.8\" font-family=\"Times,serif\" font-size=\"14.00\" fill=\"#000000\">attr: 0</text>\n",
       "</g>\n",
       "<!-- Adgggddddddg&#45;&gt;Adgggddddddgd -->\n",
       "<g id=\"edge30\" class=\"edge\">\n",
       "<title>Adgggddddddg&#45;&gt;Adgggddddddgd</title>\n",
       "<path fill=\"none\" stroke=\"#000000\" d=\"M1300.9303,-180.6876C1314.6752,-174.8113 1330.8101,-166.0307 1342,-154 1347.9694,-147.582 1352.4961,-139.2812 1355.8437,-131.2936\"/>\n",
       "<polygon fill=\"#000000\" stroke=\"#000000\" points=\"1359.1492,-132.4461 1359.36,-121.8534 1352.5895,-130.0027 1359.1492,-132.4461\"/>\n",
       "<text text-anchor=\"middle\" x=\"1426.5288\" y=\"-142.8\" font-family=\"Times,serif\" font-size=\"14.00\" fill=\"#000000\">&gt;&#45;0.002655693725784669</text>\n",
       "</g>\n",
       "<!-- Adgggddddddgdg -->\n",
       "<g id=\"node48\" class=\"node\">\n",
       "<title>Adgggddddddgdg</title>\n",
       "<polygon fill=\"none\" stroke=\"#000000\" points=\"1307,-36 1253,-36 1253,0 1307,0 1307,-36\"/>\n",
       "<text text-anchor=\"middle\" x=\"1280\" y=\"-13.8\" font-family=\"Times,serif\" font-size=\"14.00\" fill=\"#000000\">1</text>\n",
       "</g>\n",
       "<!-- Adgggddddddgd&#45;&gt;Adgggddddddgdg -->\n",
       "<g id=\"edge27\" class=\"edge\">\n",
       "<title>Adgggddddddgd&#45;&gt;Adgggddddddgdg</title>\n",
       "<path fill=\"none\" stroke=\"#000000\" d=\"M1333.6795,-99.3305C1315.0314,-94.733 1292.5145,-85.6891 1280.709,-68 1276.4681,-61.6455 1275.059,-53.7516 1275.036,-46.1274\"/>\n",
       "<polygon fill=\"#000000\" stroke=\"#000000\" points=\"1278.5334,-46.2845 1275.7281,-36.0679 1271.5499,-45.804 1278.5334,-46.2845\"/>\n",
       "<text text-anchor=\"middle\" x=\"1353.6455\" y=\"-56.8\" font-family=\"Times,serif\" font-size=\"14.00\" fill=\"#000000\">&lt;=0.18641606809014089</text>\n",
       "</g>\n",
       "<!-- Adgggddddddgdd -->\n",
       "<g id=\"node49\" class=\"node\">\n",
       "<title>Adgggddddddgdd</title>\n",
       "<polygon fill=\"none\" stroke=\"#000000\" points=\"1475,-36 1421,-36 1421,0 1475,0 1475,-36\"/>\n",
       "<text text-anchor=\"middle\" x=\"1448\" y=\"-13.8\" font-family=\"Times,serif\" font-size=\"14.00\" fill=\"#000000\">&#45;1</text>\n",
       "</g>\n",
       "<!-- Adgggddddddgd&#45;&gt;Adgggddddddgdd -->\n",
       "<g id=\"edge28\" class=\"edge\">\n",
       "<title>Adgggddddddgd&#45;&gt;Adgggddddddgdd</title>\n",
       "<path fill=\"none\" stroke=\"#000000\" d=\"M1389.4727,-93.7415C1401.7984,-87.7399 1416.0437,-79.1339 1426,-68 1431.6895,-61.6375 1436.0977,-53.5689 1439.4223,-45.78\"/>\n",
       "<polygon fill=\"#000000\" stroke=\"#000000\" points=\"1442.7775,-46.8042 1443.0688,-36.2134 1436.2366,-44.311 1442.7775,-46.8042\"/>\n",
       "<text text-anchor=\"middle\" x=\"1504.6978\" y=\"-56.8\" font-family=\"Times,serif\" font-size=\"14.00\" fill=\"#000000\">&gt;0.18641606809014089</text>\n",
       "</g>\n",
       "<!-- Adggdg -->\n",
       "<g id=\"node52\" class=\"node\">\n",
       "<title>Adggdg</title>\n",
       "<polygon fill=\"none\" stroke=\"#000000\" points=\"1056,-724 1002,-724 1002,-688 1056,-688 1056,-724\"/>\n",
       "<text text-anchor=\"middle\" x=\"1029\" y=\"-701.8\" font-family=\"Times,serif\" font-size=\"14.00\" fill=\"#000000\">&#45;1</text>\n",
       "</g>\n",
       "<!-- Adggd&#45;&gt;Adggdg -->\n",
       "<g id=\"edge45\" class=\"edge\">\n",
       "<title>Adggd&#45;&gt;Adggdg</title>\n",
       "<path fill=\"none\" stroke=\"#000000\" d=\"M1128.4847,-788.0646C1093.1323,-782.8059 1038.1325,-772.2241 1025.709,-756 1021.0547,-749.9219 1019.9891,-742.1143 1020.595,-734.4844\"/>\n",
       "<polygon fill=\"#000000\" stroke=\"#000000\" points=\"1024.0892,-734.8081 1022.2771,-724.3694 1017.184,-733.6597 1024.0892,-734.8081\"/>\n",
       "<text text-anchor=\"middle\" x=\"1098.6455\" y=\"-744.8\" font-family=\"Times,serif\" font-size=\"14.00\" fill=\"#000000\">&lt;=0.13755805884788008</text>\n",
       "</g>\n",
       "<!-- Adggdd -->\n",
       "<g id=\"node53\" class=\"node\">\n",
       "<title>Adggdd</title>\n",
       "<polygon fill=\"none\" stroke=\"#000000\" points=\"1224,-724 1170,-724 1170,-688 1224,-688 1224,-724\"/>\n",
       "<text text-anchor=\"middle\" x=\"1197\" y=\"-701.8\" font-family=\"Times,serif\" font-size=\"14.00\" fill=\"#000000\">1</text>\n",
       "</g>\n",
       "<!-- Adggd&#45;&gt;Adggdd -->\n",
       "<g id=\"edge46\" class=\"edge\">\n",
       "<title>Adggd&#45;&gt;Adggdd</title>\n",
       "<path fill=\"none\" stroke=\"#000000\" d=\"M1166.8256,-774.4277C1169.4306,-768.5687 1172.3445,-762.0049 1175,-756 1178.2171,-748.7252 1181.6877,-740.85 1184.9004,-733.5489\"/>\n",
       "<polygon fill=\"#000000\" stroke=\"#000000\" points=\"1188.252,-734.6218 1189.0734,-724.0589 1181.8441,-731.8041 1188.252,-734.6218\"/>\n",
       "<text text-anchor=\"middle\" x=\"1250.6978\" y=\"-744.8\" font-family=\"Times,serif\" font-size=\"14.00\" fill=\"#000000\">&gt;0.13755805884788008</text>\n",
       "</g>\n",
       "<!-- Adgdg -->\n",
       "<g id=\"node55\" class=\"node\">\n",
       "<title>Adgdg</title>\n",
       "<ellipse fill=\"none\" stroke=\"#000000\" cx=\"1366\" cy=\"-792\" rx=\"30.961\" ry=\"18\"/>\n",
       "<text text-anchor=\"middle\" x=\"1366\" y=\"-787.8\" font-family=\"Times,serif\" font-size=\"14.00\" fill=\"#000000\">attr: 0</text>\n",
       "</g>\n",
       "<!-- Adgd&#45;&gt;Adgdg -->\n",
       "<g id=\"edge59\" class=\"edge\">\n",
       "<title>Adgd&#45;&gt;Adgdg</title>\n",
       "<path fill=\"none\" stroke=\"#000000\" d=\"M1366,-859.7616C1366,-848.3597 1366,-833.4342 1366,-820.494\"/>\n",
       "<polygon fill=\"#000000\" stroke=\"#000000\" points=\"1369.5001,-820.2121 1366,-810.2121 1362.5001,-820.2121 1369.5001,-820.2121\"/>\n",
       "<text text-anchor=\"middle\" x=\"1431.6455\" y=\"-830.8\" font-family=\"Times,serif\" font-size=\"14.00\" fill=\"#000000\">&lt;=2.091300796899104</text>\n",
       "</g>\n",
       "<!-- Adgdd -->\n",
       "<g id=\"node64\" class=\"node\">\n",
       "<title>Adgdd</title>\n",
       "<ellipse fill=\"none\" stroke=\"#000000\" cx=\"1647\" cy=\"-792\" rx=\"30.961\" ry=\"18\"/>\n",
       "<text text-anchor=\"middle\" x=\"1647\" y=\"-787.8\" font-family=\"Times,serif\" font-size=\"14.00\" fill=\"#000000\">attr: 0</text>\n",
       "</g>\n",
       "<!-- Adgd&#45;&gt;Adgdd -->\n",
       "<g id=\"edge60\" class=\"edge\">\n",
       "<title>Adgd&#45;&gt;Adgdd</title>\n",
       "<path fill=\"none\" stroke=\"#000000\" d=\"M1394.6065,-870.9846C1422.0447,-864.1115 1464.5654,-853.0822 1501,-842 1538.8836,-830.4771 1581.6865,-815.5942 1611.1023,-805.0714\"/>\n",
       "<polygon fill=\"#000000\" stroke=\"#000000\" points=\"1612.3109,-808.3563 1620.5385,-801.6811 1609.944,-801.7686 1612.3109,-808.3563\"/>\n",
       "<text text-anchor=\"middle\" x=\"1603.6978\" y=\"-830.8\" font-family=\"Times,serif\" font-size=\"14.00\" fill=\"#000000\">&gt;2.091300796899104</text>\n",
       "</g>\n",
       "<!-- Adgdgg -->\n",
       "<g id=\"node56\" class=\"node\">\n",
       "<title>Adgdgg</title>\n",
       "<ellipse fill=\"none\" stroke=\"#000000\" cx=\"1357\" cy=\"-706\" rx=\"30.961\" ry=\"18\"/>\n",
       "<text text-anchor=\"middle\" x=\"1357\" y=\"-701.8\" font-family=\"Times,serif\" font-size=\"14.00\" fill=\"#000000\">attr: 0</text>\n",
       "</g>\n",
       "<!-- Adgdg&#45;&gt;Adgdgg -->\n",
       "<g id=\"edge55\" class=\"edge\">\n",
       "<title>Adgdg&#45;&gt;Adgdgg</title>\n",
       "<path fill=\"none\" stroke=\"#000000\" d=\"M1361.4522,-774.1669C1360.1706,-768.4074 1358.9329,-761.9683 1358.2217,-756 1357.3892,-749.0147 1356.9613,-741.4431 1356.7653,-734.3558\"/>\n",
       "<polygon fill=\"#000000\" stroke=\"#000000\" points=\"1360.2616,-734.0609 1356.6234,-724.1103 1353.2623,-734.1579 1360.2616,-734.0609\"/>\n",
       "<text text-anchor=\"middle\" x=\"1424.3892\" y=\"-744.8\" font-family=\"Times,serif\" font-size=\"14.00\" fill=\"#000000\">&lt;=1.230043511609908</text>\n",
       "</g>\n",
       "<!-- Adgdgd -->\n",
       "<g id=\"node63\" class=\"node\">\n",
       "<title>Adgdgd</title>\n",
       "<polygon fill=\"none\" stroke=\"#000000\" points=\"1538,-724 1484,-724 1484,-688 1538,-688 1538,-724\"/>\n",
       "<text text-anchor=\"middle\" x=\"1511\" y=\"-701.8\" font-family=\"Times,serif\" font-size=\"14.00\" fill=\"#000000\">&#45;1</text>\n",
       "</g>\n",
       "<!-- Adgdg&#45;&gt;Adgdgd -->\n",
       "<g id=\"edge56\" class=\"edge\">\n",
       "<title>Adgdg&#45;&gt;Adgdgd</title>\n",
       "<path fill=\"none\" stroke=\"#000000\" d=\"M1395.4857,-786.3574C1427.2372,-779.7734 1475.0804,-768.221 1489,-756 1495.688,-750.1282 1500.4289,-741.8424 1503.7517,-733.7014\"/>\n",
       "<polygon fill=\"#000000\" stroke=\"#000000\" points=\"1507.1417,-734.61 1507.1368,-724.0152 1500.5336,-732.3006 1507.1417,-734.61\"/>\n",
       "<text text-anchor=\"middle\" x=\"1561.4414\" y=\"-744.8\" font-family=\"Times,serif\" font-size=\"14.00\" fill=\"#000000\">&gt;1.230043511609908</text>\n",
       "</g>\n",
       "<!-- Adgdggg -->\n",
       "<g id=\"node57\" class=\"node\">\n",
       "<title>Adgdggg</title>\n",
       "<ellipse fill=\"none\" stroke=\"#000000\" cx=\"1356\" cy=\"-620\" rx=\"30.961\" ry=\"18\"/>\n",
       "<text text-anchor=\"middle\" x=\"1356\" y=\"-615.8\" font-family=\"Times,serif\" font-size=\"14.00\" fill=\"#000000\">attr: 1</text>\n",
       "</g>\n",
       "<!-- Adgdgg&#45;&gt;Adgdggg -->\n",
       "<g id=\"edge53\" class=\"edge\">\n",
       "<title>Adgdgg&#45;&gt;Adgdggg</title>\n",
       "<path fill=\"none\" stroke=\"#000000\" d=\"M1356.7879,-687.7616C1356.6553,-676.3597 1356.4818,-661.4342 1356.3313,-648.494\"/>\n",
       "<polygon fill=\"#000000\" stroke=\"#000000\" points=\"1359.8279,-648.1707 1356.2118,-638.2121 1352.8284,-648.2522 1359.8279,-648.1707\"/>\n",
       "<text text-anchor=\"middle\" x=\"1425.6328\" y=\"-658.8\" font-family=\"Times,serif\" font-size=\"14.00\" fill=\"#000000\">&lt;=1.1311161588654552</text>\n",
       "</g>\n",
       "<!-- Adgdggd -->\n",
       "<g id=\"node62\" class=\"node\">\n",
       "<title>Adgdggd</title>\n",
       "<polygon fill=\"none\" stroke=\"#000000\" points=\"1543,-638 1489,-638 1489,-602 1543,-602 1543,-638\"/>\n",
       "<text text-anchor=\"middle\" x=\"1516\" y=\"-615.8\" font-family=\"Times,serif\" font-size=\"14.00\" fill=\"#000000\">1</text>\n",
       "</g>\n",
       "<!-- Adgdgg&#45;&gt;Adgdggd -->\n",
       "<g id=\"edge54\" class=\"edge\">\n",
       "<title>Adgdgg&#45;&gt;Adgdggd</title>\n",
       "<path fill=\"none\" stroke=\"#000000\" d=\"M1386.9919,-701.2442C1422.2535,-695.1282 1478.0083,-683.6518 1494,-670 1500.7688,-664.2216 1505.5314,-655.9607 1508.849,-647.8139\"/>\n",
       "<polygon fill=\"#000000\" stroke=\"#000000\" points=\"1512.2454,-648.7024 1512.2169,-638.1076 1505.6321,-646.4077 1512.2454,-648.7024\"/>\n",
       "<text text-anchor=\"middle\" x=\"1569.6851\" y=\"-658.8\" font-family=\"Times,serif\" font-size=\"14.00\" fill=\"#000000\">&gt;1.1311161588654552</text>\n",
       "</g>\n",
       "<!-- Adgdgggg -->\n",
       "<g id=\"node58\" class=\"node\">\n",
       "<title>Adgdgggg</title>\n",
       "<ellipse fill=\"none\" stroke=\"#000000\" cx=\"1355\" cy=\"-534\" rx=\"30.961\" ry=\"18\"/>\n",
       "<text text-anchor=\"middle\" x=\"1355\" y=\"-529.8\" font-family=\"Times,serif\" font-size=\"14.00\" fill=\"#000000\">attr: 0</text>\n",
       "</g>\n",
       "<!-- Adgdggg&#45;&gt;Adgdgggg -->\n",
       "<g id=\"edge51\" class=\"edge\">\n",
       "<title>Adgdggg&#45;&gt;Adgdgggg</title>\n",
       "<path fill=\"none\" stroke=\"#000000\" d=\"M1355.7879,-601.7616C1355.6553,-590.3597 1355.4818,-575.4342 1355.3313,-562.494\"/>\n",
       "<polygon fill=\"#000000\" stroke=\"#000000\" points=\"1358.8279,-562.1707 1355.2118,-552.2121 1351.8284,-562.2522 1358.8279,-562.1707\"/>\n",
       "<text text-anchor=\"middle\" x=\"1427.4766\" y=\"-572.8\" font-family=\"Times,serif\" font-size=\"14.00\" fill=\"#000000\">&lt;=&#45;0.3794508590884744</text>\n",
       "</g>\n",
       "<!-- Adgdgggd -->\n",
       "<g id=\"node61\" class=\"node\">\n",
       "<title>Adgdgggd</title>\n",
       "<polygon fill=\"none\" stroke=\"#000000\" points=\"1548,-552 1494,-552 1494,-516 1548,-516 1548,-552\"/>\n",
       "<text text-anchor=\"middle\" x=\"1521\" y=\"-529.8\" font-family=\"Times,serif\" font-size=\"14.00\" fill=\"#000000\">&#45;1</text>\n",
       "</g>\n",
       "<!-- Adgdggg&#45;&gt;Adgdgggd -->\n",
       "<g id=\"edge52\" class=\"edge\">\n",
       "<title>Adgdggg&#45;&gt;Adgdgggd</title>\n",
       "<path fill=\"none\" stroke=\"#000000\" d=\"M1386.3325,-615.5565C1423.0682,-609.6412 1482.1323,-598.2495 1499,-584 1505.7986,-578.2567 1510.5691,-570.0051 1513.8849,-561.8561\"/>\n",
       "<polygon fill=\"#000000\" stroke=\"#000000\" points=\"1517.2836,-562.7371 1517.2464,-552.1424 1510.6685,-560.4479 1517.2836,-562.7371\"/>\n",
       "<text text-anchor=\"middle\" x=\"1577.5288\" y=\"-572.8\" font-family=\"Times,serif\" font-size=\"14.00\" fill=\"#000000\">&gt;&#45;0.3794508590884744</text>\n",
       "</g>\n",
       "<!-- Adgdggggg -->\n",
       "<g id=\"node59\" class=\"node\">\n",
       "<title>Adgdggggg</title>\n",
       "<polygon fill=\"none\" stroke=\"#000000\" points=\"1382,-466 1328,-466 1328,-430 1382,-430 1382,-466\"/>\n",
       "<text text-anchor=\"middle\" x=\"1355\" y=\"-443.8\" font-family=\"Times,serif\" font-size=\"14.00\" fill=\"#000000\">1</text>\n",
       "</g>\n",
       "<!-- Adgdgggg&#45;&gt;Adgdggggg -->\n",
       "<g id=\"edge49\" class=\"edge\">\n",
       "<title>Adgdgggg&#45;&gt;Adgdggggg</title>\n",
       "<path fill=\"none\" stroke=\"#000000\" d=\"M1355,-515.7616C1355,-504.3597 1355,-489.4342 1355,-476.494\"/>\n",
       "<polygon fill=\"#000000\" stroke=\"#000000\" points=\"1358.5001,-476.2121 1355,-466.2121 1351.5001,-476.2121 1358.5001,-476.2121\"/>\n",
       "<text text-anchor=\"middle\" x=\"1424.1455\" y=\"-486.8\" font-family=\"Times,serif\" font-size=\"14.00\" fill=\"#000000\">&lt;=0.9450470530459592</text>\n",
       "</g>\n",
       "<!-- Adgdggggd -->\n",
       "<g id=\"node60\" class=\"node\">\n",
       "<title>Adgdggggd</title>\n",
       "<polygon fill=\"none\" stroke=\"#000000\" points=\"1543,-466 1489,-466 1489,-430 1543,-430 1543,-466\"/>\n",
       "<text text-anchor=\"middle\" x=\"1516\" y=\"-443.8\" font-family=\"Times,serif\" font-size=\"14.00\" fill=\"#000000\">&#45;1</text>\n",
       "</g>\n",
       "<!-- Adgdgggg&#45;&gt;Adgdggggd -->\n",
       "<g id=\"edge50\" class=\"edge\">\n",
       "<title>Adgdgggg&#45;&gt;Adgdggggd</title>\n",
       "<path fill=\"none\" stroke=\"#000000\" d=\"M1385.1133,-529.3495C1420.8687,-523.2998 1477.7179,-511.85 1494,-498 1500.779,-492.2336 1505.5443,-483.9759 1508.8613,-475.8283\"/>\n",
       "<polygon fill=\"#000000\" stroke=\"#000000\" points=\"1512.2585,-476.7143 1512.227,-466.1195 1505.6446,-474.4215 1512.2585,-476.7143\"/>\n",
       "<text text-anchor=\"middle\" x=\"1570.1978\" y=\"-486.8\" font-family=\"Times,serif\" font-size=\"14.00\" fill=\"#000000\">&gt;0.9450470530459592</text>\n",
       "</g>\n",
       "<!-- Adgddg -->\n",
       "<g id=\"node65\" class=\"node\">\n",
       "<title>Adgddg</title>\n",
       "<polygon fill=\"none\" stroke=\"#000000\" points=\"1684,-724 1630,-724 1630,-688 1684,-688 1684,-724\"/>\n",
       "<text text-anchor=\"middle\" x=\"1657\" y=\"-701.8\" font-family=\"Times,serif\" font-size=\"14.00\" fill=\"#000000\">1</text>\n",
       "</g>\n",
       "<!-- Adgdd&#45;&gt;Adgddg -->\n",
       "<g id=\"edge57\" class=\"edge\">\n",
       "<title>Adgdd&#45;&gt;Adgddg</title>\n",
       "<path fill=\"none\" stroke=\"#000000\" d=\"M1649.1207,-773.7616C1650.4466,-762.3597 1652.1821,-747.4342 1653.6867,-734.494\"/>\n",
       "<polygon fill=\"#000000\" stroke=\"#000000\" points=\"1657.2038,-734.5495 1654.8823,-724.2121 1650.2506,-733.7409 1657.2038,-734.5495\"/>\n",
       "<text text-anchor=\"middle\" x=\"1722.1455\" y=\"-744.8\" font-family=\"Times,serif\" font-size=\"14.00\" fill=\"#000000\">&lt;=3.4180596592554138</text>\n",
       "</g>\n",
       "<!-- Adgddd -->\n",
       "<g id=\"node66\" class=\"node\">\n",
       "<title>Adgddd</title>\n",
       "<polygon fill=\"none\" stroke=\"#000000\" points=\"1845,-724 1791,-724 1791,-688 1845,-688 1845,-724\"/>\n",
       "<text text-anchor=\"middle\" x=\"1818\" y=\"-701.8\" font-family=\"Times,serif\" font-size=\"14.00\" fill=\"#000000\">&#45;1</text>\n",
       "</g>\n",
       "<!-- Adgdd&#45;&gt;Adgddd -->\n",
       "<g id=\"edge58\" class=\"edge\">\n",
       "<title>Adgdd&#45;&gt;Adgddd</title>\n",
       "<path fill=\"none\" stroke=\"#000000\" d=\"M1670.7274,-780.1187C1675.9889,-777.826 1681.6066,-775.633 1687,-774 1733.5741,-759.8985 1756.3318,-785.5427 1795,-756 1802.2035,-750.4965 1807.2267,-742.2049 1810.6963,-733.9475\"/>\n",
       "<polygon fill=\"#000000\" stroke=\"#000000\" points=\"1814.0248,-735.0337 1814.0931,-724.4391 1807.4328,-732.6787 1814.0248,-735.0337\"/>\n",
       "<text text-anchor=\"middle\" x=\"1872.1978\" y=\"-744.8\" font-family=\"Times,serif\" font-size=\"14.00\" fill=\"#000000\">&gt;3.4180596592554138</text>\n",
       "</g>\n",
       "<!-- Addg -->\n",
       "<g id=\"node68\" class=\"node\">\n",
       "<title>Addg</title>\n",
       "<ellipse fill=\"none\" stroke=\"#000000\" cx=\"1723\" cy=\"-878\" rx=\"30.961\" ry=\"18\"/>\n",
       "<text text-anchor=\"middle\" x=\"1723\" y=\"-873.8\" font-family=\"Times,serif\" font-size=\"14.00\" fill=\"#000000\">attr: 1</text>\n",
       "</g>\n",
       "<!-- Add&#45;&gt;Addg -->\n",
       "<g id=\"edge65\" class=\"edge\">\n",
       "<title>Add&#45;&gt;Addg</title>\n",
       "<path fill=\"none\" stroke=\"#000000\" d=\"M1676.7593,-946.0708C1675.8065,-936.1643 1676.051,-923.8973 1680.709,-914 1683.5652,-907.9312 1687.9917,-902.5025 1692.9244,-897.814\"/>\n",
       "<polygon fill=\"#000000\" stroke=\"#000000\" points=\"1695.5409,-900.1865 1700.9393,-891.0701 1691.0341,-894.8303 1695.5409,-900.1865\"/>\n",
       "<text text-anchor=\"middle\" x=\"1750.1455\" y=\"-916.8\" font-family=\"Times,serif\" font-size=\"14.00\" fill=\"#000000\">&lt;=0.5917816418734398</text>\n",
       "</g>\n",
       "<!-- Addd -->\n",
       "<g id=\"node71\" class=\"node\">\n",
       "<title>Addd</title>\n",
       "<polygon fill=\"none\" stroke=\"#000000\" points=\"1868,-896 1814,-896 1814,-860 1868,-860 1868,-896\"/>\n",
       "<text text-anchor=\"middle\" x=\"1841\" y=\"-873.8\" font-family=\"Times,serif\" font-size=\"14.00\" fill=\"#000000\">&#45;1</text>\n",
       "</g>\n",
       "<!-- Add&#45;&gt;Addd -->\n",
       "<g id=\"edge66\" class=\"edge\">\n",
       "<title>Add&#45;&gt;Addd</title>\n",
       "<path fill=\"none\" stroke=\"#000000\" d=\"M1710.1133,-959.3495C1745.8687,-953.2998 1802.7179,-941.85 1819,-928 1825.779,-922.2336 1830.5443,-913.9759 1833.8613,-905.8283\"/>\n",
       "<polygon fill=\"#000000\" stroke=\"#000000\" points=\"1837.2585,-906.7143 1837.227,-896.1195 1830.6446,-904.4215 1837.2585,-906.7143\"/>\n",
       "<text text-anchor=\"middle\" x=\"1895.1978\" y=\"-916.8\" font-family=\"Times,serif\" font-size=\"14.00\" fill=\"#000000\">&gt;0.5917816418734398</text>\n",
       "</g>\n",
       "<!-- Addgg -->\n",
       "<g id=\"node69\" class=\"node\">\n",
       "<title>Addgg</title>\n",
       "<polygon fill=\"none\" stroke=\"#000000\" points=\"1750,-810 1696,-810 1696,-774 1750,-774 1750,-810\"/>\n",
       "<text text-anchor=\"middle\" x=\"1723\" y=\"-787.8\" font-family=\"Times,serif\" font-size=\"14.00\" fill=\"#000000\">&#45;1</text>\n",
       "</g>\n",
       "<!-- Addg&#45;&gt;Addgg -->\n",
       "<g id=\"edge63\" class=\"edge\">\n",
       "<title>Addg&#45;&gt;Addgg</title>\n",
       "<path fill=\"none\" stroke=\"#000000\" d=\"M1723,-859.7616C1723,-848.3597 1723,-833.4342 1723,-820.494\"/>\n",
       "<polygon fill=\"#000000\" stroke=\"#000000\" points=\"1726.5001,-820.2121 1723,-810.2121 1719.5001,-820.2121 1726.5001,-820.2121\"/>\n",
       "<text text-anchor=\"middle\" x=\"1792.1455\" y=\"-830.8\" font-family=\"Times,serif\" font-size=\"14.00\" fill=\"#000000\">&lt;=0.5870738178409709</text>\n",
       "</g>\n",
       "<!-- Addgd -->\n",
       "<g id=\"node70\" class=\"node\">\n",
       "<title>Addgd</title>\n",
       "<polygon fill=\"none\" stroke=\"#000000\" points=\"1911,-810 1857,-810 1857,-774 1911,-774 1911,-810\"/>\n",
       "<text text-anchor=\"middle\" x=\"1884\" y=\"-787.8\" font-family=\"Times,serif\" font-size=\"14.00\" fill=\"#000000\">1</text>\n",
       "</g>\n",
       "<!-- Addg&#45;&gt;Addgd -->\n",
       "<g id=\"edge64\" class=\"edge\">\n",
       "<title>Addg&#45;&gt;Addgd</title>\n",
       "<path fill=\"none\" stroke=\"#000000\" d=\"M1752.1408,-871.8729C1790.3664,-863.6206 1853.5979,-849.1471 1862,-842 1868.779,-836.2336 1873.5443,-827.9759 1876.8613,-819.8283\"/>\n",
       "<polygon fill=\"#000000\" stroke=\"#000000\" points=\"1880.2585,-820.7143 1880.227,-810.1195 1873.6446,-818.4215 1880.2585,-820.7143\"/>\n",
       "<text text-anchor=\"middle\" x=\"1938.1978\" y=\"-830.8\" font-family=\"Times,serif\" font-size=\"14.00\" fill=\"#000000\">&gt;0.5870738178409709</text>\n",
       "</g>\n",
       "</g>\n",
       "</svg>\n"
      ],
      "text/plain": [
       "<graphviz.dot.Digraph at 0x1134cc780>"
      ]
     },
     "execution_count": 49,
     "metadata": {},
     "output_type": "execute_result"
    }
   ],
   "source": [
    "print(ad.accuracy(the_set))\n",
    "ad.plot()"
   ]
  },
  {
   "cell_type": "markdown",
   "metadata": {},
   "source": [
    "## Etape 3: Expérimentation"
   ]
  },
  {
   "cell_type": "markdown",
   "metadata": {
    "collapsed": true
   },
   "source": [
    "Comparez le résultat obtenu avec ceux obtenus avec les 2 classifiers implémentés lors des TD-TME précédents. Ensuite, utilisez votre implémentation sur d'autres bases de données que vous avez déjà trouvées ou que vous pourrez trouver sur le web."
   ]
  },
  {
   "cell_type": "code",
   "execution_count": 57,
   "metadata": {},
   "outputs": [
    {
     "name": "stdout",
     "output_type": "stream",
     "text": [
      "(683, 10)\n"
     ]
    }
   ],
   "source": [
    "from sklearn.datasets import fetch_mldata\n",
    "\n",
    "def loadFile(name):\n",
    "    data = fetch_mldata(name, data_home='.')\n",
    "    print(data.data.shape)\n",
    "    unique=np.unique(data.target)\n",
    "    for i in range(len(data.target)):\n",
    "        if (data.target[i]==unique[0]):\n",
    "            data.target[i]=1\n",
    "        else:\n",
    "            data.target[i]=-1\n",
    "    return data\n",
    "datas = loadFile('breast-cancer_scale')"
   ]
  },
  {
   "cell_type": "code",
   "execution_count": 88,
   "metadata": {},
   "outputs": [],
   "source": [
    "def split (data,n):\n",
    "    taille=int(len(data.data)*n)\n",
    "    i=0\n",
    "    data_1=[]\n",
    "    label_1=[]\n",
    "    data_2=[]\n",
    "    label_2=[]\n",
    "    while (i<taille):\n",
    "        data_1.append(data.data[i])\n",
    "        label_1.append(data.target[i])\n",
    "        i=i+1\n",
    "    while (i<len(data.data)):\n",
    "        data_2.append(data.data[i])\n",
    "        label_2.append(data.target[i])\n",
    "        i=i+1\n",
    "    return (data_1,label_1,data_2,label_2)\n",
    "    \n",
    "ens=split(datas,0.9)"
   ]
  },
  {
   "cell_type": "code",
   "execution_count": 89,
   "metadata": {
    "collapsed": true
   },
   "outputs": [],
   "source": [
    "def turn_to_LabeledSet(datas):\n",
    "    apprentissage = LabeledSet(2)\n",
    "    test = LabeledSet(2)\n",
    "    i=0\n",
    "    for point in datas[0]:\n",
    "        apprentissage.addExample(point,datas[1][i])\n",
    "        i=i+1\n",
    "    j=0\n",
    "    for point in datas[2]:\n",
    "        test.addExample(point,datas[3][j])\n",
    "    return (apprentissage,test)"
   ]
  },
  {
   "cell_type": "code",
   "execution_count": 90,
   "metadata": {},
   "outputs": [
    {
     "data": {
      "text/plain": [
       "array([-0.860107, -0.111111, -1.      , -1.      , -1.      , -0.777778,\n",
       "       -1.      , -0.555556, -1.      , -1.      ])"
      ]
     },
     "execution_count": 90,
     "metadata": {},
     "output_type": "execute_result"
    }
   ],
   "source": [
    "ens_apprentissage, ens_test = turn_to_LabeledSet(ens);\n",
    "ens_apprentissage.getX(0)"
   ]
  },
  {
   "cell_type": "code",
   "execution_count": 101,
   "metadata": {},
   "outputs": [
    {
     "name": "stdout",
     "output_type": "stream",
     "text": [
      "Taille de la base générée : 341 exemples\n"
     ]
    }
   ],
   "source": [
    "\"\"\"On a essayé de diminuer l'epsilon afin d'avoir un meilleur résultat, mais on arrive pas à cause de la limitée de la récusion \"\"\"\n",
    "ad=ArbreDecision2(0.7)          \n",
    "print(\"Taille de la base générée :\", set_apprentissage_real.size(), \"exemples\")\n",
    "ad.train(ens_apprentissage)"
   ]
  },
  {
   "cell_type": "code",
   "execution_count": 102,
   "metadata": {},
   "outputs": [
    {
     "name": "stdout",
     "output_type": "stream",
     "text": [
      "0.9420289855072463\n"
     ]
    },
    {
     "data": {
      "image/svg+xml": [
       "<?xml version=\"1.0\" encoding=\"UTF-8\" standalone=\"no\"?>\n",
       "<!DOCTYPE svg PUBLIC \"-//W3C//DTD SVG 1.1//EN\"\n",
       " \"http://www.w3.org/Graphics/SVG/1.1/DTD/svg11.dtd\">\n",
       "<!-- Generated by graphviz version 2.40.1 (20161225.0304)\n",
       " -->\n",
       "<!-- Title: %3 Pages: 1 -->\n",
       "<svg width=\"166pt\" height=\"130pt\"\n",
       " viewBox=\"0.00 0.00 165.83 130.00\" xmlns=\"http://www.w3.org/2000/svg\" xmlns:xlink=\"http://www.w3.org/1999/xlink\">\n",
       "<g id=\"graph0\" class=\"graph\" transform=\"scale(1 1) rotate(0) translate(4 126)\">\n",
       "<title>%3</title>\n",
       "<polygon fill=\"#ffffff\" stroke=\"transparent\" points=\"-4,4 -4,-126 161.832,-126 161.832,4 -4,4\"/>\n",
       "<!-- A -->\n",
       "<g id=\"node1\" class=\"node\">\n",
       "<title>A</title>\n",
       "<ellipse fill=\"none\" stroke=\"#000000\" cx=\"71\" cy=\"-104\" rx=\"30.961\" ry=\"18\"/>\n",
       "<text text-anchor=\"middle\" x=\"71\" y=\"-99.8\" font-family=\"Times,serif\" font-size=\"14.00\" fill=\"#000000\">attr: 1</text>\n",
       "</g>\n",
       "<!-- Ag -->\n",
       "<g id=\"node2\" class=\"node\">\n",
       "<title>Ag</title>\n",
       "<polygon fill=\"none\" stroke=\"#000000\" points=\"54,-36 0,-36 0,0 54,0 54,-36\"/>\n",
       "<text text-anchor=\"middle\" x=\"27\" y=\"-13.8\" font-family=\"Times,serif\" font-size=\"14.00\" fill=\"#000000\">1</text>\n",
       "</g>\n",
       "<!-- A&#45;&gt;Ag -->\n",
       "<g id=\"edge1\" class=\"edge\">\n",
       "<title>A&#45;&gt;Ag</title>\n",
       "<path fill=\"none\" stroke=\"#000000\" d=\"M48.7703,-90.9499C40.8177,-85.032 32.7266,-77.2671 28.2725,-68 25.1385,-61.4797 23.9096,-53.9078 23.6778,-46.6593\"/>\n",
       "<polygon fill=\"#000000\" stroke=\"#000000\" points=\"27.1825,-46.5193 23.9456,-36.431 20.1849,-46.3359 27.1825,-46.5193\"/>\n",
       "<text text-anchor=\"middle\" x=\"61.8638\" y=\"-56.8\" font-family=\"Times,serif\" font-size=\"14.00\" fill=\"#000000\">&lt;=0.111111</text>\n",
       "</g>\n",
       "<!-- Ad -->\n",
       "<g id=\"node3\" class=\"node\">\n",
       "<title>Ad</title>\n",
       "<polygon fill=\"none\" stroke=\"#000000\" points=\"143,-36 89,-36 89,0 143,0 143,-36\"/>\n",
       "<text text-anchor=\"middle\" x=\"116\" y=\"-13.8\" font-family=\"Times,serif\" font-size=\"14.00\" fill=\"#000000\">&#45;1</text>\n",
       "</g>\n",
       "<!-- A&#45;&gt;Ad -->\n",
       "<g id=\"edge2\" class=\"edge\">\n",
       "<title>A&#45;&gt;Ad</title>\n",
       "<path fill=\"none\" stroke=\"#000000\" d=\"M82.5488,-87.1104C86.3951,-81.1854 90.5696,-74.4079 94,-68 97.7542,-60.9872 101.41,-53.2024 104.6288,-45.9043\"/>\n",
       "<polygon fill=\"#000000\" stroke=\"#000000\" points=\"107.9919,-46.9423 108.7156,-36.3722 101.5582,-44.1839 107.9919,-46.9423\"/>\n",
       "<text text-anchor=\"middle\" x=\"128.916\" y=\"-56.8\" font-family=\"Times,serif\" font-size=\"14.00\" fill=\"#000000\">&gt;0.111111</text>\n",
       "</g>\n",
       "</g>\n",
       "</svg>\n"
      ],
      "text/plain": [
       "<graphviz.dot.Digraph at 0x11df64208>"
      ]
     },
     "execution_count": 102,
     "metadata": {},
     "output_type": "execute_result"
    }
   ],
   "source": [
    "print(ad.accuracy(ens_test))\n",
    "ad.plot()"
   ]
  },
  {
   "cell_type": "markdown",
   "metadata": {},
   "source": [
    "## Les données calculées par les TMEs précédantes :\n",
    "#### Perceptron: 0.956140350877193 \n",
    "\n",
    "#### KNN: 0.9853801169590644\n",
    "### On a choisi les résultats meuilleurs au dessus  "
   ]
  },
  {
   "cell_type": "code",
   "execution_count": null,
   "metadata": {
    "collapsed": true
   },
   "outputs": [],
   "source": []
  }
 ],
 "metadata": {
  "kernelspec": {
   "display_name": "Python 3",
   "language": "python",
   "name": "python3"
  },
  "language_info": {
   "codemirror_mode": {
    "name": "ipython",
    "version": 3
   },
   "file_extension": ".py",
   "mimetype": "text/x-python",
   "name": "python",
   "nbconvert_exporter": "python",
   "pygments_lexer": "ipython3",
   "version": "3.6.4"
  }
 },
 "nbformat": 4,
 "nbformat_minor": 1
}
