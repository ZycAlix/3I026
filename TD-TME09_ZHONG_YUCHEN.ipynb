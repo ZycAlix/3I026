{
 "cells": [
  {
   "cell_type": "markdown",
   "metadata": {},
   "source": [
    "IA & Data science -- 2017-2018\n",
    "--------\n",
    "*&copy; Equipe pédagogique: Ludovic Denoyer, Thibault Laugel, Marie-Jeanne Lesot, Christophe Marsala, Olivier Schwander*"
   ]
  },
  {
   "cell_type": "markdown",
   "metadata": {},
   "source": [
    "# TD-TME09: études et améliorations des K-moyennes"
   ]
  },
  {
   "cell_type": "markdown",
   "metadata": {},
   "source": [
    "<font size=\"+1\">**[Q]**</font> **Indiquer dans la boîte ci-dessous vos noms et prénoms :**"
   ]
  },
  {
   "cell_type": "markdown",
   "metadata": {},
   "source": [
    "ZHONG YUCHEN"
   ]
  },
  {
   "cell_type": "markdown",
   "metadata": {},
   "source": [
    "## Préparation\n",
    "\n",
    "Décompresser l'archive, elle crée le répertoire \"tp9\" qui contient :\n",
    "- un fichier ipython à ouvrir (ce fichier-ci)\n",
    "- un sous-répertoire \"data\" contenant les bases d'apprentissage utilisées dans cette séance\n",
    "- un sous-répertoire \"IADS2018\" (qui contient 2 fichiers python) dont l'utilisation est détaillée un peu plus loin dans ce fichier ipython.\n",
    "\n",
    "Le but de ce TP est de compléter ce document ipython en ajoutant les fonctions demandées. Avant de commencer, exécuter le bloc suivant afin de pouvoir initialiser des variables utiles \n"
   ]
  },
  {
   "cell_type": "code",
   "execution_count": 1,
   "metadata": {},
   "outputs": [],
   "source": [
    "import numpy as np\n",
    "import pandas as pd\n",
    "from datetime import datetime as dt\n",
    "import matplotlib.pyplot as plt\n",
    "%matplotlib inline  "
   ]
  },
  {
   "cell_type": "markdown",
   "metadata": {},
   "source": [
    "### Chargement du fichier \"base_2D.csv\""
   ]
  },
  {
   "cell_type": "code",
   "execution_count": 2,
   "metadata": {
    "scrolled": true
   },
   "outputs": [
    {
     "data": {
      "text/html": [
       "<div>\n",
       "<style scoped>\n",
       "    .dataframe tbody tr th:only-of-type {\n",
       "        vertical-align: middle;\n",
       "    }\n",
       "\n",
       "    .dataframe tbody tr th {\n",
       "        vertical-align: top;\n",
       "    }\n",
       "\n",
       "    .dataframe thead th {\n",
       "        text-align: right;\n",
       "    }\n",
       "</style>\n",
       "<table border=\"1\" class=\"dataframe\">\n",
       "  <thead>\n",
       "    <tr style=\"text-align: right;\">\n",
       "      <th></th>\n",
       "      <th>X</th>\n",
       "      <th>Y</th>\n",
       "    </tr>\n",
       "  </thead>\n",
       "  <tbody>\n",
       "    <tr>\n",
       "      <th>0</th>\n",
       "      <td>0.0</td>\n",
       "      <td>4.0</td>\n",
       "    </tr>\n",
       "    <tr>\n",
       "      <th>1</th>\n",
       "      <td>1.0</td>\n",
       "      <td>3.5</td>\n",
       "    </tr>\n",
       "    <tr>\n",
       "      <th>2</th>\n",
       "      <td>1.0</td>\n",
       "      <td>1.0</td>\n",
       "    </tr>\n",
       "    <tr>\n",
       "      <th>3</th>\n",
       "      <td>2.0</td>\n",
       "      <td>1.0</td>\n",
       "    </tr>\n",
       "    <tr>\n",
       "      <th>4</th>\n",
       "      <td>2.0</td>\n",
       "      <td>2.0</td>\n",
       "    </tr>\n",
       "  </tbody>\n",
       "</table>\n",
       "</div>"
      ],
      "text/plain": [
       "     X    Y\n",
       "0  0.0  4.0\n",
       "1  1.0  3.5\n",
       "2  1.0  1.0\n",
       "3  2.0  1.0\n",
       "4  2.0  2.0"
      ]
     },
     "execution_count": 2,
     "metadata": {},
     "output_type": "execute_result"
    }
   ],
   "source": [
    "data_2D = pd.read_csv(\"data/base-2D.csv\")\n",
    "data_2D[0:5]  # ou bien: data_2D[0:len(data_2D)]"
   ]
  },
  {
   "cell_type": "markdown",
   "metadata": {},
   "source": [
    "Dans la suite de ce TP, il est conseillé de travailler sur des données de type <tt>DataFrame</tt> le plus souvent possible.\n",
    "\n",
    "**Important**: dans la suite de ce TP, on appelle:\n",
    "\n",
    "- \"base d'apprentissage\" le DataFrame contenant l'ensemble des exemples d'apprentissage chargés par la commande précédenteµ\n",
    "- \"base d'exemples\" : un DataFrame contenant un ensemble d'exemples (remarque: la base d'apprentissage est le plus grand ensemble d'exemples possible)"
   ]
  },
  {
   "cell_type": "markdown",
   "metadata": {},
   "source": [
    "## Construction d'un package de fonctions"
   ]
  },
  {
   "cell_type": "markdown",
   "metadata": {},
   "source": [
    "Dans un premier temps, afin de pouvoir utiliser toutes les fonctions écrites dans le TP précédent (fonctions pour les K-moyennes), vous allez réaliser un package de fonctions qui s'appelle \"<tt>IADS2018</tt>\".\n",
    "\n",
    "Le package <tt>IADS2018</tt> est composé ainsi :\n",
    "- c'est un répertoire dont le nom est <tt>IADS2018</tt>\n",
    "- ce répertoire contient le fichier <tt>\\__init\\__.py</tt> qui, dans notre cas, est un fichier vide (mais il est important que ce fichier existe !)\n",
    "- ce répertoire contient le fichier <<tt>kmoyennes.py</tt> qui est le fichier dans lequel vous devez mettre toutes les fonctions écrites lors du TP précédent sur les K-moyennes."
   ]
  },
  {
   "cell_type": "markdown",
   "metadata": {},
   "source": [
    "<font size=\"+1\" color=\"RED\">**[Q]**</font> En utilisant votre éditeur de texte préféré (emacs, gedit, vim,...) ouvrir le fichier <tt>kmoyennes.py</tt> qui se trouve dans le sous-répertoire <tt>IADS2018</tt> et compléter-le en reprenant les fonctions que vous avez écrites dans la séance précédente."
   ]
  },
  {
   "cell_type": "markdown",
   "metadata": {},
   "source": [
    "Une fois le fichier <tt>kmoyennes.py</tt> complété et sauvegardé, il est possible d'utiliser les fonctions qui y sont définies en utilisant une commande d'importation:"
   ]
  },
  {
   "cell_type": "code",
   "execution_count": 3,
   "metadata": {},
   "outputs": [],
   "source": [
    "# Importation des fonctions écrites dans les fichiers python que contient le répertoire (package) IADS2018:\n",
    "import IADS2018 \n",
    "import IADS2018.kmoyennes as km"
   ]
  },
  {
   "cell_type": "markdown",
   "metadata": {},
   "source": [
    "#### Vérification que tout fonctionne bien\n",
    "\n",
    "Si la recopie de toutes vos fonctions s'est bien déroulée, une fois l'importation faite il est possible de tester les instructions des boites suivantes:"
   ]
  },
  {
   "cell_type": "code",
   "execution_count": 4,
   "metadata": {},
   "outputs": [
    {
     "name": "stdout",
     "output_type": "stream",
     "text": [
      "---> type de DataFnorm: <class 'pandas.core.frame.DataFrame'>\n"
     ]
    },
    {
     "data": {
      "text/plain": [
       "<matplotlib.collections.PathCollection at 0x112d50198>"
      ]
     },
     "execution_count": 4,
     "metadata": {},
     "output_type": "execute_result"
    },
    {
     "data": {
      "image/png": "[encoded data removed]",
      "text/plain": [
       "<matplotlib.figure.Figure at 0x112aad240>"
      ]
     },
     "metadata": {},
     "output_type": "display_data"
    }
   ],
   "source": [
    "# Affichage des points après normalisation:\n",
    "\n",
    "DataFnorm = km.normalisation(data_2D)\n",
    "print(\"---> type de DataFnorm:\",type(DataFnorm))\n",
    "\n",
    "plt.scatter(DataFnorm['X'],DataFnorm['Y'])"
   ]
  },
  {
   "cell_type": "code",
   "execution_count": 5,
   "metadata": {},
   "outputs": [
    {
     "name": "stdout",
     "output_type": "stream",
     "text": [
      "iteration 0 Inertie :  0.7199251700680271 Difference: inf\n"
     ]
    },
    {
     "data": {
      "image/png": "[encoded data removed]",
      "text/plain": [
       "<matplotlib.figure.Figure at 0x112d507b8>"
      ]
     },
     "metadata": {},
     "output_type": "display_data"
    }
   ],
   "source": [
    "les_centres, l_affectation = km.kmoyennes(3, DataFnorm, 0.05, 100)\n",
    "\n",
    "km.affiche_resultat(DataFnorm,les_centres,l_affectation)"
   ]
  },
  {
   "cell_type": "markdown",
   "metadata": {},
   "source": [
    "## Travail à réaliser"
   ]
  },
  {
   "cell_type": "markdown",
   "metadata": {},
   "source": [
    "On peut reprendre les fonctions écrites dans les tp sur l'apprentissage supervisé pour générer des ensembles de points en 2 dimensions afin de tester la fonction <tt>kmoyennes()</tt>. \n",
    "Par exemple, pour générer des points répartis en 2 groupes:"
   ]
  },
  {
   "cell_type": "code",
   "execution_count": 6,
   "metadata": {},
   "outputs": [
    {
     "data": {
      "image/png": "[encoded data removed]",
      "text/plain": [
       "<matplotlib.figure.Figure at 0x112eb55c0>"
      ]
     },
     "metadata": {},
     "output_type": "display_data"
    }
   ],
   "source": [
    "def createGaussianDataset(group1_center,group2_center,sigma,nb_points):\n",
    "        group1 = np.random.multivariate_normal(group1_center,sigma,nb_points)\n",
    "        group2 = np.random.multivariate_normal(group2_center,sigma,nb_points)\n",
    "        \n",
    "        return np.concatenate((group1, group2))\n",
    "\n",
    "# Utilisation de cette fonction :\n",
    "the_set = createGaussianDataset(np.array([2,2]),np.array([-2,-2]),np.array([[1.1,0],[0,1.1]]),100)\n",
    "\n",
    "# Affichage des points obtenus\n",
    "data_random = pd.DataFrame(the_set, columns = ['X', 'Y'])\n",
    "plt.scatter(data_random['X'],data_random['Y'])\n",
    "\n",
    "# Normalisation pour pouvoir utiliser la fonction kmoyennes() par la suite:\n",
    "DataRandom = km.normalisation(data_random)"
   ]
  },
  {
   "cell_type": "markdown",
   "metadata": {},
   "source": [
    "<font size=\"+1\" color=\"RED\">**[Q]**</font> Tester la fonction <tt>kmoyennes()</tt> sur le jeu de données généré en utilisant différentes valeurs de $K$."
   ]
  },
  {
   "cell_type": "code",
   "execution_count": 7,
   "metadata": {},
   "outputs": [
    {
     "name": "stdout",
     "output_type": "stream",
     "text": [
      "iteration 0 Inertie :  8.241141573110282 Difference: inf\n",
      "iteration 1 Inertie :  5.921948568378848 Difference: 2.3191930047314333\n"
     ]
    },
    {
     "data": {
      "image/png": "[encoded data removed]",
      "text/plain": [
       "<matplotlib.figure.Figure at 0x112f13da0>"
      ]
     },
     "metadata": {},
     "output_type": "display_data"
    }
   ],
   "source": [
    "les_centresRand1, l_affectationRand1 = km.kmoyennes(2, DataRandom, 0.05, 100)\n",
    "\n",
    "km.affiche_resultat(DataRandom,les_centresRand1,l_affectationRand1)"
   ]
  },
  {
   "cell_type": "code",
   "execution_count": 8,
   "metadata": {},
   "outputs": [
    {
     "name": "stdout",
     "output_type": "stream",
     "text": [
      "iteration 0 Inertie :  5.169511556136651 Difference: inf\n",
      "iteration 1 Inertie :  5.090366214289394 Difference: 0.07914534184725763\n",
      "iteration 2 Inertie :  5.036493776884553 Difference: 0.05387243740484049\n"
     ]
    },
    {
     "data": {
      "image/png": "[encoded data removed]",
      "text/plain": [
       "<matplotlib.figure.Figure at 0x112d0f6d8>"
      ]
     },
     "metadata": {},
     "output_type": "display_data"
    }
   ],
   "source": [
    "les_centresRand1, l_affectationRand1 = km.kmoyennes(3, DataRandom, 0.05, 100)\n",
    "\n",
    "km.affiche_resultat(DataRandom,les_centresRand1,l_affectationRand1)"
   ]
  },
  {
   "cell_type": "code",
   "execution_count": 9,
   "metadata": {},
   "outputs": [
    {
     "name": "stdout",
     "output_type": "stream",
     "text": [
      "iteration 0 Inertie :  3.920214933596635 Difference: inf\n",
      "iteration 1 Inertie :  3.4751166644652685 Difference: 0.44509826913136674\n",
      "iteration 2 Inertie :  3.1269572214422343 Difference: 0.34815944302303414\n",
      "iteration 3 Inertie :  2.988676817062751 Difference: 0.1382804043794832\n"
     ]
    },
    {
     "data": {
      "image/png": "[encoded data removed]",
      "text/plain": [
       "<matplotlib.figure.Figure at 0x112faeda0>"
      ]
     },
     "metadata": {},
     "output_type": "display_data"
    }
   ],
   "source": [
    "les_centresRand1, l_affectationRand1 = km.kmoyennes(5, DataRandom, 0.05, 100)\n",
    "\n",
    "km.affiche_resultat(DataRandom,les_centresRand1,l_affectationRand1)"
   ]
  },
  {
   "cell_type": "code",
   "execution_count": 10,
   "metadata": {},
   "outputs": [
    {
     "name": "stdout",
     "output_type": "stream",
     "text": [
      "iteration 0 Inertie :  3.66301116405694 Difference: inf\n",
      "iteration 1 Inertie :  3.292686406245119 Difference: 0.37032475781182095\n",
      "iteration 2 Inertie :  3.167511544094304 Difference: 0.12517486215081508\n",
      "iteration 3 Inertie :  3.013198313749489 Difference: 0.15431323034481492\n",
      "iteration 4 Inertie :  2.8987920556011706 Difference: 0.11440625814831851\n"
     ]
    },
    {
     "data": {
      "image/png": "[encoded data removed]",
      "text/plain": [
       "<matplotlib.figure.Figure at 0x114106a20>"
      ]
     },
     "metadata": {},
     "output_type": "display_data"
    }
   ],
   "source": [
    "les_centresRand2, l_affectationRand2 = km.kmoyennes(6, DataRandom, 0.05, 100)\n",
    "\n",
    "km.affiche_resultat(DataRandom,les_centresRand2,l_affectationRand2)"
   ]
  },
  {
   "cell_type": "markdown",
   "metadata": {},
   "source": [
    "## Evaluation du résultat d'un clustering\n",
    "\n",
    "L'évaluation du résultat d'un clustering, c'est-à-dire la mesure de la \"qualité\" des clusters obtenus, s'effectue selon 2 critères :\n",
    "- la **compacité** des clusters obtenus\n",
    "- la **séparabilité** des clusters obtenus\n"
   ]
  },
  {
   "cell_type": "markdown",
   "metadata": {},
   "source": [
    "### Mesurer la compacité d'un cluster\n",
    "\n",
    "Il existe plusieurs possibilités pour définir une mesure de compacité d'un cluster. \n",
    "\n",
    "Une telle mesure évalue la proximité des exemples qui sont affectés au cluster.\n",
    "\n",
    "Exemples de mesures de compacité (en utilisant les notations du cours) :\n",
    "- la mesure $J_k$ qui mesure l'inertie intra-cluster et qui a été implémentée dans la fonction <tt>inertie_cluster()</tt>\n",
    "\n",
    "- la mesure de distance intra-cluster $D_{k}$ qui évalue la distance maximale entre 2 exemples d'un même cluster pour l'ensemble des clusters obtenus:\n",
    "$$D_k = \\max_{x, y \\in C_k } (d_{E}(x,y))$$\n"
   ]
  },
  {
   "cell_type": "markdown",
   "metadata": {},
   "source": [
    "<font size=\"+1\" color=\"RED\">**[Q]**</font> Ecrire la fonction <tt>dist_intracluster</tt> qui, étant donné un ensemble d'exemples, correspondant aux exemples d'un même cluster, rend la valeur de la distance intra-cluster correspondante."
   ]
  },
  {
   "cell_type": "code",
   "execution_count": 16,
   "metadata": {},
   "outputs": [],
   "source": [
    "def dist_intracluster(ensemble):\n",
    "    max_distance=-999\n",
    "    for i in range(0,len(ensemble)):\n",
    "        for j in range(0,len(ensemble)):\n",
    "            current=km.dist_vect(ensemble.iloc[i],ensemble.iloc[j])\n",
    "            if (max_distance < current):\n",
    "                max_distance=current\n",
    "    return max_distance"
   ]
  },
  {
   "cell_type": "code",
   "execution_count": 22,
   "metadata": {},
   "outputs": [
    {
     "data": {
      "text/plain": [
       "{0: [0, 1, 2, 3, 4], 1: [5, 6, 7, 9, 11, 13], 2: [8, 10, 12]}"
      ]
     },
     "execution_count": 22,
     "metadata": {},
     "output_type": "execute_result"
    }
   ],
   "source": [
    "l_affectation\n"
   ]
  },
  {
   "cell_type": "code",
   "execution_count": 17,
   "metadata": {},
   "outputs": [
    {
     "name": "stdout",
     "output_type": "stream",
     "text": [
      "pour 0 : inertie = 0.36914285714285705\tdistance = 0.6645544771207432\n",
      "pour 1 : inertie = 0.30030612244897964\tdistance = 0.5862367008195198\n",
      "pour 2 : inertie = 0.05047619047619047\tdistance = 0.2931183504097598\n"
     ]
    }
   ],
   "source": [
    "# Avec les données jouet:\n",
    "for k in range(0,len(l_affectation)):\n",
    "    DF = DataFnorm.iloc[l_affectation[k]]\n",
    "    print(\"pour \"+str(k)+\" : inertie = \" + str(km.inertie_cluster(DF)) + \"\\tdistance = \"+  str(dist_intracluster(DF)))\n"
   ]
  },
  {
   "cell_type": "code",
   "execution_count": 18,
   "metadata": {},
   "outputs": [
    {
     "name": "stdout",
     "output_type": "stream",
     "text": [
      "pour 0 : inertie = 1.266323539218283\tdistance = 0.5006977557658623\n",
      "pour 1 : inertie = 0.5151548810498651\tdistance = 0.5485336994560647\n",
      "pour 2 : inertie = 0.5019577885768193\tdistance = 0.41683666799993\n"
     ]
    }
   ],
   "source": [
    "# Avec les données générées aléatoirement:\n",
    "for k in range(0,len(l_affectation)):\n",
    "    DF = DataRandom.iloc[l_affectationRand2[k]]\n",
    "    print(\"pour \"+str(k)+\" : inertie = \" + str(km.inertie_cluster(DF)) + \"\\tdistance = \"+  str(dist_intracluster(DF)))\n"
   ]
  },
  {
   "cell_type": "markdown",
   "metadata": {},
   "source": [
    "Etant donné une partition $P$, on peut mesurer la compacité globale des clusters de cette partition en agrégeant les compacités intra-custer de chaque cluster.\n",
    "\n",
    "Ainsi, dans notre cas, on peut définir 2 mesures de compacité globable:\n",
    "- la compacité inertielle $Co_{inertie}$ d'une partition $P$:\n",
    "    $$Co_{inertie}(P) = J(P)$$\n",
    "- la compacité intra-clusters $Co_{dist}$ d'une partition $P$\n",
    "$$Co_{dist}(P) = \\max_{k=1..K} D_k$$\n"
   ]
  },
  {
   "cell_type": "markdown",
   "metadata": {},
   "source": [
    "<font size=\"+1\" color=\"RED\">**[Q]**</font> Ecrire la fonction <tt>global_intraclusters</tt> qui, étant donné une base d'exemples et un \n",
    "dictionnaire d'affectation d'exemples à des clusters rend la valeur de la distance intra-clusters correspondante."
   ]
  },
  {
   "cell_type": "code",
   "execution_count": 25,
   "metadata": {},
   "outputs": [],
   "source": [
    "def global_intraclusters(DF,dict_affect):\n",
    "    list_dist = []\n",
    "    for k in dict_affect.keys():\n",
    "        tmp_dataF = DF.iloc[dict_affect[k]]\n",
    "        list_dist.append(dist_intracluster(tmp_dataF))\n",
    "    return max(list_dist)"
   ]
  },
  {
   "cell_type": "code",
   "execution_count": 26,
   "metadata": {},
   "outputs": [
    {
     "name": "stdout",
     "output_type": "stream",
     "text": [
      "Données jouet: 0.6645544771207432\n",
      "Données aléatoire: 0.5485336994560647\n",
      "Avec l'inertie :\n",
      "Données jouet: 0.7199251700680271\n",
      "Données aléatoire: 2.8538027440516585\n"
     ]
    }
   ],
   "source": [
    "# Exemples:\n",
    "print(\"Données jouet: \"+str(global_intraclusters(DataFnorm,l_affectation)))\n",
    "print(\"Données aléatoire: \"+str(global_intraclusters(DataRandom,l_affectationRand2)))\n",
    "\n",
    "print(\"Avec l'inertie :\")\n",
    "print(\"Données jouet: \"+str(km.inertie_globale(DataFnorm,l_affectation)))\n",
    "print(\"Données aléatoire: \"+str(km.inertie_globale(DataRandom,l_affectationRand2)))\n"
   ]
  },
  {
   "cell_type": "markdown",
   "metadata": {},
   "source": [
    "### Mesurer la séparabilité\n",
    "\n",
    "Une mesure de séparabilité évalue la distance entre les groupes d'un clustering d'une partition $P$ donnée.\n",
    "\n",
    "Il existe plusieurs mesures de ce genre, par exemple, la mesure la plus évidente est la distance minimale entre deux clusters de la :\n",
    "    $$Se_{min}(P) = \\min_{k= 1..K, l=1..K}(d_E(c_k,c_l)) $$\n"
   ]
  },
  {
   "cell_type": "markdown",
   "metadata": {},
   "source": [
    "<font size=\"+1\" color=\"RED\">**[Q]**</font> Ecrire la fonction <tt>sep_clusters</tt> qui, étant donné un ensemble de centres rend la valeur de la distance minimale entre 2 centres.\n",
    "    "
   ]
  },
  {
   "cell_type": "code",
   "execution_count": 27,
   "metadata": {},
   "outputs": [],
   "source": [
    "def sep_clusters (ens_centres):\n",
    "    listDist = []\n",
    "    for i in range(len(ens_centres)):\n",
    "        for j in range(len(ens_centres)):\n",
    "            if i != j:\n",
    "                listDist.append(km.dist_vect(ens_centres.iloc[i], ens_centres.iloc[j]))\n",
    "            \n",
    "    return min(listDist)"
   ]
  },
  {
   "cell_type": "code",
   "execution_count": 28,
   "metadata": {},
   "outputs": [
    {
     "name": "stdout",
     "output_type": "stream",
     "text": [
      "Séparabilité: 0.5987394165151388\n"
     ]
    }
   ],
   "source": [
    "# Avec les données jouet:\n",
    "print(\"Séparabilité: \"+str(sep_clusters(les_centres)))\n"
   ]
  },
  {
   "cell_type": "code",
   "execution_count": 29,
   "metadata": {},
   "outputs": [
    {
     "name": "stdout",
     "output_type": "stream",
     "text": [
      "Séparabilité: 0.19566060905451926\n"
     ]
    }
   ],
   "source": [
    "# Avec les données générées aléatoirement:\n",
    "print(\"Séparabilité: \"+str(sep_clusters(les_centresRand2)))\n"
   ]
  },
  {
   "cell_type": "markdown",
   "metadata": {},
   "source": [
    "### Evaluation d'un clustering\n",
    "\n",
    "Pour obtenir une évaluation du résultat d'un clustering, on combine une mesure de sa séparabilité et une mesure de sa compacité globale.\n",
    "Par exemple (remarque: nous donnons ici des versions adaptées à notre tp de ces mesures):\n",
    "- index de Dunn d'une partition $P$:\n",
    "$$I_{Dunn}(P)= \\frac{Co_{dist}(P)}{Se_{min}(P)}$$\n",
    "\n",
    "- index de Xie et Beni d'une partition $P$:\n",
    "$$I_{XB}(P) = \\frac{Co_{inertie}(P)}{Se_{min}(P)}$$\n",
    "\n",
    "Dans les 2 cas, une bonne partition minimise la valeur de l'index."
   ]
  },
  {
   "cell_type": "markdown",
   "metadata": {},
   "source": [
    "<font size=\"+1\" color=\"RED\">**[Q]**</font> Ecrire la fonction <tt>evaluation()</tt> qui prend en argument une chaîne de caractères donnant le nom de l'index choisi (\"Dunn\" ou \"XB\"), une base d'exemples, un ensemble de centres et une affectation, et rend la valeur de l'index correspondant."
   ]
  },
  {
   "cell_type": "code",
   "execution_count": 33,
   "metadata": {},
   "outputs": [],
   "source": [
    "def evaluation(nom_index, DF, centroides, l_affect):\n",
    "    if(nom_index == \"Dunn\"):\n",
    "        return global_intraclusters(DF,l_affect)/sep_clusters(centroides)\n",
    "    if (nom_index == \"XB\"):\n",
    "        return km.inertie_globale(DF,l_affect)/sep_clusters(centroides)"
   ]
  },
  {
   "cell_type": "code",
   "execution_count": 34,
   "metadata": {},
   "outputs": [
    {
     "name": "stdout",
     "output_type": "stream",
     "text": [
      "Pour les données jouet:\n",
      "\tDunn:\t1.109922712268836\n",
      "\tXB:\t1.202401495893204\n",
      "Pour les données aléatoires (6 clusters):\n",
      "\tDunn:\t2.8034958191468173\n",
      "\tXB:\t14.585474091294836\n",
      "Pour les données aléatoires (5 clusters):\n",
      "\tDunn:\t3.2068681067341767\n",
      "\tXB:\t14.671464495723125\n"
     ]
    }
   ],
   "source": [
    "print(\"Pour les données jouet:\")\n",
    "print(\"\\tDunn:\\t\"+str(evaluation(\"Dunn\",DataFnorm,les_centres,l_affectation)))\n",
    "print(\"\\tXB:\\t\"+str(evaluation(\"XB\",DataFnorm,les_centres,l_affectation)))\n",
    "\n",
    "print(\"Pour les données aléatoires (6 clusters):\")\n",
    "print(\"\\tDunn:\\t\"+str(evaluation(\"Dunn\",DataRandom,les_centresRand2,l_affectationRand2)))\n",
    "print(\"\\tXB:\\t\"+str(evaluation(\"XB\",DataRandom,les_centresRand2,l_affectationRand2)))\n",
    "\n",
    "print(\"Pour les données aléatoires (5 clusters):\")\n",
    "print(\"\\tDunn:\\t\"+str(evaluation(\"Dunn\",DataRandom,les_centresRand1,l_affectationRand1)))\n",
    "print(\"\\tXB:\\t\"+str(evaluation(\"XB\",DataRandom,les_centresRand1,l_affectationRand1)))\n"
   ]
  },
  {
   "cell_type": "markdown",
   "metadata": {},
   "source": [
    "## Optimiser le nombre de clusters\n",
    "\n",
    "La mesure d'évaluation d'un clustering précédente peut être utilisée pour déterminer automatiquement une bonne valeur pour $K$ (le nombre de clusters de la partition).\n",
    "\n",
    "Ainsi, pour une base d'exemples $X$, l'approche suivante peut être utilisée :\n",
    "- choisir une valeur pour $K$\n",
    "- appliquer l'algorithme des K-moyennes avec cette valeur $K$ sur la base $X$\n",
    "- évaluer le résultat du clustering obtenu en utilisant un index\n",
    "- recommencer pour une autre valeur de $K$ et comparer le résultat, \n",
    "on choisit alors la valeur de $K$ qui a donné la meilleure partition selon le critère choisi.\n"
   ]
  },
  {
   "cell_type": "markdown",
   "metadata": {},
   "source": [
    "<font size=\"+1\" color=\"RED\">**[Q]**</font> Implémenter l'approche d'optimisation du nombre de clusters. Vous devez tester des valeurs de $K$ de $2$ à $10$ et afficher la valeur optimale du nombre de clusters. Vous tracerez la courbe donnant la valeur de l'index obtenue pour chaque valeur de $K$ testée. Vous réaliserez cette expérimentation d'abord avec l'index de Dunn, puis avec l'index de Xie-Beni.\n",
    "\n",
    "Tester plusieurs bases d'exemples, en particulier, construire des bases d'exemples aléatoires contenant plusieurs groupes (2, 3, 4, 5 groupes) et afficher la courbe de la variation de l'index pour des valeurs de $K$ variant de 2 à 10."
   ]
  },
  {
   "cell_type": "code",
   "execution_count": 40,
   "metadata": {},
   "outputs": [],
   "source": [
    "def optimisation(K,DF):\n",
    "    les_centres, l_affectation = km.kmoyennes(K, DF, 0.1, 200)\n",
    "    indexDunn=evaluation(\"Dunn\",DF,les_centres,l_affectation)\n",
    "    indexXB=evaluation(\"XB\",DF,les_centres,l_affectation)\n",
    "    return [indexDunn,indexXB]"
   ]
  },
  {
   "cell_type": "code",
   "execution_count": 41,
   "metadata": {},
   "outputs": [
    {
     "name": "stdout",
     "output_type": "stream",
     "text": [
      "iteration 0 Inertie :  2.144030612244898 Difference: inf\n",
      "iteration 1 Inertie :  2.0417052154195012 Difference: 0.10232539682539699\n",
      "iteration 2 Inertie :  1.6188338192419824 Difference: 0.4228713961775188\n",
      "iteration 3 Inertie :  1.4279421768707483 Difference: 0.19089164237123413\n"
     ]
    },
    {
     "data": {
      "text/plain": [
       "[1.4882100686918716, 2.125077925128837]"
      ]
     },
     "execution_count": 41,
     "metadata": {},
     "output_type": "execute_result"
    }
   ],
   "source": [
    "optimisation (2,DataFnorm)"
   ]
  },
  {
   "cell_type": "code",
   "execution_count": 44,
   "metadata": {},
   "outputs": [
    {
     "name": "stdout",
     "output_type": "stream",
     "text": [
      "iteration 0 Inertie :  1.4718950437317784 Difference: inf\n",
      "iteration 0 Inertie :  0.9323935860058308 Difference: inf\n",
      "iteration 1 Inertie :  0.7812585034013606 Difference: 0.15113508260447017\n",
      "iteration 0 Inertie :  0.5479455782312924 Difference: inf\n",
      "iteration 0 Inertie :  0.4190748299319728 Difference: inf\n",
      "iteration 1 Inertie :  0.23427891156462588 Difference: 0.18479591836734693\n",
      "iteration 0 Inertie :  0.45818027210884354 Difference: inf\n",
      "iteration 1 Inertie :  0.28387755102040824 Difference: 0.1743027210884353\n",
      "iteration 0 Inertie :  0.18306122448979595 Difference: inf\n",
      "iteration 0 Inertie :  0.15299319727891159 Difference: inf\n",
      "iteration 0 Inertie :  0.08323129251700681 Difference: inf\n",
      "iteration 0 Inertie :  0.053027210884353755 Difference: inf\n"
     ]
    },
    {
     "data": {
      "image/png": "[encoded data removed]",
      "text/plain": [
       "<matplotlib.figure.Figure at 0x112fc8518>"
      ]
     },
     "metadata": {},
     "output_type": "display_data"
    }
   ],
   "source": [
    "index_Dunn = []\n",
    "index_XB = []\n",
    "for k in range(2, 11):\n",
    "    dunn, xb = optimisation(k, DataFnorm)\n",
    "    index_Dunn.append(dunn)\n",
    "    index_XB.append(xb)\n",
    "plt.plot([i for i in range(2, 11)], index_Dunn, color='r')\n",
    "plt.plot([i for i in range(2, 11)], index_XB, color='y')\n",
    "plt.xlabel(\"valeur de K\")\n",
    "plt.ylabel(\"valeur de l'index XB et Dunn\")\n",
    "plt.show()"
   ]
  },
  {
   "cell_type": "markdown",
   "metadata": {},
   "source": [
    "# Valeur de K vaut 7 est mieux pour Dunn et 8 pour XB"
   ]
  },
  {
   "cell_type": "code",
   "execution_count": 46,
   "metadata": {},
   "outputs": [
    {
     "name": "stdout",
     "output_type": "stream",
     "text": [
      "iteration 0 Inertie :  1.8025668934240362 Difference: inf\n",
      "iteration 1 Inertie :  1.6934098639455784 Difference: 0.10915702947845785\n",
      "iteration 2 Inertie :  1.4718950437317784 Difference: 0.22151482021379998\n",
      "iteration 0 Inertie :  1.0542157434402333 Difference: inf\n",
      "iteration 0 Inertie :  1.036584062196307 Difference: inf\n",
      "iteration 1 Inertie :  0.740170068027211 Difference: 0.296413994169096\n",
      "iteration 2 Inertie :  0.6329251700680273 Difference: 0.10724489795918368\n",
      "iteration 0 Inertie :  0.7223061224489795 Difference: inf\n",
      "iteration 1 Inertie :  0.5047210884353741 Difference: 0.2175850340136054\n",
      "iteration 0 Inertie :  0.45011904761904764 Difference: inf\n",
      "iteration 1 Inertie :  0.1628231292517007 Difference: 0.2872959183673469\n",
      "iteration 0 Inertie :  0.2009183673469388 Difference: inf\n",
      "iteration 0 Inertie :  0.16221088435374154 Difference: inf\n",
      "iteration 0 Inertie :  0.08309523809523814 Difference: inf\n",
      "iteration 0 Inertie :  0.08068027210884354 Difference: inf\n"
     ]
    },
    {
     "data": {
      "image/png": "[encoded data removed]",
      "text/plain": [
       "<matplotlib.figure.Figure at 0x1153bdef0>"
      ]
     },
     "metadata": {},
     "output_type": "display_data"
    }
   ],
   "source": [
    "index_Dunn = []\n",
    "index_XB = []\n",
    "for k in range(2, 11):\n",
    "    dunn, xb = optimisation(k, DataFnorm)\n",
    "    index_Dunn.append(dunn)\n",
    "    index_XB.append(xb)\n",
    "plt.plot([i for i in range(2, 11)], index_Dunn, color='r')\n",
    "plt.plot([i for i in range(2, 11)], index_XB, color='y')\n",
    "plt.xlabel(\"valeur de K\")\n",
    "plt.ylabel(\"valeur de l'index XB et Dunn\")\n",
    "plt.show()"
   ]
  },
  {
   "cell_type": "markdown",
   "metadata": {},
   "source": [
    "# Valeur de K vaut 6 est mieux pour Dunn et 7 pour XB"
   ]
  },
  {
   "cell_type": "markdown",
   "metadata": {},
   "source": [
    "## Application à des données réelles\n",
    "\n",
    "- Appliquer l'algorithme aux données concernant les déchets de la ville de Paris\n",
    "- Trouver des bases d'apprentissage intéressantes sur http://opendata.paris.fr/\n"
   ]
  },
  {
   "cell_type": "code",
   "execution_count": 51,
   "metadata": {},
   "outputs": [
    {
     "data": {
      "text/html": [
       "<div>\n",
       "<style scoped>\n",
       "    .dataframe tbody tr th:only-of-type {\n",
       "        vertical-align: middle;\n",
       "    }\n",
       "\n",
       "    .dataframe tbody tr th {\n",
       "        vertical-align: top;\n",
       "    }\n",
       "\n",
       "    .dataframe thead th {\n",
       "        text-align: right;\n",
       "    }\n",
       "</style>\n",
       "<table border=\"1\" class=\"dataframe\">\n",
       "  <thead>\n",
       "    <tr style=\"text-align: right;\">\n",
       "      <th></th>\n",
       "      <th>janv-11</th>\n",
       "      <th>févr-11</th>\n",
       "      <th>mars-11</th>\n",
       "      <th>avr-11</th>\n",
       "      <th>mai-11</th>\n",
       "      <th>juin-11</th>\n",
       "      <th>juil-11</th>\n",
       "      <th>août-11</th>\n",
       "      <th>sept-11</th>\n",
       "      <th>oct-11</th>\n",
       "      <th>nov-11</th>\n",
       "      <th>déc-11</th>\n",
       "    </tr>\n",
       "  </thead>\n",
       "  <tbody>\n",
       "    <tr>\n",
       "      <th>0</th>\n",
       "      <td>288.1</td>\n",
       "      <td>249.1</td>\n",
       "      <td>303.7</td>\n",
       "      <td>255.8</td>\n",
       "      <td>287.8</td>\n",
       "      <td>288.4</td>\n",
       "      <td>249.6</td>\n",
       "      <td>185.6</td>\n",
       "      <td>281.3</td>\n",
       "      <td>284.3</td>\n",
       "      <td>296.4</td>\n",
       "      <td>301.1</td>\n",
       "    </tr>\n",
       "    <tr>\n",
       "      <th>1</th>\n",
       "      <td>596.5</td>\n",
       "      <td>540.2</td>\n",
       "      <td>618.5</td>\n",
       "      <td>558.6</td>\n",
       "      <td>595.9</td>\n",
       "      <td>581.7</td>\n",
       "      <td>539.2</td>\n",
       "      <td>490.5</td>\n",
       "      <td>597.8</td>\n",
       "      <td>575.7</td>\n",
       "      <td>580.5</td>\n",
       "      <td>601.4</td>\n",
       "    </tr>\n",
       "    <tr>\n",
       "      <th>2</th>\n",
       "      <td>464.0</td>\n",
       "      <td>404.9</td>\n",
       "      <td>465.3</td>\n",
       "      <td>420.2</td>\n",
       "      <td>405.3</td>\n",
       "      <td>446.0</td>\n",
       "      <td>412.9</td>\n",
       "      <td>348.7</td>\n",
       "      <td>449.3</td>\n",
       "      <td>446.3</td>\n",
       "      <td>453.1</td>\n",
       "      <td>484.3</td>\n",
       "    </tr>\n",
       "    <tr>\n",
       "      <th>3</th>\n",
       "      <td>903.1</td>\n",
       "      <td>801.4</td>\n",
       "      <td>937.5</td>\n",
       "      <td>835.5</td>\n",
       "      <td>876.8</td>\n",
       "      <td>888.6</td>\n",
       "      <td>628.8</td>\n",
       "      <td>674.8</td>\n",
       "      <td>913.3</td>\n",
       "      <td>878.7</td>\n",
       "      <td>895.7</td>\n",
       "      <td>935.8</td>\n",
       "    </tr>\n",
       "    <tr>\n",
       "      <th>4</th>\n",
       "      <td>451.1</td>\n",
       "      <td>412.4</td>\n",
       "      <td>491.6</td>\n",
       "      <td>422.7</td>\n",
       "      <td>363.6</td>\n",
       "      <td>446.4</td>\n",
       "      <td>409.5</td>\n",
       "      <td>332.3</td>\n",
       "      <td>416.4</td>\n",
       "      <td>451.5</td>\n",
       "      <td>475.1</td>\n",
       "      <td>513.5</td>\n",
       "    </tr>\n",
       "    <tr>\n",
       "      <th>5</th>\n",
       "      <td>427.0</td>\n",
       "      <td>394.3</td>\n",
       "      <td>455.2</td>\n",
       "      <td>419.9</td>\n",
       "      <td>458.3</td>\n",
       "      <td>456.6</td>\n",
       "      <td>418.0</td>\n",
       "      <td>361.8</td>\n",
       "      <td>464.6</td>\n",
       "      <td>453.4</td>\n",
       "      <td>478.5</td>\n",
       "      <td>470.9</td>\n",
       "    </tr>\n",
       "    <tr>\n",
       "      <th>6</th>\n",
       "      <td>323.4</td>\n",
       "      <td>287.3</td>\n",
       "      <td>350.3</td>\n",
       "      <td>317.8</td>\n",
       "      <td>336.9</td>\n",
       "      <td>340.7</td>\n",
       "      <td>311.6</td>\n",
       "      <td>281.0</td>\n",
       "      <td>345.6</td>\n",
       "      <td>335.6</td>\n",
       "      <td>367.0</td>\n",
       "      <td>354.5</td>\n",
       "    </tr>\n",
       "    <tr>\n",
       "      <th>7</th>\n",
       "      <td>153.0</td>\n",
       "      <td>125.8</td>\n",
       "      <td>136.6</td>\n",
       "      <td>126.6</td>\n",
       "      <td>133.2</td>\n",
       "      <td>127.6</td>\n",
       "      <td>126.7</td>\n",
       "      <td>114.3</td>\n",
       "      <td>144.3</td>\n",
       "      <td>145.1</td>\n",
       "      <td>129.5</td>\n",
       "      <td>129.8</td>\n",
       "    </tr>\n",
       "    <tr>\n",
       "      <th>8</th>\n",
       "      <td>116.3</td>\n",
       "      <td>115.7</td>\n",
       "      <td>133.4</td>\n",
       "      <td>115.0</td>\n",
       "      <td>123.2</td>\n",
       "      <td>120.5</td>\n",
       "      <td>114.5</td>\n",
       "      <td>97.6</td>\n",
       "      <td>130.5</td>\n",
       "      <td>123.0</td>\n",
       "      <td>124.3</td>\n",
       "      <td>133.7</td>\n",
       "    </tr>\n",
       "    <tr>\n",
       "      <th>9</th>\n",
       "      <td>252.6</td>\n",
       "      <td>246.7</td>\n",
       "      <td>252.9</td>\n",
       "      <td>232.5</td>\n",
       "      <td>199.4</td>\n",
       "      <td>236.4</td>\n",
       "      <td>175.4</td>\n",
       "      <td>189.4</td>\n",
       "      <td>266.6</td>\n",
       "      <td>230.3</td>\n",
       "      <td>257.7</td>\n",
       "      <td>224.4</td>\n",
       "    </tr>\n",
       "    <tr>\n",
       "      <th>10</th>\n",
       "      <td>484.2</td>\n",
       "      <td>445.9</td>\n",
       "      <td>517.0</td>\n",
       "      <td>452.0</td>\n",
       "      <td>402.0</td>\n",
       "      <td>488.0</td>\n",
       "      <td>456.0</td>\n",
       "      <td>409.0</td>\n",
       "      <td>506.0</td>\n",
       "      <td>495.0</td>\n",
       "      <td>493.0</td>\n",
       "      <td>502.0</td>\n",
       "    </tr>\n",
       "    <tr>\n",
       "      <th>11</th>\n",
       "      <td>584.1</td>\n",
       "      <td>571.2</td>\n",
       "      <td>684.7</td>\n",
       "      <td>590.3</td>\n",
       "      <td>563.4</td>\n",
       "      <td>666.3</td>\n",
       "      <td>570.4</td>\n",
       "      <td>433.2</td>\n",
       "      <td>679.7</td>\n",
       "      <td>656.1</td>\n",
       "      <td>662.6</td>\n",
       "      <td>699.9</td>\n",
       "    </tr>\n",
       "    <tr>\n",
       "      <th>12</th>\n",
       "      <td>394.1</td>\n",
       "      <td>366.3</td>\n",
       "      <td>422.7</td>\n",
       "      <td>367.1</td>\n",
       "      <td>273.5</td>\n",
       "      <td>381.7</td>\n",
       "      <td>353.4</td>\n",
       "      <td>297.0</td>\n",
       "      <td>414.0</td>\n",
       "      <td>350.0</td>\n",
       "      <td>410.6</td>\n",
       "      <td>410.0</td>\n",
       "    </tr>\n",
       "    <tr>\n",
       "      <th>14</th>\n",
       "      <td>75.3</td>\n",
       "      <td>60.4</td>\n",
       "      <td>71.2</td>\n",
       "      <td>59.5</td>\n",
       "      <td>73.9</td>\n",
       "      <td>72.0</td>\n",
       "      <td>57.9</td>\n",
       "      <td>56.4</td>\n",
       "      <td>75.5</td>\n",
       "      <td>75.7</td>\n",
       "      <td>65.8</td>\n",
       "      <td>79.1</td>\n",
       "    </tr>\n",
       "    <tr>\n",
       "      <th>15</th>\n",
       "      <td>247.0</td>\n",
       "      <td>211.0</td>\n",
       "      <td>251.0</td>\n",
       "      <td>218.0</td>\n",
       "      <td>185.0</td>\n",
       "      <td>224.0</td>\n",
       "      <td>213.3</td>\n",
       "      <td>162.9</td>\n",
       "      <td>203.4</td>\n",
       "      <td>232.1</td>\n",
       "      <td>227.6</td>\n",
       "      <td>251.6</td>\n",
       "    </tr>\n",
       "    <tr>\n",
       "      <th>16</th>\n",
       "      <td>222.0</td>\n",
       "      <td>189.0</td>\n",
       "      <td>218.0</td>\n",
       "      <td>192.0</td>\n",
       "      <td>180.0</td>\n",
       "      <td>199.0</td>\n",
       "      <td>171.8</td>\n",
       "      <td>134.8</td>\n",
       "      <td>183.1</td>\n",
       "      <td>195.5</td>\n",
       "      <td>213.8</td>\n",
       "      <td>204.1</td>\n",
       "    </tr>\n",
       "    <tr>\n",
       "      <th>17</th>\n",
       "      <td>273.0</td>\n",
       "      <td>248.6</td>\n",
       "      <td>292.2</td>\n",
       "      <td>255.2</td>\n",
       "      <td>284.3</td>\n",
       "      <td>267.3</td>\n",
       "      <td>246.6</td>\n",
       "      <td>210.3</td>\n",
       "      <td>280.6</td>\n",
       "      <td>275.6</td>\n",
       "      <td>284.6</td>\n",
       "      <td>283.2</td>\n",
       "    </tr>\n",
       "    <tr>\n",
       "      <th>18</th>\n",
       "      <td>487.2</td>\n",
       "      <td>422.2</td>\n",
       "      <td>491.0</td>\n",
       "      <td>437.0</td>\n",
       "      <td>466.0</td>\n",
       "      <td>443.0</td>\n",
       "      <td>373.5</td>\n",
       "      <td>367.5</td>\n",
       "      <td>511.9</td>\n",
       "      <td>490.6</td>\n",
       "      <td>469.2</td>\n",
       "      <td>487.9</td>\n",
       "    </tr>\n",
       "    <tr>\n",
       "      <th>19</th>\n",
       "      <td>183.9</td>\n",
       "      <td>173.1</td>\n",
       "      <td>204.2</td>\n",
       "      <td>183.0</td>\n",
       "      <td>203.2</td>\n",
       "      <td>181.9</td>\n",
       "      <td>191.2</td>\n",
       "      <td>153.6</td>\n",
       "      <td>208.6</td>\n",
       "      <td>186.5</td>\n",
       "      <td>192.9</td>\n",
       "      <td>189.9</td>\n",
       "    </tr>\n",
       "  </tbody>\n",
       "</table>\n",
       "</div>"
      ],
      "text/plain": [
       "    janv-11  févr-11  mars-11  avr-11  mai-11  juin-11  juil-11  août-11  \\\n",
       "0     288.1    249.1    303.7   255.8   287.8    288.4    249.6    185.6   \n",
       "1     596.5    540.2    618.5   558.6   595.9    581.7    539.2    490.5   \n",
       "2     464.0    404.9    465.3   420.2   405.3    446.0    412.9    348.7   \n",
       "3     903.1    801.4    937.5   835.5   876.8    888.6    628.8    674.8   \n",
       "4     451.1    412.4    491.6   422.7   363.6    446.4    409.5    332.3   \n",
       "5     427.0    394.3    455.2   419.9   458.3    456.6    418.0    361.8   \n",
       "6     323.4    287.3    350.3   317.8   336.9    340.7    311.6    281.0   \n",
       "7     153.0    125.8    136.6   126.6   133.2    127.6    126.7    114.3   \n",
       "8     116.3    115.7    133.4   115.0   123.2    120.5    114.5     97.6   \n",
       "9     252.6    246.7    252.9   232.5   199.4    236.4    175.4    189.4   \n",
       "10    484.2    445.9    517.0   452.0   402.0    488.0    456.0    409.0   \n",
       "11    584.1    571.2    684.7   590.3   563.4    666.3    570.4    433.2   \n",
       "12    394.1    366.3    422.7   367.1   273.5    381.7    353.4    297.0   \n",
       "14     75.3     60.4     71.2    59.5    73.9     72.0     57.9     56.4   \n",
       "15    247.0    211.0    251.0   218.0   185.0    224.0    213.3    162.9   \n",
       "16    222.0    189.0    218.0   192.0   180.0    199.0    171.8    134.8   \n",
       "17    273.0    248.6    292.2   255.2   284.3    267.3    246.6    210.3   \n",
       "18    487.2    422.2    491.0   437.0   466.0    443.0    373.5    367.5   \n",
       "19    183.9    173.1    204.2   183.0   203.2    181.9    191.2    153.6   \n",
       "\n",
       "    sept-11  oct-11  nov-11  déc-11  \n",
       "0     281.3   284.3   296.4   301.1  \n",
       "1     597.8   575.7   580.5   601.4  \n",
       "2     449.3   446.3   453.1   484.3  \n",
       "3     913.3   878.7   895.7   935.8  \n",
       "4     416.4   451.5   475.1   513.5  \n",
       "5     464.6   453.4   478.5   470.9  \n",
       "6     345.6   335.6   367.0   354.5  \n",
       "7     144.3   145.1   129.5   129.8  \n",
       "8     130.5   123.0   124.3   133.7  \n",
       "9     266.6   230.3   257.7   224.4  \n",
       "10    506.0   495.0   493.0   502.0  \n",
       "11    679.7   656.1   662.6   699.9  \n",
       "12    414.0   350.0   410.6   410.0  \n",
       "14     75.5    75.7    65.8    79.1  \n",
       "15    203.4   232.1   227.6   251.6  \n",
       "16    183.1   195.5   213.8   204.1  \n",
       "17    280.6   275.6   284.6   283.2  \n",
       "18    511.9   490.6   469.2   487.9  \n",
       "19    208.6   186.5   192.9   189.9  "
      ]
     },
     "execution_count": 51,
     "metadata": {},
     "output_type": "execute_result"
    }
   ],
   "source": [
    "data_Paris = pd.read_csv(\"data/base-Paris.csv\",delimiter = \";\")\n",
    "data_T_Paris = data_Paris.drop([13,13])\n",
    "data_T_Paris = data_T_Paris.drop(['Granularité','Total arrondissement 2011'],axis=1)\n",
    "data_T_Paris = data_T_Paris.astype(np.float64)\n",
    "data_T_Paris.head(-1)"
   ]
  },
  {
   "cell_type": "code",
   "execution_count": 54,
   "metadata": {},
   "outputs": [],
   "source": [
    "DataFnorm_Paris = km.normalisation (data_T_Paris)"
   ]
  },
  {
   "cell_type": "code",
   "execution_count": 55,
   "metadata": {},
   "outputs": [
    {
     "name": "stdout",
     "output_type": "stream",
     "text": [
      "iteration 0 Inertie :  1.4642348679759367 Difference: inf\n",
      "Affichage des centres:      janv-11   févr-11   mars-11    avr-11    mai-11   juin-11   juil-11  \\\n",
      "0  0.198081  0.210488  0.205142  0.205799  0.173318  0.192418  0.260866   \n",
      "1  0.748087  0.778947  0.779984  0.775730  0.753269  0.783982  0.913587   \n",
      "2  0.432109  0.445441  0.444369  0.445545  0.389356  0.437074  0.582939   \n",
      "3  0.047797  0.054296  0.049098  0.052663  0.045087  0.042493  0.073218   \n",
      "\n",
      "    août-11   sept-11    oct-11    nov-11    déc-11  \n",
      "0  0.185987  0.190789  0.191781  0.211075  0.189481  \n",
      "1  0.770429  0.781531  0.781818  0.779773  0.778102  \n",
      "2  0.462599  0.439808  0.443426  0.462345  0.445130  \n",
      "3  0.053417  0.049256  0.048443  0.049082  0.040971  \n",
      "Affichage des affectations:  {0: [0, 9, 14, 15, 16, 18, 19], 1: [1, 3, 11], 2: [2, 4, 5, 6, 10, 12, 17], 3: [7, 8, 13]}\n"
     ]
    }
   ],
   "source": [
    "les_centres, l_affectation = km.kmoyennes(4, DataFnorm_Paris, 0.05, 100)\n",
    "\n",
    "print(\"Affichage des centres: \",les_centres)\n",
    "print(\"Affichage des affectations: \",l_affectation)"
   ]
  },
  {
   "cell_type": "code",
   "execution_count": 58,
   "metadata": {},
   "outputs": [
    {
     "name": "stdout",
     "output_type": "stream",
     "text": [
      "iteration 0 Inertie :  4.840763455228623 Difference: inf\n",
      "iteration 1 Inertie :  4.591586893353623 Difference: 0.24917656187500015\n",
      "iteration 0 Inertie :  4.262501294299799 Difference: inf\n",
      "iteration 1 Inertie :  3.847683169464462 Difference: 0.4148181248353371\n",
      "iteration 2 Inertie :  3.7003487994864606 Difference: 0.14733436997800142\n",
      "iteration 0 Inertie :  1.8971728705550879 Difference: inf\n",
      "iteration 1 Inertie :  1.7757482533618836 Difference: 0.1214246171932043\n",
      "iteration 0 Inertie :  1.939539909514367 Difference: inf\n",
      "iteration 1 Inertie :  1.2966390728171184 Difference: 0.6429008366972486\n",
      "iteration 0 Inertie :  1.1174521491197016 Difference: inf\n",
      "iteration 1 Inertie :  0.9797079200567645 Difference: 0.13774422906293704\n",
      "iteration 0 Inertie :  1.5026017161605936 Difference: inf\n",
      "iteration 1 Inertie :  1.0861648927983452 Difference: 0.4164368233622484\n",
      "iteration 0 Inertie :  0.41667231133942995 Difference: inf\n",
      "iteration 0 Inertie :  0.4998020351125074 Difference: inf\n",
      "iteration 1 Inertie :  0.17094370536051834 Difference: 0.3288583297519891\n",
      "iteration 0 Inertie :  0.3814412107905075 Difference: inf\n"
     ]
    },
    {
     "data": {
      "image/png": "[encoded data removed]",
      "text/plain": [
       "<matplotlib.figure.Figure at 0x114f7ec50>"
      ]
     },
     "metadata": {},
     "output_type": "display_data"
    }
   ],
   "source": [
    "index_Dunn = []\n",
    "index_XB = []\n",
    "for k in range(2, 11):\n",
    "    dunn, xb = optimisation(k, DataFnorm_Paris)\n",
    "    index_Dunn.append(dunn)\n",
    "    index_XB.append(xb)\n",
    "plt.plot([i for i in range(2, 11)], index_Dunn, color='r')\n",
    "plt.plot([i for i in range(2, 11)], index_XB, color='y')\n",
    "plt.xlabel(\"valeur de K\")\n",
    "plt.ylabel(\"valeur de l'index XB et Dunn\")\n",
    "plt.show()"
   ]
  },
  {
   "cell_type": "code",
   "execution_count": null,
   "metadata": {},
   "outputs": [],
   "source": []
  }
 ],
 "metadata": {
  "kernelspec": {
   "display_name": "Python 3",
   "language": "python",
   "name": "python3"
  },
  "language_info": {
   "codemirror_mode": {
    "name": "ipython",
    "version": 3
   },
   "file_extension": ".py",
   "mimetype": "text/x-python",
   "name": "python",
   "nbconvert_exporter": "python",
   "pygments_lexer": "ipython3",
   "version": "3.6.4"
  }
 },
 "nbformat": 4,
 "nbformat_minor": 1
}
