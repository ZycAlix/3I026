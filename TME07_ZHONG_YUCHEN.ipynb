{
 "cells": [
  {
   "cell_type": "markdown",
   "metadata": {},
   "source": [
    "IA & Data science -- 2017-2018\n",
    "--------\n",
    "*&copy; Equipe pédagogique: Ludovic Denoyer, Thibault Laugel, Marie-Jeanne Lesot, Christophe Marsala, Olivier Schwander*"
   ]
  },
  {
   "cell_type": "markdown",
   "metadata": {},
   "source": [
    "# TD-TME07: algorithmes d'apprentissage non-supervisé"
   ]
  },
  {
   "cell_type": "markdown",
   "metadata": {},
   "source": [
    "L'objectif de ce TP est d'implémenter des algorithmes d'apprentissage non-supervisé (cf. cours 8), en particulier, l'algorithme de classification hiérarchique."
   ]
  },
  {
   "cell_type": "markdown",
   "metadata": {},
   "source": [
    "<font size=\"+1\">**[Q]**</font> **Indiquer dans la boîte ci-dessous vos noms et prénoms :**"
   ]
  },
  {
   "cell_type": "markdown",
   "metadata": {},
   "source": [
    "ZHONG_YUCHEN"
   ]
  },
  {
   "cell_type": "markdown",
   "metadata": {},
   "source": [
    "## Questions de cours (à faire chez vous, sur papier)\n",
    "\n",
    "Pour vous entraîner sans machine...\n",
    "\n",
    "**[Q]** Montrer que la distance de Manhattan est bien une mesure de distance.\n",
    "\n",
    "**[Q]** Dans le cours, 4 approches possibles ont été données afin de calculer la distance entre 2 groupes :\n",
    "- l'approche du chaînage minimum est appelée \"simple linkage\"\n",
    "- l'approche du chaînage maximum, est appelée \"complete linkage\"\n",
    "- l'approche du chaînage moyenne est appelée \"average linkage\"\n",
    "- l'approche du par centre de gravité est appelée \"centroid linkage\"\n",
    "\n",
    "On considère une mesure de distance $d$. Soit $A =\\{a_1,a_2,...,a_{|A|}\\}$ et $B =\\{b_1,b_2,...,b_{|B|}\\}$ deux groupes d'exemples. Donner l'expression de la distance entre $A$ et $B$ pour chacune des approches.\n",
    "\n",
    "\n",
    "**[Q]** En utilisant la distance euclidienne et l'approche \"centroid linkage\", appliquer, \"à la main\", l'algorithme de clustering hiérarchique, méthode par agglomération, sur les données fournies sur le transparent 10 du cours 2 (coin haut gauche). Dans cette page, les données correspondent à 9 points dans un espace 2D: $X_1 \\times X_2$. Le point 1 est le point de coordonnées $(-0.5, -1.0)$, etc. \n",
    "Construire le dendrogramme correspondant.\n",
    "\n",
    "rem : dans la page du cours, les 3 premiers clusters construits sont donnés.\n",
    "\n"
   ]
  },
  {
   "cell_type": "markdown",
   "metadata": {},
   "source": [
    "\n",
    "## Préparation"
   ]
  },
  {
   "cell_type": "markdown",
   "metadata": {},
   "source": [
    "Avant de commencer, exécuter le bloc suivant afin de pouvoir initialiser des variables utiles :"
   ]
  },
  {
   "cell_type": "code",
   "execution_count": 1,
   "metadata": {},
   "outputs": [],
   "source": [
    "import numpy as np\n",
    "import pandas as pd\n",
    "from datetime import datetime as dt\n",
    "import matplotlib.pyplot as plt\n",
    "%matplotlib inline  "
   ]
  },
  {
   "cell_type": "markdown",
   "metadata": {},
   "source": [
    "## Travail à réaliser"
   ]
  },
  {
   "cell_type": "markdown",
   "metadata": {},
   "source": [
    "Le travail à faire se décompose en 2 phases :\n",
    "- dans un premier temps, le travail porte sur la base d'apprentissage \"base-2D.csv\" qui contient des exemples décrits dans $R^2$. Ainsi, il est plus aisé de visualiser les résultats des fonctions à écrire ;\n",
    "- dans un second temps, les fonctions écrites dans la phase précédente sont à utiliser avec la base d'apprentissage \"base-Paris.csv\".\n",
    "\n",
    "**Attention**: vos fonctions doivent **dès leur création** pouvoir s'appliquer **quelle que soit la dimension** des exemples traités."
   ]
  },
  {
   "cell_type": "markdown",
   "metadata": {},
   "source": [
    "## Phase 1: implémentation des fonctions de base"
   ]
  },
  {
   "cell_type": "markdown",
   "metadata": {},
   "source": [
    "### Chargement du fichier \"base_2D.csv\""
   ]
  },
  {
   "cell_type": "markdown",
   "metadata": {},
   "source": [
    "La lecture d'un fichier CSV par <code>pd.read()</code> fournit un <code>DataFrame</code> que vous avez appris à manipuler dans les TP précédent."
   ]
  },
  {
   "cell_type": "code",
   "execution_count": 2,
   "metadata": {},
   "outputs": [
    {
     "name": "stdout",
     "output_type": "stream",
     "text": [
      "Il y a 14 exemples dans la base.\n"
     ]
    }
   ],
   "source": [
    "# Par exemple:\n",
    "data_2D = pd.read_csv(\"data/base-2D.csv\")\n",
    "print(\"Il y a\", len(data_2D), \"exemples dans la base.\")"
   ]
  },
  {
   "cell_type": "markdown",
   "metadata": {},
   "source": [
    "Une fois chargée, on peut afficher le contenu de la base d'apprentissage :"
   ]
  },
  {
   "cell_type": "code",
   "execution_count": 3,
   "metadata": {},
   "outputs": [
    {
     "data": {
      "text/html": [
       "<div>\n",
       "<style scoped>\n",
       "    .dataframe tbody tr th:only-of-type {\n",
       "        vertical-align: middle;\n",
       "    }\n",
       "\n",
       "    .dataframe tbody tr th {\n",
       "        vertical-align: top;\n",
       "    }\n",
       "\n",
       "    .dataframe thead th {\n",
       "        text-align: right;\n",
       "    }\n",
       "</style>\n",
       "<table border=\"1\" class=\"dataframe\">\n",
       "  <thead>\n",
       "    <tr style=\"text-align: right;\">\n",
       "      <th></th>\n",
       "      <th>X</th>\n",
       "      <th>Y</th>\n",
       "    </tr>\n",
       "  </thead>\n",
       "  <tbody>\n",
       "    <tr>\n",
       "      <th>0</th>\n",
       "      <td>0.0</td>\n",
       "      <td>4.0</td>\n",
       "    </tr>\n",
       "    <tr>\n",
       "      <th>1</th>\n",
       "      <td>1.0</td>\n",
       "      <td>3.5</td>\n",
       "    </tr>\n",
       "    <tr>\n",
       "      <th>2</th>\n",
       "      <td>1.0</td>\n",
       "      <td>1.0</td>\n",
       "    </tr>\n",
       "    <tr>\n",
       "      <th>3</th>\n",
       "      <td>2.0</td>\n",
       "      <td>1.0</td>\n",
       "    </tr>\n",
       "    <tr>\n",
       "      <th>4</th>\n",
       "      <td>2.0</td>\n",
       "      <td>2.0</td>\n",
       "    </tr>\n",
       "    <tr>\n",
       "      <th>5</th>\n",
       "      <td>4.0</td>\n",
       "      <td>4.0</td>\n",
       "    </tr>\n",
       "    <tr>\n",
       "      <th>6</th>\n",
       "      <td>4.0</td>\n",
       "      <td>5.0</td>\n",
       "    </tr>\n",
       "    <tr>\n",
       "      <th>7</th>\n",
       "      <td>4.0</td>\n",
       "      <td>6.0</td>\n",
       "    </tr>\n",
       "    <tr>\n",
       "      <th>8</th>\n",
       "      <td>4.5</td>\n",
       "      <td>1.0</td>\n",
       "    </tr>\n",
       "    <tr>\n",
       "      <th>9</th>\n",
       "      <td>4.5</td>\n",
       "      <td>6.0</td>\n",
       "    </tr>\n",
       "    <tr>\n",
       "      <th>10</th>\n",
       "      <td>5.0</td>\n",
       "      <td>1.0</td>\n",
       "    </tr>\n",
       "    <tr>\n",
       "      <th>11</th>\n",
       "      <td>5.0</td>\n",
       "      <td>5.0</td>\n",
       "    </tr>\n",
       "    <tr>\n",
       "      <th>12</th>\n",
       "      <td>6.0</td>\n",
       "      <td>2.0</td>\n",
       "    </tr>\n",
       "  </tbody>\n",
       "</table>\n",
       "</div>"
      ],
      "text/plain": [
       "      X    Y\n",
       "0   0.0  4.0\n",
       "1   1.0  3.5\n",
       "2   1.0  1.0\n",
       "3   2.0  1.0\n",
       "4   2.0  2.0\n",
       "5   4.0  4.0\n",
       "6   4.0  5.0\n",
       "7   4.0  6.0\n",
       "8   4.5  1.0\n",
       "9   4.5  6.0\n",
       "10  5.0  1.0\n",
       "11  5.0  5.0\n",
       "12  6.0  2.0"
      ]
     },
     "execution_count": 3,
     "metadata": {},
     "output_type": "execute_result"
    }
   ],
   "source": [
    "data_2D.head(-1)"
   ]
  },
  {
   "cell_type": "markdown",
   "metadata": {},
   "source": [
    "**[Q]** Exécuter le code suivant qui permet de réaliser une représentation graphique de cette base d'apprentissage.\n"
   ]
  },
  {
   "cell_type": "code",
   "execution_count": 4,
   "metadata": {},
   "outputs": [
    {
     "data": {
      "text/plain": [
       "<matplotlib.collections.PathCollection at 0x114bc9dd8>"
      ]
     },
     "execution_count": 4,
     "metadata": {},
     "output_type": "execute_result"
    },
    {
     "data": {
      "image/png": "[encoded data removed]",
      "text/plain": [
       "<matplotlib.figure.Figure at 0x1119b6940>"
      ]
     },
     "metadata": {},
     "output_type": "display_data"
    }
   ],
   "source": [
    "M_data2D= data_2D.as_matrix()      # conversion du DataFrame en matrice pour la commande suivante\n",
    "colonne_X= M_data2D[0: , 0]        # récupération des valeurs de la première colonne\n",
    "colonne_Y= M_data2D[0: , 1]        # récupération des valeurs de la deuxième colonne\n",
    "plt.scatter(colonne_X, colonne_Y)  # affichage des points"
   ]
  },
  {
   "cell_type": "markdown",
   "metadata": {},
   "source": [
    "*Rappel*: la librairie <code>pandas</code> permet de connaître le minimum et le maximum d'un <code>DataFrame</code>, par exemple:\n"
   ]
  },
  {
   "cell_type": "code",
   "execution_count": 395,
   "metadata": {},
   "outputs": [
    {
     "data": {
      "text/plain": [
       "array([0.        , 0.14285714, 0.14285714, 0.28571429, 0.28571429,\n",
       "       0.57142857, 0.57142857, 0.57142857, 0.64285714, 0.64285714,\n",
       "       0.71428571, 0.71428571, 0.85714286, 1.        ])"
      ]
     },
     "execution_count": 395,
     "metadata": {},
     "output_type": "execute_result"
    }
   ],
   "source": [
    "M_data2D[:,0]"
   ]
  },
  {
   "cell_type": "code",
   "execution_count": 11,
   "metadata": {},
   "outputs": [
    {
     "name": "stdout",
     "output_type": "stream",
     "text": [
      "colonne X : 0.0 7.0\n",
      "colonne Y : 1.0 6.0\n"
     ]
    },
    {
     "data": {
      "text/plain": [
       "Index(['X', 'Y'], dtype='object')"
      ]
     },
     "execution_count": 11,
     "metadata": {},
     "output_type": "execute_result"
    }
   ],
   "source": [
    "# data_2D est le DataFrame dans lequel le fichier \"base-2D.csv\" a été chargé\n",
    "for e in data_2D.columns:\n",
    "    print(\"colonne\", e, \":\", data_2D[e].min(), data_2D[e].max())\n"
   ]
  },
  {
   "cell_type": "markdown",
   "metadata": {},
   "source": [
    "## Fonctions préliminaires"
   ]
  },
  {
   "cell_type": "markdown",
   "metadata": {},
   "source": [
    "### Normalisation des données"
   ]
  },
  {
   "cell_type": "markdown",
   "metadata": {},
   "source": [
    "**[Q]** Ecrire la fonction <code>normalisation()</code> qui prend en argument un <code>DataFrame</code> et rend la matrice obtenue en normalisant chaque colonne de ce <code>DataFrame</code> en appliquant la normalisation vue en cours.\n"
   ]
  },
  {
   "cell_type": "code",
   "execution_count": 16,
   "metadata": {},
   "outputs": [
    {
     "name": "stdout",
     "output_type": "stream",
     "text": [
      "[[0.         0.6       ]\n",
      " [0.14285714 0.5       ]\n",
      " [0.14285714 0.        ]\n",
      " [0.28571429 0.        ]\n",
      " [0.28571429 0.2       ]\n",
      " [0.57142857 0.6       ]\n",
      " [0.57142857 0.8       ]\n",
      " [0.57142857 1.        ]\n",
      " [0.64285714 0.        ]\n",
      " [0.64285714 1.        ]\n",
      " [0.71428571 0.        ]\n",
      " [0.71428571 0.8       ]\n",
      " [0.85714286 0.2       ]\n",
      " [1.         0.6       ]]\n"
     ]
    }
   ],
   "source": [
    "def normalisation(df):\n",
    "    M_df = df.as_matrix()\n",
    "    for index,val in enumerate(df.columns):\n",
    "        M_df[:,index] = (M_df[:,index]-df[val].min())/(df[val].max()-df[val].min())\n",
    "    return M_df\n",
    "\n",
    "M_data2D = normalisation(data_2D)\n",
    "print(M_data2D)\n"
   ]
  },
  {
   "cell_type": "markdown",
   "metadata": {},
   "source": [
    "**[Q]** Une fois la fonction de normalisation écrite, normaliser les données de la base-2D et afficher leur représentation graphique: vérifier que le tracé est le même que celui obtenu avant la normalisation (aux valeurs des axes près)."
   ]
  },
  {
   "cell_type": "code",
   "execution_count": 17,
   "metadata": {},
   "outputs": [
    {
     "data": {
      "text/plain": [
       "<matplotlib.collections.PathCollection at 0x11cb349e8>"
      ]
     },
     "execution_count": 17,
     "metadata": {},
     "output_type": "execute_result"
    },
    {
     "data": {
      "image/png": "[encoded data removed]",
      "text/plain": [
       "<matplotlib.figure.Figure at 0x11b278860>"
      ]
     },
     "metadata": {},
     "output_type": "display_data"
    }
   ],
   "source": [
    "colonne_X= M_data2D[0: , 0]        # récupération des valeurs de la première colonne\n",
    "colonne_Y= M_data2D[0: , 1]        # récupération des valeurs de la deuxième colonne\n",
    "plt.scatter(colonne_X, colonne_Y)  # affichage des points"
   ]
  },
  {
   "cell_type": "markdown",
   "metadata": {},
   "source": [
    "### Distances entre exemples"
   ]
  },
  {
   "cell_type": "markdown",
   "metadata": {},
   "source": [
    "**[Q]** Ecrire la fonction <code>dist_euclidienne_vect()</code> qui prend en argument deux exemples et rend leur distance euclidienne. "
   ]
  },
  {
   "cell_type": "code",
   "execution_count": 18,
   "metadata": {},
   "outputs": [],
   "source": [
    "def dist_euclidienne_vect(v1,v2):\n",
    "    return np.sqrt(sum(np.square(v1-v2)))"
   ]
  },
  {
   "cell_type": "code",
   "execution_count": 19,
   "metadata": {},
   "outputs": [
    {
     "name": "stdout",
     "output_type": "stream",
     "text": [
      "v1 :  [0.  0.6] \n",
      "v2 :  [0.14285714 0.5       ]\n",
      "distance euclidienne entre v1 et v2 :  0.17437936593905287\n"
     ]
    }
   ],
   "source": [
    "# Exemple d'utilisation sur les 2 premiers exemples de la base:\n",
    "v1= M_data2D[0,:]\n",
    "v2= M_data2D[1,:]\n",
    "print(\"v1 : \",v1, \"\\nv2 : \",v2)\n",
    "\n",
    "print(\"distance euclidienne entre v1 et v2 : \", dist_euclidienne_vect(v1,v2))"
   ]
  },
  {
   "cell_type": "markdown",
   "metadata": {},
   "source": [
    "**[Q]** Ecrire la fonction <code>dist_manhattan_vect()</code> qui prend en argument deux exemples et rend leur distance de Manhattan. "
   ]
  },
  {
   "cell_type": "code",
   "execution_count": 20,
   "metadata": {},
   "outputs": [],
   "source": [
    "def dist_manhattan_vect(v1,v2):\n",
    "    return sum(abs(v1-v2));"
   ]
  },
  {
   "cell_type": "code",
   "execution_count": 21,
   "metadata": {
    "scrolled": true
   },
   "outputs": [
    {
     "name": "stdout",
     "output_type": "stream",
     "text": [
      "v1 :  [0.  0.6] \n",
      "v2 :  [0.14285714 0.5       ]\n",
      "distance de Manhattan entre v1 et v2 :  0.24285714285714283\n"
     ]
    }
   ],
   "source": [
    "# Exemple d'utilisation sur les 2 premiers exemples de la base:\n",
    "v1= M_data2D[0,:]\n",
    "v2= M_data2D[1,:]\n",
    "print(\"v1 : \",v1, \"\\nv2 : \",v2)\n",
    "\n",
    "print(\"distance de Manhattan entre v1 et v2 : \", dist_manhattan_vect(v1,v2))"
   ]
  },
  {
   "cell_type": "markdown",
   "metadata": {},
   "source": [
    "**[Q]** Ecrire la fonction <code>dist_vect()</code> qui prend en argument une chaîne de caractères (soit la chaîne \"euclidienne\", soit \"manhattan\") ainsi que deux vecteurs et qui rend leur distance soit euclidienne, soit de Manhattan selon le cas."
   ]
  },
  {
   "cell_type": "code",
   "execution_count": 255,
   "metadata": {},
   "outputs": [],
   "source": [
    "def dist_vect(nom_function,v1,v2):\n",
    "    if(nom_function == \"euclidienne\"):\n",
    "        return dist_euclidienne_vect(v1,v2)\n",
    "    if(nom_function == \"manhattan\"):\n",
    "        return dist_manhattan_vect(v1,v2)"
   ]
  },
  {
   "cell_type": "code",
   "execution_count": 256,
   "metadata": {
    "scrolled": true
   },
   "outputs": [
    {
     "name": "stdout",
     "output_type": "stream",
     "text": [
      "v1 :  [0.  0.6] \n",
      "v2 :  [0.14285714 0.5       ]\n",
      "distance  euclidienne  entre v1 et v2 :\t 0.17437936593905287\n",
      "distance  manhattan  entre v1 et v2 :\t 0.24285714285714283\n"
     ]
    }
   ],
   "source": [
    "v1= M_data2D[0,:]\n",
    "v2= M_data2D[1,:]\n",
    "print(\"v1 : \",v1, \"\\nv2 : \",v2)\n",
    "\n",
    "for nom in [\"euclidienne\", \"manhattan\"] :\n",
    "    print(\"distance \", nom, \" entre v1 et v2 :\\t\", dist_vect(nom,v1,v2))\n"
   ]
  },
  {
   "cell_type": "markdown",
   "metadata": {},
   "source": [
    "### Calcul de centroides"
   ]
  },
  {
   "cell_type": "markdown",
   "metadata": {},
   "source": [
    "**[Q]** Ecrire la fonction <code>centroide()</code> qui, étant donné une matrice représentant plusieurs exemples rend le centroide (calculé en faisant la moyenne de chaque composante des vecteurs de la matrice).\n",
    "On fait l'hypothèse que la matrice contient toujours au moins un exemple."
   ]
  },
  {
   "cell_type": "code",
   "execution_count": 428,
   "metadata": {},
   "outputs": [],
   "source": [
    "def centroide(matrice):\n",
    "    cen = []\n",
    "    for n in range(0,matrice.shape[1]):\n",
    "        cen.append(np.mean(matrice[:,n]))\n",
    "    return np.array(cen)"
   ]
  },
  {
   "cell_type": "code",
   "execution_count": 429,
   "metadata": {},
   "outputs": [
    {
     "data": {
      "text/plain": [
       "array([[0.        , 0.6       ],\n",
       "       [0.14285714, 0.5       ],\n",
       "       [0.14285714, 0.        ],\n",
       "       [0.28571429, 0.        ],\n",
       "       [0.28571429, 0.2       ],\n",
       "       [0.57142857, 0.6       ],\n",
       "       [0.57142857, 0.8       ],\n",
       "       [0.57142857, 1.        ],\n",
       "       [0.64285714, 0.        ],\n",
       "       [0.64285714, 1.        ],\n",
       "       [0.71428571, 0.        ],\n",
       "       [0.71428571, 0.8       ],\n",
       "       [0.85714286, 0.2       ],\n",
       "       [1.        , 0.6       ]])"
      ]
     },
     "execution_count": 429,
     "metadata": {},
     "output_type": "execute_result"
    }
   ],
   "source": [
    "M_data2D"
   ]
  },
  {
   "cell_type": "code",
   "execution_count": 310,
   "metadata": {},
   "outputs": [
    {
     "data": {
      "text/plain": [
       "array([0.51020408, 0.45      ])"
      ]
     },
     "execution_count": 310,
     "metadata": {},
     "output_type": "execute_result"
    }
   ],
   "source": [
    "centroide(M_data2D)"
   ]
  },
  {
   "cell_type": "markdown",
   "metadata": {},
   "source": [
    "### Distances entre groupes d'exemples\n"
   ]
  },
  {
   "cell_type": "markdown",
   "metadata": {},
   "source": [
    "La distance entre deux groupes d'exemples correspond à la distance entre leurs centroïdes (approche de type \"centroid linkage\" vue en cours).\n",
    "\n",
    "**[Q]** Ecrire la fonction <code>dist_groupes()</code> qui prend en argument une chaîne de caractères (soit \"euclidienne\", soit \"manhattan\") ainsi que deux groupes de vecteurs et qui rend leur distance soit euclidienne, soit de Manhattan selon le cas.\n"
   ]
  },
  {
   "cell_type": "code",
   "execution_count": 311,
   "metadata": {},
   "outputs": [],
   "source": [
    "def dist_groupes(nom_function,gpV1,gpV2):\n",
    "    centroide1 = centroide(gpV1)\n",
    "    centroide2 = centroide(gpV2)\n",
    "    return dist_vect(nom_function,centroide1,centroide2)"
   ]
  },
  {
   "cell_type": "code",
   "execution_count": 312,
   "metadata": {},
   "outputs": [
    {
     "data": {
      "text/plain": [
       "0.586345478713841"
      ]
     },
     "execution_count": 312,
     "metadata": {},
     "output_type": "execute_result"
    }
   ],
   "source": [
    "# par exemple :\n",
    "res=dist_groupes(\"euclidienne\", M_data2D[0:4], M_data2D[5:13])\n",
    "res"
   ]
  },
  {
   "cell_type": "markdown",
   "metadata": {},
   "source": [
    "## L'algorithme de classification hiérarchique"
   ]
  },
  {
   "cell_type": "markdown",
   "metadata": {},
   "source": [
    "Dans la suite de cet exercice, une partition (qui est un groupe de clusters) est représentée par une structure de données de type dictionnaire (<code>dict()</code> en python) :\n",
    "- la clé est un numéro de cluster (sous la forme d'un entier naturel) ;\n",
    "- la valeur associée est une matrice contenant les exemples qui sont dans le cluster correspondant.\n",
    "\n",
    "On appelle \"partition\" un tel dictionnaire.\n"
   ]
  },
  {
   "cell_type": "markdown",
   "metadata": {},
   "source": [
    "**[Q]** Ecrire la fonction <code>initialise()</code> qui, étant donné une matrice M d'exemples, rend un dictionnaire contenant autant d'entrées que d'exemples dans M. Dans ce dictionnaire, une clé est numéro d'exemple (un entier compris entre 0 et n-1, le nombre d'exemples) et la valeur associée est une matrice d'exemples contenant un exemple de M."
   ]
  },
  {
   "cell_type": "code",
   "execution_count": 432,
   "metadata": {},
   "outputs": [],
   "source": [
    "def initialise(M):\n",
    "    dist = {}\n",
    "    for key, val in enumerate(M):\n",
    "        dist[key] = [val]\n",
    "    return dist"
   ]
  },
  {
   "cell_type": "code",
   "execution_count": 433,
   "metadata": {},
   "outputs": [
    {
     "data": {
      "text/plain": [
       "{0: [array([0. , 0.6])],\n",
       " 1: [array([0.14285714, 0.5       ])],\n",
       " 2: [array([0.14285714, 0.        ])],\n",
       " 3: [array([0.28571429, 0.        ])],\n",
       " 4: [array([0.28571429, 0.2       ])],\n",
       " 5: [array([0.57142857, 0.6       ])],\n",
       " 6: [array([0.57142857, 0.8       ])],\n",
       " 7: [array([0.57142857, 1.        ])],\n",
       " 8: [array([0.64285714, 0.        ])],\n",
       " 9: [array([0.64285714, 1.        ])],\n",
       " 10: [array([0.71428571, 0.        ])],\n",
       " 11: [array([0.71428571, 0.8       ])],\n",
       " 12: [array([0.85714286, 0.2       ])],\n",
       " 13: [array([1. , 0.6])]}"
      ]
     },
     "execution_count": 433,
     "metadata": {},
     "output_type": "execute_result"
    }
   ],
   "source": [
    "# Par exemple:\n",
    "depart = initialise(M_data2D)\n",
    "# cette partition contient autant de clusters que d'exemples: on a un cluster par exemple.\n",
    "depart "
   ]
  },
  {
   "cell_type": "markdown",
   "metadata": {},
   "source": [
    "### Variante 1: chaînage par centroides"
   ]
  },
  {
   "cell_type": "markdown",
   "metadata": {},
   "source": [
    "On souhaite implémenter ici l'algorithme de classification hiérarchique basé sur l'utilisation d'un chaînage par centroides (c'est-à-dire que la distance entre 2 groupes d'exemples est la distance entre leurs centroides, c'est l'approche \"centroid linkage\" vue en cours).\n",
    "\n",
    "On commence par implémenter une fonction qui, étant donné une partition, permet de regrouper les 2 clusters les plus proches. Ces 2 clusters sont alors fusionnés pour ne former qu'un unique groupe et ils sont retirés de la partition.\n",
    "On fait l'hypothèse que la partition initiale contient au moins 2 groupes.\n",
    "\n",
    "**[Q]** Ecrire la fonction <code>fusionne()</code> qui prend en argument un nom de distance (\"euclidienne\" ou \"manhattan\") et une partition C0 et qui rend 4 valeurs :\n",
    "- la partition C1 obtenue après fusion des 2 clusters les plus proches ;\n",
    "- les clés des 2 clusters de C0 qui ont été fusionnés et qui ont donc aussi été retirés de C1 ;\n",
    "- la distance qui séparait ces 2 clusters, calculée selon le nom de distance donné."
   ]
  },
  {
   "cell_type": "code",
   "execution_count": 456,
   "metadata": {},
   "outputs": [],
   "source": [
    "def centroide(matrice) :\n",
    "    point = []\n",
    "    for j in range(len(matrice[0])):\n",
    "        tmp = 0.0\n",
    "        for i in range(len(matrice)):\n",
    "            tmp += matrice[i][j]\n",
    "        point.append(tmp / float(len(matrice)))\n",
    "    \n",
    "    return np.array(point)"
   ]
  },
  {
   "cell_type": "code",
   "execution_count": 556,
   "metadata": {},
   "outputs": [],
   "source": [
    "matrice1 = [np.array([0.0,0.6])]\n",
    "matrice2 = np.array([[0.64285714, 0.        ],[0.71428571, 0.        ],[0.0,0.6]])\n",
    "#centroide(matrice)\n",
    "print(range(len(matrice1)))\n",
    "print(range(len(matrice2[0])))\n",
    "matrice1[0][0]\n",
    "matrice2[1][0]\n",
    "print(centroide(matrice1))\n",
    "centroide(matrice2)"
   ]
  },
  {
   "cell_type": "code",
   "execution_count": 565,
   "metadata": {},
   "outputs": [],
   "source": [
    "def fusionne(nom_function, C0):\n",
    "    dist_Min = 100\n",
    "    key_Min1 = -1\n",
    "    key_Min2 = -1\n",
    "    key_Max = -1\n",
    "    for key,val in C0.items():\n",
    "        if key > key_Max:\n",
    "            key_Max = key\n",
    "        for k, v in [(ke,va) for (ke,va) in C0.items() if(ke>key)]:\n",
    "            dist = dist_groupes(nom_function,val,v)\n",
    "            if dist < dist_Min:\n",
    "                dist_Min = dist\n",
    "                key_Min1 = key\n",
    "                key_Min2 = k\n",
    "    C0[key_Max+1] = np.concatenate([C0.pop(key_Min1),C0.pop(key_Min2)])\n",
    "    print(\"Fusion de  {}  et  {}  pour une distance de  {}\".format(key_Min1, key_Min2, dist_Min))\n",
    "    return C0, key_Min1, key_Min2, dist_Min\n",
    "                    "
   ]
  },
  {
   "cell_type": "code",
   "execution_count": 566,
   "metadata": {},
   "outputs": [
    {
     "name": "stdout",
     "output_type": "stream",
     "text": [
      "Fusion de  8  et  10  pour une distance de  0.0714285714285714\n"
     ]
    },
    {
     "data": {
      "text/plain": [
       "({0: [array([0. , 0.6])],\n",
       "  1: [array([0.14285714, 0.5       ])],\n",
       "  2: [array([0.14285714, 0.        ])],\n",
       "  3: [array([0.28571429, 0.        ])],\n",
       "  4: [array([0.28571429, 0.2       ])],\n",
       "  5: [array([0.57142857, 0.6       ])],\n",
       "  6: [array([0.57142857, 0.8       ])],\n",
       "  7: [array([0.57142857, 1.        ])],\n",
       "  9: [array([0.64285714, 1.        ])],\n",
       "  11: [array([0.71428571, 0.8       ])],\n",
       "  12: [array([0.85714286, 0.2       ])],\n",
       "  13: [array([1. , 0.6])],\n",
       "  14: array([[0.64285714, 0.        ],\n",
       "         [0.71428571, 0.        ]])},\n",
       " 8,\n",
       " 10,\n",
       " 0.0714285714285714)"
      ]
     },
     "execution_count": 566,
     "metadata": {},
     "output_type": "execute_result"
    }
   ],
   "source": [
    "# Par exemple:\n",
    "depart = initialise(M_data2D)\n",
    "fusionne(\"euclidienne\",depart)  "
   ]
  },
  {
   "cell_type": "markdown",
   "metadata": {},
   "source": [
    "### Construction de dendrogramme"
   ]
  },
  {
   "cell_type": "markdown",
   "metadata": {},
   "source": [
    "Le dendrogramme permet de visualiser les fusions de clusters réalisés tout au long du déroulement de l'algorithme de clustering hiérarchique.\n",
    "\n",
    "Pour construire un dendrogramme, il est nécessaire de construire la matrice suivante (que l'on appelle <code>M_Fusion</code> dans ce qui suit): pour chaque ligne, cette matrice contient 4 colonnes :\n",
    "- les 2 premières colonnes contiennent les clés des groupes fusionnés ;\n",
    "- la 3e colonne contient la distance qui séparait ces 2 groupes ;\n",
    "- la 4e colonne contient la valeur 2 (c'est une valeur sans importance pour nous).\n",
    " "
   ]
  },
  {
   "cell_type": "code",
   "execution_count": 567,
   "metadata": {},
   "outputs": [
    {
     "name": "stdout",
     "output_type": "stream",
     "text": [
      "Fusion de  8  et  10  pour une distance de  0.0714285714285714\n",
      "Fusion de  7  et  9  pour une distance de  0.07142857142857151\n",
      "Fusion de  2  et  3  pour une distance de  0.14285714285714285\n",
      "Fusion de  6  et  11  pour une distance de  0.1428571428571429\n",
      "Fusion de  0  et  1  pour une distance de  0.17437936593905287\n",
      "Fusion de  15  et  17  pour une distance de  0.20316375219039837\n",
      "Fusion de  4  et  16  pour une distance de  0.21237241067597867\n",
      "Fusion de  12  et  14  pour une distance de  0.26811891970176366\n",
      "Fusion de  5  et  19  pour une distance de  0.3047456282855976\n",
      "Fusion de  13  et  22  pour une distance de  0.4542857142857144\n",
      "Fusion de  20  et  21  pour une distance de  0.5000000000000001\n",
      "Fusion de  18  et  24  pour une distance de  0.638139657302555\n",
      "Fusion de  23  et  25  pour une distance de  0.6796842379114776\n",
      "\n",
      "La matrice M_Fusion obtenue :\n",
      " [[ 8.         10.          0.07142857  2.        ]\n",
      " [ 7.          9.          0.07142857  2.        ]\n",
      " [ 2.          3.          0.14285714  2.        ]\n",
      " [ 6.         11.          0.14285714  2.        ]\n",
      " [ 0.          1.          0.17437937  2.        ]\n",
      " [15.         17.          0.20316375  2.        ]\n",
      " [ 4.         16.          0.21237241  2.        ]\n",
      " [12.         14.          0.26811892  2.        ]\n",
      " [ 5.         19.          0.30474563  2.        ]\n",
      " [13.         22.          0.45428571  2.        ]\n",
      " [20.         21.          0.5         2.        ]\n",
      " [18.         24.          0.63813966  2.        ]\n",
      " [23.         25.          0.67968424  2.        ]]\n"
     ]
    }
   ],
   "source": [
    "# Exemple de construction de la matrice M_Fusion en utilisant les fonctions écrites\n",
    "# dans les questions précédentes\n",
    "\n",
    "# initialisation \n",
    "courant = initialise(M_data2D)       # clustering courant, au départ:s données data_2D normalisées\n",
    "M_Fusion = []                        # initialisation\n",
    "while len(courant) >=2:              # tant qu'il y a 2 groupes à fusionner\n",
    "    new,k1,k2,dist_min = fusionne('euclidienne',courant)\n",
    "    if(len(M_Fusion)==0):\n",
    "        M_Fusion = [k1,k2,dist_min,2]\n",
    "    else:\n",
    "        M_Fusion = np.vstack( [M_Fusion,[k1,k2,dist_min,2] ])\n",
    "    courant = new\n",
    "    \n",
    "print('\\nLa matrice M_Fusion obtenue :\\n',M_Fusion)"
   ]
  },
  {
   "cell_type": "markdown",
   "metadata": {},
   "source": [
    "Une fois la matrice <code>M_Fusion</code> construite, le tracé d'un histogramme s'effectue avec le code suivant :"
   ]
  },
  {
   "cell_type": "code",
   "execution_count": 568,
   "metadata": {},
   "outputs": [
    {
     "data": {
      "image/png": "[encoded data removed]",
      "text/plain": [
       "<matplotlib.figure.Figure at 0x61f976320>"
      ]
     },
     "metadata": {},
     "output_type": "display_data"
    }
   ],
   "source": [
    "import scipy.cluster.hierarchy\n",
    "\n",
    "# Paramètre de la fenêtre d'affichage: \n",
    "plt.figure(figsize=(30, 15)) # taille : largeur x hauteur\n",
    "plt.title('Dendrogramme', fontsize=25)    \n",
    "plt.xlabel('Exemple', fontsize=25)\n",
    "plt.ylabel('Distance', fontsize=25)\n",
    "\n",
    "# Construction du dendrogramme à partir de la matrice M_Fusion:\n",
    "scipy.cluster.hierarchy.dendrogram(\n",
    "    M_Fusion,\n",
    "    leaf_font_size=18.,  # taille des caractères de l'axe des X\n",
    ")\n",
    "\n",
    "# Affichage du résultat obtenu:\n",
    "plt.show()"
   ]
  },
  {
   "cell_type": "markdown",
   "metadata": {},
   "source": [
    "**[Q]** Ecrire la fonction <code>clustering_hierarchique()</code> qui, pour une base d'apprentissage et un nom de distance donné, permet de réaliser un clustering hiérarchique et de tracer le dendrogramme obtenu.\n",
    "\n",
    "La fonction rend la matrice <code>M_Fusion</code> construite."
   ]
  },
  {
   "cell_type": "code",
   "execution_count": 569,
   "metadata": {},
   "outputs": [
    {
     "name": "stdout",
     "output_type": "stream",
     "text": [
      "Fusion de  8  et  10  pour une distance de  0.0714285714285714\n",
      "Fusion de  7  et  9  pour une distance de  0.07142857142857151\n",
      "Fusion de  2  et  3  pour une distance de  0.14285714285714285\n",
      "Fusion de  6  et  11  pour une distance de  0.1428571428571429\n",
      "Fusion de  0  et  1  pour une distance de  0.17437936593905287\n",
      "Fusion de  15  et  17  pour une distance de  0.20316375219039837\n",
      "Fusion de  4  et  16  pour une distance de  0.21237241067597867\n",
      "Fusion de  12  et  14  pour une distance de  0.26811891970176366\n",
      "Fusion de  5  et  19  pour une distance de  0.3047456282855976\n",
      "Fusion de  13  et  22  pour une distance de  0.4542857142857144\n",
      "Fusion de  20  et  21  pour une distance de  0.5000000000000001\n",
      "Fusion de  18  et  24  pour une distance de  0.638139657302555\n",
      "Fusion de  23  et  25  pour une distance de  0.6796842379114776\n",
      "\n",
      "La matrice M_Fusion obtenue :\n",
      " [[ 8.         10.          0.07142857  2.        ]\n",
      " [ 7.          9.          0.07142857  2.        ]\n",
      " [ 2.          3.          0.14285714  2.        ]\n",
      " [ 6.         11.          0.14285714  2.        ]\n",
      " [ 0.          1.          0.17437937  2.        ]\n",
      " [15.         17.          0.20316375  2.        ]\n",
      " [ 4.         16.          0.21237241  2.        ]\n",
      " [12.         14.          0.26811892  2.        ]\n",
      " [ 5.         19.          0.30474563  2.        ]\n",
      " [13.         22.          0.45428571  2.        ]\n",
      " [20.         21.          0.5         2.        ]\n",
      " [18.         24.          0.63813966  2.        ]\n",
      " [23.         25.          0.67968424  2.        ]]\n"
     ]
    },
    {
     "data": {
      "image/png": "[encoded data removed]",
      "text/plain": [
       "<matplotlib.figure.Figure at 0x61f972ba8>"
      ]
     },
     "metadata": {},
     "output_type": "display_data"
    }
   ],
   "source": [
    "# --------------------------------------------------------\n",
    "# Rem: pour info, on pourrait obtenir la matrice M_fusion avec scipy:\n",
    "\n",
    "import scipy.cluster.hierarchy\n",
    "scipy.cluster.hierarchy.linkage(M_data2D)\n",
    "\n",
    "# mais on ne l'utilisera pas ici.\n",
    "# --------------------------------------------------------\n",
    "def clustering_hierarchique(nom_function,df):\n",
    "    M_df = normalisation(df)\n",
    "    courant = initialise(M_df)           # clustering courant, au départ:s données data_2D normalisées\n",
    "    M_Fusion = []                        # initialisation\n",
    "    while len(courant) >=2:              # tant qu'il y a 2 groupes à fusionner\n",
    "        new,k1,k2,dist_min = fusionne(nom_function,courant)\n",
    "        if(len(M_Fusion)==0):\n",
    "            M_Fusion = [k1,k2,dist_min,2]\n",
    "        else:\n",
    "            M_Fusion = np.vstack( [M_Fusion,[k1,k2,dist_min,2] ])\n",
    "        courant = new\n",
    "\n",
    "    print('\\nLa matrice M_Fusion obtenue :\\n',M_Fusion)\n",
    "    \n",
    "        # Paramètre de la fenêtre d'affichage: \n",
    "    plt.figure(figsize=(30, 15)) # taille : largeur x hauteur\n",
    "    plt.title('Dendrogramme', fontsize=25)    \n",
    "    plt.xlabel('Exemple', fontsize=25)\n",
    "    plt.ylabel('Distance', fontsize=25)\n",
    "\n",
    "    # Construction du dendrogramme à partir de la matrice M_Fusion:\n",
    "    scipy.cluster.hierarchy.dendrogram(\n",
    "        M_Fusion,\n",
    "        leaf_font_size=18.,  # taille des caractères de l'axe des X\n",
    "    )\n",
    "\n",
    "    # Affichage du résultat obtenu:\n",
    "    plt.show()\n",
    "\n",
    "clustering_hierarchique(\"euclidienne\",data_2D)"
   ]
  },
  {
   "cell_type": "markdown",
   "metadata": {},
   "source": [
    "### Comparaison de distances"
   ]
  },
  {
   "cell_type": "markdown",
   "metadata": {},
   "source": [
    "**[Q]** Réaliser un clustering en utilisant la distance de Manhattan. Comparer les résultats obtenus avec cette distance avec ceux obtenus avec la distance euclidienne."
   ]
  },
  {
   "cell_type": "code",
   "execution_count": 570,
   "metadata": {},
   "outputs": [
    {
     "name": "stdout",
     "output_type": "stream",
     "text": [
      "Fusion de  8  et  10  pour une distance de  0.0714285714285714\n",
      "Fusion de  7  et  9  pour une distance de  0.07142857142857151\n",
      "Fusion de  2  et  3  pour une distance de  0.14285714285714285\n",
      "Fusion de  6  et  11  pour une distance de  0.1428571428571429\n",
      "Fusion de  15  et  17  pour une distance de  0.23571428571428554\n",
      "Fusion de  0  et  1  pour une distance de  0.24285714285714283\n",
      "Fusion de  4  et  16  pour une distance de  0.27142857142857146\n",
      "Fusion de  5  et  18  pour une distance de  0.35357142857142854\n",
      "Fusion de  12  et  14  pour une distance de  0.3785714285714285\n",
      "Fusion de  20  et  22  pour une distance de  0.5000000000000001\n",
      "Fusion de  13  et  21  pour une distance de  0.6257142857142859\n",
      "Fusion de  19  et  24  pour une distance de  0.857142857142857\n",
      "Fusion de  23  et  25  pour une distance de  0.7095238095238097\n",
      "\n",
      "La matrice M_Fusion obtenue :\n",
      " [[ 8.         10.          0.07142857  2.        ]\n",
      " [ 7.          9.          0.07142857  2.        ]\n",
      " [ 2.          3.          0.14285714  2.        ]\n",
      " [ 6.         11.          0.14285714  2.        ]\n",
      " [15.         17.          0.23571429  2.        ]\n",
      " [ 0.          1.          0.24285714  2.        ]\n",
      " [ 4.         16.          0.27142857  2.        ]\n",
      " [ 5.         18.          0.35357143  2.        ]\n",
      " [12.         14.          0.37857143  2.        ]\n",
      " [20.         22.          0.5         2.        ]\n",
      " [13.         21.          0.62571429  2.        ]\n",
      " [19.         24.          0.85714286  2.        ]\n",
      " [23.         25.          0.70952381  2.        ]]\n"
     ]
    },
    {
     "data": {
      "image/png": "[encoded data removed]",
      "text/plain": [
       "<matplotlib.figure.Figure at 0x11b25f748>"
      ]
     },
     "metadata": {},
     "output_type": "display_data"
    }
   ],
   "source": [
    "clustering_hierarchique(\"manhattan\",data_2D)"
   ]
  },
  {
   "cell_type": "markdown",
   "metadata": {},
   "source": [
    "### Variante 2: chaînage complet (maximum des distances)"
   ]
  },
  {
   "cell_type": "markdown",
   "metadata": {},
   "source": [
    "On considère maintenant l'approche \"complete linkage\" vue en cours. Dans cette approche, la distance entre deux clusters G1 et G2 est égale à la plus grande distance existante entre un exemple de G1 et un exemple de G2.\n",
    "\n",
    "**[Q]** Ecrire la fonction <code>dist_max_groupes()</code> qui, étant donné deux clusters, calcule leur distance ainsi définie. Cette fonction prend 3 arguments: un nom de distance à utiliser (\"euclidienne\" ou \"manhattan\") et deux clusters.\n",
    "On fait l'hypothèse que les 2 clusters contiennent au moins un exemple.\n"
   ]
  },
  {
   "cell_type": "code",
   "execution_count": 577,
   "metadata": {},
   "outputs": [],
   "source": [
    "def dist_max_groupes(nom_function,C1,C2):\n",
    "    dist_Max = -1\n",
    "    key1 = -1\n",
    "    key2 = -1\n",
    "    for k1,ex1 in enumerate(C1):\n",
    "        for k2,ex2 in enumerate(C2):\n",
    "            dist = dist_vect(nom_function,ex1,ex2)\n",
    "            if(dist_Max < dist):\n",
    "                dist_Max = dist\n",
    "                key1 = k1\n",
    "                key2 = k2\n",
    "    return dist_Max"
   ]
  },
  {
   "cell_type": "code",
   "execution_count": 578,
   "metadata": {},
   "outputs": [
    {
     "data": {
      "text/plain": [
       "array([[0.        , 0.6       ],\n",
       "       [0.14285714, 0.5       ],\n",
       "       [0.14285714, 0.        ],\n",
       "       [0.28571429, 0.        ],\n",
       "       [0.28571429, 0.2       ]])"
      ]
     },
     "execution_count": 578,
     "metadata": {},
     "output_type": "execute_result"
    }
   ],
   "source": [
    "M_data2D[0:5]"
   ]
  },
  {
   "cell_type": "code",
   "execution_count": 579,
   "metadata": {},
   "outputs": [
    {
     "data": {
      "text/plain": [
       "1.118033988749895"
      ]
     },
     "execution_count": 579,
     "metadata": {},
     "output_type": "execute_result"
    }
   ],
   "source": [
    "dist_max_groupes(\"euclidienne\", M_data2D[0:5], M_data2D[6:13])"
   ]
  },
  {
   "cell_type": "markdown",
   "metadata": {},
   "source": [
    "La distance <code>dist_max_groupes()</code> est utilisée lors d'un clustering hiérarchique basé sur un chaînage complet (\"complete linkage\") entre les clusters (cf. cours).\n",
    "\n",
    "**[Q]** Implémenter une variante du clustering hiérarchique qui utilise cette distance."
   ]
  },
  {
   "cell_type": "code",
   "execution_count": 580,
   "metadata": {},
   "outputs": [
    {
     "name": "stdout",
     "output_type": "stream",
     "text": [
      "Fusion de  8  et  10  pour une distance de  0.0714285714285714\n",
      "Fusion de  7  et  9  pour une distance de  0.07142857142857151\n",
      "Fusion de  2  et  3  pour une distance de  0.14285714285714285\n",
      "Fusion de  6  et  11  pour une distance de  0.1428571428571429\n",
      "Fusion de  0  et  1  pour une distance de  0.17437936593905287\n",
      "Fusion de  15  et  17  pour une distance de  0.2457807219155036\n",
      "Fusion de  4  et  16  pour une distance de  0.24578072191550362\n",
      "Fusion de  12  et  14  pour une distance de  0.2931183504097598\n",
      "Fusion de  5  et  19  pour une distance de  0.4\n",
      "Fusion de  13  et  22  pour une distance de  0.5862367008195198\n",
      "Fusion de  18  et  20  pour une distance de  0.6167723755692258\n",
      "Fusion de  21  et  23  pour une distance de  0.6982485377057106\n",
      "Fusion de  24  et  25  pour une distance de  1.0\n",
      "\n",
      "La matrice M_Fusion obtenue :\n",
      " [[ 8.         10.          0.07142857  2.        ]\n",
      " [ 7.          9.          0.07142857  2.        ]\n",
      " [ 2.          3.          0.14285714  2.        ]\n",
      " [ 6.         11.          0.14285714  2.        ]\n",
      " [ 0.          1.          0.17437937  2.        ]\n",
      " [15.         17.          0.24578072  2.        ]\n",
      " [ 4.         16.          0.24578072  2.        ]\n",
      " [12.         14.          0.29311835  2.        ]\n",
      " [ 5.         19.          0.4         2.        ]\n",
      " [13.         22.          0.5862367   2.        ]\n",
      " [18.         20.          0.61677238  2.        ]\n",
      " [21.         23.          0.69824854  2.        ]\n",
      " [24.         25.          1.          2.        ]]\n"
     ]
    },
    {
     "data": {
      "image/png": "[encoded data removed]",
      "text/plain": [
       "<matplotlib.figure.Figure at 0x62084f5c0>"
      ]
     },
     "metadata": {},
     "output_type": "display_data"
    }
   ],
   "source": [
    "def fusionne2(nom_function, C0):\n",
    "    dist_Min = 100\n",
    "    key_Min1 = -1\n",
    "    key_Min2 = -1\n",
    "    key_Max = -1\n",
    "    for key,val in C0.items():\n",
    "        if key > key_Max:\n",
    "            key_Max = key\n",
    "        for k, v in [(ke,va) for (ke,va) in C0.items() if(ke>key)]:\n",
    "            dist = dist_max_groupes(nom_function,val,v)\n",
    "            if dist < dist_Min:\n",
    "                dist_Min = dist\n",
    "                key_Min1 = key\n",
    "                key_Min2 = k\n",
    "    C0[key_Max+1] = np.array([C0.pop(key_Min1)[0],C0.pop(key_Min2)[0]])\n",
    "    print(\"Fusion de  {}  et  {}  pour une distance de  {}\".format(key_Min1, key_Min2, dist_Min))\n",
    "    return C0, key_Min1, key_Min2, dist_Min\n",
    "                    \n",
    "def clustering_hierarchique2(nom_function,df):\n",
    "    M_df = normalisation(df)\n",
    "    courant = initialise(M_df)           # clustering courant, au départ:s données data_2D normalisées\n",
    "    M_Fusion = []                        # initialisation\n",
    "    while len(courant) >=2:              # tant qu'il y a 2 groupes à fusionner\n",
    "        new,k1,k2,dist_min = fusionne2(nom_function,courant)\n",
    "        if(len(M_Fusion)==0):\n",
    "            M_Fusion = [k1,k2,dist_min,2]\n",
    "        else:\n",
    "            M_Fusion = np.vstack( [M_Fusion,[k1,k2,dist_min,2] ])\n",
    "        courant = new\n",
    "\n",
    "    print('\\nLa matrice M_Fusion obtenue :\\n',M_Fusion)\n",
    "    \n",
    "        # Paramètre de la fenêtre d'affichage: \n",
    "    plt.figure(figsize=(30, 15)) # taille : largeur x hauteur\n",
    "    plt.title('Dendrogramme', fontsize=25)    \n",
    "    plt.xlabel('Exemple', fontsize=25)\n",
    "    plt.ylabel('Distance', fontsize=25)\n",
    "\n",
    "    # Construction du dendrogramme à partir de la matrice M_Fusion:\n",
    "    scipy.cluster.hierarchy.dendrogram(\n",
    "        M_Fusion,\n",
    "        leaf_font_size=18.,  # taille des caractères de l'axe des X\n",
    "    )\n",
    "\n",
    "    # Affichage du résultat obtenu:\n",
    "    plt.show()\n",
    "\n",
    "clustering_hierarchique2(\"euclidienne\",data_2D)"
   ]
  },
  {
   "cell_type": "markdown",
   "metadata": {},
   "source": [
    "## Phase 2 : application à des données réelles"
   ]
  },
  {
   "cell_type": "markdown",
   "metadata": {},
   "source": [
    "### Données: traitement des déchets de la ville de Paris"
   ]
  },
  {
   "cell_type": "markdown",
   "metadata": {},
   "source": [
    "Récupérer les données concernant le traitement des déchets de la ville de Paris :\n",
    "http://opendata.paris.fr/explore/dataset/tonnages_des_dechets_bacs_jaunes/table/\n",
    "\n",
    "**Attention**: il faut certainement préparer cette base afin de pouvoir appliquer l'algorithme de clustering: en particulier, certaines colonnes (Granularité, Total...) ne sont pas à utilisables dans le calcul des distances, il faut donc les éliminer. Il faut aussi prévoir de conserver le nom de l'arrondissement afin de pouvoir à la fin analyser le résultat du clustering.\n",
    "\n",
    "Sauvegarder ces données, prêtes à être traitées par l'algorithme de clustering, au format CSV dans le répertoire <pre>data/</pre> sous le nom <pre>base-Paris.csv</pre>\n",
    "\n",
    "**[Q]** Etudier cette base et les clusters qui peuvent être mis en évidence.\n",
    "\n",
    "\n",
    "\n"
   ]
  },
  {
   "cell_type": "code",
   "execution_count": 683,
   "metadata": {},
   "outputs": [
    {
     "name": "stdout",
     "output_type": "stream",
     "text": [
      "   Granularité   janv-11   févr-11   mars-11    avr-11    mai-11 juin-11  \\\n",
      "0        75007     288.1     249.1     303.7     255.8     287.8   288.4   \n",
      "1        75013     596.5     540.2     618.5     558.6     595.9   581.7   \n",
      "2        75014       464     404.9     465.3     420.2     405.3     446   \n",
      "3        75015     903.1     801.4     937.5     835.5     876.8   888.6   \n",
      "4        75017     451.1     412.4     491.6     422.7     363.6   446.4   \n",
      "5        75018       427     394.3     455.2     419.9     458.3   456.6   \n",
      "6        75019     323.4     287.3     350.3     317.8     336.9   340.7   \n",
      "7        75002       153     125.8     136.6     126.6     133.2   127.6   \n",
      "8        75004     116.3     115.7     133.4       115     123.2   120.5   \n",
      "9        75008     252.6     246.7     252.9     232.5     199.4   236.4   \n",
      "10       75012     484.2     445.9       517       452       402     488   \n",
      "11       75016     584.1     571.2     684.7     590.3     563.4   666.3   \n",
      "12       75020     394.1     366.3     422.7     367.1     273.5   381.7   \n",
      "13  Tout Paris  7 134.20  6 462.60  7 517.40  6 656.60  6 563.40   7 063   \n",
      "14       75001      75.3      60.4      71.2      59.5      73.9      72   \n",
      "15       75005       247       211       251       218       185     224   \n",
      "16       75006       222       189       218       192       180     199   \n",
      "17       75010       273     248.6     292.2     255.2     284.3   267.3   \n",
      "18       75011     487.2     422.2       491       437       466     443   \n",
      "19       75003     183.9     173.1     204.2       183     203.2   181.9   \n",
      "20       75009     208.3     197.1     220.4     197.9     151.7   206.9   \n",
      "\n",
      "     juil-11 août-11   sept-11    oct-11    nov-11    déc-11  \\\n",
      "0      249.6   185.6     281.3     284.3     296.4     301.1   \n",
      "1      539.2   490.5     597.8     575.7     580.5     601.4   \n",
      "2      412.9   348.7     449.3     446.3     453.1     484.3   \n",
      "3      628.8   674.8     913.3     878.7     895.7     935.8   \n",
      "4      409.5   332.3     416.4     451.5     475.1     513.5   \n",
      "5        418   361.8     464.6     453.4     478.5     470.9   \n",
      "6      311.6     281     345.6     335.6       367     354.5   \n",
      "7      126.7   114.3     144.3     145.1     129.5     129.8   \n",
      "8      114.5    97.6     130.5       123     124.3     133.7   \n",
      "9      175.4   189.4     266.6     230.3     257.7     224.4   \n",
      "10       456     409       506       495       493       502   \n",
      "11     570.4   433.2     679.7     656.1     662.6     699.9   \n",
      "12     353.4     297       414       350     410.6       410   \n",
      "13  6 220.20   5 464  7 296.30  7 084.60  7 291.70  7 492.80   \n",
      "14      57.9    56.4      75.5      75.7      65.8      79.1   \n",
      "15     213.3   162.9     203.4     232.1     227.6     251.6   \n",
      "16     171.8   134.8     183.1     195.5     213.8     204.1   \n",
      "17     246.6   210.3     280.6     275.6     284.6     283.2   \n",
      "18     373.5   367.5     511.9     490.6     469.2     487.9   \n",
      "19     191.2   153.6     208.6     186.5     192.9     189.9   \n",
      "20     199.9   163.3     223.8     203.6     213.8     235.7   \n",
      "\n",
      "    Total arrondissement 2011  \n",
      "0                         NaN  \n",
      "1                         NaN  \n",
      "2                         NaN  \n",
      "3                         NaN  \n",
      "4                         NaN  \n",
      "5                         NaN  \n",
      "6                         NaN  \n",
      "7                         NaN  \n",
      "8                         NaN  \n",
      "9                         NaN  \n",
      "10                        NaN  \n",
      "11                        NaN  \n",
      "12                        NaN  \n",
      "13                        NaN  \n",
      "14                        NaN  \n",
      "15                        NaN  \n",
      "16                        NaN  \n",
      "17                        NaN  \n",
      "18                        NaN  \n",
      "19                        NaN  \n",
      "20                        NaN  \n"
     ]
    },
    {
     "data": {
      "text/html": [
       "<div>\n",
       "<style scoped>\n",
       "    .dataframe tbody tr th:only-of-type {\n",
       "        vertical-align: middle;\n",
       "    }\n",
       "\n",
       "    .dataframe tbody tr th {\n",
       "        vertical-align: top;\n",
       "    }\n",
       "\n",
       "    .dataframe thead th {\n",
       "        text-align: right;\n",
       "    }\n",
       "</style>\n",
       "<table border=\"1\" class=\"dataframe\">\n",
       "  <thead>\n",
       "    <tr style=\"text-align: right;\">\n",
       "      <th></th>\n",
       "      <th>janv-11</th>\n",
       "      <th>févr-11</th>\n",
       "      <th>mars-11</th>\n",
       "      <th>avr-11</th>\n",
       "      <th>mai-11</th>\n",
       "      <th>juin-11</th>\n",
       "      <th>juil-11</th>\n",
       "      <th>août-11</th>\n",
       "      <th>sept-11</th>\n",
       "      <th>oct-11</th>\n",
       "      <th>nov-11</th>\n",
       "      <th>déc-11</th>\n",
       "    </tr>\n",
       "  </thead>\n",
       "  <tbody>\n",
       "    <tr>\n",
       "      <th>0</th>\n",
       "      <td>288.1</td>\n",
       "      <td>249.1</td>\n",
       "      <td>303.7</td>\n",
       "      <td>255.8</td>\n",
       "      <td>287.8</td>\n",
       "      <td>288.4</td>\n",
       "      <td>249.6</td>\n",
       "      <td>185.6</td>\n",
       "      <td>281.3</td>\n",
       "      <td>284.3</td>\n",
       "      <td>296.4</td>\n",
       "      <td>301.1</td>\n",
       "    </tr>\n",
       "    <tr>\n",
       "      <th>1</th>\n",
       "      <td>596.5</td>\n",
       "      <td>540.2</td>\n",
       "      <td>618.5</td>\n",
       "      <td>558.6</td>\n",
       "      <td>595.9</td>\n",
       "      <td>581.7</td>\n",
       "      <td>539.2</td>\n",
       "      <td>490.5</td>\n",
       "      <td>597.8</td>\n",
       "      <td>575.7</td>\n",
       "      <td>580.5</td>\n",
       "      <td>601.4</td>\n",
       "    </tr>\n",
       "    <tr>\n",
       "      <th>2</th>\n",
       "      <td>464</td>\n",
       "      <td>404.9</td>\n",
       "      <td>465.3</td>\n",
       "      <td>420.2</td>\n",
       "      <td>405.3</td>\n",
       "      <td>446</td>\n",
       "      <td>412.9</td>\n",
       "      <td>348.7</td>\n",
       "      <td>449.3</td>\n",
       "      <td>446.3</td>\n",
       "      <td>453.1</td>\n",
       "      <td>484.3</td>\n",
       "    </tr>\n",
       "    <tr>\n",
       "      <th>3</th>\n",
       "      <td>903.1</td>\n",
       "      <td>801.4</td>\n",
       "      <td>937.5</td>\n",
       "      <td>835.5</td>\n",
       "      <td>876.8</td>\n",
       "      <td>888.6</td>\n",
       "      <td>628.8</td>\n",
       "      <td>674.8</td>\n",
       "      <td>913.3</td>\n",
       "      <td>878.7</td>\n",
       "      <td>895.7</td>\n",
       "      <td>935.8</td>\n",
       "    </tr>\n",
       "    <tr>\n",
       "      <th>4</th>\n",
       "      <td>451.1</td>\n",
       "      <td>412.4</td>\n",
       "      <td>491.6</td>\n",
       "      <td>422.7</td>\n",
       "      <td>363.6</td>\n",
       "      <td>446.4</td>\n",
       "      <td>409.5</td>\n",
       "      <td>332.3</td>\n",
       "      <td>416.4</td>\n",
       "      <td>451.5</td>\n",
       "      <td>475.1</td>\n",
       "      <td>513.5</td>\n",
       "    </tr>\n",
       "    <tr>\n",
       "      <th>5</th>\n",
       "      <td>427</td>\n",
       "      <td>394.3</td>\n",
       "      <td>455.2</td>\n",
       "      <td>419.9</td>\n",
       "      <td>458.3</td>\n",
       "      <td>456.6</td>\n",
       "      <td>418</td>\n",
       "      <td>361.8</td>\n",
       "      <td>464.6</td>\n",
       "      <td>453.4</td>\n",
       "      <td>478.5</td>\n",
       "      <td>470.9</td>\n",
       "    </tr>\n",
       "    <tr>\n",
       "      <th>6</th>\n",
       "      <td>323.4</td>\n",
       "      <td>287.3</td>\n",
       "      <td>350.3</td>\n",
       "      <td>317.8</td>\n",
       "      <td>336.9</td>\n",
       "      <td>340.7</td>\n",
       "      <td>311.6</td>\n",
       "      <td>281</td>\n",
       "      <td>345.6</td>\n",
       "      <td>335.6</td>\n",
       "      <td>367</td>\n",
       "      <td>354.5</td>\n",
       "    </tr>\n",
       "    <tr>\n",
       "      <th>7</th>\n",
       "      <td>153</td>\n",
       "      <td>125.8</td>\n",
       "      <td>136.6</td>\n",
       "      <td>126.6</td>\n",
       "      <td>133.2</td>\n",
       "      <td>127.6</td>\n",
       "      <td>126.7</td>\n",
       "      <td>114.3</td>\n",
       "      <td>144.3</td>\n",
       "      <td>145.1</td>\n",
       "      <td>129.5</td>\n",
       "      <td>129.8</td>\n",
       "    </tr>\n",
       "    <tr>\n",
       "      <th>8</th>\n",
       "      <td>116.3</td>\n",
       "      <td>115.7</td>\n",
       "      <td>133.4</td>\n",
       "      <td>115</td>\n",
       "      <td>123.2</td>\n",
       "      <td>120.5</td>\n",
       "      <td>114.5</td>\n",
       "      <td>97.6</td>\n",
       "      <td>130.5</td>\n",
       "      <td>123</td>\n",
       "      <td>124.3</td>\n",
       "      <td>133.7</td>\n",
       "    </tr>\n",
       "    <tr>\n",
       "      <th>9</th>\n",
       "      <td>252.6</td>\n",
       "      <td>246.7</td>\n",
       "      <td>252.9</td>\n",
       "      <td>232.5</td>\n",
       "      <td>199.4</td>\n",
       "      <td>236.4</td>\n",
       "      <td>175.4</td>\n",
       "      <td>189.4</td>\n",
       "      <td>266.6</td>\n",
       "      <td>230.3</td>\n",
       "      <td>257.7</td>\n",
       "      <td>224.4</td>\n",
       "    </tr>\n",
       "    <tr>\n",
       "      <th>10</th>\n",
       "      <td>484.2</td>\n",
       "      <td>445.9</td>\n",
       "      <td>517</td>\n",
       "      <td>452</td>\n",
       "      <td>402</td>\n",
       "      <td>488</td>\n",
       "      <td>456</td>\n",
       "      <td>409</td>\n",
       "      <td>506</td>\n",
       "      <td>495</td>\n",
       "      <td>493</td>\n",
       "      <td>502</td>\n",
       "    </tr>\n",
       "    <tr>\n",
       "      <th>11</th>\n",
       "      <td>584.1</td>\n",
       "      <td>571.2</td>\n",
       "      <td>684.7</td>\n",
       "      <td>590.3</td>\n",
       "      <td>563.4</td>\n",
       "      <td>666.3</td>\n",
       "      <td>570.4</td>\n",
       "      <td>433.2</td>\n",
       "      <td>679.7</td>\n",
       "      <td>656.1</td>\n",
       "      <td>662.6</td>\n",
       "      <td>699.9</td>\n",
       "    </tr>\n",
       "    <tr>\n",
       "      <th>12</th>\n",
       "      <td>394.1</td>\n",
       "      <td>366.3</td>\n",
       "      <td>422.7</td>\n",
       "      <td>367.1</td>\n",
       "      <td>273.5</td>\n",
       "      <td>381.7</td>\n",
       "      <td>353.4</td>\n",
       "      <td>297</td>\n",
       "      <td>414</td>\n",
       "      <td>350</td>\n",
       "      <td>410.6</td>\n",
       "      <td>410</td>\n",
       "    </tr>\n",
       "    <tr>\n",
       "      <th>14</th>\n",
       "      <td>75.3</td>\n",
       "      <td>60.4</td>\n",
       "      <td>71.2</td>\n",
       "      <td>59.5</td>\n",
       "      <td>73.9</td>\n",
       "      <td>72</td>\n",
       "      <td>57.9</td>\n",
       "      <td>56.4</td>\n",
       "      <td>75.5</td>\n",
       "      <td>75.7</td>\n",
       "      <td>65.8</td>\n",
       "      <td>79.1</td>\n",
       "    </tr>\n",
       "    <tr>\n",
       "      <th>15</th>\n",
       "      <td>247</td>\n",
       "      <td>211</td>\n",
       "      <td>251</td>\n",
       "      <td>218</td>\n",
       "      <td>185</td>\n",
       "      <td>224</td>\n",
       "      <td>213.3</td>\n",
       "      <td>162.9</td>\n",
       "      <td>203.4</td>\n",
       "      <td>232.1</td>\n",
       "      <td>227.6</td>\n",
       "      <td>251.6</td>\n",
       "    </tr>\n",
       "    <tr>\n",
       "      <th>16</th>\n",
       "      <td>222</td>\n",
       "      <td>189</td>\n",
       "      <td>218</td>\n",
       "      <td>192</td>\n",
       "      <td>180</td>\n",
       "      <td>199</td>\n",
       "      <td>171.8</td>\n",
       "      <td>134.8</td>\n",
       "      <td>183.1</td>\n",
       "      <td>195.5</td>\n",
       "      <td>213.8</td>\n",
       "      <td>204.1</td>\n",
       "    </tr>\n",
       "    <tr>\n",
       "      <th>17</th>\n",
       "      <td>273</td>\n",
       "      <td>248.6</td>\n",
       "      <td>292.2</td>\n",
       "      <td>255.2</td>\n",
       "      <td>284.3</td>\n",
       "      <td>267.3</td>\n",
       "      <td>246.6</td>\n",
       "      <td>210.3</td>\n",
       "      <td>280.6</td>\n",
       "      <td>275.6</td>\n",
       "      <td>284.6</td>\n",
       "      <td>283.2</td>\n",
       "    </tr>\n",
       "    <tr>\n",
       "      <th>18</th>\n",
       "      <td>487.2</td>\n",
       "      <td>422.2</td>\n",
       "      <td>491</td>\n",
       "      <td>437</td>\n",
       "      <td>466</td>\n",
       "      <td>443</td>\n",
       "      <td>373.5</td>\n",
       "      <td>367.5</td>\n",
       "      <td>511.9</td>\n",
       "      <td>490.6</td>\n",
       "      <td>469.2</td>\n",
       "      <td>487.9</td>\n",
       "    </tr>\n",
       "    <tr>\n",
       "      <th>19</th>\n",
       "      <td>183.9</td>\n",
       "      <td>173.1</td>\n",
       "      <td>204.2</td>\n",
       "      <td>183</td>\n",
       "      <td>203.2</td>\n",
       "      <td>181.9</td>\n",
       "      <td>191.2</td>\n",
       "      <td>153.6</td>\n",
       "      <td>208.6</td>\n",
       "      <td>186.5</td>\n",
       "      <td>192.9</td>\n",
       "      <td>189.9</td>\n",
       "    </tr>\n",
       "  </tbody>\n",
       "</table>\n",
       "</div>"
      ],
      "text/plain": [
       "   janv-11 févr-11 mars-11 avr-11 mai-11 juin-11 juil-11 août-11 sept-11  \\\n",
       "0    288.1   249.1   303.7  255.8  287.8   288.4   249.6   185.6   281.3   \n",
       "1    596.5   540.2   618.5  558.6  595.9   581.7   539.2   490.5   597.8   \n",
       "2      464   404.9   465.3  420.2  405.3     446   412.9   348.7   449.3   \n",
       "3    903.1   801.4   937.5  835.5  876.8   888.6   628.8   674.8   913.3   \n",
       "4    451.1   412.4   491.6  422.7  363.6   446.4   409.5   332.3   416.4   \n",
       "5      427   394.3   455.2  419.9  458.3   456.6     418   361.8   464.6   \n",
       "6    323.4   287.3   350.3  317.8  336.9   340.7   311.6     281   345.6   \n",
       "7      153   125.8   136.6  126.6  133.2   127.6   126.7   114.3   144.3   \n",
       "8    116.3   115.7   133.4    115  123.2   120.5   114.5    97.6   130.5   \n",
       "9    252.6   246.7   252.9  232.5  199.4   236.4   175.4   189.4   266.6   \n",
       "10   484.2   445.9     517    452    402     488     456     409     506   \n",
       "11   584.1   571.2   684.7  590.3  563.4   666.3   570.4   433.2   679.7   \n",
       "12   394.1   366.3   422.7  367.1  273.5   381.7   353.4     297     414   \n",
       "14    75.3    60.4    71.2   59.5   73.9      72    57.9    56.4    75.5   \n",
       "15     247     211     251    218    185     224   213.3   162.9   203.4   \n",
       "16     222     189     218    192    180     199   171.8   134.8   183.1   \n",
       "17     273   248.6   292.2  255.2  284.3   267.3   246.6   210.3   280.6   \n",
       "18   487.2   422.2     491    437    466     443   373.5   367.5   511.9   \n",
       "19   183.9   173.1   204.2    183  203.2   181.9   191.2   153.6   208.6   \n",
       "\n",
       "   oct-11 nov-11 déc-11  \n",
       "0   284.3  296.4  301.1  \n",
       "1   575.7  580.5  601.4  \n",
       "2   446.3  453.1  484.3  \n",
       "3   878.7  895.7  935.8  \n",
       "4   451.5  475.1  513.5  \n",
       "5   453.4  478.5  470.9  \n",
       "6   335.6    367  354.5  \n",
       "7   145.1  129.5  129.8  \n",
       "8     123  124.3  133.7  \n",
       "9   230.3  257.7  224.4  \n",
       "10    495    493    502  \n",
       "11  656.1  662.6  699.9  \n",
       "12    350  410.6    410  \n",
       "14   75.7   65.8   79.1  \n",
       "15  232.1  227.6  251.6  \n",
       "16  195.5  213.8  204.1  \n",
       "17  275.6  284.6  283.2  \n",
       "18  490.6  469.2  487.9  \n",
       "19  186.5  192.9  189.9  "
      ]
     },
     "execution_count": 683,
     "metadata": {},
     "output_type": "execute_result"
    }
   ],
   "source": [
    "#Etudier cette base et traiter les données \n",
    "data_Paris = pd.read_csv(\"data/base-Paris.csv\",delimiter=';')\n",
    "#print(data_Paris)\n",
    "#data_Paris.info()\n",
    "#data_Paris.columns\n",
    "#data_Paris[0:1]\n",
    "data_T_Paris = data_Paris.drop([13,13])\n",
    "data_T_Paris = data_T_Paris.drop(['Granularité','Total arrondissement 2011'],axis=1)\n",
    "print(data_Paris)\n",
    "data_T_Paris.head(-1)"
   ]
  },
  {
   "cell_type": "code",
   "execution_count": 685,
   "metadata": {},
   "outputs": [
    {
     "name": "stdout",
     "output_type": "stream",
     "text": [
      "<class 'pandas.core.frame.DataFrame'>\n",
      "Int64Index: 20 entries, 0 to 20\n",
      "Data columns (total 12 columns):\n",
      "janv-11    20 non-null object\n",
      "févr-11    20 non-null object\n",
      "mars-11    20 non-null object\n",
      "avr-11     20 non-null object\n",
      "mai-11     20 non-null object\n",
      "juin-11    20 non-null object\n",
      "juil-11    20 non-null object\n",
      "août-11    20 non-null object\n",
      "sept-11    20 non-null object\n",
      "oct-11     20 non-null object\n",
      "nov-11     20 non-null object\n",
      "déc-11     20 non-null object\n",
      "dtypes: object(12)\n",
      "memory usage: 2.0+ KB\n",
      "<class 'pandas.core.frame.DataFrame'>\n",
      "Int64Index: 20 entries, 0 to 20\n",
      "Data columns (total 12 columns):\n",
      "janv-11    20 non-null float64\n",
      "févr-11    20 non-null float64\n",
      "mars-11    20 non-null float64\n",
      "avr-11     20 non-null float64\n",
      "mai-11     20 non-null float64\n",
      "juin-11    20 non-null float64\n",
      "juil-11    20 non-null float64\n",
      "août-11    20 non-null float64\n",
      "sept-11    20 non-null float64\n",
      "oct-11     20 non-null float64\n",
      "nov-11     20 non-null float64\n",
      "déc-11     20 non-null float64\n",
      "dtypes: float64(12)\n",
      "memory usage: 2.0 KB\n"
     ]
    }
   ],
   "source": [
    "data_T_Paris.info()\n",
    "data_T_Paris = data_T_Paris.astype(np.float64)\n",
    "data_T_Paris.info()"
   ]
  },
  {
   "cell_type": "markdown",
   "metadata": {
    "collapsed": true
   },
   "source": [
    "**[Q]** Préparer un rapport d'analyse (c'est-à-dire, compléter cette page ipython en rajoutant à la suite tout un ensemble d'expérimentations et de résultats obtenus sur la base) réalisé sur cette base qui mette en évidence les clusters existants à différents niveaux de distance, et en utilisant différentes distances.\n"
   ]
  },
  {
   "cell_type": "code",
   "execution_count": 687,
   "metadata": {},
   "outputs": [
    {
     "data": {
      "text/plain": [
       "array([[0.25706692, 0.25465587, 0.26838278, 0.25296392, 0.26640927,\n",
       "        0.26500122, 0.3357856 , 0.20892626, 0.24564335, 0.25977584,\n",
       "        0.2778648 , 0.25913389],\n",
       "       [0.62962068, 0.64750337, 0.63176729, 0.6431701 , 0.65014323,\n",
       "        0.6241734 , 0.84305483, 0.70197283, 0.62341848, 0.62266501,\n",
       "        0.6201952 , 0.60966499],\n",
       "       [0.46955786, 0.46491228, 0.45492324, 0.46481959, 0.41275377,\n",
       "        0.45799657, 0.62182519, 0.47267141, 0.44616854, 0.4615193 ,\n",
       "        0.46668273, 0.47297771],\n",
       "       [1.        , 1.        , 1.        , 1.        , 1.        ,\n",
       "        1.        , 1.        , 1.        , 1.        , 1.        ,\n",
       "        1.        , 1.        ],\n",
       "       [0.45397439, 0.47503374, 0.48528223, 0.46804124, 0.36081704,\n",
       "        0.45848641, 0.61586968, 0.44615136, 0.40689902, 0.46799502,\n",
       "        0.49319195, 0.50706198],\n",
       "       [0.42486108, 0.45060729, 0.44326446, 0.46443299, 0.47876448,\n",
       "        0.47097722, 0.63075845, 0.49385511, 0.46443065, 0.47036115,\n",
       "        0.49728883, 0.45733629],\n",
       "       [0.29971007, 0.30620783, 0.32217477, 0.33286082, 0.32756259,\n",
       "        0.32904727, 0.44438606, 0.36319534, 0.32239198, 0.32366127,\n",
       "        0.36293529, 0.32146609],\n",
       "       [0.09386325, 0.08825911, 0.07549348, 0.08646907, 0.07385727,\n",
       "        0.06808719, 0.12051147, 0.09362872, 0.08211984, 0.0864259 ,\n",
       "        0.07675624, 0.05918058],\n",
       "       [0.04952887, 0.07462888, 0.07179961, 0.07152062, 0.06140242,\n",
       "        0.0593926 , 0.09914171, 0.06662354, 0.06564813, 0.05890411,\n",
       "        0.07049042, 0.06373293],\n",
       "       [0.21418217, 0.251417  , 0.20974258, 0.22293814, 0.15630838,\n",
       "        0.20132256, 0.20581538, 0.21507115, 0.2280974 , 0.19252802,\n",
       "        0.23123268, 0.1696043 ],\n",
       "       [0.49395989, 0.52024291, 0.51460233, 0.50579897, 0.40864367,\n",
       "        0.50942934, 0.69732002, 0.57018111, 0.51384579, 0.52216687,\n",
       "        0.51476081, 0.49363838],\n",
       "       [0.61464122, 0.68933873, 0.70818423, 0.68402062, 0.60966496,\n",
       "        0.7277737 , 0.89770538, 0.60931436, 0.7211745 , 0.72278954,\n",
       "        0.71912279, 0.72464106],\n",
       "       [0.38511718, 0.41282051, 0.40574859, 0.39639175, 0.24859883,\n",
       "        0.37925545, 0.51760378, 0.38906856, 0.40403438, 0.34159402,\n",
       "        0.41547174, 0.38624956],\n",
       "       [0.        , 0.        , 0.        , 0.        , 0.        ,\n",
       "        0.        , 0.        , 0.        , 0.        , 0.        ,\n",
       "        0.        , 0.        ],\n",
       "       [0.20741725, 0.20323887, 0.20754935, 0.20425258, 0.1383734 ,\n",
       "        0.18613764, 0.27220179, 0.17221863, 0.15266173, 0.19476961,\n",
       "        0.19496325, 0.20135403],\n",
       "       [0.17721672, 0.17354926, 0.16945631, 0.17074742, 0.13214597,\n",
       "        0.1555229 , 0.19950955, 0.12677878, 0.12843161, 0.14919054,\n",
       "        0.17833474, 0.14590872],\n",
       "       [0.2388258 , 0.25398111, 0.25510793, 0.25219072, 0.26205007,\n",
       "        0.23916238, 0.33053074, 0.24886805, 0.24480783, 0.24894147,\n",
       "        0.26364622, 0.23823976],\n",
       "       [0.49758396, 0.48825911, 0.48458963, 0.48646907, 0.48835471,\n",
       "        0.4543228 , 0.55281135, 0.50307245, 0.52088804, 0.51668742,\n",
       "        0.48608266, 0.47717988],\n",
       "       [0.13119111, 0.15209177, 0.15352649, 0.15914948, 0.16104123,\n",
       "        0.13458241, 0.23349098, 0.15717982, 0.15886847, 0.13798257,\n",
       "        0.15315098, 0.12933349],\n",
       "       [0.16066683, 0.18448043, 0.17222671, 0.17835052, 0.09689874,\n",
       "        0.16519716, 0.24873008, 0.17286546, 0.17701122, 0.15927771,\n",
       "        0.17833474, 0.18279444]])"
      ]
     },
     "execution_count": 687,
     "metadata": {},
     "output_type": "execute_result"
    }
   ],
   "source": [
    "normalisation(data_T_Paris)"
   ]
  },
  {
   "cell_type": "code",
   "execution_count": 689,
   "metadata": {
    "scrolled": false
   },
   "outputs": [
    {
     "name": "stdout",
     "output_type": "stream",
     "text": [
      "\n",
      "La matrice M_Fusion obtenue (eucli):\n",
      "\n",
      "Fusion de  0  et  16  pour une distance de  0.05980330904516489\n",
      "Fusion de  7  et  8  pour une distance de  0.0699559695681218\n",
      "Fusion de  2  et  4  pour une distance de  0.09034538002040293\n",
      "Fusion de  15  et  18  pour une distance de  0.09099688490823389\n",
      "Fusion de  19  et  23  pour une distance de  0.09608457631845164\n",
      "Fusion de  5  et  22  pour une distance de  0.12348584942545547\n",
      "Fusion de  14  et  24  pour une distance de  0.12453407045196078\n",
      "Fusion de  17  et  25  pour une distance de  0.1553231849516947\n",
      "Fusion de  9  et  26  pour une distance de  0.16357044635684204\n",
      "Fusion de  10  et  27  pour une distance de  0.1812139091958864\n",
      "Fusion de  6  et  12  pour une distance de  0.24168540846465467\n",
      "Fusion de  13  et  21  pour une distance de  0.26550417696685485\n",
      "Fusion de  1  et  11  pour une distance de  0.2757063809341908\n",
      "Fusion de  20  et  28  pour une distance de  0.2890866853003415\n",
      "Fusion de  29  et  30  pour une distance de  0.4321158905664246\n",
      "Fusion de  31  et  33  pour une distance de  0.5247503537641786\n",
      "Fusion de  32  et  34  pour une distance de  0.7861301125077123\n",
      "Fusion de  35  et  36  pour une distance de  1.2057059027244827\n",
      "Fusion de  3  et  37  pour une distance de  2.357153341249612\n",
      "\n",
      "La matrice M_Fusion obtenue :\n",
      " [[ 0.         16.          0.05980331  2.        ]\n",
      " [ 7.          8.          0.06995597  2.        ]\n",
      " [ 2.          4.          0.09034538  2.        ]\n",
      " [15.         18.          0.09099688  2.        ]\n",
      " [19.         23.          0.09608458  2.        ]\n",
      " [ 5.         22.          0.12348585  2.        ]\n",
      " [14.         24.          0.12453407  2.        ]\n",
      " [17.         25.          0.15532318  2.        ]\n",
      " [ 9.         26.          0.16357045  2.        ]\n",
      " [10.         27.          0.18121391  2.        ]\n",
      " [ 6.         12.          0.24168541  2.        ]\n",
      " [13.         21.          0.26550418  2.        ]\n",
      " [ 1.         11.          0.27570638  2.        ]\n",
      " [20.         28.          0.28908669  2.        ]\n",
      " [29.         30.          0.43211589  2.        ]\n",
      " [31.         33.          0.52475035  2.        ]\n",
      " [32.         34.          0.78613011  2.        ]\n",
      " [35.         36.          1.2057059   2.        ]\n",
      " [ 3.         37.          2.35715334  2.        ]]\n"
     ]
    },
    {
     "data": {
      "image/png": "[encoded data removed]",
      "text/plain": [
       "<matplotlib.figure.Figure at 0x6234101d0>"
      ]
     },
     "metadata": {},
     "output_type": "display_data"
    },
    {
     "name": "stdout",
     "output_type": "stream",
     "text": [
      "=============================================\n",
      "\n",
      "La matrice M_Fusion obtenue (manha):\n",
      "      janv-11   févr-11   mars-11    avr-11    mai-11   juin-11   juil-11  \\\n",
      "0   0.257067  0.254656  0.268383  0.252964  0.266409  0.265001  0.335786   \n",
      "1   0.629621  0.647503  0.631767  0.643170  0.650143  0.624173  0.843055   \n",
      "2   0.469558  0.464912  0.454923  0.464820  0.412754  0.457997  0.621825   \n",
      "3   1.000000  1.000000  1.000000  1.000000  1.000000  1.000000  1.000000   \n",
      "4   0.453974  0.475034  0.485282  0.468041  0.360817  0.458486  0.615870   \n",
      "5   0.424861  0.450607  0.443264  0.464433  0.478764  0.470977  0.630758   \n",
      "6   0.299710  0.306208  0.322175  0.332861  0.327563  0.329047  0.444386   \n",
      "7   0.093863  0.088259  0.075493  0.086469  0.073857  0.068087  0.120511   \n",
      "8   0.049529  0.074629  0.071800  0.071521  0.061402  0.059393  0.099142   \n",
      "9   0.214182  0.251417  0.209743  0.222938  0.156308  0.201323  0.205815   \n",
      "10  0.493960  0.520243  0.514602  0.505799  0.408644  0.509429  0.697320   \n",
      "11  0.614641  0.689339  0.708184  0.684021  0.609665  0.727774  0.897705   \n",
      "12  0.385117  0.412821  0.405749  0.396392  0.248599  0.379255  0.517604   \n",
      "14  0.000000  0.000000  0.000000  0.000000  0.000000  0.000000  0.000000   \n",
      "15  0.207417  0.203239  0.207549  0.204253  0.138373  0.186138  0.272202   \n",
      "16  0.177217  0.173549  0.169456  0.170747  0.132146  0.155523  0.199510   \n",
      "17  0.238826  0.253981  0.255108  0.252191  0.262050  0.239162  0.330531   \n",
      "18  0.497584  0.488259  0.484590  0.486469  0.488355  0.454323  0.552811   \n",
      "19  0.131191  0.152092  0.153526  0.159149  0.161041  0.134582  0.233491   \n",
      "20  0.160667  0.184480  0.172227  0.178351  0.096899  0.165197  0.248730   \n",
      "\n",
      "     août-11   sept-11    oct-11    nov-11    déc-11  \n",
      "0   0.208926  0.245643  0.259776  0.277865  0.259134  \n",
      "1   0.701973  0.623418  0.622665  0.620195  0.609665  \n",
      "2   0.472671  0.446169  0.461519  0.466683  0.472978  \n",
      "3   1.000000  1.000000  1.000000  1.000000  1.000000  \n",
      "4   0.446151  0.406899  0.467995  0.493192  0.507062  \n",
      "5   0.493855  0.464431  0.470361  0.497289  0.457336  \n",
      "6   0.363195  0.322392  0.323661  0.362935  0.321466  \n",
      "7   0.093629  0.082120  0.086426  0.076756  0.059181  \n",
      "8   0.066624  0.065648  0.058904  0.070490  0.063733  \n",
      "9   0.215071  0.228097  0.192528  0.231233  0.169604  \n",
      "10  0.570181  0.513846  0.522167  0.514761  0.493638  \n",
      "11  0.609314  0.721175  0.722790  0.719123  0.724641  \n",
      "12  0.389069  0.404034  0.341594  0.415472  0.386250  \n",
      "14  0.000000  0.000000  0.000000  0.000000  0.000000  \n",
      "15  0.172219  0.152662  0.194770  0.194963  0.201354  \n",
      "16  0.126779  0.128432  0.149191  0.178335  0.145909  \n",
      "17  0.248868  0.244808  0.248941  0.263646  0.238240  \n",
      "18  0.503072  0.520888  0.516687  0.486083  0.477180  \n",
      "19  0.157180  0.158868  0.137983  0.153151  0.129333  \n",
      "20  0.172865  0.177011  0.159278  0.178335  0.182794  \n",
      "Fusion de  0  et  16  pour une distance de  0.15514121759420235\n",
      "Fusion de  7  et  8  pour une distance de  0.20094298606115393\n",
      "Fusion de  2  et  4  pour une distance de  0.25052643145105596\n",
      "Fusion de  15  et  19  pour une distance de  0.2736357638772213\n",
      "Fusion de  18  et  23  pour une distance de  0.26901405120095256\n",
      "Fusion de  5  et  22  pour une distance de  0.329711923872276\n",
      "Fusion de  9  et  14  pour une distance de  0.36387711439638054\n",
      "Fusion de  17  et  25  pour une distance de  0.4323492805465101\n",
      "Fusion de  24  et  26  pour une distance de  0.46829383265225144\n",
      "Fusion de  10  et  27  pour une distance de  0.565434942910491\n",
      "Fusion de  6  et  12  pour une distance de  0.7842824910764548\n",
      "Fusion de  1  et  11  pour une distance de  0.8772540810839015\n",
      "Fusion de  13  et  21  pour une distance de  0.9087329739394057\n",
      "Fusion de  20  et  28  pour une distance de  0.9782582560827244\n",
      "Fusion de  29  et  30  pour une distance de  1.4859114141110923\n",
      "Fusion de  32  et  33  pour une distance de  1.8094030213672445\n",
      "Fusion de  31  et  34  pour une distance de  2.707718087813436\n",
      "Fusion de  35  et  36  pour une distance de  4.159453199304499\n",
      "Fusion de  3  et  37  pour une distance de  8.157328597482948\n",
      "\n",
      "La matrice M_Fusion obtenue :\n",
      " [[ 0.         16.          0.15514122  2.        ]\n",
      " [ 7.          8.          0.20094299  2.        ]\n",
      " [ 2.          4.          0.25052643  2.        ]\n",
      " [15.         19.          0.27363576  2.        ]\n",
      " [18.         23.          0.26901405  2.        ]\n",
      " [ 5.         22.          0.32971192  2.        ]\n",
      " [ 9.         14.          0.36387711  2.        ]\n",
      " [17.         25.          0.43234928  2.        ]\n",
      " [24.         26.          0.46829383  2.        ]\n",
      " [10.         27.          0.56543494  2.        ]\n",
      " [ 6.         12.          0.78428249  2.        ]\n",
      " [ 1.         11.          0.87725408  2.        ]\n",
      " [13.         21.          0.90873297  2.        ]\n",
      " [20.         28.          0.97825826  2.        ]\n",
      " [29.         30.          1.48591141  2.        ]\n",
      " [32.         33.          1.80940302  2.        ]\n",
      " [31.         34.          2.70771809  2.        ]\n",
      " [35.         36.          4.1594532   2.        ]\n",
      " [ 3.         37.          8.1573286   2.        ]]\n"
     ]
    },
    {
     "data": {
      "image/png": "[encoded data removed]",
      "text/plain": [
       "<matplotlib.figure.Figure at 0x62340cb00>"
      ]
     },
     "metadata": {},
     "output_type": "display_data"
    }
   ],
   "source": [
    "print('\\nLa matrice M_Fusion obtenue (eucli):\\n')\n",
    "clustering_hierarchique ('euclidienne',data_T_Paris)\n",
    "print('=============================================')\n",
    "print('\\nLa matrice M_Fusion obtenue (manha):\\n',data_T_Paris)\n",
    "clustering_hierarchique ('manhattan',data_T_Paris) \n",
    "\n"
   ]
  },
  {
   "cell_type": "code",
   "execution_count": null,
   "metadata": {},
   "outputs": [],
   "source": []
  }
 ],
 "metadata": {
  "kernelspec": {
   "display_name": "Python 3",
   "language": "python",
   "name": "python3"
  },
  "language_info": {
   "codemirror_mode": {
    "name": "ipython",
    "version": 3
   },
   "file_extension": ".py",
   "mimetype": "text/x-python",
   "name": "python",
   "nbconvert_exporter": "python",
   "pygments_lexer": "ipython3",
   "version": "3.6.4"
  }
 },
 "nbformat": 4,
 "nbformat_minor": 1
}
