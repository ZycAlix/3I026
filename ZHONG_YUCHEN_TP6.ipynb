{
 "cells": [
  {
   "cell_type": "markdown",
   "metadata": {},
   "source": [
    "IA & Data science -- 2017-2018\n",
    "--------\n",
    "*&copy; Equipe pédagogique: Ludovic Denoyer, Thibault Laugel, Marie-Jeanne Lesot, Christophe Marsala, Olivier Schwander*"
   ]
  },
  {
   "cell_type": "markdown",
   "metadata": {},
   "source": [
    "# TD-TME06: méthodes d'ensembles\n",
    "\n",
    "L'objectif de ce TP est d'implémenter des méthodes d'ensembles et de les évaluer: l'algorithme de bagging appliqué aux arbres de décision, dans un premier temps, puis au perceptron ensuite.\n",
    "\n",
    "Comme précédemment, on se restreint au cas binaire où les données sont étiquetées $+1$ ou $-1$. De plus, on ne considére que le cas où les attributs sont tous numériques."
   ]
  },
  {
   "cell_type": "markdown",
   "metadata": {},
   "source": [
    "<font size=\"+1\">**[Q]**</font> **Indiquer dans la boîte ci-dessous vos noms et prénoms :**"
   ]
  },
  {
   "cell_type": "markdown",
   "metadata": {},
   "source": [
    "ZHONG_YUCHEN"
   ]
  },
  {
   "cell_type": "markdown",
   "metadata": {},
   "source": [
    "<font color=\"RED\" size=\"+1\">IMPORTANT: soumission de votre fichier final</font>\n",
    "\n",
    "**Nom à donner au fichier à poster** : *Nom1_Nom2.ipynb* \n",
    "- *Nom1* et *Nom2* : noms des membres du binôme\n",
    "- ne pas compresser ou faire une archive: envoyer le fichier ipython tel quel, éventuellement, si vous avez d'autres fichiers à envoyer, vous les joignez au message."
   ]
  },
  {
   "cell_type": "markdown",
   "metadata": {},
   "source": [
    "## Questions de cours (à faire chez vous, sur papier)\n",
    "\n",
    "Pour vous entraîner sans machine... *(exercice de l'examen 2017)*\n",
    "\n",
    "Soit $V=\\{v_{1}, v_{2},..., v_{n}\\}$ un ensemble de $n$ valeurs réelles ordonnées,\n",
    "  telles que $v_1 \\geq v_2 \\geq \\ldots \\geq v_{n}$.. On note $\\bar{v}$ la valeur moyenne de $V$. La variance de $V$, $var(V)$ est définie par:\n",
    "$var(V) = \\frac{1}{n} \\sum_{i=1}^{n} (v_{i} - \\bar{v})^2$. \n",
    "\n",
    "Et soit $W=\\{w_{1}, w_{2},..., w_{n}\\}$ tel que,pour tout $i=1,...,n$.\n",
    "\n",
    "\n",
    "** [Q] ** Donner l'expression de $\\bar{v}$ en fonction des valeurs de $V$.\n",
    "\n",
    "** [Q] **  Montrer que $var(aV+b) = a^2 var(V)$.\n",
    "\n",
    "** [Q] ** Donner l'expression de $V\\cdot W$ (le produit scalaire) en fonction des coordonnées\n",
    "   de $V$ et de $W$.\n",
    "   \n",
    "** [Q] ** Comment doit-on définir $W$ si on souhaite que $V\\cdot W = \\bar{v}$ ?\n",
    "\n",
    "\n",
    "** [Q] ** Comment doit-on définir $W$ si on souhaite que\n",
    "   $V\\cdot W = \\displaystyle\\max_{i=1,...n} v_i$ ? Même question si on souhaite que\n",
    "   $V\\cdot W = \\displaystyle\\min_{i=1,...n} v_i$ ?\n",
    "\n",
    "** [Q] ** Soit un entier $k$ tel que $0<k\\leq n$. Proposer une définition de $W$ qui, par le\n",
    "   calcul du produit scalaire, permet de ne tenir compte, de façon équitable, que des $k$\n",
    "   valeurs les plus élevées de $V$.\n",
    "\n"
   ]
  },
  {
   "cell_type": "markdown",
   "metadata": {},
   "source": [
    "## Préparation\n"
   ]
  },
  {
   "cell_type": "code",
   "execution_count": 1,
   "metadata": {},
   "outputs": [],
   "source": [
    "#imports utiles\n",
    "import numpy as np\n",
    "import pandas as pd"
   ]
  },
  {
   "cell_type": "markdown",
   "metadata": {},
   "source": [
    "On utilise la classe <code>LabeledSet</code> pour stocker les données d'apprentissage, de validation et de test."
   ]
  },
  {
   "cell_type": "code",
   "execution_count": 2,
   "metadata": {},
   "outputs": [],
   "source": [
    "class LabeledSet:  \n",
    "    \n",
    "    def __init__(self, input_dimension):\n",
    "        self.input_dimension = input_dimension\n",
    "        self.nb_examples = 0\n",
    "    \n",
    "    def addExample(self,vector,label):\n",
    "        if (self.nb_examples == 0):\n",
    "            self.x = np.array([vector])\n",
    "            self.y = np.array([label])\n",
    "        else:\n",
    "            self.x = np.vstack((self.x, vector))\n",
    "            self.y = np.vstack((self.y, label))\n",
    "        \n",
    "        self.nb_examples = self.nb_examples + 1\n",
    "    \n",
    "    #Renvoie la dimension de l'espace d'entrée\n",
    "    def getInputDimension(self):\n",
    "        return self.input_dimension\n",
    "    \n",
    "    #Renvoie le nombre d'exemples dans le set\n",
    "    def size(self):\n",
    "        return self.nb_examples\n",
    "    \n",
    "    #Renvoie la valeur de x_i\n",
    "    def getX(self, i):\n",
    "        return self.x[i]\n",
    "        \n",
    "    \n",
    "    #Renvouie la valeur de y_i\n",
    "    def getY(self, i):\n",
    "        return(self.y[i])"
   ]
  },
  {
   "cell_type": "markdown",
   "metadata": {},
   "source": [
    "Pour tester les fonctions à implémenter dans cette séance, on utilise la base d'exemples suivante :"
   ]
  },
  {
   "cell_type": "code",
   "execution_count": 3,
   "metadata": {},
   "outputs": [],
   "source": [
    "# Base d'exemples pour tester les fonctions:\n",
    "set_exemples = LabeledSet(2)\n",
    "set_exemples.addExample([2.10492662303,1.10648470933],1)\n",
    "set_exemples.addExample([0.297525816499,-0.662504551625],1)\n",
    "set_exemples.addExample([1.6694258992,0.313687975072],1)\n",
    "set_exemples.addExample([1.20583098523,3.50817309097],1)\n",
    "set_exemples.addExample([1.13739407316,1.96688273992],1)\n",
    "set_exemples.addExample([2.32319808376,0.536577798714],1)\n",
    "set_exemples.addExample([-0.953004346997,0.596926923927],1)\n",
    "set_exemples.addExample([1.00574784804,-0.0959606771199],1)\n",
    "set_exemples.addExample([0.747509778063,0.429544908608],1)\n",
    "set_exemples.addExample([1.39048336283,0.442578873406],1)\n",
    "set_exemples.addExample([0.0470799329584,-1.97596265858],-1)\n",
    "set_exemples.addExample([-0.673998013071,0.0693931940855],-1)\n",
    "set_exemples.addExample([-0.84587451642,0.761766191612],-1)\n",
    "set_exemples.addExample([-1.39596839858,-0.943807082082],-1)\n",
    "set_exemples.addExample([0.319301767707,0.566169775123],-1)\n",
    "set_exemples.addExample([1.43459714786,0.935712030926],-1)\n",
    "set_exemples.addExample([-1.69323475458,-1.89563184035],-1)\n",
    "set_exemples.addExample([0.81167008598,-1.17927660655],-1)\n",
    "set_exemples.addExample([-1.03264043689,-1.08118488864],-1)\n",
    "set_exemples.addExample([0.609517439986,-2.88593327349],-1)"
   ]
  },
  {
   "cell_type": "markdown",
   "metadata": {},
   "source": [
    "Pour afficher, nous utilisons la fonction <code>plot2DSet()</code> déjà vue dans les séances précédentes. \n"
   ]
  },
  {
   "cell_type": "code",
   "execution_count": 4,
   "metadata": {},
   "outputs": [],
   "source": [
    "import matplotlib.pyplot as plt\n",
    "%matplotlib inline \n",
    "\n",
    "def plot2DSet(set):\n",
    "    \"\"\" LabeledSet -> NoneType\n",
    "        Hypothèse: set est de dimension 2\n",
    "        affiche une représentation graphique du LabeledSet\n",
    "        remarque: l'ordre des labels dans set peut être quelconque\n",
    "    \"\"\"\n",
    "    S_pos = set.x[np.where(set.y == 1),:][0]      # tous les exemples de label +1\n",
    "    S_neg = set.x[np.where(set.y == -1),:][0]     # tous les exemples de label -1\n",
    "    plt.scatter(S_pos[:,0],S_pos[:,1],marker='o')\n",
    "    plt.scatter(S_neg[:,0],S_neg[:,1],marker='x')\n"
   ]
  },
  {
   "cell_type": "code",
   "execution_count": 5,
   "metadata": {
    "scrolled": true
   },
   "outputs": [
    {
     "data": {
      "image/png": "[encoded data removed]",
      "text/plain": [
       "<matplotlib.figure.Figure at 0x1098ed400>"
      ]
     },
     "metadata": {},
     "output_type": "display_data"
    }
   ],
   "source": [
    "# Essai de la fonction : (the_set : variable du dataset généré précédemment)\n",
    "plot2DSet(set_exemples)"
   ]
  },
  {
   "cell_type": "markdown",
   "metadata": {},
   "source": [
    "### Les classifieurs\n",
    "\n",
    "On reprend ici la classe <code>Classifier</code> qui sert encore de classe de base pour implémenter un nouveau classifieur."
   ]
  },
  {
   "cell_type": "code",
   "execution_count": 6,
   "metadata": {},
   "outputs": [],
   "source": [
    "class Classifier:\n",
    "    def __init__(self,input_dimension):\n",
    "        \"\"\" Constructeur \"\"\"\n",
    "        raise NotImplementedError(\"Please Implement this method\")\n",
    "    \n",
    "    \n",
    "    # Permet de calculer la prediction sur x => renvoie un score\n",
    "    def predict(self,x):\n",
    "        raise NotImplementedError(\"Please Implement this method\")\n",
    "\n",
    "    \n",
    "    # Permet d'entrainer le modele sur un ensemble de données étiquetés\n",
    "    def train(self,labeledSet):\n",
    "        raise NotImplementedError(\"Please Implement this method\")\n",
    "    \n",
    "    # Permet de calculer le taux de bonne classification\n",
    "    def accuracy(self,set):\n",
    "        nb_ok=0\n",
    "        for i in range(set.size()):\n",
    "            score = self.predict(set.getX(i))\n",
    "            if (score*set.getY(i)>0):\n",
    "                nb_ok = nb_ok+1\n",
    "        acc = nb_ok/(set.size() * 1.0)\n",
    "        return acc\n"
   ]
  },
  {
   "cell_type": "markdown",
   "metadata": {},
   "source": [
    "On reprend aussi la fonction <code>plot_frontiere</code> pour dessiner la frontière de décision d'un classifieur. "
   ]
  },
  {
   "cell_type": "code",
   "execution_count": 7,
   "metadata": {},
   "outputs": [],
   "source": [
    "def plot_frontiere(set,classifier,step=10):\n",
    "    \"\"\" LabeledSet * Classifier * int -> NoneType\n",
    "        Remarque: le 3e argument est optionnel et donne la \"résolution\" du tracé\n",
    "        affiche la frontière de décision associée au classifieur\n",
    "    \"\"\"\n",
    "    mmax=set.x.max(0)\n",
    "    mmin=set.x.min(0)\n",
    "    x1grid,x2grid=np.meshgrid(np.linspace(mmin[0],mmax[0],step),np.linspace(mmin[1],mmax[1],step))\n",
    "    grid=np.hstack((x1grid.reshape(x1grid.size,1),x2grid.reshape(x2grid.size,1)))\n",
    "    \n",
    "    # calcul de la prediction pour chaque point de la grille\n",
    "    res=np.array([classifier.predict(grid[i,:]) for i in range(len(grid)) ])\n",
    "    res=res.reshape(x1grid.shape)\n",
    "    # tracer des frontieres\n",
    "    plt.contourf(x1grid,x2grid,res,colors=[\"red\",\"cyan\"],levels=[-1000,0,1000],linewidth=2)"
   ]
  },
  {
   "cell_type": "markdown",
   "metadata": {},
   "source": [
    "## Etape 1: Bagging d'arbres de décision\n",
    "\n",
    "Dans cette étape, on procède à l'implémentation de l'algorithme du bagging. Dans un premier temps, le classifieur que l'on utilise est celui des arbres de décision.\n",
    "\n",
    "### Classifieurs par arbres de décision\n",
    "Reprendre ici les fonctions réalisées pour l'implémentation des arbres de décision : <code>classe_majoritaire()</code>, <code>shannon()</code>, <code>entropie()</code>, <code>discretise()</code>, <code>divise()</code>, et <code>construit_AD()</code>.\n",
    "Ainsi que les classes <code>ArbreBinaire</code> et <code>ArbreDecision</code>.\n"
   ]
  },
  {
   "cell_type": "code",
   "execution_count": 11,
   "metadata": {},
   "outputs": [],
   "source": [
    "import math\n",
    "#Alors, cette fonction doit rendre la classe dont les éléments encore plus !!\n",
    "def classe_majoritaire(the_set):\n",
    "    #Toutes les Xs dans l'ensemble the_set dont les Ys = +1 ou -1\n",
    "    list_plus_1 = the_set.x[np.where(the_set.y == 1),:]\n",
    "    list_moins_1 = the_set.x[np.where(the_set.y == -1),:]\n",
    "    if ( len(list_plus_1[0]) >= len(list_moins_1[0]) ):\n",
    "        return +1;\n",
    "    else:\n",
    "        return -1;\n",
    "\n",
    "#Si cette fonction rend un 0 soit une erreur de la distribution, sinon rend l'entropie de Shannon != 0 \n",
    "def shannon(distribution):\n",
    "    if(min(distribution) < 0 or max(distribution) > 1):\n",
    "        print(\"ce n'est pas une probabilité, et rendre 0\")\n",
    "        return 0;\n",
    "    if(sum(distribution) != 1):\n",
    "        print(\"les sommes de probas ne sont pas 1 et rendre 0\")\n",
    "        return 0;\n",
    "    \n",
    "    #Calcule l'entropie \n",
    "    k = len(distribution)\n",
    "    entropie = 0\n",
    "    for p in distribution:\n",
    "        if p != 0 :\n",
    "            entropie += -p*math.log(p,k);\n",
    "    return entropie;\n",
    "\n",
    "def entropie(the_set):\n",
    "    p_plus_1 = float(len(the_set.x[np.where(the_set.y == 1),:][0]))/the_set.size()\n",
    "    p_moins_1 = float(len(the_set.x[np.where(the_set.y == -1),:][0]))/the_set.size()\n",
    "    distribution = [p_plus_1,p_moins_1]\n",
    "    return shannon(distribution)\n",
    "\n",
    "def discretise(LSet, col):\n",
    "    \"\"\" LabelledSet * int -> tuple[float, float]\n",
    "        col est le numéro de colonne sur X à discrétiser\n",
    "        rend la valeur de coupure qui minimise l'entropie ainsi que son entropie.\n",
    "    \"\"\"\n",
    "    # initialisation:\n",
    "    min_entropie = 1.1  # on met à une valeur max car on veut minimiser\n",
    "    min_seuil = 0.0     \n",
    "    # trie des valeurs:\n",
    "    ind= np.argsort(LSet.x,axis=0)\n",
    "    \n",
    "    # calcul des distributions des classes pour E1 et E2:\n",
    "    inf_plus  = 0               # nombre de +1 dans E1\n",
    "    inf_moins = 0               # nombre de -1 dans E1\n",
    "    sup_plus  = 0               # nombre de +1 dans E2\n",
    "    sup_moins = 0               # nombre de -1 dans E2       \n",
    "    # remarque: au départ on considère que E1 est vide et donc E2 correspond à E. \n",
    "    # Ainsi inf_plus et inf_moins valent 0. Il reste à calculer sup_plus et sup_moins \n",
    "    # dans E.\n",
    "    for j in range(0,LSet.size()):\n",
    "        if (LSet.getY(j) == -1):\n",
    "            sup_moins += 1\n",
    "        else:\n",
    "            sup_plus += 1\n",
    "    nb_total = (sup_plus + sup_moins) # nombre d'exemples total dans E\n",
    "    \n",
    "    # parcours pour trouver le meilleur seuil:\n",
    "    for i in range(len(LSet.x)-1):\n",
    "        v_ind_i = ind[i]   # vecteur d'indices\n",
    "        courant = LSet.getX(v_ind_i[col])[col]\n",
    "        lookahead = LSet.getX(ind[i+1][col])[col]\n",
    "        val_seuil = (courant + lookahead) / 2.0;\n",
    "        # M-A-J de la distrib. des classes:\n",
    "        # pour réduire les traitements: on retire un exemple de E2 et on le place\n",
    "        # dans E1, c'est ainsi que l'on déplace donc le seuil de coupure.\n",
    "        if LSet.getY(ind[i][col])[0] == -1:\n",
    "            inf_moins += 1\n",
    "            sup_moins -= 1\n",
    "        else:\n",
    "            inf_plus += 1\n",
    "            sup_plus -= 1\n",
    "        # calcul de la distribution des classes de chaque côté du seuil:\n",
    "        nb_inf = (inf_moins + inf_plus)*1.0     # rem: on en fait un float pour éviter\n",
    "        nb_sup = (sup_moins + sup_plus)*1.0     # que ce soit une division entière.\n",
    "        # calcul de l'entropie de la coupure\n",
    "        val_entropie_inf = shannon([inf_moins / nb_inf, inf_plus  / nb_inf])\n",
    "        val_entropie_sup = shannon([sup_moins / nb_sup, sup_plus  / nb_sup])\n",
    "        val_entropie = (nb_inf / nb_total) * val_entropie_inf + (nb_sup / nb_total) * val_entropie_sup\n",
    "        # si cette coupure minimise l'entropie, on mémorise ce seuil et son entropie:\n",
    "        if (min_entropie > val_entropie):\n",
    "            min_entropie = val_entropie\n",
    "            min_seuil = val_seuil\n",
    "    return (min_seuil, min_entropie)\n",
    "\n",
    "\n",
    "def divise(LSet,att,seuil):\n",
    "    taille=LSet.size()\n",
    "    i=0\n",
    "    linf=LabeledSet(2)\n",
    "    lsup=LabeledSet(2)\n",
    "    while (i<taille):\n",
    "        a=LSet.getX(i)\n",
    "        if (a[att]<=seuil):\n",
    "            linf.addExample(LSet.getX(i),LSet.getY(i))\n",
    "        else:\n",
    "            lsup.addExample(LSet.getX(i),LSet.getY(i))\n",
    "        i=i+1\n",
    "    #print(linf.x)\n",
    "    #print(linf.y)\n",
    "    #print(\"=============================================\")\n",
    "    #print(lsup.x)\n",
    "    #print(lsup.y)\n",
    "    return (linf,lsup)\n",
    "\n",
    "\n",
    "import graphviz as gv\n",
    "\n",
    "class ArbreBinaire:\n",
    "    def __init__(self):\n",
    "        self.attribut = None   # numéro de l'attribut\n",
    "        self.seuil = None\n",
    "        self.inferieur = None # ArbreBinaire Gauche (valeurs <= au seuil)\n",
    "        self.superieur = None # ArbreBinaire Gauche (valeurs > au seuil)\n",
    "        self.classe = None # Classe si c'est une feuille: -1 ou +1\n",
    "        \n",
    "    def est_feuille(self):\n",
    "        \"\"\" rend True si l'arbre est une feuille \"\"\"\n",
    "        return self.seuil == None\n",
    "    \n",
    "    def ajoute_fils(self,ABinf,ABsup,att,seuil):\n",
    "        \"\"\" ABinf, ABsup: 2 arbres binaires\n",
    "            att: numéro d'attribut\n",
    "            seuil: valeur de seuil\n",
    "        \"\"\"\n",
    "        self.attribut = att\n",
    "        self.seuil = seuil\n",
    "        self.inferieur = ABinf\n",
    "        self.superieur = ABsup\n",
    "    \n",
    "    def ajoute_feuille(self,classe):\n",
    "        \"\"\" classe: -1 ou + 1\n",
    "        \"\"\"\n",
    "        self.classe = classe\n",
    "        \n",
    "    def classifie(self,exemple):\n",
    "        \"\"\" exemple : numpy.array\n",
    "            rend la classe de l'exemple: +1 ou -1\n",
    "        \"\"\"\n",
    "        if self.est_feuille():\n",
    "            return self.classe\n",
    "        if exemple[self.attribut] <= self.seuil:\n",
    "            return self.inferieur.classifie(exemple)\n",
    "        return self.superieur.classifie(exemple)\n",
    "    \n",
    "    def to_graph(self, g, prefixe='A'):\n",
    "        \"\"\" construit une représentation de l'arbre pour pouvoir\n",
    "            l'afficher\n",
    "        \"\"\"\n",
    "        if self.est_feuille():\n",
    "            g.node(prefixe,str(self.classe),shape='box')\n",
    "        else:\n",
    "            g.node(prefixe, \"attr: \"+str(self.attribut))\n",
    "            self.inferieur.to_graph(g,prefixe+\"g\")\n",
    "            self.superieur.to_graph(g,prefixe+\"d\")\n",
    "            g.edge(prefixe,prefixe+\"g\", '<='+ str(self.seuil))\n",
    "            g.edge(prefixe,prefixe+\"d\", '>'+ str(self.seuil))\n",
    "        \n",
    "        return g\n",
    "\n",
    "    \n",
    "def construit_AD(LSet, epsilon):\n",
    "    un_arbre = ArbreBinaire();\n",
    "    if(entropie(LSet) <= epsilon):\n",
    "        feuille = ArbreBinaire();\n",
    "        feuille.ajoute_feuille(classe_majoritaire(LSet));\n",
    "        feuille.est_feuille();\n",
    "        return feuille;\n",
    "    else:\n",
    "        seuiles =[]\n",
    "        entropies = []\n",
    "        for c in range(LSet.getInputDimension()):\n",
    "            seuile, ent = discretise(LSet,c);\n",
    "            seuiles.append(seuile);\n",
    "            entropies.append(ent);\n",
    "            \n",
    "        index = entropies.index(min(entropies));    \n",
    "        Linf, Lsup = divise(LSet,index,seuiles[index])\n",
    "        un_arbre.ajoute_fils(construit_AD(Linf,epsilon),construit_AD(Lsup,epsilon),index,seuiles[index])\n",
    "\n",
    "\n",
    "    return un_arbre;\n",
    "\n",
    "\n",
    "class ArbreDecision(Classifier):\n",
    "    # Constructeur\n",
    "    def __init__(self,epsilon):\n",
    "        # valeur seuil d'entropie pour arrêter la construction\n",
    "        self.epsilon= epsilon\n",
    "        self.racine = None\n",
    "    \n",
    "    # Permet de calculer la prediction sur x => renvoie un score\n",
    "    def predict(self,x):\n",
    "        # classification de l'exemple x avec l'arbre de décision\n",
    "        # on rend 0 (classe -1) ou 1 (classe 1)\n",
    "        classe = self.racine.classifie(x)\n",
    "        if (classe == 1):\n",
    "            return(1)\n",
    "        else:\n",
    "            return(-1)\n",
    "    \n",
    "    # Permet d'entrainer le modele sur un ensemble de données\n",
    "    def train(self,set):\n",
    "        # construction de l'arbre de décision \n",
    "        self.set=set\n",
    "        self.racine = construit_AD(set,self.epsilon)\n",
    "\n",
    "    # Permet d'afficher l'arbre\n",
    "    def plot(self):\n",
    "        gtree = gv.Digraph(format='png')\n",
    "        return self.racine.to_graph(gtree)\n",
    "    \n",
    "    #Permet de calculer la qualité du système \n",
    "    def accuracy(self, dataset):\n",
    "        nb_ok = 0\n",
    "        for i in range(dataset.size()):\n",
    "            output = self.predict(dataset.getX(i))\n",
    "            if (output * dataset.getY(i) > 0):\n",
    "                nb_ok = nb_ok + 1\n",
    "        acc = nb_ok / (dataset.size() * 1.0)\n",
    "        return acc"
   ]
  },
  {
   "cell_type": "markdown",
   "metadata": {},
   "source": [
    "Ainsi, vous devez donc pouvoir utiliser à partir d'ici la classe <code>ArbreDecision</code>.\n",
    "\n",
    "Par exemple, sur la base <code>set_exemples</code>:"
   ]
  },
  {
   "cell_type": "code",
   "execution_count": 12,
   "metadata": {},
   "outputs": [
    {
     "name": "stdout",
     "output_type": "stream",
     "text": [
      "accuracy: 1.0\n"
     ]
    },
    {
     "data": {
      "image/svg+xml": [
       "<?xml version=\"1.0\" encoding=\"UTF-8\" standalone=\"no\"?>\n",
       "<!DOCTYPE svg PUBLIC \"-//W3C//DTD SVG 1.1//EN\"\n",
       " \"http://www.w3.org/Graphics/SVG/1.1/DTD/svg11.dtd\">\n",
       "<!-- Generated by graphviz version 2.40.1 (20161225.0304)\n",
       " -->\n",
       "<!-- Title: %3 Pages: 1 -->\n",
       "<svg width=\"663pt\" height=\"388pt\"\n",
       " viewBox=\"0.00 0.00 662.88 388.00\" xmlns=\"http://www.w3.org/2000/svg\" xmlns:xlink=\"http://www.w3.org/1999/xlink\">\n",
       "<g id=\"graph0\" class=\"graph\" transform=\"scale(1 1) rotate(0) translate(4 384)\">\n",
       "<title>%3</title>\n",
       "<polygon fill=\"#ffffff\" stroke=\"transparent\" points=\"-4,4 -4,-384 658.8828,-384 658.8828,4 -4,4\"/>\n",
       "<!-- A -->\n",
       "<g id=\"node1\" class=\"node\">\n",
       "<title>A</title>\n",
       "<ellipse fill=\"none\" stroke=\"#000000\" cx=\"199\" cy=\"-362\" rx=\"30.961\" ry=\"18\"/>\n",
       "<text text-anchor=\"middle\" x=\"199\" y=\"-357.8\" font-family=\"Times,serif\" font-size=\"14.00\" fill=\"#000000\">attr: 1</text>\n",
       "</g>\n",
       "<!-- Ag -->\n",
       "<g id=\"node2\" class=\"node\">\n",
       "<title>Ag</title>\n",
       "<polygon fill=\"none\" stroke=\"#000000\" points=\"154,-294 100,-294 100,-258 154,-258 154,-294\"/>\n",
       "<text text-anchor=\"middle\" x=\"127\" y=\"-271.8\" font-family=\"Times,serif\" font-size=\"14.00\" fill=\"#000000\">&#45;1</text>\n",
       "</g>\n",
       "<!-- A&#45;&gt;Ag -->\n",
       "<g id=\"edge11\" class=\"edge\">\n",
       "<title>A&#45;&gt;Ag</title>\n",
       "<path fill=\"none\" stroke=\"#000000\" d=\"M170.2186,-355.1034C154.9167,-349.8288 137.3816,-340.8528 128.0469,-326 124.0902,-319.7044 122.6637,-312.0253 122.5172,-304.593\"/>\n",
       "<polygon fill=\"#000000\" stroke=\"#000000\" points=\"126.022,-304.5844 123.0322,-294.4202 119.031,-304.2304 126.022,-304.5844\"/>\n",
       "<text text-anchor=\"middle\" x=\"189.9766\" y=\"-314.8\" font-family=\"Times,serif\" font-size=\"14.00\" fill=\"#000000\">&lt;=&#45;0.8031558168535</text>\n",
       "</g>\n",
       "<!-- Ad -->\n",
       "<g id=\"node3\" class=\"node\">\n",
       "<title>Ad</title>\n",
       "<ellipse fill=\"none\" stroke=\"#000000\" cx=\"272\" cy=\"-276\" rx=\"30.961\" ry=\"18\"/>\n",
       "<text text-anchor=\"middle\" x=\"272\" y=\"-271.8\" font-family=\"Times,serif\" font-size=\"14.00\" fill=\"#000000\">attr: 0</text>\n",
       "</g>\n",
       "<!-- A&#45;&gt;Ad -->\n",
       "<g id=\"edge12\" class=\"edge\">\n",
       "<title>A&#45;&gt;Ad</title>\n",
       "<path fill=\"none\" stroke=\"#000000\" d=\"M221.7061,-349.726C231.4036,-343.607 242.2488,-335.4816 250,-326 255.4022,-319.3918 259.7251,-311.2502 263.0599,-303.4701\"/>\n",
       "<polygon fill=\"#000000\" stroke=\"#000000\" points=\"266.3991,-304.5399 266.7623,-293.9513 259.8753,-302.0023 266.3991,-304.5399\"/>\n",
       "<text text-anchor=\"middle\" x=\"316.0288\" y=\"-314.8\" font-family=\"Times,serif\" font-size=\"14.00\" fill=\"#000000\">&gt;&#45;0.8031558168535</text>\n",
       "</g>\n",
       "<!-- Adg -->\n",
       "<g id=\"node4\" class=\"node\">\n",
       "<title>Adg</title>\n",
       "<ellipse fill=\"none\" stroke=\"#000000\" cx=\"193\" cy=\"-190\" rx=\"30.961\" ry=\"18\"/>\n",
       "<text text-anchor=\"middle\" x=\"193\" y=\"-185.8\" font-family=\"Times,serif\" font-size=\"14.00\" fill=\"#000000\">attr: 0</text>\n",
       "</g>\n",
       "<!-- Ad&#45;&gt;Adg -->\n",
       "<g id=\"edge9\" class=\"edge\">\n",
       "<title>Ad&#45;&gt;Adg</title>\n",
       "<path fill=\"none\" stroke=\"#000000\" d=\"M246.8708,-265.3673C235.1792,-259.3633 221.8666,-250.8657 212.709,-240 207.2972,-233.5788 203.2547,-225.4927 200.2874,-217.706\"/>\n",
       "<polygon fill=\"#000000\" stroke=\"#000000\" points=\"203.5808,-216.5183 197.0819,-208.1507 196.9442,-218.7447 203.5808,-216.5183\"/>\n",
       "<text text-anchor=\"middle\" x=\"268.1455\" y=\"-228.8\" font-family=\"Times,serif\" font-size=\"14.00\" fill=\"#000000\">&lt;=0.533405772885</text>\n",
       "</g>\n",
       "<!-- Add -->\n",
       "<g id=\"node9\" class=\"node\">\n",
       "<title>Add</title>\n",
       "<ellipse fill=\"none\" stroke=\"#000000\" cx=\"351\" cy=\"-190\" rx=\"30.961\" ry=\"18\"/>\n",
       "<text text-anchor=\"middle\" x=\"351\" y=\"-185.8\" font-family=\"Times,serif\" font-size=\"14.00\" fill=\"#000000\">attr: 0</text>\n",
       "</g>\n",
       "<!-- Ad&#45;&gt;Add -->\n",
       "<g id=\"edge10\" class=\"edge\">\n",
       "<title>Ad&#45;&gt;Add</title>\n",
       "<path fill=\"none\" stroke=\"#000000\" d=\"M294.2887,-263.3677C303.9054,-257.1794 314.8028,-249.0989 323,-240 329.1265,-233.1996 334.4657,-224.8295 338.7924,-216.8961\"/>\n",
       "<polygon fill=\"#000000\" stroke=\"#000000\" points=\"341.9541,-218.4006 343.3928,-207.9039 335.7223,-215.2124 341.9541,-218.4006\"/>\n",
       "<text text-anchor=\"middle\" x=\"385.1978\" y=\"-228.8\" font-family=\"Times,serif\" font-size=\"14.00\" fill=\"#000000\">&gt;0.533405772885</text>\n",
       "</g>\n",
       "<!-- Adgg -->\n",
       "<g id=\"node5\" class=\"node\">\n",
       "<title>Adgg</title>\n",
       "<polygon fill=\"none\" stroke=\"#000000\" points=\"54,-122 0,-122 0,-86 54,-86 54,-122\"/>\n",
       "<text text-anchor=\"middle\" x=\"27\" y=\"-99.8\" font-family=\"Times,serif\" font-size=\"14.00\" fill=\"#000000\">1</text>\n",
       "</g>\n",
       "<!-- Adg&#45;&gt;Adgg -->\n",
       "<g id=\"edge3\" class=\"edge\">\n",
       "<title>Adg&#45;&gt;Adgg</title>\n",
       "<path fill=\"none\" stroke=\"#000000\" d=\"M162.6985,-185.9422C124.9076,-180.3232 63.174,-169.1292 46.0469,-154 39.5136,-148.2289 35.2107,-139.9699 32.381,-131.8226\"/>\n",
       "<polygon fill=\"#000000\" stroke=\"#000000\" points=\"35.7202,-130.7695 29.609,-122.1148 28.9893,-132.6915 35.7202,-130.7695\"/>\n",
       "<text text-anchor=\"middle\" x=\"118.4766\" y=\"-142.8\" font-family=\"Times,serif\" font-size=\"14.00\" fill=\"#000000\">&lt;=&#45;0.8994394317084999</text>\n",
       "</g>\n",
       "<!-- Adgd -->\n",
       "<g id=\"node6\" class=\"node\">\n",
       "<title>Adgd</title>\n",
       "<ellipse fill=\"none\" stroke=\"#000000\" cx=\"193\" cy=\"-104\" rx=\"30.961\" ry=\"18\"/>\n",
       "<text text-anchor=\"middle\" x=\"193\" y=\"-99.8\" font-family=\"Times,serif\" font-size=\"14.00\" fill=\"#000000\">attr: 1</text>\n",
       "</g>\n",
       "<!-- Adg&#45;&gt;Adgd -->\n",
       "<g id=\"edge4\" class=\"edge\">\n",
       "<title>Adg&#45;&gt;Adgd</title>\n",
       "<path fill=\"none\" stroke=\"#000000\" d=\"M193,-171.7616C193,-160.3597 193,-145.4342 193,-132.494\"/>\n",
       "<polygon fill=\"#000000\" stroke=\"#000000\" points=\"196.5001,-132.2121 193,-122.2121 189.5001,-132.2121 196.5001,-132.2121\"/>\n",
       "<text text-anchor=\"middle\" x=\"260.5288\" y=\"-142.8\" font-family=\"Times,serif\" font-size=\"14.00\" fill=\"#000000\">&gt;&#45;0.8994394317084999</text>\n",
       "</g>\n",
       "<!-- Adgdg -->\n",
       "<g id=\"node7\" class=\"node\">\n",
       "<title>Adgdg</title>\n",
       "<polygon fill=\"none\" stroke=\"#000000\" points=\"105,-36 51,-36 51,0 105,0 105,-36\"/>\n",
       "<text text-anchor=\"middle\" x=\"78\" y=\"-13.8\" font-family=\"Times,serif\" font-size=\"14.00\" fill=\"#000000\">1</text>\n",
       "</g>\n",
       "<!-- Adgd&#45;&gt;Adgdg -->\n",
       "<g id=\"edge1\" class=\"edge\">\n",
       "<title>Adgd&#45;&gt;Adgdg</title>\n",
       "<path fill=\"none\" stroke=\"#000000\" d=\"M163.0906,-98.8403C132.275,-92.8431 87.3292,-81.9589 77.0469,-68 72.5156,-61.8485 71.2122,-54.0179 71.4529,-46.3896\"/>\n",
       "<polygon fill=\"#000000\" stroke=\"#000000\" points=\"74.9493,-46.6158 72.5802,-36.2893 67.9925,-45.8393 74.9493,-46.6158\"/>\n",
       "<text text-anchor=\"middle\" x=\"142.4766\" y=\"-56.8\" font-family=\"Times,serif\" font-size=\"14.00\" fill=\"#000000\">&lt;=&#45;0.29655567876975</text>\n",
       "</g>\n",
       "<!-- Adgdd -->\n",
       "<g id=\"node8\" class=\"node\">\n",
       "<title>Adgdd</title>\n",
       "<polygon fill=\"none\" stroke=\"#000000\" points=\"257,-36 203,-36 203,0 257,0 257,-36\"/>\n",
       "<text text-anchor=\"middle\" x=\"230\" y=\"-13.8\" font-family=\"Times,serif\" font-size=\"14.00\" fill=\"#000000\">&#45;1</text>\n",
       "</g>\n",
       "<!-- Adgd&#45;&gt;Adgdd -->\n",
       "<g id=\"edge2\" class=\"edge\">\n",
       "<title>Adgd&#45;&gt;Adgdd</title>\n",
       "<path fill=\"none\" stroke=\"#000000\" d=\"M200.6664,-86.1807C205.7422,-74.383 212.4979,-58.6805 218.2466,-45.3187\"/>\n",
       "<polygon fill=\"#000000\" stroke=\"#000000\" points=\"221.479,-46.6615 222.2161,-36.0923 215.0489,-43.895 221.479,-46.6615\"/>\n",
       "<text text-anchor=\"middle\" x=\"274.5288\" y=\"-56.8\" font-family=\"Times,serif\" font-size=\"14.00\" fill=\"#000000\">&gt;&#45;0.29655567876975</text>\n",
       "</g>\n",
       "<!-- Addg -->\n",
       "<g id=\"node10\" class=\"node\">\n",
       "<title>Addg</title>\n",
       "<polygon fill=\"none\" stroke=\"#000000\" points=\"378,-122 324,-122 324,-86 378,-86 378,-122\"/>\n",
       "<text text-anchor=\"middle\" x=\"351\" y=\"-99.8\" font-family=\"Times,serif\" font-size=\"14.00\" fill=\"#000000\">1</text>\n",
       "</g>\n",
       "<!-- Add&#45;&gt;Addg -->\n",
       "<g id=\"edge7\" class=\"edge\">\n",
       "<title>Add&#45;&gt;Addg</title>\n",
       "<path fill=\"none\" stroke=\"#000000\" d=\"M351,-171.7616C351,-160.3597 351,-145.4342 351,-132.494\"/>\n",
       "<polygon fill=\"#000000\" stroke=\"#000000\" points=\"354.5001,-132.2121 351,-122.2121 347.5001,-132.2121 354.5001,-132.2121\"/>\n",
       "<text text-anchor=\"middle\" x=\"406.1455\" y=\"-142.8\" font-family=\"Times,serif\" font-size=\"14.00\" fill=\"#000000\">&lt;=1.412540255345</text>\n",
       "</g>\n",
       "<!-- Addd -->\n",
       "<g id=\"node11\" class=\"node\">\n",
       "<title>Addd</title>\n",
       "<ellipse fill=\"none\" stroke=\"#000000\" cx=\"484\" cy=\"-104\" rx=\"30.961\" ry=\"18\"/>\n",
       "<text text-anchor=\"middle\" x=\"484\" y=\"-99.8\" font-family=\"Times,serif\" font-size=\"14.00\" fill=\"#000000\">attr: 0</text>\n",
       "</g>\n",
       "<!-- Add&#45;&gt;Addd -->\n",
       "<g id=\"edge8\" class=\"edge\">\n",
       "<title>Add&#45;&gt;Addd</title>\n",
       "<path fill=\"none\" stroke=\"#000000\" d=\"M381.7215,-186.9194C406.1327,-182.9962 439.7565,-174.1054 462,-154 468.6024,-148.0322 473.3206,-139.7207 476.6487,-131.5859\"/>\n",
       "<polygon fill=\"#000000\" stroke=\"#000000\" points=\"480.0322,-132.5149 480.0521,-121.9201 473.4295,-130.19 480.0322,-132.5149\"/>\n",
       "<text text-anchor=\"middle\" x=\"523.1978\" y=\"-142.8\" font-family=\"Times,serif\" font-size=\"14.00\" fill=\"#000000\">&gt;1.412540255345</text>\n",
       "</g>\n",
       "<!-- Adddg -->\n",
       "<g id=\"node12\" class=\"node\">\n",
       "<title>Adddg</title>\n",
       "<polygon fill=\"none\" stroke=\"#000000\" points=\"474,-36 420,-36 420,0 474,0 474,-36\"/>\n",
       "<text text-anchor=\"middle\" x=\"447\" y=\"-13.8\" font-family=\"Times,serif\" font-size=\"14.00\" fill=\"#000000\">&#45;1</text>\n",
       "</g>\n",
       "<!-- Addd&#45;&gt;Adddg -->\n",
       "<g id=\"edge5\" class=\"edge\">\n",
       "<title>Addd&#45;&gt;Adddg</title>\n",
       "<path fill=\"none\" stroke=\"#000000\" d=\"M464.5652,-89.5655C458.1461,-83.6608 451.7496,-76.2666 448.2217,-68 445.3821,-61.3464 444.2614,-53.728 444.0415,-46.4774\"/>\n",
       "<polygon fill=\"#000000\" stroke=\"#000000\" points=\"447.5451,-46.3482 444.2685,-36.2728 440.5469,-46.1924 447.5451,-46.3482\"/>\n",
       "<text text-anchor=\"middle\" x=\"500.3892\" y=\"-56.8\" font-family=\"Times,serif\" font-size=\"14.00\" fill=\"#000000\">&lt;=1.55201152353</text>\n",
       "</g>\n",
       "<!-- Adddd -->\n",
       "<g id=\"node13\" class=\"node\">\n",
       "<title>Adddd</title>\n",
       "<polygon fill=\"none\" stroke=\"#000000\" points=\"600,-36 546,-36 546,0 600,0 600,-36\"/>\n",
       "<text text-anchor=\"middle\" x=\"573\" y=\"-13.8\" font-family=\"Times,serif\" font-size=\"14.00\" fill=\"#000000\">1</text>\n",
       "</g>\n",
       "<!-- Addd&#45;&gt;Adddd -->\n",
       "<g id=\"edge6\" class=\"edge\">\n",
       "<title>Addd&#45;&gt;Adddd</title>\n",
       "<path fill=\"none\" stroke=\"#000000\" d=\"M510.5346,-94.6034C524.0774,-88.7032 539.9751,-79.9267 551,-68 556.7938,-61.7323 561.2329,-53.6918 564.5538,-45.8996\"/>\n",
       "<polygon fill=\"#000000\" stroke=\"#000000\" points=\"567.9151,-46.906 568.18,-36.3145 561.368,-44.4291 567.9151,-46.906\"/>\n",
       "<text text-anchor=\"middle\" x=\"607.4414\" y=\"-56.8\" font-family=\"Times,serif\" font-size=\"14.00\" fill=\"#000000\">&gt;1.55201152353</text>\n",
       "</g>\n",
       "</g>\n",
       "</svg>\n"
      ],
      "text/plain": [
       "<graphviz.dot.Digraph at 0x1100c0668>"
      ]
     },
     "execution_count": 12,
     "metadata": {},
     "output_type": "execute_result"
    }
   ],
   "source": [
    "# un exemple d'utilisation:\n",
    "ad=ArbreDecision(0.0)               # initialisation d'un arbre binaire qui utilise epsilon= 0.0\n",
    "ad.train(set_exemples)              # construction de l'arbre à partir de la base jouet\n",
    "\n",
    "print(\"accuracy:\", ad.accuracy(set_exemples))    \n",
    "\n",
    "#test de l'affichage \n",
    "ad.plot()\n"
   ]
  },
  {
   "cell_type": "markdown",
   "metadata": {},
   "source": [
    "### Tirage aléatoire d'exemples\n",
    "\n",
    "Le bootstrap s'effectue en tirant aléatoirement un échantillon de $m$ exemples à partir de la base d'apprentissage $X$ à partir duquel, on construit un classifieur.\n",
    "Ce processus est répété $B$ fois.\n",
    "\n",
    "Afin de ne pas alourdir la place mémoire nécessaire pour réaliser un tel tirage, on ne travaille que sur les indices des exemples dans la base. Un **échantillon de $X$ est donc un vecteur d'entiers** qui représentent les indices des exemples choisis.\n"
   ]
  },
  {
   "cell_type": "markdown",
   "metadata": {},
   "source": [
    "#### Tirages aléatoires en Python\n",
    "\n",
    "Consulter la librairie Python random qui propose différentes fonctions utiles pour implémenter le tirage aléatoire du bootstrap.\n",
    "\n",
    "Par exemple, la fonction <code>sample()</code> de la librairie <code>random</code> rend une sélection aléatoire dans une population donnée en réalisant un tirage sans remise.\n",
    "\n",
    "Pour tester, exécuter plusieurs fois les instructions de la boîte suivante :"
   ]
  },
  {
   "cell_type": "code",
   "execution_count": 16,
   "metadata": {},
   "outputs": [
    {
     "name": "stdout",
     "output_type": "stream",
     "text": [
      "La liste L de départ:  [0, 1, 2, 3, 4, 5, 6, 7, 8, 9, 10]\n",
      "Echantillon:  [4, 6, 7, 5, 1, 0]\n"
     ]
    }
   ],
   "source": [
    "import random\n",
    "L= [i for i in range(0,11)]             # construction de la liste des entiers de 0 à 10\n",
    "print(\"La liste L de départ: \",L)\n",
    "EchL = random.sample(L,6)               # tirage de 6 éléments de L\n",
    "print(\"Echantillon: \",EchL)"
   ]
  },
  {
   "cell_type": "markdown",
   "metadata": {},
   "source": [
    "La fonction <code>choice()</code> permet de choisir aléatoirement un élément:"
   ]
  },
  {
   "cell_type": "code",
   "execution_count": 18,
   "metadata": {},
   "outputs": [
    {
     "name": "stdout",
     "output_type": "stream",
     "text": [
      "La liste L de départ:  [0, 1, 2, 3, 4, 5, 6, 7, 8, 9, 10]\n",
      "Element choisi:  3\n"
     ]
    }
   ],
   "source": [
    "L= [i for i in range(0,11)]             # construction de la liste des entiers de 0 à 10\n",
    "print(\"La liste L de départ: \",L)\n",
    "elt = random.choice(L)                  # choix d'un élémént\n",
    "print(\"Element choisi: \",elt)"
   ]
  },
  {
   "cell_type": "markdown",
   "metadata": {},
   "source": [
    "<font size=\"+1\">**[Q]**</font> Ecrire une fonction <code>tirage()</code> qui étant donné un vecteur d'entiers $VX$ qui représente l'ensemble des indices des exemples d'une base d'apprentissage $X$, un entier $m$, et un booléen $r$, rend un vecteur de $m$ indices choisis aléatoirement dans $VX$. Si le booléen $r$ est vrai, le tirage s'effectue *avec remise*, sinon il s'effectue *sans remise*."
   ]
  },
  {
   "cell_type": "code",
   "execution_count": 37,
   "metadata": {},
   "outputs": [],
   "source": [
    "def tirage(vecteurX, m, r):\n",
    "    res = []\n",
    "    IndexVX = [i for i in range(len(vecteurX))]\n",
    "    if(r): #tirage avec remise\n",
    "        i = 0\n",
    "        while(i<m):\n",
    "            res.append(random.choice(IndexVX))\n",
    "            i = i+1\n",
    "        return res\n",
    "    else:\n",
    "        return random.sample(IndexVX,int(m))"
   ]
  },
  {
   "cell_type": "markdown",
   "metadata": {},
   "source": [
    "Exemples :"
   ]
  },
  {
   "cell_type": "code",
   "execution_count": 38,
   "metadata": {},
   "outputs": [
    {
     "data": {
      "text/plain": [
       "[4, 9, 2, 9, 9, 3, 3, 1]"
      ]
     },
     "execution_count": 38,
     "metadata": {},
     "output_type": "execute_result"
    }
   ],
   "source": [
    "L= [i for i in range(0,10)]    # construction de la liste des entiers de 0 à 100\n",
    "tirage(L,8,True)               # tirage avec remise"
   ]
  },
  {
   "cell_type": "code",
   "execution_count": 39,
   "metadata": {},
   "outputs": [
    {
     "data": {
      "text/plain": [
       "[2, 1, 3, 6, 9, 8, 4, 5]"
      ]
     },
     "execution_count": 39,
     "metadata": {},
     "output_type": "execute_result"
    }
   ],
   "source": [
    "tirage(L,8,False)               # tirage sans remise"
   ]
  },
  {
   "cell_type": "markdown",
   "metadata": {
    "collapsed": true
   },
   "source": [
    "<font size=\"+1\">**[Q]**</font> En utilisant la fonction précédente, écrire la fonction <code>echantillonLS()</code> qui, étant donné un <code>LabeledSet</code> $X$, un nombre entier $m$, et un booléen rend un échantillon de $X$ de taille $m$ sous la forme d'un <code>LabeledSet</code>. L'échantillon est obtenu par un tirage avec remise si le booléen est True, sinon, il est obtenu sans remise."
   ]
  },
  {
   "cell_type": "code",
   "execution_count": 51,
   "metadata": {},
   "outputs": [],
   "source": [
    "def echantillonLS(X, m, r): # X est un LabeledSet\n",
    "    IndexVX = [i for i in range(0,X.size())]\n",
    "    IndexExemples = tirage(IndexVX,m,r)\n",
    "    LSet = LabeledSet(X.getInputDimension())\n",
    "    for indice in IndexExemples:\n",
    "        LSet.addExample(X.getX(indice),X.getY(indice))\n",
    "    return LSet"
   ]
  },
  {
   "cell_type": "code",
   "execution_count": 52,
   "metadata": {},
   "outputs": [
    {
     "data": {
      "image/png": "[encoded data removed]",
      "text/plain": [
       "<matplotlib.figure.Figure at 0x1102d8be0>"
      ]
     },
     "metadata": {},
     "output_type": "display_data"
    }
   ],
   "source": [
    "E = echantillonLS(set_exemples,10,True)\n",
    "plot2DSet(E)"
   ]
  },
  {
   "cell_type": "markdown",
   "metadata": {},
   "source": [
    "<font size=\"+1\">**[Q]**</font> Ecrire la classe <code>ClassifierBaggingTree</code>, dérivée de la classe <code>Classifier</code>, qui permet d'implémenter un bagging d'arbres de décision. Les spécifications de cette classe sont :\n",
    "- la création de l'ensemble nécessite les paramètres suivants : \n",
    "    - le nombre d'arbres à construire, \n",
    "    - le pourcentage d'exemples de la base d'apprentissage utilisés pour constituer un échantillon, \n",
    "    - la valeur de seuil d'entropie pour arrêter la construction de chaque arbre, \n",
    "    - et un booléen qui précise si un échantillon est tiré avec ou sans remise\n",
    "- l'apprentissage (méthode <code>train()</code>) construit autant d'arbres que précisé à la création. Chaque arbre est construit à partir d'un échantillon de la base d'apprentissage (<code>LabeledSet</code>) donnée en argument. Les arbres construits sont stockés dans un ensemble Python.\n",
    "- la prédiction (méthode <code>predict()</code>) classe un exemple par vote de tous les arbres de la forêt. Si la somme des votes est positive ou nulle, la classe rendue est +1, sinon, la classe rendue est -1."
   ]
  },
  {
   "cell_type": "code",
   "execution_count": 59,
   "metadata": {},
   "outputs": [],
   "source": [
    "class ClassifierBaggingTree(Classifier):\n",
    "    # Constructeur\n",
    "    def __init__(self,nbArbres,pourcentageExms,epsilon, r):\n",
    "        self.nbArbres = nbArbres\n",
    "        self.pourcentageExms = pourcentageExms\n",
    "        self.epsilon = epsilon\n",
    "        self.r = r\n",
    "    \n",
    "    # Permet de calculer la prediction sur x => renvoie un score\n",
    "    def predict(self,x):\n",
    "        somme =  0.0\n",
    "        for arbre in self.list_Arbres:\n",
    "            classe = arbre.classifie(x)\n",
    "            if (classe == 1):\n",
    "                somme += 1.0\n",
    "            else: somme -=1.0\n",
    "        if(somme >= 0.0):\n",
    "            return +1\n",
    "        else: \n",
    "            return -1\n",
    "    \n",
    "    # Permet d'entrainer le modele sur un ensemble de données\n",
    "    def train(self,set):\n",
    "        self.set=set\n",
    "        self.list_Arbres = []\n",
    "        for i in range(self.nbArbres):\n",
    "            IndexEchant = echantillonLS(set,self.pourcentageExms*set.size(),self.r)\n",
    "            self.list_Arbres.append(construit_AD(IndexEchant,self.epsilon))\n",
    "\n",
    "    # Permet d'afficher l'arbre\n",
    "    def plot(self):\n",
    "        gtree = gv.Digraph(format='png')\n",
    "        return self.racine.to_graph(gtree)\n",
    "    \n",
    "    #Permet de calculer la qualité du système \n",
    "    def accuracy(self, dataset):\n",
    "        nb_ok = 0\n",
    "        for i in range(dataset.size()):\n",
    "            output = self.predict(dataset.getX(i))\n",
    "            if (output * dataset.getY(i) > 0):\n",
    "                nb_ok = nb_ok + 1\n",
    "        acc = nb_ok / (dataset.size() * 1.0)\n",
    "        return acc"
   ]
  },
  {
   "cell_type": "code",
   "execution_count": 61,
   "metadata": {},
   "outputs": [
    {
     "name": "stdout",
     "output_type": "stream",
     "text": [
      "exemple: 0  vraie classe =  [1] - classe trouvee =  1\n",
      "exemple: 1  vraie classe =  [1] - classe trouvee =  1\n",
      "exemple: 2  vraie classe =  [1] - classe trouvee =  1\n",
      "exemple: 3  vraie classe =  [1] - classe trouvee =  1\n",
      "exemple: 4  vraie classe =  [1] - classe trouvee =  1\n",
      "exemple: 5  vraie classe =  [1] - classe trouvee =  1\n",
      "exemple: 6  vraie classe =  [1] - classe trouvee =  1\n",
      "exemple: 7  vraie classe =  [1] - classe trouvee =  1\n",
      "exemple: 8  vraie classe =  [1] - classe trouvee =  1\n",
      "exemple: 9  vraie classe =  [1] - classe trouvee =  1\n",
      "exemple: 10  vraie classe =  [-1] - classe trouvee =  -1\n",
      "exemple: 11  vraie classe =  [-1] - classe trouvee =  1\n",
      "exemple: 12  vraie classe =  [-1] - classe trouvee =  1\n",
      "exemple: 13  vraie classe =  [-1] - classe trouvee =  -1\n",
      "exemple: 14  vraie classe =  [-1] - classe trouvee =  -1\n",
      "exemple: 15  vraie classe =  [-1] - classe trouvee =  1\n",
      "exemple: 16  vraie classe =  [-1] - classe trouvee =  -1\n",
      "exemple: 17  vraie classe =  [-1] - classe trouvee =  1\n",
      "exemple: 18  vraie classe =  [-1] - classe trouvee =  -1\n",
      "exemple: 19  vraie classe =  [-1] - classe trouvee =  -1\n",
      "\n",
      "accuracy totale: 0.8\n"
     ]
    },
    {
     "name": "stderr",
     "output_type": "stream",
     "text": [
      "/anaconda3/lib/python3.6/site-packages/matplotlib/contour.py:967: UserWarning: The following kwargs were not used by contour: 'linewidth'\n",
      "  s)\n"
     ]
    },
    {
     "data": {
      "image/png": "[encoded data removed]",
      "text/plain": [
       "<matplotlib.figure.Figure at 0x1102dacf8>"
      ]
     },
     "metadata": {},
     "output_type": "display_data"
    }
   ],
   "source": [
    "foret = ClassifierBaggingTree(10,0.3,0.0,True)\n",
    "foret.train(set_exemples)\n",
    "for i in range(set_exemples.size()):\n",
    "    print(\"exemple:\",i,\" vraie classe = \", set_exemples.getY(i), \"- classe trouvee = \", foret.predict(set_exemples.getX(i)))\n",
    "    \n",
    "plot_frontiere(set_exemples,foret,20)\n",
    "plot2DSet(set_exemples) \n",
    "\n",
    "print(\"\\naccuracy totale:\",foret.accuracy(set_exemples))"
   ]
  },
  {
   "cell_type": "markdown",
   "metadata": {},
   "source": [
    "### Expérimentations\n",
    "\n",
    "<font size=\"+1\">**[Q]**</font> Expérimenter l'algorithme précédent de la façon suivante :\n",
    "- générer une base d'apprentissage $X$ contenant au moins 1000 exemples ;\n",
    "- réaliser un échantillon de cette base contenant 50 exemples de chaque classe. Soit $E$ cet échantillon, et soit $F$ l'ensemble des exemples de $X$ qui ne sont pas dans $E$ ;\n",
    "- réaliser un apprentissage par bagging sur $F$ et évaluer le taux de prédiction du modèle obtenu sur $E$ ;\n",
    "- construire la courbe donnant le taux de prédiction obtenu en augmentant la taille de la forêt d'arbres de 1 à 100 arbres. "
   ]
  },
  {
   "cell_type": "code",
   "execution_count": 66,
   "metadata": {},
   "outputs": [
    {
     "data": {
      "image/png": "[encoded data removed]",
      "text/plain": [
       "<matplotlib.figure.Figure at 0x110327f60>"
      ]
     },
     "metadata": {},
     "output_type": "display_data"
    }
   ],
   "source": [
    "def generer_exemple(mean=0):\n",
    "    \"\"\"Genere un exemple\"\"\"\n",
    "    mean = [mean, mean]\n",
    "    cov = [[1, 0], [0, 1]]\n",
    "    return np.random.multivariate_normal(mean, cov)\n",
    "\n",
    "def generer_exemples(nombre_exemples, mean=0):\n",
    "    \"\"\" Genere une liste de taille 'nombre_exemple' d'exemples \"\"\"\n",
    "    exemples = list()\n",
    "    for _ in range(nombre_exemples):\n",
    "        exemples.append(generer_exemple(mean))   \n",
    "    return exemples\n",
    "\n",
    "def ajouter_exemples_aleatoires(the_set, nombre_exemples, mean, labels):\n",
    "    \"\"\" Ajoute dans 'the_set' un total de 'nombre_exemples' exemples\n",
    "    associés aleatoirement à un label contenu dans 'labels'. \"\"\"\n",
    "    from random import choice\n",
    "    exemples = generer_exemples(nombre_exemples, mean)\n",
    "    for exemple in exemples:\n",
    "        the_set.addExample(exemple, choice(labels))\n",
    "        \n",
    "X = LabeledSet(2) #set_apprentissage = X\n",
    "ajouter_exemples_aleatoires(X, 1000, 1, [-1])\n",
    "ajouter_exemples_aleatoires(X, 1000, -1, [1])\n",
    "plot2DSet(X) \n",
    "\n",
    "E = LabeledSet(2) # E est un echantillon\n",
    "F = LabeledSet(2) # F est un ensemble des exemples de X qui ne sont pas dans E\n",
    "\n",
    "def E_F(X,E,F,n=50):\n",
    "    i = 0\n",
    "    while(i < (X.size()/2)):\n",
    "        if(i < n):\n",
    "            E.addExample(X.getX(i),X.getY(i))\n",
    "            i +=1\n",
    "        else:\n",
    "            F.addExample(X.getX(i),X.getY(i))\n",
    "            i +=1\n",
    "    i = 1000\n",
    "    while (i<X.size()):\n",
    "        if(i < n+1000):\n",
    "            E.addExample(X.getX(i),X.getY(i))\n",
    "            i +=1\n",
    "        else:\n",
    "            F.addExample(X.getX(i),X.getY(i))\n",
    "            i +=1\n",
    "E_F(X,E,F,50)\n"
   ]
  },
  {
   "cell_type": "code",
   "execution_count": 65,
   "metadata": {},
   "outputs": [
    {
     "data": {
      "image/png": "[encoded data removed]",
      "text/plain": [
       "<matplotlib.figure.Figure at 0x11410fb38>"
      ]
     },
     "metadata": {},
     "output_type": "display_data"
    }
   ],
   "source": [
    "plot2DSet(E)"
   ]
  },
  {
   "cell_type": "code",
   "execution_count": 67,
   "metadata": {},
   "outputs": [
    {
     "data": {
      "image/png": "[encoded data removed]",
      "text/plain": [
       "<matplotlib.figure.Figure at 0x113b9b438>"
      ]
     },
     "metadata": {},
     "output_type": "display_data"
    }
   ],
   "source": [
    "plot2DSet(F)"
   ]
  },
  {
   "cell_type": "code",
   "execution_count": 69,
   "metadata": {},
   "outputs": [
    {
     "name": "stderr",
     "output_type": "stream",
     "text": [
      "/anaconda3/lib/python3.6/site-packages/matplotlib/contour.py:967: UserWarning: The following kwargs were not used by contour: 'linewidth'\n",
      "  s)\n"
     ]
    },
    {
     "data": {
      "text/plain": [
       "0.93"
      ]
     },
     "execution_count": 69,
     "metadata": {},
     "output_type": "execute_result"
    },
    {
     "data": {
      "image/png": "[encoded data removed]",
      "text/plain": [
       "<matplotlib.figure.Figure at 0x110459438>"
      ]
     },
     "metadata": {},
     "output_type": "display_data"
    }
   ],
   "source": [
    "foret = ClassifierBaggingTree(10,0.3,0.0,True)\n",
    "foret.train(F)\n",
    "plot_frontiere(E,foret)\n",
    "plot2DSet(E)\n",
    "foret.accuracy(E)"
   ]
  },
  {
   "cell_type": "code",
   "execution_count": 70,
   "metadata": {},
   "outputs": [
    {
     "name": "stdout",
     "output_type": "stream",
     "text": [
      "Bagging : 20 trees: accuracy totale: train=0.9400 test=0.8905\n"
     ]
    }
   ],
   "source": [
    "# Réaliser un apprentissage par bagging sur E et évaluer le taux de prédiction du modèle sur F\n",
    "foret20 =  ClassifierBaggingTree(20,0.3,0.0,True)\n",
    "foret20.train(E)\n",
    "print(\"Bagging : 20 trees: accuracy totale: train=%.4f test=%.4f\"%(foret20.accuracy(E),foret20.accuracy(F)))"
   ]
  },
  {
   "cell_type": "code",
   "execution_count": 71,
   "metadata": {},
   "outputs": [
    {
     "name": "stdout",
     "output_type": "stream",
     "text": [
      "[1, 11, 21, 31, 41, 51, 61, 71, 81, 91]\n",
      "[0.9126315789473685, 0.9473684210526315, 0.9484210526315789, 0.9489473684210527, 0.9468421052631579, 0.9436842105263158, 0.9468421052631579, 0.9421052631578948, 0.9442105263157895, 0.9436842105263158]\n",
      "[0.9, 0.91, 0.92, 0.92, 0.93, 0.93, 0.93, 0.93, 0.93, 0.94]\n"
     ]
    }
   ],
   "source": [
    "lx=[]\n",
    "ly=[]\n",
    "lz=[]\n",
    "i=1\n",
    "\n",
    "while (i<101):\n",
    "    foret = ClassifierBaggingTree(i,0.3,0.0,True)\n",
    "    foret.train(F)\n",
    "    lx.append(i)\n",
    "    ly.append(foret.accuracy(E))\n",
    "    lz.append(foret.accuracy(F))\n",
    "    i=i+10\n",
    "    \n",
    "print(lx)\n",
    "print(lz)\n",
    "print(ly)"
   ]
  },
  {
   "cell_type": "code",
   "execution_count": 72,
   "metadata": {},
   "outputs": [
    {
     "data": {
      "image/png": "[encoded data removed]",
      "text/plain": [
       "<matplotlib.figure.Figure at 0x110457a90>"
      ]
     },
     "metadata": {},
     "output_type": "display_data"
    }
   ],
   "source": [
    "import matplotlib.pyplot as plt\n",
    "\n",
    "plt.plot(lx,ly)  # on utilise la fonction sinus de Numpy\n",
    "plt.plot(lx,lz)  # on utilise la fonction sinus de Numpy\n",
    "plt.ylabel('Accuracy')\n",
    "plt.xlabel(\"nb foret\")\n",
    "plt.show()"
   ]
  },
  {
   "cell_type": "markdown",
   "metadata": {},
   "source": [
    "### Evaluation par la méthode \"Out Of Bags\"\n",
    "\n",
    "<font size=\"+1\">**[Q]**</font> Sur les mêmes données, réaliser une évaluation par la méthode \"Out Of Bags\" vue en cours. Construire la courbe donnant le taux de prédiction OOB en fonction de la taille de la forêt d'arbres.\n",
    "\n"
   ]
  },
  {
   "cell_type": "code",
   "execution_count": null,
   "metadata": {},
   "outputs": [],
   "source": [
    "# Out Of Bags : OOB error : les données qui ne sont pas utilisées lx=[]\n",
    "ly=[]\n",
    "lz=[]\n",
    "i=1\n",
    "\n",
    "while (i<101):\n",
    "    foret = ClassifierBaggingTree(i,0.3,0.0,True)\n",
    "    foret.train(F)\n",
    "    lx.append(i)\n",
    "    ly.append(foret.accuracy(E))\n",
    "    lz.append(foret.accuracy(F))\n",
    "    i=i+10\n",
    "    \n",
    "print(lx)\n",
    "print(lz)\n",
    "print(ly)\n",
    "\n",
    "import matplotlib.pyplot as plt\n",
    "\n",
    "plt.plot(lx,ly)  # on utilise la fonction sinus de Numpy\n",
    "plt.plot(lx,lz)  # on utilise la fonction sinus de Numpy\n",
    "plt.ylabel('Accuracy')\n",
    "plt.xlabel(\"nb foret\")\n",
    "plt.show()"
   ]
  },
  {
   "cell_type": "code",
   "execution_count": 28,
   "metadata": {},
   "outputs": [
    {
     "data": {
      "text/plain": [
       "[<matplotlib.lines.Line2D at 0x7f93c06c7b70>]"
      ]
     },
     "execution_count": 28,
     "metadata": {},
     "output_type": "execute_result"
    },
    {
     "data": {
      "image/png": "[encoded data removed]",
      "text/plain": [
       "<matplotlib.figure.Figure at 0x7f93c07b59b0>"
      ]
     },
     "metadata": {},
     "output_type": "display_data"
    },
    {
     "data": {
      "image/png": "[encoded data removed]",
      "text/plain": [
       "<matplotlib.figure.Figure at 0x7f93c0783fd0>"
      ]
     },
     "metadata": {},
     "output_type": "display_data"
    }
   ],
   "source": []
  },
  {
   "cell_type": "markdown",
   "metadata": {
    "collapsed": true
   },
   "source": [
    "## Etape 3: Bagging de perceptrons\n",
    "\n",
    "<font size=\"+1\">**[Q]**</font> Ecrire et tester la classe <code>ClassifierBaggingPerceptron</code> qui implémente l'algorithme du bagging pour le perceptron."
   ]
  },
  {
   "cell_type": "code",
   "execution_count": 77,
   "metadata": {},
   "outputs": [],
   "source": [
    "import random\n",
    "class Perceptron(Classifier):\n",
    "    \n",
    "    def __init__(self, input_dimension, learning_rate, nombre_iterations):\n",
    "        self.input_dimension = input_dimension\n",
    "        self.w = np.random.rand(input_dimension)\n",
    "        self.n = learning_rate\n",
    "        self.nb_Iteration = nombre_iterations\n",
    "    \n",
    "    def predict(self, x):\n",
    "        z = np.dot(x, self.w)\n",
    "        if z > 0:\n",
    "            return +1\n",
    "        else:\n",
    "            return -1\n",
    "    \n",
    "    def train(self, labeledSet):\n",
    "        self.labeledSet = labeledSet\n",
    "        i = 0 \n",
    "        while (i < self.nb_Iteration):\n",
    "            index_aleatoire = random.randint(0,labeledSet.size()-1)\n",
    "            if(labeledSet.getY(index_aleatoire)*self.predict(labeledSet.getX(index_aleatoire)) < 0 ): # Yifw(x) < 0 x est mal classé\n",
    "                    self.w = self.w+self.n*labeledSet.getY(index_aleatoire)*labeledSet.getX(index_aleatoire)\n",
    "            i +=1\n",
    "        "
   ]
  },
  {
   "cell_type": "code",
   "execution_count": 78,
   "metadata": {},
   "outputs": [],
   "source": [
    "class ClassifierBaggingPerceptron(Classifier):\n",
    "    # Constructeur\n",
    "    def __init__(self,input_dimension, nb_exemple, pourcentage, learning_rate, nombre_iterations,r):\n",
    "        # valeur seuil d'entropie pour arrêter la construction\n",
    "        self.input_dimension=input_dimension\n",
    "        self.learning_rate=learning_rate\n",
    "        self.nombre_iterations= nombre_iterations\n",
    "        self.nb_exemple=nb_exemple\n",
    "        self.pourcentage=pourcentage\n",
    "        self.r=r\n",
    "        self.liste=[]\n",
    "    \n",
    "    # Permet de calculer la prediction sur x => renvoie un score\n",
    "    def predict(self,x):\n",
    "        # classification de l'exemple x avec l'arbre de décision\n",
    "        # on rend 0 (classe -1) ou 1 (classe 1)\n",
    "        somme=0\n",
    "        for perce in self.liste:\n",
    "            classe = perce.predict(x)\n",
    "            if (classe == 1):\n",
    "                somme=somme+1\n",
    "            else:\n",
    "                somme=somme-1\n",
    "        if (somme>=0):\n",
    "            return 1\n",
    "        else : \n",
    "            return -1\n",
    "    \n",
    "    # Permet d'entrainer le modele sur un ensemble de données\n",
    "    def train(self,set):\n",
    "        # construction de l'arbre de décision\n",
    "        self.liste=[]\n",
    "        self.set=set\n",
    "        for i in range (self.nb_exemple):\n",
    "            m=self.pourcentage*set.size()\n",
    "            echant=echantillonLS(set,m,self.r)\n",
    "            self.liste.append(Perceptron(self.input_dimension,self.learning_rate,self.nombre_iterations))"
   ]
  },
  {
   "cell_type": "code",
   "execution_count": 80,
   "metadata": {},
   "outputs": [
    {
     "name": "stdout",
     "output_type": "stream",
     "text": [
      "accuracy: 0.885\n"
     ]
    }
   ],
   "source": [
    "set_apprentissage= LabeledSet(2) \n",
    "ajouter_exemples_aleatoires(set_apprentissage, 100, 1, [-1])\n",
    "ajouter_exemples_aleatoires(set_apprentissage, 100, -1, [1])\n",
    "\n",
    "set_test= LabeledSet(2) \n",
    "ajouter_exemples_aleatoires(set_test, 100, 1, [-1])\n",
    "ajouter_exemples_aleatoires(set_test, 100, -1, [1])\n",
    "\n",
    "# un exemple d'utilisation:\n",
    "percep=Perceptron(2,0.2,100)           \n",
    "percep.train(set_apprentissage)            \n",
    "    \n",
    "print(\"accuracy:\", percep.accuracy(set_test))    \n"
   ]
  },
  {
   "cell_type": "code",
   "execution_count": 81,
   "metadata": {},
   "outputs": [
    {
     "name": "stdout",
     "output_type": "stream",
     "text": [
      "[1, 6, 11, 16, 21, 26, 31, 36, 41, 46, 51, 56, 61, 66, 71, 76, 81, 86, 91, 96]\n",
      "[0.08421052631578947, 0.09105263157894737, 0.08263157894736842, 0.08315789473684211, 0.08105263157894736, 0.08263157894736842, 0.08210526315789474, 0.08, 0.08421052631578947, 0.08052631578947368, 0.08368421052631579, 0.08052631578947368, 0.08052631578947368, 0.08421052631578947, 0.08052631578947368, 0.08105263157894736, 0.08263157894736842, 0.08105263157894736, 0.08052631578947368, 0.08105263157894736]\n",
      "[0.08, 0.09, 0.09, 0.08, 0.09, 0.09, 0.09, 0.09, 0.08, 0.08, 0.09, 0.08, 0.09, 0.08, 0.09, 0.09, 0.09, 0.08, 0.08, 0.09]\n"
     ]
    }
   ],
   "source": [
    "lx=[]\n",
    "ly=[]\n",
    "lz=[]\n",
    "i=1\n",
    "\n",
    "while (i<101):\n",
    "    foret = ClassifierBaggingPerceptron(2,i,0.3,0.0,50,True)\n",
    "    foret.train(F)\n",
    "    lx.append(i)\n",
    "    ly.append(foret.accuracy(E))\n",
    "    lz.append(foret.accuracy(F))\n",
    "    i=i+5\n",
    "    \n",
    "print(lx)\n",
    "print(lz)\n",
    "print(ly)"
   ]
  },
  {
   "cell_type": "code",
   "execution_count": 82,
   "metadata": {},
   "outputs": [
    {
     "data": {
      "image/png": "[encoded data removed]",
      "text/plain": [
       "<matplotlib.figure.Figure at 0x11419d7f0>"
      ]
     },
     "metadata": {},
     "output_type": "display_data"
    }
   ],
   "source": [
    "plt.plot(lx,ly)  # on utilise la fonction sinus de Numpy\n",
    "plt.plot(lx,lz)  # on utilise la fonction sinus de Numpy\n",
    "plt.ylabel('Accuracy')\n",
    "plt.xlabel(\"nb exemple\")\n",
    "plt.show()"
   ]
  },
  {
   "cell_type": "markdown",
   "metadata": {},
   "source": [
    "## Etape 4: expérimentation\n",
    "\n",
    "<font size=\"+1\">**[Q]**</font> Appliquer l'algorithme de bagging d'arbres de décision sur d'autres bases d'apprentissage. Construire la courbe donnant le taux de prédiction pour une forêt d'arbres variant de 1 à 200 arbres. \n",
    "\n",
    "Réaliser ensuite la même expérimentation avec un bagging de perceptrons."
   ]
  },
  {
   "cell_type": "code",
   "execution_count": null,
   "metadata": {
    "collapsed": true
   },
   "outputs": [],
   "source": []
  },
  {
   "cell_type": "code",
   "execution_count": null,
   "metadata": {
    "collapsed": true
   },
   "outputs": [],
   "source": []
  }
 ],
 "metadata": {
  "kernelspec": {
   "display_name": "Python 3",
   "language": "python",
   "name": "python3"
  },
  "language_info": {
   "codemirror_mode": {
    "name": "ipython",
    "version": 3
   },
   "file_extension": ".py",
   "mimetype": "text/x-python",
   "name": "python",
   "nbconvert_exporter": "python",
   "pygments_lexer": "ipython3",
   "version": "3.6.4"
  }
 },
 "nbformat": 4,
 "nbformat_minor": 1
}
